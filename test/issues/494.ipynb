{
 "cells": [
  {
   "cell_type": "markdown",
   "id": "5b654db6-895f-4253-9e00-ba39e02f5e87",
   "metadata": {},
   "source": [
    "- https://github.com/pygae/galgebra/issues/494\n",
    "- https://github.com/sympy/sympy/wiki/release-notes-for-1.10"
   ]
  },
  {
   "cell_type": "code",
   "execution_count": 7,
   "id": "3f90b44c-9c29-4412-a357-32aab6698290",
   "metadata": {},
   "outputs": [],
   "source": [
    "from sympy import symbols, srepr"
   ]
  },
  {
   "cell_type": "code",
   "execution_count": 2,
   "id": "9eca3371-cb29-4199-b37f-b634c540601d",
   "metadata": {},
   "outputs": [
    {
     "data": {
      "text/latex": [
       "$\\displaystyle a b^{2} x^{2} \\cdot \\left(4 a^{4} c^{2} x^{2} + a^{3} b^{3} + 5 b c x^{2}\\right)$"
      ],
      "text/plain": [
       "a*b**2*x**2*(4*a**4*c**2*x**2 + a**3*b**3 + 5*b*c*x**2)"
      ]
     },
     "execution_count": 2,
     "metadata": {},
     "output_type": "execute_result"
    }
   ],
   "source": [
    "(a, b, c) = abc = symbols('a,b,c',real=True)\n",
    "x = symbols('x',real=True)\n",
    "a*b**2*x**2*(4*a**4*c**2*x**2 + a**3*b**3 + 5*b*c*x**2)"
   ]
  },
  {
   "cell_type": "code",
   "execution_count": 3,
   "id": "e361fc35-f681-4bc2-800c-75c18c045c58",
   "metadata": {},
   "outputs": [
    {
     "data": {
      "text/latex": [
       "$\\displaystyle a b^{2} x^{2} \\cdot \\left(4 a^{4} c^{2} x^{2} + 5 b c x^{2}\\right)$"
      ],
      "text/plain": [
       "a*b**2*x**2*(4*a**4*c**2*x**2 + 5*b*c*x**2)"
      ]
     },
     "execution_count": 3,
     "metadata": {},
     "output_type": "execute_result"
    }
   ],
   "source": [
    "a*b**2*x**2*(4*a**4*c**2*x**2 + 5*b*c*x**2)"
   ]
  },
  {
   "cell_type": "code",
   "execution_count": 4,
   "id": "51820828-d4ab-4b02-bbcc-d10846979f2d",
   "metadata": {},
   "outputs": [
    {
     "data": {
      "text/latex": [
       "$\\displaystyle a b^{2} x^{2} \\cdot \\left(4 a^{4} c^{2} x^{2} + a^{3} b^{3}\\right)$"
      ],
      "text/plain": [
       "a*b**2*x**2*(4*a**4*c**2*x**2 + a**3*b**3)"
      ]
     },
     "execution_count": 4,
     "metadata": {},
     "output_type": "execute_result"
    }
   ],
   "source": [
    "a*b**2*x**2*(4*a**4*c**2*x**2 + a**3*b**3)"
   ]
  },
  {
   "cell_type": "code",
   "execution_count": 5,
   "id": "ec4f0a46-daed-4259-9a12-2220ff03883b",
   "metadata": {},
   "outputs": [
    {
     "data": {
      "text/latex": [
       "$\\displaystyle a b^{2} x^{2} \\left(a^{3} b^{3} + 5 b c x^{2}\\right)$"
      ],
      "text/plain": [
       "a*b**2*x**2*(a**3*b**3 + 5*b*c*x**2)"
      ]
     },
     "execution_count": 5,
     "metadata": {},
     "output_type": "execute_result"
    }
   ],
   "source": [
    "a*b**2*x**2*(5*b*c*x**2 + a**3*b**3)"
   ]
  },
  {
   "cell_type": "code",
   "execution_count": 40,
   "id": "31c553ce-1a39-4ec2-b401-c5d0c8a947da",
   "metadata": {},
   "outputs": [
    {
     "data": {
      "text/latex": [
       "$\\displaystyle x \\left(2 x + 1\\right)$"
      ],
      "text/plain": [
       "x*(2*x + 1)"
      ]
     },
     "execution_count": 40,
     "metadata": {},
     "output_type": "execute_result"
    }
   ],
   "source": [
    "x*(2*x + 1)"
   ]
  },
  {
   "cell_type": "code",
   "execution_count": 39,
   "id": "a9dbe068-9b5e-4bd2-bd9e-f8e682c682e3",
   "metadata": {},
   "outputs": [
    {
     "data": {
      "text/latex": [
       "$\\displaystyle x^{2} \\left(x + 1\\right)$"
      ],
      "text/plain": [
       "x**2*(x + 1)"
      ]
     },
     "execution_count": 39,
     "metadata": {},
     "output_type": "execute_result"
    }
   ],
   "source": [
    "x**2*(x + 1)"
   ]
  },
  {
   "cell_type": "code",
   "execution_count": 38,
   "id": "97ad42fb-039a-40d7-a705-d33598c2ada4",
   "metadata": {},
   "outputs": [
    {
     "data": {
      "text/latex": [
       "$\\displaystyle x^{2} \\cdot \\left(2 x + 1\\right)$"
      ],
      "text/plain": [
       "x**2*(2*x + 1)"
      ]
     },
     "execution_count": 38,
     "metadata": {},
     "output_type": "execute_result"
    }
   ],
   "source": [
    "x**2*(2*x + 1)"
   ]
  },
  {
   "cell_type": "code",
   "execution_count": 36,
   "id": "7c3149a6-7dc7-45b3-9650-4a1ec6757acc",
   "metadata": {},
   "outputs": [
    {
     "data": {
      "text/latex": [
       "$\\displaystyle x^{2} \\cdot \\left(2 a x + a\\right)$"
      ],
      "text/plain": [
       "x**2*(2*a*x + a)"
      ]
     },
     "execution_count": 36,
     "metadata": {},
     "output_type": "execute_result"
    }
   ],
   "source": [
    "x**2*(2*a*x + a)"
   ]
  },
  {
   "cell_type": "code",
   "execution_count": 25,
   "id": "eb446b9a-290c-4648-9b51-538e0a49004b",
   "metadata": {},
   "outputs": [
    {
     "data": {
      "text/latex": [
       "$\\displaystyle x^{2} \\cdot \\left(4 a x^{2} + a\\right)$"
      ],
      "text/plain": [
       "x**2*(4*a*x**2 + a)"
      ]
     },
     "execution_count": 25,
     "metadata": {},
     "output_type": "execute_result"
    }
   ],
   "source": [
    "x**2*(4*a*x**2 + a)"
   ]
  },
  {
   "cell_type": "code",
   "execution_count": 41,
   "id": "d88ea89e-90c8-4172-99f4-4ecf86621075",
   "metadata": {},
   "outputs": [
    {
     "data": {
      "text/plain": [
       "\"Mul(Symbol('a', real=True), Pow(Symbol('b', real=True), Integer(2)), Pow(Symbol('x', real=True), Integer(2)), Add(Mul(Pow(Symbol('a', real=True), Integer(3)), Pow(Symbol('b', real=True), Integer(3))), Mul(Integer(5), Symbol('b', real=True), Symbol('c', real=True), Pow(Symbol('x', real=True), Integer(2)))))\""
      ]
     },
     "execution_count": 41,
     "metadata": {},
     "output_type": "execute_result"
    }
   ],
   "source": [
    "srepr(a*b**2*x**2*(5*b*c*x**2 + a**3*b**3))"
   ]
  },
  {
   "cell_type": "code",
   "execution_count": null,
   "id": "c614f381-c67a-4029-85a1-d5104e388840",
   "metadata": {},
   "outputs": [],
   "source": []
  }
 ],
 "metadata": {
  "kernelspec": {
   "display_name": "Python 3 (ipykernel)",
   "language": "python",
   "name": "python3"
  },
  "language_info": {
   "codemirror_mode": {
    "name": "ipython",
    "version": 3
   },
   "file_extension": ".py",
   "mimetype": "text/x-python",
   "name": "python",
   "nbconvert_exporter": "python",
   "pygments_lexer": "ipython3",
   "version": "3.11.8"
  }
 },
 "nbformat": 4,
 "nbformat_minor": 5
}
