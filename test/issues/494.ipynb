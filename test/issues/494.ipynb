{
 "cells": [
  {
   "cell_type": "markdown",
   "id": "5b654db6-895f-4253-9e00-ba39e02f5e87",
   "metadata": {},
   "source": [
    "- https://github.com/pygae/galgebra/issues/494\n",
    "- https://github.com/sympy/sympy/wiki/release-notes-for-1.10"
   ]
  },
  {
   "cell_type": "code",
   "execution_count": 1,
   "id": "3f90b44c-9c29-4412-a357-32aab6698290",
   "metadata": {},
   "outputs": [],
   "source": [
    "from sympy import symbols, srepr"
   ]
  },
  {
   "cell_type": "code",
   "execution_count": 2,
   "id": "9eca3371-cb29-4199-b37f-b634c540601d",
   "metadata": {
    "scrolled": true
   },
   "outputs": [],
   "source": [
    "(a, b, c) = abc = symbols('a,b,c',real=True)\n",
    "x = symbols('x',real=True)"
   ]
  },
  {
   "cell_type": "code",
   "execution_count": 3,
   "id": "31c553ce-1a39-4ec2-b401-c5d0c8a947da",
   "metadata": {},
   "outputs": [
    {
     "data": {
      "text/latex": [
       "$\\displaystyle x \\left(2 x + 1\\right)$"
      ],
      "text/plain": [
       "x*(2*x + 1)"
      ]
     },
     "execution_count": 3,
     "metadata": {},
     "output_type": "execute_result"
    }
   ],
   "source": [
    "x*(2*x + 1)"
   ]
  },
  {
   "cell_type": "code",
   "execution_count": 4,
   "id": "a9dbe068-9b5e-4bd2-bd9e-f8e682c682e3",
   "metadata": {},
   "outputs": [
    {
     "data": {
      "text/latex": [
       "$\\displaystyle x^{2} \\left(x + 1\\right)$"
      ],
      "text/plain": [
       "x**2*(x + 1)"
      ]
     },
     "execution_count": 4,
     "metadata": {},
     "output_type": "execute_result"
    }
   ],
   "source": [
    "x**2*(x + 1)"
   ]
  },
  {
   "cell_type": "code",
   "execution_count": 5,
   "id": "97ad42fb-039a-40d7-a705-d33598c2ada4",
   "metadata": {},
   "outputs": [
    {
     "data": {
      "text/latex": [
       "$\\displaystyle x^{2} \\cdot \\left(2 x + 1\\right)$"
      ],
      "text/plain": [
       "x**2*(2*x + 1)"
      ]
     },
     "execution_count": 5,
     "metadata": {},
     "output_type": "execute_result"
    }
   ],
   "source": [
    "x**2*(2*x + 1)"
   ]
  },
  {
   "cell_type": "code",
   "execution_count": 6,
   "id": "867b3b6b-169e-47e7-b668-88d8c10eb506",
   "metadata": {},
   "outputs": [
    {
     "name": "stdout",
     "output_type": "stream",
     "text": [
      "Mul(Pow(Symbol('x', real=True), Integer(2)), Add(Mul(Integer(2), Symbol('x', real=True)), Integer(1)))\n"
     ]
    }
   ],
   "source": [
    "print(srepr(x**2*(2*x + 1)))"
   ]
  },
  {
   "cell_type": "code",
   "execution_count": null,
   "id": "2760b80c-79a8-4653-ac18-1e0e43371a04",
   "metadata": {},
   "outputs": [],
   "source": []
  }
 ],
 "metadata": {
  "kernelspec": {
   "display_name": "Python 3 (ipykernel)",
   "language": "python",
   "name": "python3"
  },
  "language_info": {
   "codemirror_mode": {
    "name": "ipython",
    "version": 3
   },
   "file_extension": ".py",
   "mimetype": "text/x-python",
   "name": "python",
   "nbconvert_exporter": "python",
   "pygments_lexer": "ipython3",
   "version": "3.11.8"
  }
 },
 "nbformat": 4,
 "nbformat_minor": 5
}
