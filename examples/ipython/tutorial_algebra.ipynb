{
 "cells": [
  {
   "cell_type": "markdown",
   "metadata": {},
   "source": [
    "# Geometric Algebra Tutorial"
   ]
  },
  {
   "cell_type": "markdown",
   "metadata": {},
   "source": [
    "This is a tutorial to introduce you to galgebra3 which is a symbolic geometric algebra library for python3.  One of the main reasons it uses python3 instead of python2.7 is that it also uses the symbolic algebra library sympy and sympy will no longer be supporting python3.\n",
    "\n",
    "A geometric algebra is defined by a set of symbols that represent the basis vectors of a real vector space, a metric tensor, and possible a set of coordinate symbols.  If coordinates are defined the metric tensor can be a function of them.\n",
    "\n",
    "The following cell imports all the functions needed in the tutorial from `sympy`, `ga`, `mv`, and `printer`.  The `Format()` function enables LaTeX output and allows the `python 3` print function to be used for LaTex output in the same way as in `python 3` that is not executed through Jupyter Notebook.\n",
    "\n",
    "Using the print function allows one to annotate the output and to print multiple lines in a single output cell.  There are examples in the code below.\n",
    "\n",
    "When in the Latex output mode initiated by executing `Format()` all output is in LaTeX equation mode. The following LaTeX macros are defined by `Format()`:\n",
    "\n",
    "```\\newcommand{\\bfrac}[2]{\\displaystyle\\frac{#1}{#2}}\n",
    "\\newcommand{\\lp}{\\left (}\n",
    "\\newcommand{\\rp}{\\right )}\n",
    "\\newcommand{\\paren}[1]{\\lp {#1} \\rp}\n",
    "\\newcommand{\\half}{\\frac{1}{2}}\n",
    "\\newcommand{\\llt}{\\left <}\n",
    "\\newcommand{\\rgt}{\\right >}\n",
    "\\newcommand{\\abs}[1]{\\left |{#1}\\right | }\n",
    "\\newcommand{\\pdiff}[2]{\\bfrac{\\partial {#1}}{\\partial {#2}}}\n",
    "\\newcommand{\\npdiff}[3]{\\bfrac{\\partial^{#3} {#1}}{\\partial {#2}^{#3}}}\n",
    "\\newcommand{\\lbrc}{\\left \\{}\n",
    "\\newcommand{\\rbrc}{\\right \\}}\n",
    "\\newcommand{\\W}{\\wedge}\n",
    "\\newcommand{\\prm}[1]{{#1}'}\n",
    "\\newcommand{\\ddt}[1]{\\bfrac{d{#1}}{dt}}\n",
    "\\newcommand{\\R}{\\dagger}\n",
    "\\newcommand{\\deriv}[3]{\\bfrac{d^{#3}#1}{d{#2}^{#3}}}\n",
    "\\newcommand{\\grd}[1]{\\left < {#1} \\right >}\n",
    "\\newcommand{\\f}[2]{{#1}\\lp {#2} \\rp}\n",
    "\\newcommand{\\eval}[2]{\\left . {#1} \\right |_{#2}}\n",
    "\\newcommand{\\bs}[1]{\\boldsymbol{#1}}\n",
    "\\newcommand{\\es}[1]{\\boldsymbol{e}_{#1}}\n",
    "\\newcommand{\\eS}[1]{\\boldsymbol{e}^{#1}}\n",
    "\\newcommand{\\grade}[2]{\\left < {#1} \\right >_{#2}}\n",
    "\\newcommand{\\lc}{\\rfloor}\n",
    "\\newcommand{\\rc}{\\lfloor}\n",
    "\\newcommand{\\T}[1]{\\text{#1}}\n",
    "\\newcommand{\\lop}[1]{\\overleftarrow{#1}}\n",
    "\\newcommand{\\rop}[1]{\\overrightarrow{#1}}```\n",
    "\n",
    "So to print a string in text (not equation) mode use the code -\n",
    "\n",
    "```print(r'\\T{This is a string in text mode.}')```.\n",
    "\n",
    "Likewise if you wish to annotate a multivector `M` the print command could be -\n",
    "\n",
    "```print('M =',M)```,\n",
    "\n",
    "or if you wish the annotation to be in a bold font -\n",
    "\n",
    "```print(r'\\bs{M} =',M)```,\n",
    "\n",
    "finally if you wish a line draw above and below the ouput -\n",
    "\n",
    "```print('h',r'\\bs{M} =',M)```.\n",
    "\n",
    "All of the macros defined above can be used in text strings in print functions."
   ]
  },
  {
   "cell_type": "code",
   "execution_count": 1,
   "metadata": {},
   "outputs": [],
   "source": [
    "from sympy import symbols, sin, cos\n",
    "from galgebra.ga import Ga\n",
    "from galgebra.mv import Mv\n",
    "from galgebra.printer import Format\n",
    "Format()"
   ]
  },
  {
   "cell_type": "markdown",
   "metadata": {},
   "source": [
    "To start with we will define the geometric algebra of a 3 dimensional Euclidaen vector space, `o3d`, with coordinates $x$, $y$, and $z$ and unit vectors $e_x$, $e_y$, and $e_z$."
   ]
  },
  {
   "cell_type": "code",
   "execution_count": 2,
   "metadata": {},
   "outputs": [],
   "source": [
    "xyz = (x, y, z) = symbols('x y z', real=True)\n",
    "\n",
    "o3d = Ga('e_x e_y e_z', g = [1,1,1], coords=xyz)\n",
    "grad = o3d.grad"
   ]
  },
  {
   "cell_type": "markdown",
   "metadata": {},
   "source": [
    "The metric tensor $g$ is:"
   ]
  },
  {
   "cell_type": "code",
   "execution_count": 5,
   "metadata": {},
   "outputs": [
    {
     "data": {
      "text/latex": [
       "$\\displaystyle \\left[\\begin{matrix}1 & 0 & 0\\\\0 & 1 & 0\\\\0 & 0 & 1\\end{matrix}\\right]$"
      ],
      "text/plain": [
       " \\left [ \\begin{array}{ccc} 1 & 0 & 0  \\\\ 0 & 1 & 0  \\\\ 0 & 0 & 1  \\end{array}\\right ] "
      ]
     },
     "execution_count": 5,
     "metadata": {},
     "output_type": "execute_result"
    }
   ],
   "source": [
    "print('g =',o3d.g)\n",
    "print('XXXXX')\n",
    "o3d.g"
   ]
  },
  {
   "cell_type": "markdown",
   "metadata": {},
   "source": [
    "The most general element of a geometric algebra is a multivector.  To define a scalar `S`, a vector `V`, a bivector `B`, and a pseudo-scalar `P` (these are the only pure grade multivectors we can have in three dimensions):"
   ]
  },
  {
   "cell_type": "code",
   "execution_count": null,
   "metadata": {},
   "outputs": [],
   "source": [
    "S = o3d.mv('S', 'scalar')\n",
    "V = o3d.mv('V', 'vector')\n",
    "B = o3d.mv('B', 'bivector')\n",
    "P = o3d.mv('I', 'pseudo')\n",
    "print(r'\\T{Scalar:}S =',S)\n",
    "print(r'\\T{Vector:}V =',V)\n",
    "print(r'\\T{Bivector:}B =',B)\n",
    "print(r'\\T{Pseudoscalar:}I =',P)"
   ]
  },
  {
   "cell_type": "markdown",
   "metadata": {},
   "source": [
    "We can also extract the basis vectors from `o3d`. If we name them `ex`, `ey`, and `ez` and form vectors from linear combinations of them:"
   ]
  },
  {
   "cell_type": "code",
   "execution_count": null,
   "metadata": {},
   "outputs": [],
   "source": [
    "basis = (ex, ey, ez) = o3d.mv()\n",
    "print(r'\\T{basis} =',basis)"
   ]
  },
  {
   "cell_type": "markdown",
   "metadata": {},
   "source": [
    "Binary operations that we can apply to vectors or multivectors in general are addition, `+`, subtraction, `-`, geometric product, `*`, inner (dot) product, `|`, outer (wedge) product, `^`, left contraction, `<`, right contraction, `>`, and scalar product, `&`.  Because operator precedence is immuatable in Python we need to always use parenthesis to determine the correct order of the operations in our expression.  Examples for `+`, `-`, `*`, `|`, and `^` follow:"
   ]
  },
  {
   "cell_type": "code",
   "execution_count": null,
   "metadata": {},
   "outputs": [],
   "source": [
    "a = o3d.mv('a','vector')\n",
    "b = o3d.mv('b','vector')\n",
    "print('a =',a)\n",
    "print('b =',b)\n",
    "print('a+b =',a+b)\n",
    "print('a-b =',a-b)\n",
    "print('ab =',a*b)\n",
    "print(r'a\\cdot b =', a|b)\n",
    "print(r'a \\lc b =',a<b)\n",
    "print(r'a \\rc b =',a>b)\n",
    "print(r'a\\W b =',a^b)\n",
    "#print(r'a * b =',a&b)"
   ]
  },
  {
   "cell_type": "code",
   "execution_count": null,
   "metadata": {},
   "outputs": [],
   "source": [
    "B = o3d.mv('B','bivector')\n",
    "print('B =',B)\n",
    "print('BB =', B*B)\n",
    "print('a+B =',a+B)\n",
    "print('a-B =',a-B)\n",
    "print('aB =',a*B)\n",
    "print(r'a\\cdot B =', a|B)\n",
    "print(r'a \\lc B =',a<B)\n",
    "print(r'a \\rc B =',a>B)\n",
    "print(r'a\\W B =',a^B)\n",
    "#print(r'a * B =',a&B)"
   ]
  },
  {
   "cell_type": "markdown",
   "metadata": {},
   "source": [
    "Additionally, we can define multivector fields that are functions of the coordinates.  Some concrete examples are (vector and bivector fields):"
   ]
  },
  {
   "cell_type": "code",
   "execution_count": null,
   "metadata": {},
   "outputs": [],
   "source": [
    "Vf = x**2*ex + y**2*ey + z**2*ez\n",
    "Bf = x*(ey^ez) + y*(ex^ez) + z*(ex^ey)\n",
    "print(r'\\T{Vector Field }V_f =', Vf)\n",
    "print(r'\\T{Bivector Field }B_f =', Bf)"
   ]
  },
  {
   "cell_type": "markdown",
   "metadata": {},
   "source": [
    "In addition to binary algebraic operations the most important member functions for multivectors are `grade(i)`, `rev()`, and `norm2()`.  For a general multivector, `M`, we have:"
   ]
  },
  {
   "cell_type": "code",
   "execution_count": null,
   "metadata": {},
   "outputs": [],
   "source": [
    "M = o3d.mv('M', 'mv')\n",
    "print('M =',M)\n",
    "print(r'\\T{Grade 0: }\\grade{M}{0} =',M.grade(0))\n",
    "print(r'\\T{Grade 1: }\\grade{M}{1} =',M.grade(1))\n",
    "print(r'\\T{Grade 2: }\\grade{M}{2} =',M.grade(2))\n",
    "print(r'\\T{Grade 3: }\\grade{M}{3} =',M.grade(3))\n",
    "print(r'\\T{Reverse: }M^{\\R} =',M.rev())\n",
    "print(r'\\T{Norm Squared: }\\grade{MM^{\\R}}{0}=\\abs{M}^{2} =',M.norm2())"
   ]
  },
  {
   "cell_type": "markdown",
   "metadata": {},
   "source": [
    "A problem in displaying multivectors is that the expression can be very long and does not display nicely on the page.  To alleviate this problem one can use the multivector member function `Fmt()`.  The default is `Fmt(1)` which displays the multivector on one line, `Fmt(2)` displayes the multivector one grade per line, and `Fmt(3)` displayes the mulitvector one base or basis blade per line.  Some examples are: "
   ]
  },
  {
   "cell_type": "code",
   "execution_count": null,
   "metadata": {},
   "outputs": [],
   "source": [
    "print('h',r'\\bs{M} =',M.Fmt(1))\n",
    "print('h',r'\\bs{M} =',M.Fmt(2))\n",
    "print('h',r'\\bs{M} =',M.Fmt(3))"
   ]
  },
  {
   "cell_type": "code",
   "execution_count": null,
   "metadata": {},
   "outputs": [],
   "source": []
  },
  {
   "cell_type": "code",
   "execution_count": null,
   "metadata": {},
   "outputs": [],
   "source": []
  }
 ],
 "metadata": {
  "kernelspec": {
   "display_name": "Python 3",
   "language": "python",
   "name": "python3"
  },
  "language_info": {
   "codemirror_mode": {
    "name": "ipython",
    "version": 3
   },
   "file_extension": ".py",
   "mimetype": "text/x-python",
   "name": "python",
   "nbconvert_exporter": "python",
   "pygments_lexer": "ipython3",
   "version": "3.6.8"
  }
 },
 "nbformat": 4,
 "nbformat_minor": 2
}
