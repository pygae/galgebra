{
 "cells": [
  {
   "cell_type": "code",
   "execution_count": 1,
   "id": "ee7c8882-7356-441a-920e-3603d081002b",
   "metadata": {},
   "outputs": [
    {
     "name": "stdout",
     "output_type": "stream",
     "text": [
      "[1]\n",
      "[1]\n"
     ]
    }
   ],
   "source": [
    "from galgebra.ga import Ga\n",
    "import sympy as S\n",
    "\n",
    "ga = Ga('e', g=[1,1,1], coords=S.symbols(f\"0:3\", real=True), wedge=False)\n",
    "x,y,z = ga.mv()\n",
    "a = ga.mv('A','mv')\n",
    "print((a.grade(0)*x).grades)\n",
    "print((a.grade(0)^x).grades)"
   ]
  },
  {
   "cell_type": "code",
   "execution_count": null,
   "id": "8920d631-eb4f-4955-9558-9dc158b5171e",
   "metadata": {},
   "outputs": [],
   "source": []
  }
 ],
 "metadata": {
  "kernelspec": {
   "display_name": "Python 3 (ipykernel)",
   "language": "python",
   "name": "python3"
  },
  "language_info": {
   "codemirror_mode": {
    "name": "ipython",
    "version": 3
   },
   "file_extension": ".py",
   "mimetype": "text/x-python",
   "name": "python",
   "nbconvert_exporter": "python",
   "pygments_lexer": "ipython3",
   "version": "3.9.18"
  }
 },
 "nbformat": 4,
 "nbformat_minor": 5
}
