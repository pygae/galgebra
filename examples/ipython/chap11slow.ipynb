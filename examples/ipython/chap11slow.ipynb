{
 "cells": [
  {
   "cell_type": "code",
   "execution_count": 1,
   "metadata": {},
   "outputs": [
    {
     "data": {
      "text/latex": [
       "$$ \n",
       "\\DeclareMathOperator{\\Tr}{Tr}\n",
       "\\DeclareMathOperator{\\Adj}{Adj}\n",
       "\\newcommand{\\bfrac}[2]{\\displaystyle\\frac{#1}{#2}}\n",
       "\\newcommand{\\lp}{\\left (}\n",
       "\\newcommand{\\rp}{\\right )}\n",
       "\\newcommand{\\paren}[1]{\\lp {#1} \\rp}\n",
       "\\newcommand{\\half}{\\frac{1}{2}}\n",
       "\\newcommand{\\llt}{\\left <}\n",
       "\\newcommand{\\rgt}{\\right >}\n",
       "\\newcommand{\\abs}[1]{\\left |{#1}\\right | }\n",
       "\\newcommand{\\pdiff}[2]{\\bfrac{\\partial {#1}}{\\partial {#2}}}\n",
       "\\newcommand{\\npdiff}[3]{\\bfrac{\\partial^{#3} {#1}}{\\partial {#2}^{#3}}}\n",
       "\\newcommand{\\lbrc}{\\left \\{}\n",
       "\\newcommand{\\rbrc}{\\right \\]}\n",
       "\\newcommand{\\lbrk}{\\left \\[}\n",
       "\\newcommand{\\rbrk}{\\right \\}}\n",
       "\\newcommand{\\W}{\\wedge}\n",
       "\\newcommand{\\prm}[1]{{#1}'}\n",
       "\\newcommand{\\ddt}[1]{\\bfrac{d{#1}}{dt}}\n",
       "\\newcommand{\\R}{\\dagger}\n",
       "\\newcommand{\\deriv}[3]{\\bfrac{d^{#3}#1}{d{#2}^{#3}}}\n",
       "\\newcommand{\\grd}[1]{\\left < {#1} \\right >}\n",
       "\\newcommand{\\f}[2]{{#1}\\lp {#2} \\rp}\n",
       "\\newcommand{\\eval}[2]{\\left . {#1} \\right |_{#2}}\n",
       "\\newcommand{\\bs}[1]{\\boldsymbol{#1}}\n",
       "\\newcommand{\\es}[1]{\\boldsymbol{e}_{#1}}\n",
       "\\newcommand{\\eS}[1]{\\boldsymbol{e}^{#1}}\n",
       "\\newcommand{\\grade}[2]{\\left < {#1} \\right >_{#2}}\n",
       "\\newcommand{\\lc}{\\rfloor}\n",
       "\\newcommand{\\rc}{\\lfloor}\n",
       "\\newcommand{\\T}[1]{\\text{#1}}\n",
       "\\newcommand{\\lop}[1]{\\overleftarrow{#1}}\n",
       "\\newcommand{\\rop}[1]{\\overrightarrow{#1}}\n",
       "\\newcommand{\\ldot}{\\lfloor}\n",
       "\\newcommand{\\rdot}{\\rfloor}\n",
       "\n",
       "%MacDonald LaTeX macros\n",
       "\n",
       "\\newcommand   {\\thalf}    {\\textstyle \\frac{1}{2}}\n",
       "\\newcommand   {\\tthird}   {\\textstyle \\frac{1}{3}}\n",
       "\\newcommand   {\\tquarter} {\\textstyle \\frac{1}{4}}\n",
       "\\newcommand   {\\tsixth}   {\\textstyle \\frac{1}{6}}\n",
       "\n",
       "\\newcommand   {\\RE}       {\\mathbb{R}}\n",
       "\\newcommand   {\\GA}       {\\mathbb{G}}\n",
       "\\newcommand   {\\inner}    {\\mathbin{\\pmb{\\cdot}}}\n",
       "\\renewcommand {\\outer}    {\\mathbin{\\wedge}}\n",
       "\\newcommand   {\\cross}    {\\mathbin{\\times}}\n",
       "\\newcommand   {\\meet}     {\\mathbin{{\\,\\vee\\;}}}\n",
       "\\renewcommand {\\iff}              {\\Leftrightarrow}\n",
       "\\renewcommand {\\impliedby}{\\Leftarrow}\n",
       "\\renewcommand {\\implies}  {\\Rightarrow}\n",
       "\\newcommand   {\\perpc}    {\\perp}  % Orthogonal complement\n",
       "\\newcommand   {\\perpm}    {*}  % Dual of multivector\n",
       "\\newcommand   {\\del}      {\\mathbf{\\nabla}}  %{\\boldsymbol\\nabla\\!}\n",
       "\\newcommand   {\\mpart}[2]{\\left\\langle\\, #1 \\,\\right\\rangle_{#2}} % AMS has a \\part\n",
       "\\newcommand   {\\spart}[1]{\\mpart{#1}{0}}\n",
       "\\newcommand   {\\ds}       {\\displaystyle}\n",
       "\\newcommand   {\\os}       {\\overset}\n",
       "\\newcommand   {\\galgebra} {\\mbox{$\\mathcal{G\\!A}$\\hspace{.01in}lgebra}}\n",
       "\\newcommand   {\\latex}    {\\LaTeX}\n",
       " $$"
      ],
      "text/plain": [
       "<IPython.core.display.Latex object>"
      ]
     },
     "metadata": {},
     "output_type": "display_data"
    }
   ],
   "source": [
    "from functools import reduce\n",
    "from sympy import simplify, sqrt, Rational, Symbol\n",
    "from galgebra.ga import Ga\n",
    "from galgebra.mv import Mv\n",
    "from galgebra.printer import Format\n",
    "Format()\n",
    "def hline():\n",
    "    print('\\n')\n",
    "    return"
   ]
  },
  {
   "cell_type": "code",
   "execution_count": 2,
   "metadata": {},
   "outputs": [
    {
     "data": {
      "text/latex": [
       "$$ I =  \\boldsymbol{e}_{0}\\wedge \\boldsymbol{e}_{1}\\wedge \\boldsymbol{e}_{2}  $$"
      ],
      "text/plain": [
       "<IPython.core.display.Latex object>"
      ]
     },
     "metadata": {},
     "output_type": "display_data"
    },
    {
     "data": {
      "text/latex": [
       "$$ I^{-1} =  \\boldsymbol{e}_{0}\\wedge \\boldsymbol{e}_{1}\\wedge \\boldsymbol{e}_{2}  $$"
      ],
      "text/plain": [
       "<IPython.core.display.Latex object>"
      ]
     },
     "metadata": {},
     "output_type": "display_data"
    },
    {
     "data": {
      "text/latex": [
       "$$ p =  \\boldsymbol{e}_{0} + p_{1} \\boldsymbol{e}_{1} + p_{2} \\boldsymbol{e}_{2}  $$"
      ],
      "text/plain": [
       "<IPython.core.display.Latex object>"
      ]
     },
     "metadata": {},
     "output_type": "display_data"
    },
    {
     "data": {
      "text/latex": [
       "$$ v = [q_{1} \\boldsymbol{e}_{1} + q_{2} \\boldsymbol{e}_{2}, r_{1} \\boldsymbol{e}_{1} + r_{2} \\boldsymbol{e}_{2}, s_{1} \\boldsymbol{e}_{1} + s_{2} \\boldsymbol{e}_{2}, t_{1} \\boldsymbol{e}_{1} + t_{2} \\boldsymbol{e}_{2}]  $$"
      ],
      "text/plain": [
       "<IPython.core.display.Latex object>"
      ]
     },
     "metadata": {},
     "output_type": "display_data"
    },
    {
     "data": {
      "text/latex": [
       "$$ I =  \\boldsymbol{e}_{0}\\wedge \\boldsymbol{e}_{1}\\wedge \\boldsymbol{e}_{2}\\wedge \\boldsymbol{e}_{3}  $$"
      ],
      "text/plain": [
       "<IPython.core.display.Latex object>"
      ]
     },
     "metadata": {},
     "output_type": "display_data"
    },
    {
     "data": {
      "text/latex": [
       "$$ I^{-1} = - \\boldsymbol{e}_{0}\\wedge \\boldsymbol{e}_{1}\\wedge \\boldsymbol{e}_{2}\\wedge \\boldsymbol{e}_{3}  $$"
      ],
      "text/plain": [
       "<IPython.core.display.Latex object>"
      ]
     },
     "metadata": {},
     "output_type": "display_data"
    },
    {
     "data": {
      "text/latex": [
       "$$ p =  \\boldsymbol{e}_{0} + p_{1} \\boldsymbol{e}_{1} + p_{2} \\boldsymbol{e}_{2} + p_{3} \\boldsymbol{e}_{3}  $$"
      ],
      "text/plain": [
       "<IPython.core.display.Latex object>"
      ]
     },
     "metadata": {},
     "output_type": "display_data"
    },
    {
     "data": {
      "text/latex": [
       "$$ v = [q_{1} \\boldsymbol{e}_{1} + q_{2} \\boldsymbol{e}_{2} + q_{3} \\boldsymbol{e}_{3}, r_{1} \\boldsymbol{e}_{1} + r_{2} \\boldsymbol{e}_{2} + r_{3} \\boldsymbol{e}_{3}, s_{1} \\boldsymbol{e}_{1} + s_{2} \\boldsymbol{e}_{2} + s_{3} \\boldsymbol{e}_{3}, t_{1} \\boldsymbol{e}_{1} + t_{2} \\boldsymbol{e}_{2} + t_{3} \\boldsymbol{e}_{3}]  $$"
      ],
      "text/plain": [
       "<IPython.core.display.Latex object>"
      ]
     },
     "metadata": {},
     "output_type": "display_data"
    },
    {
     "data": {
      "text/latex": [
       "$$ I =  \\boldsymbol{e}_{0}\\wedge \\boldsymbol{e}_{1}\\wedge \\boldsymbol{e}_{2}\\wedge \\boldsymbol{e}_{3}\\wedge \\boldsymbol{e}_{5}  $$"
      ],
      "text/plain": [
       "<IPython.core.display.Latex object>"
      ]
     },
     "metadata": {},
     "output_type": "display_data"
    },
    {
     "data": {
      "text/latex": [
       "$$ I^{-1} = - \\boldsymbol{e}_{0}\\wedge \\boldsymbol{e}_{1}\\wedge \\boldsymbol{e}_{2}\\wedge \\boldsymbol{e}_{3}\\wedge \\boldsymbol{e}_{5}  $$"
      ],
      "text/plain": [
       "<IPython.core.display.Latex object>"
      ]
     },
     "metadata": {},
     "output_type": "display_data"
    },
    {
     "data": {
      "text/latex": [
       "$$ p =  \\boldsymbol{e}_{0} + p_{1} \\boldsymbol{e}_{1} + p_{2} \\boldsymbol{e}_{2} + p_{3} \\boldsymbol{e}_{3} + p_{4} \\boldsymbol{e}_{5}  $$"
      ],
      "text/plain": [
       "<IPython.core.display.Latex object>"
      ]
     },
     "metadata": {},
     "output_type": "display_data"
    },
    {
     "data": {
      "text/latex": [
       "$$ v = [q_{1} \\boldsymbol{e}_{1} + q_{2} \\boldsymbol{e}_{2} + q_{3} \\boldsymbol{e}_{3} + q_{4} \\boldsymbol{e}_{5}, r_{1} \\boldsymbol{e}_{1} + r_{2} \\boldsymbol{e}_{2} + r_{3} \\boldsymbol{e}_{3} + r_{4} \\boldsymbol{e}_{5}, s_{1} \\boldsymbol{e}_{1} + s_{2} \\boldsymbol{e}_{2} + s_{3} \\boldsymbol{e}_{3} + s_{4} \\boldsymbol{e}_{5}, t_{1} \\boldsymbol{e}_{1} + t_{2} \\boldsymbol{e}_{2} + t_{3} \\boldsymbol{e}_{3} + t_{4} \\boldsymbol{e}_{5}]  $$"
      ],
      "text/plain": [
       "<IPython.core.display.Latex object>"
      ]
     },
     "metadata": {},
     "output_type": "display_data"
    }
   ],
   "source": [
    "Ga.dual_mode('Iinv+')\n",
    "\n",
    "GA_list = [\n",
    "    Ga(\"e*0|1|2\", g='-1 0 0, 0 1 0, 0 0 1'),\n",
    "    Ga(\"e*0|1|2|3\", g='-1 0 0 0, 0 1 0 0, 0 0 1 0, 0 0 0 1'),\n",
    "    Ga(\"e*0|1|2|3|5\", g='-1 0 0 0 0, 0 1 0 0 0, 0 0 1 0 0, 0 0 0 1 0, 0 0 0 0 1'),\n",
    "    ]\n",
    "\n",
    "for GA in GA_list:\n",
    "    e_0 = GA.mv_basis[0]\n",
    "    e_0_inv = e_0.inv()\n",
    "\n",
    "    Ip = GA.I()\n",
    "    Ip_inv = Ip.inv()\n",
    "    print('I =',Ip)\n",
    "    print('I^{-1} =',Ip_inv)\n",
    "    Ir = e_0_inv < Ip\n",
    "    Ir_inv = Ir.inv()\n",
    "    #self.assertEquals(Ip, e_0 ^ Ir)\n",
    "    #self.assertEquals(Ip, e_0 * Ir)\n",
    "\n",
    "    p = GA.mv([1] + [Symbol('p%d' % i) for i in range(1, GA.n)], 'vector')\n",
    "    \n",
    "    print('p =',p)\n",
    "\n",
    "    v = [\n",
    "        GA.mv([0] + [Symbol('q%d' % i) for i in range(1, GA.n)], 'vector'),\n",
    "        GA.mv([0] + [Symbol('r%d' % i) for i in range(1, GA.n)], 'vector'),\n",
    "        GA.mv([0] + [Symbol('s%d' % i) for i in range(1, GA.n)], 'vector'),\n",
    "        GA.mv([0] + [Symbol('t%d' % i) for i in range(1, GA.n)], 'vector'),\n",
    "        ]\n",
    "    print('v =',v)\n",
    "\n"
   ]
  },
  {
   "cell_type": "code",
   "execution_count": 3,
   "metadata": {},
   "outputs": [
    {
     "data": {
      "text/latex": [
       "$$ \n",
       "  $$"
      ],
      "text/plain": [
       "<IPython.core.display.Latex object>"
      ]
     },
     "metadata": {},
     "output_type": "display_data"
    },
    {
     "data": {
      "text/latex": [
       "$$ X =  \\begin{aligned}  & q_{1} \\boldsymbol{e}_{0}\\wedge \\boldsymbol{e}_{1} \\\\  &  + q_{2} \\boldsymbol{e}_{0}\\wedge \\boldsymbol{e}_{2} \\\\  &  + q_{3} \\boldsymbol{e}_{0}\\wedge \\boldsymbol{e}_{3} \\\\  &  + q_{4} \\boldsymbol{e}_{0}\\wedge \\boldsymbol{e}_{5} \\\\  &  + \\left ( p_{1} q_{2} - p_{2} q_{1}\\right ) \\boldsymbol{e}_{1}\\wedge \\boldsymbol{e}_{2} \\\\  &  + \\left ( p_{1} q_{3} - p_{3} q_{1}\\right ) \\boldsymbol{e}_{1}\\wedge \\boldsymbol{e}_{3} \\\\  &  + \\left ( p_{1} q_{4} - p_{4} q_{1}\\right ) \\boldsymbol{e}_{1}\\wedge \\boldsymbol{e}_{5} \\\\  &  + \\left ( p_{2} q_{3} - p_{3} q_{2}\\right ) \\boldsymbol{e}_{2}\\wedge \\boldsymbol{e}_{3} \\\\  &  + \\left ( p_{2} q_{4} - p_{4} q_{2}\\right ) \\boldsymbol{e}_{2}\\wedge \\boldsymbol{e}_{5} \\\\  &  + \\left ( p_{3} q_{4} - p_{4} q_{3}\\right ) \\boldsymbol{e}_{3}\\wedge \\boldsymbol{e}_{5}  \\end{aligned} \n",
       "  $$"
      ],
      "text/plain": [
       "<IPython.core.display.Latex object>"
      ]
     },
     "metadata": {},
     "output_type": "display_data"
    },
    {
     "data": {
      "text/latex": [
       "$$ \n",
       "  $$"
      ],
      "text/plain": [
       "<IPython.core.display.Latex object>"
      ]
     },
     "metadata": {},
     "output_type": "display_data"
    },
    {
     "data": {
      "text/latex": [
       "$$ M =  \\begin{aligned}  & \\left ( p_{1} q_{2} - p_{2} q_{1}\\right ) \\boldsymbol{e}_{1}\\wedge \\boldsymbol{e}_{2} \\\\  &  + \\left ( p_{1} q_{3} - p_{3} q_{1}\\right ) \\boldsymbol{e}_{1}\\wedge \\boldsymbol{e}_{3} \\\\  &  + \\left ( p_{1} q_{4} - p_{4} q_{1}\\right ) \\boldsymbol{e}_{1}\\wedge \\boldsymbol{e}_{5} \\\\  &  + \\left ( p_{2} q_{3} - p_{3} q_{2}\\right ) \\boldsymbol{e}_{2}\\wedge \\boldsymbol{e}_{3} \\\\  &  + \\left ( p_{2} q_{4} - p_{4} q_{2}\\right ) \\boldsymbol{e}_{2}\\wedge \\boldsymbol{e}_{5} \\\\  &  + \\left ( p_{3} q_{4} - p_{4} q_{3}\\right ) \\boldsymbol{e}_{3}\\wedge \\boldsymbol{e}_{5}  \\end{aligned} \n",
       "  $$"
      ],
      "text/plain": [
       "<IPython.core.display.Latex object>"
      ]
     },
     "metadata": {},
     "output_type": "display_data"
    },
    {
     "data": {
      "text/latex": [
       "$$ \n",
       "  $$"
      ],
      "text/plain": [
       "<IPython.core.display.Latex object>"
      ]
     },
     "metadata": {},
     "output_type": "display_data"
    },
    {
     "data": {
      "text/latex": [
       "$$ d =  \\begin{aligned}  & \\frac{p_{1} {\\left ( q_{2} \\right )}^{2} + p_{1} {\\left ( q_{3} \\right )}^{2} + p_{1} {\\left ( q_{4} \\right )}^{2} - p_{2} q_{1} q_{2} - p_{3} q_{1} q_{3} - p_{4} q_{1} q_{4}}{{\\left ( q_{1} \\right )}^{2} + {\\left ( q_{2} \\right )}^{2} + {\\left ( q_{3} \\right )}^{2} + {\\left ( q_{4} \\right )}^{2}} \\boldsymbol{e}_{1} \\\\  &  + \\frac{- p_{1} q_{1} q_{2} + p_{2} {\\left ( q_{1} \\right )}^{2} + p_{2} {\\left ( q_{3} \\right )}^{2} + p_{2} {\\left ( q_{4} \\right )}^{2} - p_{3} q_{2} q_{3} - p_{4} q_{2} q_{4}}{{\\left ( q_{1} \\right )}^{2} + {\\left ( q_{2} \\right )}^{2} + {\\left ( q_{3} \\right )}^{2} + {\\left ( q_{4} \\right )}^{2}} \\boldsymbol{e}_{2} \\\\  &  + \\frac{- p_{1} q_{1} q_{3} - p_{2} q_{2} q_{3} + p_{3} {\\left ( q_{1} \\right )}^{2} + p_{3} {\\left ( q_{2} \\right )}^{2} + p_{3} {\\left ( q_{4} \\right )}^{2} - p_{4} q_{3} q_{4}}{{\\left ( q_{1} \\right )}^{2} + {\\left ( q_{2} \\right )}^{2} + {\\left ( q_{3} \\right )}^{2} + {\\left ( q_{4} \\right )}^{2}} \\boldsymbol{e}_{3} \\\\  &  + \\frac{- p_{1} q_{1} q_{4} - p_{2} q_{2} q_{4} - p_{3} q_{3} q_{4} + p_{4} {\\left ( q_{1} \\right )}^{2} + p_{4} {\\left ( q_{2} \\right )}^{2} + p_{4} {\\left ( q_{3} \\right )}^{2}}{{\\left ( q_{1} \\right )}^{2} + {\\left ( q_{2} \\right )}^{2} + {\\left ( q_{3} \\right )}^{2} + {\\left ( q_{4} \\right )}^{2}} \\boldsymbol{e}_{5}  \\end{aligned} \n",
       "  $$"
      ],
      "text/plain": [
       "<IPython.core.display.Latex object>"
      ]
     },
     "metadata": {},
     "output_type": "display_data"
    },
    {
     "data": {
      "text/latex": [
       "$$ \n",
       "  $$"
      ],
      "text/plain": [
       "<IPython.core.display.Latex object>"
      ]
     },
     "metadata": {},
     "output_type": "display_data"
    },
    {
     "data": {
      "text/latex": [
       "$$ X =  \\begin{aligned}  & \\left ( q_{1} r_{2} - q_{2} r_{1}\\right ) \\boldsymbol{e}_{0}\\wedge \\boldsymbol{e}_{1}\\wedge \\boldsymbol{e}_{2} \\\\  &  + \\left ( q_{1} r_{3} - q_{3} r_{1}\\right ) \\boldsymbol{e}_{0}\\wedge \\boldsymbol{e}_{1}\\wedge \\boldsymbol{e}_{3} \\\\  &  + \\left ( q_{1} r_{4} - q_{4} r_{1}\\right ) \\boldsymbol{e}_{0}\\wedge \\boldsymbol{e}_{1}\\wedge \\boldsymbol{e}_{5} \\\\  &  + \\left ( q_{2} r_{3} - q_{3} r_{2}\\right ) \\boldsymbol{e}_{0}\\wedge \\boldsymbol{e}_{2}\\wedge \\boldsymbol{e}_{3} \\\\  &  + \\left ( q_{2} r_{4} - q_{4} r_{2}\\right ) \\boldsymbol{e}_{0}\\wedge \\boldsymbol{e}_{2}\\wedge \\boldsymbol{e}_{5} \\\\  &  + \\left ( q_{3} r_{4} - q_{4} r_{3}\\right ) \\boldsymbol{e}_{0}\\wedge \\boldsymbol{e}_{3}\\wedge \\boldsymbol{e}_{5} \\\\  &  + \\left ( p_{1} q_{2} r_{3} - p_{1} q_{3} r_{2} - p_{2} q_{1} r_{3} + p_{2} q_{3} r_{1} + p_{3} q_{1} r_{2} - p_{3} q_{2} r_{1}\\right ) \\boldsymbol{e}_{1}\\wedge \\boldsymbol{e}_{2}\\wedge \\boldsymbol{e}_{3} \\\\  &  + \\left ( p_{1} q_{2} r_{4} - p_{1} q_{4} r_{2} - p_{2} q_{1} r_{4} + p_{2} q_{4} r_{1} + p_{4} q_{1} r_{2} - p_{4} q_{2} r_{1}\\right ) \\boldsymbol{e}_{1}\\wedge \\boldsymbol{e}_{2}\\wedge \\boldsymbol{e}_{5} \\\\  &  + \\left ( p_{1} q_{3} r_{4} - p_{1} q_{4} r_{3} - p_{3} q_{1} r_{4} + p_{3} q_{4} r_{1} + p_{4} q_{1} r_{3} - p_{4} q_{3} r_{1}\\right ) \\boldsymbol{e}_{1}\\wedge \\boldsymbol{e}_{3}\\wedge \\boldsymbol{e}_{5} \\\\  &  + \\left ( p_{2} q_{3} r_{4} - p_{2} q_{4} r_{3} - p_{3} q_{2} r_{4} + p_{3} q_{4} r_{2} + p_{4} q_{2} r_{3} - p_{4} q_{3} r_{2}\\right ) \\boldsymbol{e}_{2}\\wedge \\boldsymbol{e}_{3}\\wedge \\boldsymbol{e}_{5}  \\end{aligned} \n",
       "  $$"
      ],
      "text/plain": [
       "<IPython.core.display.Latex object>"
      ]
     },
     "metadata": {},
     "output_type": "display_data"
    },
    {
     "data": {
      "text/latex": [
       "$$ \n",
       "  $$"
      ],
      "text/plain": [
       "<IPython.core.display.Latex object>"
      ]
     },
     "metadata": {},
     "output_type": "display_data"
    },
    {
     "data": {
      "text/latex": [
       "$$ M =  \\begin{aligned}  & \\left ( p_{1} q_{2} r_{3} - p_{1} q_{3} r_{2} - p_{2} q_{1} r_{3} + p_{2} q_{3} r_{1} + p_{3} q_{1} r_{2} - p_{3} q_{2} r_{1}\\right ) \\boldsymbol{e}_{1}\\wedge \\boldsymbol{e}_{2}\\wedge \\boldsymbol{e}_{3} \\\\  &  + \\left ( p_{1} q_{2} r_{4} - p_{1} q_{4} r_{2} - p_{2} q_{1} r_{4} + p_{2} q_{4} r_{1} + p_{4} q_{1} r_{2} - p_{4} q_{2} r_{1}\\right ) \\boldsymbol{e}_{1}\\wedge \\boldsymbol{e}_{2}\\wedge \\boldsymbol{e}_{5} \\\\  &  + \\left ( p_{1} q_{3} r_{4} - p_{1} q_{4} r_{3} - p_{3} q_{1} r_{4} + p_{3} q_{4} r_{1} + p_{4} q_{1} r_{3} - p_{4} q_{3} r_{1}\\right ) \\boldsymbol{e}_{1}\\wedge \\boldsymbol{e}_{3}\\wedge \\boldsymbol{e}_{5} \\\\  &  + \\left ( p_{2} q_{3} r_{4} - p_{2} q_{4} r_{3} - p_{3} q_{2} r_{4} + p_{3} q_{4} r_{2} + p_{4} q_{2} r_{3} - p_{4} q_{3} r_{2}\\right ) \\boldsymbol{e}_{2}\\wedge \\boldsymbol{e}_{3}\\wedge \\boldsymbol{e}_{5}  \\end{aligned} \n",
       "  $$"
      ],
      "text/plain": [
       "<IPython.core.display.Latex object>"
      ]
     },
     "metadata": {},
     "output_type": "display_data"
    },
    {
     "data": {
      "text/latex": [
       "$$ \n",
       "  $$"
      ],
      "text/plain": [
       "<IPython.core.display.Latex object>"
      ]
     },
     "metadata": {},
     "output_type": "display_data"
    },
    {
     "data": {
      "text/latex": [
       "$$ d =  \\begin{aligned}  & \\frac{p_{1} {\\left ( q_{2} \\right )}^{2} {\\left ( r_{3} \\right )}^{2} + p_{1} {\\left ( q_{2} \\right )}^{2} {\\left ( r_{4} \\right )}^{2} - 2 p_{1} q_{2} q_{3} r_{2} r_{3} - 2 p_{1} q_{2} q_{4} r_{2} r_{4} + p_{1} {\\left ( q_{3} \\right )}^{2} {\\left ( r_{2} \\right )}^{2} + p_{1} {\\left ( q_{3} \\right )}^{2} {\\left ( r_{4} \\right )}^{2} - 2 p_{1} q_{3} q_{4} r_{3} r_{4} + p_{1} {\\left ( q_{4} \\right )}^{2} {\\left ( r_{2} \\right )}^{2} + p_{1} {\\left ( q_{4} \\right )}^{2} {\\left ( r_{3} \\right )}^{2} - p_{2} q_{1} q_{2} {\\left ( r_{3} \\right )}^{2} - p_{2} q_{1} q_{2} {\\left ( r_{4} \\right )}^{2} + p_{2} q_{1} q_{3} r_{2} r_{3} + p_{2} q_{1} q_{4} r_{2} r_{4} + p_{2} q_{2} q_{3} r_{1} r_{3} + p_{2} q_{2} q_{4} r_{1} r_{4} - p_{2} {\\left ( q_{3} \\right )}^{2} r_{1} r_{2} - p_{2} {\\left ( q_{4} \\right )}^{2} r_{1} r_{2} + p_{3} q_{1} q_{2} r_{2} r_{3} - p_{3} q_{1} q_{3} {\\left ( r_{2} \\right )}^{2} - p_{3} q_{1} q_{3} {\\left ( r_{4} \\right )}^{2} + p_{3} q_{1} q_{4} r_{3} r_{4} - p_{3} {\\left ( q_{2} \\right )}^{2} r_{1} r_{3} + p_{3} q_{2} q_{3} r_{1} r_{2} + p_{3} q_{3} q_{4} r_{1} r_{4} - p_{3} {\\left ( q_{4} \\right )}^{2} r_{1} r_{3} + p_{4} q_{1} q_{2} r_{2} r_{4} + p_{4} q_{1} q_{3} r_{3} r_{4} - p_{4} q_{1} q_{4} {\\left ( r_{2} \\right )}^{2} - p_{4} q_{1} q_{4} {\\left ( r_{3} \\right )}^{2} - p_{4} {\\left ( q_{2} \\right )}^{2} r_{1} r_{4} + p_{4} q_{2} q_{4} r_{1} r_{2} - p_{4} {\\left ( q_{3} \\right )}^{2} r_{1} r_{4} + p_{4} q_{3} q_{4} r_{1} r_{3}}{{\\left ( q_{1} \\right )}^{2} {\\left ( r_{2} \\right )}^{2} + {\\left ( q_{1} \\right )}^{2} {\\left ( r_{3} \\right )}^{2} + {\\left ( q_{1} \\right )}^{2} {\\left ( r_{4} \\right )}^{2} - 2 q_{1} q_{2} r_{1} r_{2} - 2 q_{1} q_{3} r_{1} r_{3} - 2 q_{1} q_{4} r_{1} r_{4} + {\\left ( q_{2} \\right )}^{2} {\\left ( r_{1} \\right )}^{2} + {\\left ( q_{2} \\right )}^{2} {\\left ( r_{3} \\right )}^{2} + {\\left ( q_{2} \\right )}^{2} {\\left ( r_{4} \\right )}^{2} - 2 q_{2} q_{3} r_{2} r_{3} - 2 q_{2} q_{4} r_{2} r_{4} + {\\left ( q_{3} \\right )}^{2} {\\left ( r_{1} \\right )}^{2} + {\\left ( q_{3} \\right )}^{2} {\\left ( r_{2} \\right )}^{2} + {\\left ( q_{3} \\right )}^{2} {\\left ( r_{4} \\right )}^{2} - 2 q_{3} q_{4} r_{3} r_{4} + {\\left ( q_{4} \\right )}^{2} {\\left ( r_{1} \\right )}^{2} + {\\left ( q_{4} \\right )}^{2} {\\left ( r_{2} \\right )}^{2} + {\\left ( q_{4} \\right )}^{2} {\\left ( r_{3} \\right )}^{2}} \\boldsymbol{e}_{1} \\\\  &  + \\frac{- p_{1} q_{1} q_{2} {\\left ( r_{3} \\right )}^{2} - p_{1} q_{1} q_{2} {\\left ( r_{4} \\right )}^{2} + p_{1} q_{1} q_{3} r_{2} r_{3} + p_{1} q_{1} q_{4} r_{2} r_{4} + p_{1} q_{2} q_{3} r_{1} r_{3} + p_{1} q_{2} q_{4} r_{1} r_{4} - p_{1} {\\left ( q_{3} \\right )}^{2} r_{1} r_{2} - p_{1} {\\left ( q_{4} \\right )}^{2} r_{1} r_{2} + p_{2} {\\left ( q_{1} \\right )}^{2} {\\left ( r_{3} \\right )}^{2} + p_{2} {\\left ( q_{1} \\right )}^{2} {\\left ( r_{4} \\right )}^{2} - 2 p_{2} q_{1} q_{3} r_{1} r_{3} - 2 p_{2} q_{1} q_{4} r_{1} r_{4} + p_{2} {\\left ( q_{3} \\right )}^{2} {\\left ( r_{1} \\right )}^{2} + p_{2} {\\left ( q_{3} \\right )}^{2} {\\left ( r_{4} \\right )}^{2} - 2 p_{2} q_{3} q_{4} r_{3} r_{4} + p_{2} {\\left ( q_{4} \\right )}^{2} {\\left ( r_{1} \\right )}^{2} + p_{2} {\\left ( q_{4} \\right )}^{2} {\\left ( r_{3} \\right )}^{2} - p_{3} {\\left ( q_{1} \\right )}^{2} r_{2} r_{3} + p_{3} q_{1} q_{2} r_{1} r_{3} + p_{3} q_{1} q_{3} r_{1} r_{2} - p_{3} q_{2} q_{3} {\\left ( r_{1} \\right )}^{2} - p_{3} q_{2} q_{3} {\\left ( r_{4} \\right )}^{2} + p_{3} q_{2} q_{4} r_{3} r_{4} + p_{3} q_{3} q_{4} r_{2} r_{4} - p_{3} {\\left ( q_{4} \\right )}^{2} r_{2} r_{3} - p_{4} {\\left ( q_{1} \\right )}^{2} r_{2} r_{4} + p_{4} q_{1} q_{2} r_{1} r_{4} + p_{4} q_{1} q_{4} r_{1} r_{2} + p_{4} q_{2} q_{3} r_{3} r_{4} - p_{4} q_{2} q_{4} {\\left ( r_{1} \\right )}^{2} - p_{4} q_{2} q_{4} {\\left ( r_{3} \\right )}^{2} - p_{4} {\\left ( q_{3} \\right )}^{2} r_{2} r_{4} + p_{4} q_{3} q_{4} r_{2} r_{3}}{{\\left ( q_{1} \\right )}^{2} {\\left ( r_{2} \\right )}^{2} + {\\left ( q_{1} \\right )}^{2} {\\left ( r_{3} \\right )}^{2} + {\\left ( q_{1} \\right )}^{2} {\\left ( r_{4} \\right )}^{2} - 2 q_{1} q_{2} r_{1} r_{2} - 2 q_{1} q_{3} r_{1} r_{3} - 2 q_{1} q_{4} r_{1} r_{4} + {\\left ( q_{2} \\right )}^{2} {\\left ( r_{1} \\right )}^{2} + {\\left ( q_{2} \\right )}^{2} {\\left ( r_{3} \\right )}^{2} + {\\left ( q_{2} \\right )}^{2} {\\left ( r_{4} \\right )}^{2} - 2 q_{2} q_{3} r_{2} r_{3} - 2 q_{2} q_{4} r_{2} r_{4} + {\\left ( q_{3} \\right )}^{2} {\\left ( r_{1} \\right )}^{2} + {\\left ( q_{3} \\right )}^{2} {\\left ( r_{2} \\right )}^{2} + {\\left ( q_{3} \\right )}^{2} {\\left ( r_{4} \\right )}^{2} - 2 q_{3} q_{4} r_{3} r_{4} + {\\left ( q_{4} \\right )}^{2} {\\left ( r_{1} \\right )}^{2} + {\\left ( q_{4} \\right )}^{2} {\\left ( r_{2} \\right )}^{2} + {\\left ( q_{4} \\right )}^{2} {\\left ( r_{3} \\right )}^{2}} \\boldsymbol{e}_{2} \\\\  &  + \\frac{p_{1} q_{1} q_{2} r_{2} r_{3} - p_{1} q_{1} q_{3} {\\left ( r_{2} \\right )}^{2} - p_{1} q_{1} q_{3} {\\left ( r_{4} \\right )}^{2} + p_{1} q_{1} q_{4} r_{3} r_{4} - p_{1} {\\left ( q_{2} \\right )}^{2} r_{1} r_{3} + p_{1} q_{2} q_{3} r_{1} r_{2} + p_{1} q_{3} q_{4} r_{1} r_{4} - p_{1} {\\left ( q_{4} \\right )}^{2} r_{1} r_{3} - p_{2} {\\left ( q_{1} \\right )}^{2} r_{2} r_{3} + p_{2} q_{1} q_{2} r_{1} r_{3} + p_{2} q_{1} q_{3} r_{1} r_{2} - p_{2} q_{2} q_{3} {\\left ( r_{1} \\right )}^{2} - p_{2} q_{2} q_{3} {\\left ( r_{4} \\right )}^{2} + p_{2} q_{2} q_{4} r_{3} r_{4} + p_{2} q_{3} q_{4} r_{2} r_{4} - p_{2} {\\left ( q_{4} \\right )}^{2} r_{2} r_{3} + p_{3} {\\left ( q_{1} \\right )}^{2} {\\left ( r_{2} \\right )}^{2} + p_{3} {\\left ( q_{1} \\right )}^{2} {\\left ( r_{4} \\right )}^{2} - 2 p_{3} q_{1} q_{2} r_{1} r_{2} - 2 p_{3} q_{1} q_{4} r_{1} r_{4} + p_{3} {\\left ( q_{2} \\right )}^{2} {\\left ( r_{1} \\right )}^{2} + p_{3} {\\left ( q_{2} \\right )}^{2} {\\left ( r_{4} \\right )}^{2} - 2 p_{3} q_{2} q_{4} r_{2} r_{4} + p_{3} {\\left ( q_{4} \\right )}^{2} {\\left ( r_{1} \\right )}^{2} + p_{3} {\\left ( q_{4} \\right )}^{2} {\\left ( r_{2} \\right )}^{2} - p_{4} {\\left ( q_{1} \\right )}^{2} r_{3} r_{4} + p_{4} q_{1} q_{3} r_{1} r_{4} + p_{4} q_{1} q_{4} r_{1} r_{3} - p_{4} {\\left ( q_{2} \\right )}^{2} r_{3} r_{4} + p_{4} q_{2} q_{3} r_{2} r_{4} + p_{4} q_{2} q_{4} r_{2} r_{3} - p_{4} q_{3} q_{4} {\\left ( r_{1} \\right )}^{2} - p_{4} q_{3} q_{4} {\\left ( r_{2} \\right )}^{2}}{{\\left ( q_{1} \\right )}^{2} {\\left ( r_{2} \\right )}^{2} + {\\left ( q_{1} \\right )}^{2} {\\left ( r_{3} \\right )}^{2} + {\\left ( q_{1} \\right )}^{2} {\\left ( r_{4} \\right )}^{2} - 2 q_{1} q_{2} r_{1} r_{2} - 2 q_{1} q_{3} r_{1} r_{3} - 2 q_{1} q_{4} r_{1} r_{4} + {\\left ( q_{2} \\right )}^{2} {\\left ( r_{1} \\right )}^{2} + {\\left ( q_{2} \\right )}^{2} {\\left ( r_{3} \\right )}^{2} + {\\left ( q_{2} \\right )}^{2} {\\left ( r_{4} \\right )}^{2} - 2 q_{2} q_{3} r_{2} r_{3} - 2 q_{2} q_{4} r_{2} r_{4} + {\\left ( q_{3} \\right )}^{2} {\\left ( r_{1} \\right )}^{2} + {\\left ( q_{3} \\right )}^{2} {\\left ( r_{2} \\right )}^{2} + {\\left ( q_{3} \\right )}^{2} {\\left ( r_{4} \\right )}^{2} - 2 q_{3} q_{4} r_{3} r_{4} + {\\left ( q_{4} \\right )}^{2} {\\left ( r_{1} \\right )}^{2} + {\\left ( q_{4} \\right )}^{2} {\\left ( r_{2} \\right )}^{2} + {\\left ( q_{4} \\right )}^{2} {\\left ( r_{3} \\right )}^{2}} \\boldsymbol{e}_{3} \\\\  &  + \\frac{p_{1} q_{1} q_{2} r_{2} r_{4} + p_{1} q_{1} q_{3} r_{3} r_{4} - p_{1} q_{1} q_{4} {\\left ( r_{2} \\right )}^{2} - p_{1} q_{1} q_{4} {\\left ( r_{3} \\right )}^{2} - p_{1} {\\left ( q_{2} \\right )}^{2} r_{1} r_{4} + p_{1} q_{2} q_{4} r_{1} r_{2} - p_{1} {\\left ( q_{3} \\right )}^{2} r_{1} r_{4} + p_{1} q_{3} q_{4} r_{1} r_{3} - p_{2} {\\left ( q_{1} \\right )}^{2} r_{2} r_{4} + p_{2} q_{1} q_{2} r_{1} r_{4} + p_{2} q_{1} q_{4} r_{1} r_{2} + p_{2} q_{2} q_{3} r_{3} r_{4} - p_{2} q_{2} q_{4} {\\left ( r_{1} \\right )}^{2} - p_{2} q_{2} q_{4} {\\left ( r_{3} \\right )}^{2} - p_{2} {\\left ( q_{3} \\right )}^{2} r_{2} r_{4} + p_{2} q_{3} q_{4} r_{2} r_{3} - p_{3} {\\left ( q_{1} \\right )}^{2} r_{3} r_{4} + p_{3} q_{1} q_{3} r_{1} r_{4} + p_{3} q_{1} q_{4} r_{1} r_{3} - p_{3} {\\left ( q_{2} \\right )}^{2} r_{3} r_{4} + p_{3} q_{2} q_{3} r_{2} r_{4} + p_{3} q_{2} q_{4} r_{2} r_{3} - p_{3} q_{3} q_{4} {\\left ( r_{1} \\right )}^{2} - p_{3} q_{3} q_{4} {\\left ( r_{2} \\right )}^{2} + p_{4} {\\left ( q_{1} \\right )}^{2} {\\left ( r_{2} \\right )}^{2} + p_{4} {\\left ( q_{1} \\right )}^{2} {\\left ( r_{3} \\right )}^{2} - 2 p_{4} q_{1} q_{2} r_{1} r_{2} - 2 p_{4} q_{1} q_{3} r_{1} r_{3} + p_{4} {\\left ( q_{2} \\right )}^{2} {\\left ( r_{1} \\right )}^{2} + p_{4} {\\left ( q_{2} \\right )}^{2} {\\left ( r_{3} \\right )}^{2} - 2 p_{4} q_{2} q_{3} r_{2} r_{3} + p_{4} {\\left ( q_{3} \\right )}^{2} {\\left ( r_{1} \\right )}^{2} + p_{4} {\\left ( q_{3} \\right )}^{2} {\\left ( r_{2} \\right )}^{2}}{{\\left ( q_{1} \\right )}^{2} {\\left ( r_{2} \\right )}^{2} + {\\left ( q_{1} \\right )}^{2} {\\left ( r_{3} \\right )}^{2} + {\\left ( q_{1} \\right )}^{2} {\\left ( r_{4} \\right )}^{2} - 2 q_{1} q_{2} r_{1} r_{2} - 2 q_{1} q_{3} r_{1} r_{3} - 2 q_{1} q_{4} r_{1} r_{4} + {\\left ( q_{2} \\right )}^{2} {\\left ( r_{1} \\right )}^{2} + {\\left ( q_{2} \\right )}^{2} {\\left ( r_{3} \\right )}^{2} + {\\left ( q_{2} \\right )}^{2} {\\left ( r_{4} \\right )}^{2} - 2 q_{2} q_{3} r_{2} r_{3} - 2 q_{2} q_{4} r_{2} r_{4} + {\\left ( q_{3} \\right )}^{2} {\\left ( r_{1} \\right )}^{2} + {\\left ( q_{3} \\right )}^{2} {\\left ( r_{2} \\right )}^{2} + {\\left ( q_{3} \\right )}^{2} {\\left ( r_{4} \\right )}^{2} - 2 q_{3} q_{4} r_{3} r_{4} + {\\left ( q_{4} \\right )}^{2} {\\left ( r_{1} \\right )}^{2} + {\\left ( q_{4} \\right )}^{2} {\\left ( r_{2} \\right )}^{2} + {\\left ( q_{4} \\right )}^{2} {\\left ( r_{3} \\right )}^{2}} \\boldsymbol{e}_{5}  \\end{aligned} \n",
       "  $$"
      ],
      "text/plain": [
       "<IPython.core.display.Latex object>"
      ]
     },
     "metadata": {},
     "output_type": "display_data"
    },
    {
     "data": {
      "text/latex": [
       "$$ \n",
       "  $$"
      ],
      "text/plain": [
       "<IPython.core.display.Latex object>"
      ]
     },
     "metadata": {},
     "output_type": "display_data"
    },
    {
     "data": {
      "text/latex": [
       "$$ X =  \\begin{aligned}  & \\left ( q_{1} r_{2} s_{3} - q_{1} r_{3} s_{2} - q_{2} r_{1} s_{3} + q_{2} r_{3} s_{1} + q_{3} r_{1} s_{2} - q_{3} r_{2} s_{1}\\right ) \\boldsymbol{e}_{0}\\wedge \\boldsymbol{e}_{1}\\wedge \\boldsymbol{e}_{2}\\wedge \\boldsymbol{e}_{3} \\\\  &  + \\left ( q_{1} r_{2} s_{4} - q_{1} r_{4} s_{2} - q_{2} r_{1} s_{4} + q_{2} r_{4} s_{1} + q_{4} r_{1} s_{2} - q_{4} r_{2} s_{1}\\right ) \\boldsymbol{e}_{0}\\wedge \\boldsymbol{e}_{1}\\wedge \\boldsymbol{e}_{2}\\wedge \\boldsymbol{e}_{5} \\\\  &  + \\left ( q_{1} r_{3} s_{4} - q_{1} r_{4} s_{3} - q_{3} r_{1} s_{4} + q_{3} r_{4} s_{1} + q_{4} r_{1} s_{3} - q_{4} r_{3} s_{1}\\right ) \\boldsymbol{e}_{0}\\wedge \\boldsymbol{e}_{1}\\wedge \\boldsymbol{e}_{3}\\wedge \\boldsymbol{e}_{5} \\\\  &  + \\left ( q_{2} r_{3} s_{4} - q_{2} r_{4} s_{3} - q_{3} r_{2} s_{4} + q_{3} r_{4} s_{2} + q_{4} r_{2} s_{3} - q_{4} r_{3} s_{2}\\right ) \\boldsymbol{e}_{0}\\wedge \\boldsymbol{e}_{2}\\wedge \\boldsymbol{e}_{3}\\wedge \\boldsymbol{e}_{5} \\\\  &  + \\left ( p_{1} q_{2} r_{3} s_{4} - p_{1} q_{2} r_{4} s_{3} - p_{1} q_{3} r_{2} s_{4} + p_{1} q_{3} r_{4} s_{2} + p_{1} q_{4} r_{2} s_{3} - p_{1} q_{4} r_{3} s_{2} - p_{2} q_{1} r_{3} s_{4} + p_{2} q_{1} r_{4} s_{3} + p_{2} q_{3} r_{1} s_{4} - p_{2} q_{3} r_{4} s_{1} - p_{2} q_{4} r_{1} s_{3} + p_{2} q_{4} r_{3} s_{1} + p_{3} q_{1} r_{2} s_{4} - p_{3} q_{1} r_{4} s_{2} - p_{3} q_{2} r_{1} s_{4} + p_{3} q_{2} r_{4} s_{1} + p_{3} q_{4} r_{1} s_{2} - p_{3} q_{4} r_{2} s_{1} - p_{4} q_{1} r_{2} s_{3} + p_{4} q_{1} r_{3} s_{2} + p_{4} q_{2} r_{1} s_{3} - p_{4} q_{2} r_{3} s_{1} - p_{4} q_{3} r_{1} s_{2} + p_{4} q_{3} r_{2} s_{1}\\right ) \\boldsymbol{e}_{1}\\wedge \\boldsymbol{e}_{2}\\wedge \\boldsymbol{e}_{3}\\wedge \\boldsymbol{e}_{5}  \\end{aligned} \n",
       "  $$"
      ],
      "text/plain": [
       "<IPython.core.display.Latex object>"
      ]
     },
     "metadata": {},
     "output_type": "display_data"
    },
    {
     "data": {
      "text/latex": [
       "$$ \n",
       "  $$"
      ],
      "text/plain": [
       "<IPython.core.display.Latex object>"
      ]
     },
     "metadata": {},
     "output_type": "display_data"
    },
    {
     "data": {
      "text/latex": [
       "$$ M = \\left ( p_{1} q_{2} r_{3} s_{4} - p_{1} q_{2} r_{4} s_{3} - p_{1} q_{3} r_{2} s_{4} + p_{1} q_{3} r_{4} s_{2} + p_{1} q_{4} r_{2} s_{3} - p_{1} q_{4} r_{3} s_{2} - p_{2} q_{1} r_{3} s_{4} + p_{2} q_{1} r_{4} s_{3} + p_{2} q_{3} r_{1} s_{4} - p_{2} q_{3} r_{4} s_{1} - p_{2} q_{4} r_{1} s_{3} + p_{2} q_{4} r_{3} s_{1} + p_{3} q_{1} r_{2} s_{4} - p_{3} q_{1} r_{4} s_{2} - p_{3} q_{2} r_{1} s_{4} + p_{3} q_{2} r_{4} s_{1} + p_{3} q_{4} r_{1} s_{2} - p_{3} q_{4} r_{2} s_{1} - p_{4} q_{1} r_{2} s_{3} + p_{4} q_{1} r_{3} s_{2} + p_{4} q_{2} r_{1} s_{3} - p_{4} q_{2} r_{3} s_{1} - p_{4} q_{3} r_{1} s_{2} + p_{4} q_{3} r_{2} s_{1}\\right ) \\boldsymbol{e}_{1}\\wedge \\boldsymbol{e}_{2}\\wedge \\boldsymbol{e}_{3}\\wedge \\boldsymbol{e}_{5}  $$"
      ],
      "text/plain": [
       "<IPython.core.display.Latex object>"
      ]
     },
     "metadata": {},
     "output_type": "display_data"
    },
    {
     "data": {
      "text/latex": [
       "$$ \n",
       "  $$"
      ],
      "text/plain": [
       "<IPython.core.display.Latex object>"
      ]
     },
     "metadata": {},
     "output_type": "display_data"
    },
    {
     "data": {
      "text/latex": [
       "$$ d =  \\begin{aligned}  & \\frac{p_{1} {\\left ( q_{2} \\right )}^{2} {\\left ( r_{3} \\right )}^{2} {\\left ( s_{4} \\right )}^{2} - 2 p_{1} {\\left ( q_{2} \\right )}^{2} r_{3} r_{4} s_{3} s_{4} + p_{1} {\\left ( q_{2} \\right )}^{2} {\\left ( r_{4} \\right )}^{2} {\\left ( s_{3} \\right )}^{2} - 2 p_{1} q_{2} q_{3} r_{2} r_{3} {\\left ( s_{4} \\right )}^{2} + 2 p_{1} q_{2} q_{3} r_{2} r_{4} s_{3} s_{4} + 2 p_{1} q_{2} q_{3} r_{3} r_{4} s_{2} s_{4} - 2 p_{1} q_{2} q_{3} {\\left ( r_{4} \\right )}^{2} s_{2} s_{3} + 2 p_{1} q_{2} q_{4} r_{2} r_{3} s_{3} s_{4} - 2 p_{1} q_{2} q_{4} r_{2} r_{4} {\\left ( s_{3} \\right )}^{2} - 2 p_{1} q_{2} q_{4} {\\left ( r_{3} \\right )}^{2} s_{2} s_{4} + 2 p_{1} q_{2} q_{4} r_{3} r_{4} s_{2} s_{3} + p_{1} {\\left ( q_{3} \\right )}^{2} {\\left ( r_{2} \\right )}^{2} {\\left ( s_{4} \\right )}^{2} - 2 p_{1} {\\left ( q_{3} \\right )}^{2} r_{2} r_{4} s_{2} s_{4} + p_{1} {\\left ( q_{3} \\right )}^{2} {\\left ( r_{4} \\right )}^{2} {\\left ( s_{2} \\right )}^{2} - 2 p_{1} q_{3} q_{4} {\\left ( r_{2} \\right )}^{2} s_{3} s_{4} + 2 p_{1} q_{3} q_{4} r_{2} r_{3} s_{2} s_{4} + 2 p_{1} q_{3} q_{4} r_{2} r_{4} s_{2} s_{3} - 2 p_{1} q_{3} q_{4} r_{3} r_{4} {\\left ( s_{2} \\right )}^{2} + p_{1} {\\left ( q_{4} \\right )}^{2} {\\left ( r_{2} \\right )}^{2} {\\left ( s_{3} \\right )}^{2} - 2 p_{1} {\\left ( q_{4} \\right )}^{2} r_{2} r_{3} s_{2} s_{3} + p_{1} {\\left ( q_{4} \\right )}^{2} {\\left ( r_{3} \\right )}^{2} {\\left ( s_{2} \\right )}^{2} - p_{2} q_{1} q_{2} {\\left ( r_{3} \\right )}^{2} {\\left ( s_{4} \\right )}^{2} + 2 p_{2} q_{1} q_{2} r_{3} r_{4} s_{3} s_{4} - p_{2} q_{1} q_{2} {\\left ( r_{4} \\right )}^{2} {\\left ( s_{3} \\right )}^{2} + p_{2} q_{1} q_{3} r_{2} r_{3} {\\left ( s_{4} \\right )}^{2} - p_{2} q_{1} q_{3} r_{2} r_{4} s_{3} s_{4} - p_{2} q_{1} q_{3} r_{3} r_{4} s_{2} s_{4} + p_{2} q_{1} q_{3} {\\left ( r_{4} \\right )}^{2} s_{2} s_{3} - p_{2} q_{1} q_{4} r_{2} r_{3} s_{3} s_{4} + p_{2} q_{1} q_{4} r_{2} r_{4} {\\left ( s_{3} \\right )}^{2} + p_{2} q_{1} q_{4} {\\left ( r_{3} \\right )}^{2} s_{2} s_{4} - p_{2} q_{1} q_{4} r_{3} r_{4} s_{2} s_{3} + p_{2} q_{2} q_{3} r_{1} r_{3} {\\left ( s_{4} \\right )}^{2} - p_{2} q_{2} q_{3} r_{1} r_{4} s_{3} s_{4} - p_{2} q_{2} q_{3} r_{3} r_{4} s_{1} s_{4} + p_{2} q_{2} q_{3} {\\left ( r_{4} \\right )}^{2} s_{1} s_{3} - p_{2} q_{2} q_{4} r_{1} r_{3} s_{3} s_{4} + p_{2} q_{2} q_{4} r_{1} r_{4} {\\left ( s_{3} \\right )}^{2} + p_{2} q_{2} q_{4} {\\left ( r_{3} \\right )}^{2} s_{1} s_{4} - p_{2} q_{2} q_{4} r_{3} r_{4} s_{1} s_{3} - p_{2} {\\left ( q_{3} \\right )}^{2} r_{1} r_{2} {\\left ( s_{4} \\right )}^{2} + p_{2} {\\left ( q_{3} \\right )}^{2} r_{1} r_{4} s_{2} s_{4} + p_{2} {\\left ( q_{3} \\right )}^{2} r_{2} r_{4} s_{1} s_{4} - p_{2} {\\left ( q_{3} \\right )}^{2} {\\left ( r_{4} \\right )}^{2} s_{1} s_{2} + 2 p_{2} q_{3} q_{4} r_{1} r_{2} s_{3} s_{4} - p_{2} q_{3} q_{4} r_{1} r_{3} s_{2} s_{4} - p_{2} q_{3} q_{4} r_{1} r_{4} s_{2} s_{3} - p_{2} q_{3} q_{4} r_{2} r_{3} s_{1} s_{4} - p_{2} q_{3} q_{4} r_{2} r_{4} s_{1} s_{3} + 2 p_{2} q_{3} q_{4} r_{3} r_{4} s_{1} s_{2} - p_{2} {\\left ( q_{4} \\right )}^{2} r_{1} r_{2} {\\left ( s_{3} \\right )}^{2} + p_{2} {\\left ( q_{4} \\right )}^{2} r_{1} r_{3} s_{2} s_{3} + p_{2} {\\left ( q_{4} \\right )}^{2} r_{2} r_{3} s_{1} s_{3} - p_{2} {\\left ( q_{4} \\right )}^{2} {\\left ( r_{3} \\right )}^{2} s_{1} s_{2} + p_{3} q_{1} q_{2} r_{2} r_{3} {\\left ( s_{4} \\right )}^{2} - p_{3} q_{1} q_{2} r_{2} r_{4} s_{3} s_{4} - p_{3} q_{1} q_{2} r_{3} r_{4} s_{2} s_{4} + p_{3} q_{1} q_{2} {\\left ( r_{4} \\right )}^{2} s_{2} s_{3} - p_{3} q_{1} q_{3} {\\left ( r_{2} \\right )}^{2} {\\left ( s_{4} \\right )}^{2} + 2 p_{3} q_{1} q_{3} r_{2} r_{4} s_{2} s_{4} - p_{3} q_{1} q_{3} {\\left ( r_{4} \\right )}^{2} {\\left ( s_{2} \\right )}^{2} + p_{3} q_{1} q_{4} {\\left ( r_{2} \\right )}^{2} s_{3} s_{4} - p_{3} q_{1} q_{4} r_{2} r_{3} s_{2} s_{4} - p_{3} q_{1} q_{4} r_{2} r_{4} s_{2} s_{3} + p_{3} q_{1} q_{4} r_{3} r_{4} {\\left ( s_{2} \\right )}^{2} - p_{3} {\\left ( q_{2} \\right )}^{2} r_{1} r_{3} {\\left ( s_{4} \\right )}^{2} + p_{3} {\\left ( q_{2} \\right )}^{2} r_{1} r_{4} s_{3} s_{4} + p_{3} {\\left ( q_{2} \\right )}^{2} r_{3} r_{4} s_{1} s_{4} - p_{3} {\\left ( q_{2} \\right )}^{2} {\\left ( r_{4} \\right )}^{2} s_{1} s_{3} + p_{3} q_{2} q_{3} r_{1} r_{2} {\\left ( s_{4} \\right )}^{2} - p_{3} q_{2} q_{3} r_{1} r_{4} s_{2} s_{4} - p_{3} q_{2} q_{3} r_{2} r_{4} s_{1} s_{4} + p_{3} q_{2} q_{3} {\\left ( r_{4} \\right )}^{2} s_{1} s_{2} - p_{3} q_{2} q_{4} r_{1} r_{2} s_{3} s_{4} + 2 p_{3} q_{2} q_{4} r_{1} r_{3} s_{2} s_{4} - p_{3} q_{2} q_{4} r_{1} r_{4} s_{2} s_{3} - p_{3} q_{2} q_{4} r_{2} r_{3} s_{1} s_{4} + 2 p_{3} q_{2} q_{4} r_{2} r_{4} s_{1} s_{3} - p_{3} q_{2} q_{4} r_{3} r_{4} s_{1} s_{2} - p_{3} q_{3} q_{4} r_{1} r_{2} s_{2} s_{4} + p_{3} q_{3} q_{4} r_{1} r_{4} {\\left ( s_{2} \\right )}^{2} + p_{3} q_{3} q_{4} {\\left ( r_{2} \\right )}^{2} s_{1} s_{4} - p_{3} q_{3} q_{4} r_{2} r_{4} s_{1} s_{2} + p_{3} {\\left ( q_{4} \\right )}^{2} r_{1} r_{2} s_{2} s_{3} - p_{3} {\\left ( q_{4} \\right )}^{2} r_{1} r_{3} {\\left ( s_{2} \\right )}^{2} - p_{3} {\\left ( q_{4} \\right )}^{2} {\\left ( r_{2} \\right )}^{2} s_{1} s_{3} + p_{3} {\\left ( q_{4} \\right )}^{2} r_{2} r_{3} s_{1} s_{2} - p_{4} q_{1} q_{2} r_{2} r_{3} s_{3} s_{4} + p_{4} q_{1} q_{2} r_{2} r_{4} {\\left ( s_{3} \\right )}^{2} + p_{4} q_{1} q_{2} {\\left ( r_{3} \\right )}^{2} s_{2} s_{4} - p_{4} q_{1} q_{2} r_{3} r_{4} s_{2} s_{3} + p_{4} q_{1} q_{3} {\\left ( r_{2} \\right )}^{2} s_{3} s_{4} - p_{4} q_{1} q_{3} r_{2} r_{3} s_{2} s_{4} - p_{4} q_{1} q_{3} r_{2} r_{4} s_{2} s_{3} + p_{4} q_{1} q_{3} r_{3} r_{4} {\\left ( s_{2} \\right )}^{2} - p_{4} q_{1} q_{4} {\\left ( r_{2} \\right )}^{2} {\\left ( s_{3} \\right )}^{2} + 2 p_{4} q_{1} q_{4} r_{2} r_{3} s_{2} s_{3} - p_{4} q_{1} q_{4} {\\left ( r_{3} \\right )}^{2} {\\left ( s_{2} \\right )}^{2} + p_{4} {\\left ( q_{2} \\right )}^{2} r_{1} r_{3} s_{3} s_{4} - p_{4} {\\left ( q_{2} \\right )}^{2} r_{1} r_{4} {\\left ( s_{3} \\right )}^{2} - p_{4} {\\left ( q_{2} \\right )}^{2} {\\left ( r_{3} \\right )}^{2} s_{1} s_{4} + p_{4} {\\left ( q_{2} \\right )}^{2} r_{3} r_{4} s_{1} s_{3} - p_{4} q_{2} q_{3} r_{1} r_{2} s_{3} s_{4} - p_{4} q_{2} q_{3} r_{1} r_{3} s_{2} s_{4} + 2 p_{4} q_{2} q_{3} r_{1} r_{4} s_{2} s_{3} + 2 p_{4} q_{2} q_{3} r_{2} r_{3} s_{1} s_{4} - p_{4} q_{2} q_{3} r_{2} r_{4} s_{1} s_{3} - p_{4} q_{2} q_{3} r_{3} r_{4} s_{1} s_{2} + p_{4} q_{2} q_{4} r_{1} r_{2} {\\left ( s_{3} \\right )}^{2} - p_{4} q_{2} q_{4} r_{1} r_{3} s_{2} s_{3} - p_{4} q_{2} q_{4} r_{2} r_{3} s_{1} s_{3} + p_{4} q_{2} q_{4} {\\left ( r_{3} \\right )}^{2} s_{1} s_{2} + p_{4} {\\left ( q_{3} \\right )}^{2} r_{1} r_{2} s_{2} s_{4} - p_{4} {\\left ( q_{3} \\right )}^{2} r_{1} r_{4} {\\left ( s_{2} \\right )}^{2} - p_{4} {\\left ( q_{3} \\right )}^{2} {\\left ( r_{2} \\right )}^{2} s_{1} s_{4} + p_{4} {\\left ( q_{3} \\right )}^{2} r_{2} r_{4} s_{1} s_{2} - p_{4} q_{3} q_{4} r_{1} r_{2} s_{2} s_{3} + p_{4} q_{3} q_{4} r_{1} r_{3} {\\left ( s_{2} \\right )}^{2} + p_{4} q_{3} q_{4} {\\left ( r_{2} \\right )}^{2} s_{1} s_{3} - p_{4} q_{3} q_{4} r_{2} r_{3} s_{1} s_{2}}{{\\left ( q_{1} \\right )}^{2} {\\left ( r_{2} \\right )}^{2} {\\left ( s_{3} \\right )}^{2} + {\\left ( q_{1} \\right )}^{2} {\\left ( r_{2} \\right )}^{2} {\\left ( s_{4} \\right )}^{2} - 2 {\\left ( q_{1} \\right )}^{2} r_{2} r_{3} s_{2} s_{3} - 2 {\\left ( q_{1} \\right )}^{2} r_{2} r_{4} s_{2} s_{4} + {\\left ( q_{1} \\right )}^{2} {\\left ( r_{3} \\right )}^{2} {\\left ( s_{2} \\right )}^{2} + {\\left ( q_{1} \\right )}^{2} {\\left ( r_{3} \\right )}^{2} {\\left ( s_{4} \\right )}^{2} - 2 {\\left ( q_{1} \\right )}^{2} r_{3} r_{4} s_{3} s_{4} + {\\left ( q_{1} \\right )}^{2} {\\left ( r_{4} \\right )}^{2} {\\left ( s_{2} \\right )}^{2} + {\\left ( q_{1} \\right )}^{2} {\\left ( r_{4} \\right )}^{2} {\\left ( s_{3} \\right )}^{2} - 2 q_{1} q_{2} r_{1} r_{2} {\\left ( s_{3} \\right )}^{2} - 2 q_{1} q_{2} r_{1} r_{2} {\\left ( s_{4} \\right )}^{2} + 2 q_{1} q_{2} r_{1} r_{3} s_{2} s_{3} + 2 q_{1} q_{2} r_{1} r_{4} s_{2} s_{4} + 2 q_{1} q_{2} r_{2} r_{3} s_{1} s_{3} + 2 q_{1} q_{2} r_{2} r_{4} s_{1} s_{4} - 2 q_{1} q_{2} {\\left ( r_{3} \\right )}^{2} s_{1} s_{2} - 2 q_{1} q_{2} {\\left ( r_{4} \\right )}^{2} s_{1} s_{2} + 2 q_{1} q_{3} r_{1} r_{2} s_{2} s_{3} - 2 q_{1} q_{3} r_{1} r_{3} {\\left ( s_{2} \\right )}^{2} - 2 q_{1} q_{3} r_{1} r_{3} {\\left ( s_{4} \\right )}^{2} + 2 q_{1} q_{3} r_{1} r_{4} s_{3} s_{4} - 2 q_{1} q_{3} {\\left ( r_{2} \\right )}^{2} s_{1} s_{3} + 2 q_{1} q_{3} r_{2} r_{3} s_{1} s_{2} + 2 q_{1} q_{3} r_{3} r_{4} s_{1} s_{4} - 2 q_{1} q_{3} {\\left ( r_{4} \\right )}^{2} s_{1} s_{3} + 2 q_{1} q_{4} r_{1} r_{2} s_{2} s_{4} + 2 q_{1} q_{4} r_{1} r_{3} s_{3} s_{4} - 2 q_{1} q_{4} r_{1} r_{4} {\\left ( s_{2} \\right )}^{2} - 2 q_{1} q_{4} r_{1} r_{4} {\\left ( s_{3} \\right )}^{2} - 2 q_{1} q_{4} {\\left ( r_{2} \\right )}^{2} s_{1} s_{4} + 2 q_{1} q_{4} r_{2} r_{4} s_{1} s_{2} - 2 q_{1} q_{4} {\\left ( r_{3} \\right )}^{2} s_{1} s_{4} + 2 q_{1} q_{4} r_{3} r_{4} s_{1} s_{3} + {\\left ( q_{2} \\right )}^{2} {\\left ( r_{1} \\right )}^{2} {\\left ( s_{3} \\right )}^{2} + {\\left ( q_{2} \\right )}^{2} {\\left ( r_{1} \\right )}^{2} {\\left ( s_{4} \\right )}^{2} - 2 {\\left ( q_{2} \\right )}^{2} r_{1} r_{3} s_{1} s_{3} - 2 {\\left ( q_{2} \\right )}^{2} r_{1} r_{4} s_{1} s_{4} + {\\left ( q_{2} \\right )}^{2} {\\left ( r_{3} \\right )}^{2} {\\left ( s_{1} \\right )}^{2} + {\\left ( q_{2} \\right )}^{2} {\\left ( r_{3} \\right )}^{2} {\\left ( s_{4} \\right )}^{2} - 2 {\\left ( q_{2} \\right )}^{2} r_{3} r_{4} s_{3} s_{4} + {\\left ( q_{2} \\right )}^{2} {\\left ( r_{4} \\right )}^{2} {\\left ( s_{1} \\right )}^{2} + {\\left ( q_{2} \\right )}^{2} {\\left ( r_{4} \\right )}^{2} {\\left ( s_{3} \\right )}^{2} - 2 q_{2} q_{3} {\\left ( r_{1} \\right )}^{2} s_{2} s_{3} + 2 q_{2} q_{3} r_{1} r_{2} s_{1} s_{3} + 2 q_{2} q_{3} r_{1} r_{3} s_{1} s_{2} - 2 q_{2} q_{3} r_{2} r_{3} {\\left ( s_{1} \\right )}^{2} - 2 q_{2} q_{3} r_{2} r_{3} {\\left ( s_{4} \\right )}^{2} + 2 q_{2} q_{3} r_{2} r_{4} s_{3} s_{4} + 2 q_{2} q_{3} r_{3} r_{4} s_{2} s_{4} - 2 q_{2} q_{3} {\\left ( r_{4} \\right )}^{2} s_{2} s_{3} - 2 q_{2} q_{4} {\\left ( r_{1} \\right )}^{2} s_{2} s_{4} + 2 q_{2} q_{4} r_{1} r_{2} s_{1} s_{4} + 2 q_{2} q_{4} r_{1} r_{4} s_{1} s_{2} + 2 q_{2} q_{4} r_{2} r_{3} s_{3} s_{4} - 2 q_{2} q_{4} r_{2} r_{4} {\\left ( s_{1} \\right )}^{2} - 2 q_{2} q_{4} r_{2} r_{4} {\\left ( s_{3} \\right )}^{2} - 2 q_{2} q_{4} {\\left ( r_{3} \\right )}^{2} s_{2} s_{4} + 2 q_{2} q_{4} r_{3} r_{4} s_{2} s_{3} + {\\left ( q_{3} \\right )}^{2} {\\left ( r_{1} \\right )}^{2} {\\left ( s_{2} \\right )}^{2} + {\\left ( q_{3} \\right )}^{2} {\\left ( r_{1} \\right )}^{2} {\\left ( s_{4} \\right )}^{2} - 2 {\\left ( q_{3} \\right )}^{2} r_{1} r_{2} s_{1} s_{2} - 2 {\\left ( q_{3} \\right )}^{2} r_{1} r_{4} s_{1} s_{4} + {\\left ( q_{3} \\right )}^{2} {\\left ( r_{2} \\right )}^{2} {\\left ( s_{1} \\right )}^{2} + {\\left ( q_{3} \\right )}^{2} {\\left ( r_{2} \\right )}^{2} {\\left ( s_{4} \\right )}^{2} - 2 {\\left ( q_{3} \\right )}^{2} r_{2} r_{4} s_{2} s_{4} + {\\left ( q_{3} \\right )}^{2} {\\left ( r_{4} \\right )}^{2} {\\left ( s_{1} \\right )}^{2} + {\\left ( q_{3} \\right )}^{2} {\\left ( r_{4} \\right )}^{2} {\\left ( s_{2} \\right )}^{2} - 2 q_{3} q_{4} {\\left ( r_{1} \\right )}^{2} s_{3} s_{4} + 2 q_{3} q_{4} r_{1} r_{3} s_{1} s_{4} + 2 q_{3} q_{4} r_{1} r_{4} s_{1} s_{3} - 2 q_{3} q_{4} {\\left ( r_{2} \\right )}^{2} s_{3} s_{4} + 2 q_{3} q_{4} r_{2} r_{3} s_{2} s_{4} + 2 q_{3} q_{4} r_{2} r_{4} s_{2} s_{3} - 2 q_{3} q_{4} r_{3} r_{4} {\\left ( s_{1} \\right )}^{2} - 2 q_{3} q_{4} r_{3} r_{4} {\\left ( s_{2} \\right )}^{2} + {\\left ( q_{4} \\right )}^{2} {\\left ( r_{1} \\right )}^{2} {\\left ( s_{2} \\right )}^{2} + {\\left ( q_{4} \\right )}^{2} {\\left ( r_{1} \\right )}^{2} {\\left ( s_{3} \\right )}^{2} - 2 {\\left ( q_{4} \\right )}^{2} r_{1} r_{2} s_{1} s_{2} - 2 {\\left ( q_{4} \\right )}^{2} r_{1} r_{3} s_{1} s_{3} + {\\left ( q_{4} \\right )}^{2} {\\left ( r_{2} \\right )}^{2} {\\left ( s_{1} \\right )}^{2} + {\\left ( q_{4} \\right )}^{2} {\\left ( r_{2} \\right )}^{2} {\\left ( s_{3} \\right )}^{2} - 2 {\\left ( q_{4} \\right )}^{2} r_{2} r_{3} s_{2} s_{3} + {\\left ( q_{4} \\right )}^{2} {\\left ( r_{3} \\right )}^{2} {\\left ( s_{1} \\right )}^{2} + {\\left ( q_{4} \\right )}^{2} {\\left ( r_{3} \\right )}^{2} {\\left ( s_{2} \\right )}^{2}} \\boldsymbol{e}_{1} \\\\  &  + \\frac{- p_{1} q_{1} q_{2} {\\left ( r_{3} \\right )}^{2} {\\left ( s_{4} \\right )}^{2} + 2 p_{1} q_{1} q_{2} r_{3} r_{4} s_{3} s_{4} - p_{1} q_{1} q_{2} {\\left ( r_{4} \\right )}^{2} {\\left ( s_{3} \\right )}^{2} + p_{1} q_{1} q_{3} r_{2} r_{3} {\\left ( s_{4} \\right )}^{2} - p_{1} q_{1} q_{3} r_{2} r_{4} s_{3} s_{4} - p_{1} q_{1} q_{3} r_{3} r_{4} s_{2} s_{4} + p_{1} q_{1} q_{3} {\\left ( r_{4} \\right )}^{2} s_{2} s_{3} - p_{1} q_{1} q_{4} r_{2} r_{3} s_{3} s_{4} + p_{1} q_{1} q_{4} r_{2} r_{4} {\\left ( s_{3} \\right )}^{2} + p_{1} q_{1} q_{4} {\\left ( r_{3} \\right )}^{2} s_{2} s_{4} - p_{1} q_{1} q_{4} r_{3} r_{4} s_{2} s_{3} + p_{1} q_{2} q_{3} r_{1} r_{3} {\\left ( s_{4} \\right )}^{2} - p_{1} q_{2} q_{3} r_{1} r_{4} s_{3} s_{4} - p_{1} q_{2} q_{3} r_{3} r_{4} s_{1} s_{4} + p_{1} q_{2} q_{3} {\\left ( r_{4} \\right )}^{2} s_{1} s_{3} - p_{1} q_{2} q_{4} r_{1} r_{3} s_{3} s_{4} + p_{1} q_{2} q_{4} r_{1} r_{4} {\\left ( s_{3} \\right )}^{2} + p_{1} q_{2} q_{4} {\\left ( r_{3} \\right )}^{2} s_{1} s_{4} - p_{1} q_{2} q_{4} r_{3} r_{4} s_{1} s_{3} - p_{1} {\\left ( q_{3} \\right )}^{2} r_{1} r_{2} {\\left ( s_{4} \\right )}^{2} + p_{1} {\\left ( q_{3} \\right )}^{2} r_{1} r_{4} s_{2} s_{4} + p_{1} {\\left ( q_{3} \\right )}^{2} r_{2} r_{4} s_{1} s_{4} - p_{1} {\\left ( q_{3} \\right )}^{2} {\\left ( r_{4} \\right )}^{2} s_{1} s_{2} + 2 p_{1} q_{3} q_{4} r_{1} r_{2} s_{3} s_{4} - p_{1} q_{3} q_{4} r_{1} r_{3} s_{2} s_{4} - p_{1} q_{3} q_{4} r_{1} r_{4} s_{2} s_{3} - p_{1} q_{3} q_{4} r_{2} r_{3} s_{1} s_{4} - p_{1} q_{3} q_{4} r_{2} r_{4} s_{1} s_{3} + 2 p_{1} q_{3} q_{4} r_{3} r_{4} s_{1} s_{2} - p_{1} {\\left ( q_{4} \\right )}^{2} r_{1} r_{2} {\\left ( s_{3} \\right )}^{2} + p_{1} {\\left ( q_{4} \\right )}^{2} r_{1} r_{3} s_{2} s_{3} + p_{1} {\\left ( q_{4} \\right )}^{2} r_{2} r_{3} s_{1} s_{3} - p_{1} {\\left ( q_{4} \\right )}^{2} {\\left ( r_{3} \\right )}^{2} s_{1} s_{2} + p_{2} {\\left ( q_{1} \\right )}^{2} {\\left ( r_{3} \\right )}^{2} {\\left ( s_{4} \\right )}^{2} - 2 p_{2} {\\left ( q_{1} \\right )}^{2} r_{3} r_{4} s_{3} s_{4} + p_{2} {\\left ( q_{1} \\right )}^{2} {\\left ( r_{4} \\right )}^{2} {\\left ( s_{3} \\right )}^{2} - 2 p_{2} q_{1} q_{3} r_{1} r_{3} {\\left ( s_{4} \\right )}^{2} + 2 p_{2} q_{1} q_{3} r_{1} r_{4} s_{3} s_{4} + 2 p_{2} q_{1} q_{3} r_{3} r_{4} s_{1} s_{4} - 2 p_{2} q_{1} q_{3} {\\left ( r_{4} \\right )}^{2} s_{1} s_{3} + 2 p_{2} q_{1} q_{4} r_{1} r_{3} s_{3} s_{4} - 2 p_{2} q_{1} q_{4} r_{1} r_{4} {\\left ( s_{3} \\right )}^{2} - 2 p_{2} q_{1} q_{4} {\\left ( r_{3} \\right )}^{2} s_{1} s_{4} + 2 p_{2} q_{1} q_{4} r_{3} r_{4} s_{1} s_{3} + p_{2} {\\left ( q_{3} \\right )}^{2} {\\left ( r_{1} \\right )}^{2} {\\left ( s_{4} \\right )}^{2} - 2 p_{2} {\\left ( q_{3} \\right )}^{2} r_{1} r_{4} s_{1} s_{4} + p_{2} {\\left ( q_{3} \\right )}^{2} {\\left ( r_{4} \\right )}^{2} {\\left ( s_{1} \\right )}^{2} - 2 p_{2} q_{3} q_{4} {\\left ( r_{1} \\right )}^{2} s_{3} s_{4} + 2 p_{2} q_{3} q_{4} r_{1} r_{3} s_{1} s_{4} + 2 p_{2} q_{3} q_{4} r_{1} r_{4} s_{1} s_{3} - 2 p_{2} q_{3} q_{4} r_{3} r_{4} {\\left ( s_{1} \\right )}^{2} + p_{2} {\\left ( q_{4} \\right )}^{2} {\\left ( r_{1} \\right )}^{2} {\\left ( s_{3} \\right )}^{2} - 2 p_{2} {\\left ( q_{4} \\right )}^{2} r_{1} r_{3} s_{1} s_{3} + p_{2} {\\left ( q_{4} \\right )}^{2} {\\left ( r_{3} \\right )}^{2} {\\left ( s_{1} \\right )}^{2} - p_{3} {\\left ( q_{1} \\right )}^{2} r_{2} r_{3} {\\left ( s_{4} \\right )}^{2} + p_{3} {\\left ( q_{1} \\right )}^{2} r_{2} r_{4} s_{3} s_{4} + p_{3} {\\left ( q_{1} \\right )}^{2} r_{3} r_{4} s_{2} s_{4} - p_{3} {\\left ( q_{1} \\right )}^{2} {\\left ( r_{4} \\right )}^{2} s_{2} s_{3} + p_{3} q_{1} q_{2} r_{1} r_{3} {\\left ( s_{4} \\right )}^{2} - p_{3} q_{1} q_{2} r_{1} r_{4} s_{3} s_{4} - p_{3} q_{1} q_{2} r_{3} r_{4} s_{1} s_{4} + p_{3} q_{1} q_{2} {\\left ( r_{4} \\right )}^{2} s_{1} s_{3} + p_{3} q_{1} q_{3} r_{1} r_{2} {\\left ( s_{4} \\right )}^{2} - p_{3} q_{1} q_{3} r_{1} r_{4} s_{2} s_{4} - p_{3} q_{1} q_{3} r_{2} r_{4} s_{1} s_{4} + p_{3} q_{1} q_{3} {\\left ( r_{4} \\right )}^{2} s_{1} s_{2} - p_{3} q_{1} q_{4} r_{1} r_{2} s_{3} s_{4} - p_{3} q_{1} q_{4} r_{1} r_{3} s_{2} s_{4} + 2 p_{3} q_{1} q_{4} r_{1} r_{4} s_{2} s_{3} + 2 p_{3} q_{1} q_{4} r_{2} r_{3} s_{1} s_{4} - p_{3} q_{1} q_{4} r_{2} r_{4} s_{1} s_{3} - p_{3} q_{1} q_{4} r_{3} r_{4} s_{1} s_{2} - p_{3} q_{2} q_{3} {\\left ( r_{1} \\right )}^{2} {\\left ( s_{4} \\right )}^{2} + 2 p_{3} q_{2} q_{3} r_{1} r_{4} s_{1} s_{4} - p_{3} q_{2} q_{3} {\\left ( r_{4} \\right )}^{2} {\\left ( s_{1} \\right )}^{2} + p_{3} q_{2} q_{4} {\\left ( r_{1} \\right )}^{2} s_{3} s_{4} - p_{3} q_{2} q_{4} r_{1} r_{3} s_{1} s_{4} - p_{3} q_{2} q_{4} r_{1} r_{4} s_{1} s_{3} + p_{3} q_{2} q_{4} r_{3} r_{4} {\\left ( s_{1} \\right )}^{2} + p_{3} q_{3} q_{4} {\\left ( r_{1} \\right )}^{2} s_{2} s_{4} - p_{3} q_{3} q_{4} r_{1} r_{2} s_{1} s_{4} - p_{3} q_{3} q_{4} r_{1} r_{4} s_{1} s_{2} + p_{3} q_{3} q_{4} r_{2} r_{4} {\\left ( s_{1} \\right )}^{2} - p_{3} {\\left ( q_{4} \\right )}^{2} {\\left ( r_{1} \\right )}^{2} s_{2} s_{3} + p_{3} {\\left ( q_{4} \\right )}^{2} r_{1} r_{2} s_{1} s_{3} + p_{3} {\\left ( q_{4} \\right )}^{2} r_{1} r_{3} s_{1} s_{2} - p_{3} {\\left ( q_{4} \\right )}^{2} r_{2} r_{3} {\\left ( s_{1} \\right )}^{2} + p_{4} {\\left ( q_{1} \\right )}^{2} r_{2} r_{3} s_{3} s_{4} - p_{4} {\\left ( q_{1} \\right )}^{2} r_{2} r_{4} {\\left ( s_{3} \\right )}^{2} - p_{4} {\\left ( q_{1} \\right )}^{2} {\\left ( r_{3} \\right )}^{2} s_{2} s_{4} + p_{4} {\\left ( q_{1} \\right )}^{2} r_{3} r_{4} s_{2} s_{3} - p_{4} q_{1} q_{2} r_{1} r_{3} s_{3} s_{4} + p_{4} q_{1} q_{2} r_{1} r_{4} {\\left ( s_{3} \\right )}^{2} + p_{4} q_{1} q_{2} {\\left ( r_{3} \\right )}^{2} s_{1} s_{4} - p_{4} q_{1} q_{2} r_{3} r_{4} s_{1} s_{3} - p_{4} q_{1} q_{3} r_{1} r_{2} s_{3} s_{4} + 2 p_{4} q_{1} q_{3} r_{1} r_{3} s_{2} s_{4} - p_{4} q_{1} q_{3} r_{1} r_{4} s_{2} s_{3} - p_{4} q_{1} q_{3} r_{2} r_{3} s_{1} s_{4} + 2 p_{4} q_{1} q_{3} r_{2} r_{4} s_{1} s_{3} - p_{4} q_{1} q_{3} r_{3} r_{4} s_{1} s_{2} + p_{4} q_{1} q_{4} r_{1} r_{2} {\\left ( s_{3} \\right )}^{2} - p_{4} q_{1} q_{4} r_{1} r_{3} s_{2} s_{3} - p_{4} q_{1} q_{4} r_{2} r_{3} s_{1} s_{3} + p_{4} q_{1} q_{4} {\\left ( r_{3} \\right )}^{2} s_{1} s_{2} + p_{4} q_{2} q_{3} {\\left ( r_{1} \\right )}^{2} s_{3} s_{4} - p_{4} q_{2} q_{3} r_{1} r_{3} s_{1} s_{4} - p_{4} q_{2} q_{3} r_{1} r_{4} s_{1} s_{3} + p_{4} q_{2} q_{3} r_{3} r_{4} {\\left ( s_{1} \\right )}^{2} - p_{4} q_{2} q_{4} {\\left ( r_{1} \\right )}^{2} {\\left ( s_{3} \\right )}^{2} + 2 p_{4} q_{2} q_{4} r_{1} r_{3} s_{1} s_{3} - p_{4} q_{2} q_{4} {\\left ( r_{3} \\right )}^{2} {\\left ( s_{1} \\right )}^{2} - p_{4} {\\left ( q_{3} \\right )}^{2} {\\left ( r_{1} \\right )}^{2} s_{2} s_{4} + p_{4} {\\left ( q_{3} \\right )}^{2} r_{1} r_{2} s_{1} s_{4} + p_{4} {\\left ( q_{3} \\right )}^{2} r_{1} r_{4} s_{1} s_{2} - p_{4} {\\left ( q_{3} \\right )}^{2} r_{2} r_{4} {\\left ( s_{1} \\right )}^{2} + p_{4} q_{3} q_{4} {\\left ( r_{1} \\right )}^{2} s_{2} s_{3} - p_{4} q_{3} q_{4} r_{1} r_{2} s_{1} s_{3} - p_{4} q_{3} q_{4} r_{1} r_{3} s_{1} s_{2} + p_{4} q_{3} q_{4} r_{2} r_{3} {\\left ( s_{1} \\right )}^{2}}{{\\left ( q_{1} \\right )}^{2} {\\left ( r_{2} \\right )}^{2} {\\left ( s_{3} \\right )}^{2} + {\\left ( q_{1} \\right )}^{2} {\\left ( r_{2} \\right )}^{2} {\\left ( s_{4} \\right )}^{2} - 2 {\\left ( q_{1} \\right )}^{2} r_{2} r_{3} s_{2} s_{3} - 2 {\\left ( q_{1} \\right )}^{2} r_{2} r_{4} s_{2} s_{4} + {\\left ( q_{1} \\right )}^{2} {\\left ( r_{3} \\right )}^{2} {\\left ( s_{2} \\right )}^{2} + {\\left ( q_{1} \\right )}^{2} {\\left ( r_{3} \\right )}^{2} {\\left ( s_{4} \\right )}^{2} - 2 {\\left ( q_{1} \\right )}^{2} r_{3} r_{4} s_{3} s_{4} + {\\left ( q_{1} \\right )}^{2} {\\left ( r_{4} \\right )}^{2} {\\left ( s_{2} \\right )}^{2} + {\\left ( q_{1} \\right )}^{2} {\\left ( r_{4} \\right )}^{2} {\\left ( s_{3} \\right )}^{2} - 2 q_{1} q_{2} r_{1} r_{2} {\\left ( s_{3} \\right )}^{2} - 2 q_{1} q_{2} r_{1} r_{2} {\\left ( s_{4} \\right )}^{2} + 2 q_{1} q_{2} r_{1} r_{3} s_{2} s_{3} + 2 q_{1} q_{2} r_{1} r_{4} s_{2} s_{4} + 2 q_{1} q_{2} r_{2} r_{3} s_{1} s_{3} + 2 q_{1} q_{2} r_{2} r_{4} s_{1} s_{4} - 2 q_{1} q_{2} {\\left ( r_{3} \\right )}^{2} s_{1} s_{2} - 2 q_{1} q_{2} {\\left ( r_{4} \\right )}^{2} s_{1} s_{2} + 2 q_{1} q_{3} r_{1} r_{2} s_{2} s_{3} - 2 q_{1} q_{3} r_{1} r_{3} {\\left ( s_{2} \\right )}^{2} - 2 q_{1} q_{3} r_{1} r_{3} {\\left ( s_{4} \\right )}^{2} + 2 q_{1} q_{3} r_{1} r_{4} s_{3} s_{4} - 2 q_{1} q_{3} {\\left ( r_{2} \\right )}^{2} s_{1} s_{3} + 2 q_{1} q_{3} r_{2} r_{3} s_{1} s_{2} + 2 q_{1} q_{3} r_{3} r_{4} s_{1} s_{4} - 2 q_{1} q_{3} {\\left ( r_{4} \\right )}^{2} s_{1} s_{3} + 2 q_{1} q_{4} r_{1} r_{2} s_{2} s_{4} + 2 q_{1} q_{4} r_{1} r_{3} s_{3} s_{4} - 2 q_{1} q_{4} r_{1} r_{4} {\\left ( s_{2} \\right )}^{2} - 2 q_{1} q_{4} r_{1} r_{4} {\\left ( s_{3} \\right )}^{2} - 2 q_{1} q_{4} {\\left ( r_{2} \\right )}^{2} s_{1} s_{4} + 2 q_{1} q_{4} r_{2} r_{4} s_{1} s_{2} - 2 q_{1} q_{4} {\\left ( r_{3} \\right )}^{2} s_{1} s_{4} + 2 q_{1} q_{4} r_{3} r_{4} s_{1} s_{3} + {\\left ( q_{2} \\right )}^{2} {\\left ( r_{1} \\right )}^{2} {\\left ( s_{3} \\right )}^{2} + {\\left ( q_{2} \\right )}^{2} {\\left ( r_{1} \\right )}^{2} {\\left ( s_{4} \\right )}^{2} - 2 {\\left ( q_{2} \\right )}^{2} r_{1} r_{3} s_{1} s_{3} - 2 {\\left ( q_{2} \\right )}^{2} r_{1} r_{4} s_{1} s_{4} + {\\left ( q_{2} \\right )}^{2} {\\left ( r_{3} \\right )}^{2} {\\left ( s_{1} \\right )}^{2} + {\\left ( q_{2} \\right )}^{2} {\\left ( r_{3} \\right )}^{2} {\\left ( s_{4} \\right )}^{2} - 2 {\\left ( q_{2} \\right )}^{2} r_{3} r_{4} s_{3} s_{4} + {\\left ( q_{2} \\right )}^{2} {\\left ( r_{4} \\right )}^{2} {\\left ( s_{1} \\right )}^{2} + {\\left ( q_{2} \\right )}^{2} {\\left ( r_{4} \\right )}^{2} {\\left ( s_{3} \\right )}^{2} - 2 q_{2} q_{3} {\\left ( r_{1} \\right )}^{2} s_{2} s_{3} + 2 q_{2} q_{3} r_{1} r_{2} s_{1} s_{3} + 2 q_{2} q_{3} r_{1} r_{3} s_{1} s_{2} - 2 q_{2} q_{3} r_{2} r_{3} {\\left ( s_{1} \\right )}^{2} - 2 q_{2} q_{3} r_{2} r_{3} {\\left ( s_{4} \\right )}^{2} + 2 q_{2} q_{3} r_{2} r_{4} s_{3} s_{4} + 2 q_{2} q_{3} r_{3} r_{4} s_{2} s_{4} - 2 q_{2} q_{3} {\\left ( r_{4} \\right )}^{2} s_{2} s_{3} - 2 q_{2} q_{4} {\\left ( r_{1} \\right )}^{2} s_{2} s_{4} + 2 q_{2} q_{4} r_{1} r_{2} s_{1} s_{4} + 2 q_{2} q_{4} r_{1} r_{4} s_{1} s_{2} + 2 q_{2} q_{4} r_{2} r_{3} s_{3} s_{4} - 2 q_{2} q_{4} r_{2} r_{4} {\\left ( s_{1} \\right )}^{2} - 2 q_{2} q_{4} r_{2} r_{4} {\\left ( s_{3} \\right )}^{2} - 2 q_{2} q_{4} {\\left ( r_{3} \\right )}^{2} s_{2} s_{4} + 2 q_{2} q_{4} r_{3} r_{4} s_{2} s_{3} + {\\left ( q_{3} \\right )}^{2} {\\left ( r_{1} \\right )}^{2} {\\left ( s_{2} \\right )}^{2} + {\\left ( q_{3} \\right )}^{2} {\\left ( r_{1} \\right )}^{2} {\\left ( s_{4} \\right )}^{2} - 2 {\\left ( q_{3} \\right )}^{2} r_{1} r_{2} s_{1} s_{2} - 2 {\\left ( q_{3} \\right )}^{2} r_{1} r_{4} s_{1} s_{4} + {\\left ( q_{3} \\right )}^{2} {\\left ( r_{2} \\right )}^{2} {\\left ( s_{1} \\right )}^{2} + {\\left ( q_{3} \\right )}^{2} {\\left ( r_{2} \\right )}^{2} {\\left ( s_{4} \\right )}^{2} - 2 {\\left ( q_{3} \\right )}^{2} r_{2} r_{4} s_{2} s_{4} + {\\left ( q_{3} \\right )}^{2} {\\left ( r_{4} \\right )}^{2} {\\left ( s_{1} \\right )}^{2} + {\\left ( q_{3} \\right )}^{2} {\\left ( r_{4} \\right )}^{2} {\\left ( s_{2} \\right )}^{2} - 2 q_{3} q_{4} {\\left ( r_{1} \\right )}^{2} s_{3} s_{4} + 2 q_{3} q_{4} r_{1} r_{3} s_{1} s_{4} + 2 q_{3} q_{4} r_{1} r_{4} s_{1} s_{3} - 2 q_{3} q_{4} {\\left ( r_{2} \\right )}^{2} s_{3} s_{4} + 2 q_{3} q_{4} r_{2} r_{3} s_{2} s_{4} + 2 q_{3} q_{4} r_{2} r_{4} s_{2} s_{3} - 2 q_{3} q_{4} r_{3} r_{4} {\\left ( s_{1} \\right )}^{2} - 2 q_{3} q_{4} r_{3} r_{4} {\\left ( s_{2} \\right )}^{2} + {\\left ( q_{4} \\right )}^{2} {\\left ( r_{1} \\right )}^{2} {\\left ( s_{2} \\right )}^{2} + {\\left ( q_{4} \\right )}^{2} {\\left ( r_{1} \\right )}^{2} {\\left ( s_{3} \\right )}^{2} - 2 {\\left ( q_{4} \\right )}^{2} r_{1} r_{2} s_{1} s_{2} - 2 {\\left ( q_{4} \\right )}^{2} r_{1} r_{3} s_{1} s_{3} + {\\left ( q_{4} \\right )}^{2} {\\left ( r_{2} \\right )}^{2} {\\left ( s_{1} \\right )}^{2} + {\\left ( q_{4} \\right )}^{2} {\\left ( r_{2} \\right )}^{2} {\\left ( s_{3} \\right )}^{2} - 2 {\\left ( q_{4} \\right )}^{2} r_{2} r_{3} s_{2} s_{3} + {\\left ( q_{4} \\right )}^{2} {\\left ( r_{3} \\right )}^{2} {\\left ( s_{1} \\right )}^{2} + {\\left ( q_{4} \\right )}^{2} {\\left ( r_{3} \\right )}^{2} {\\left ( s_{2} \\right )}^{2}} \\boldsymbol{e}_{2} \\\\  &  + \\frac{p_{1} q_{1} q_{2} r_{2} r_{3} {\\left ( s_{4} \\right )}^{2} - p_{1} q_{1} q_{2} r_{2} r_{4} s_{3} s_{4} - p_{1} q_{1} q_{2} r_{3} r_{4} s_{2} s_{4} + p_{1} q_{1} q_{2} {\\left ( r_{4} \\right )}^{2} s_{2} s_{3} - p_{1} q_{1} q_{3} {\\left ( r_{2} \\right )}^{2} {\\left ( s_{4} \\right )}^{2} + 2 p_{1} q_{1} q_{3} r_{2} r_{4} s_{2} s_{4} - p_{1} q_{1} q_{3} {\\left ( r_{4} \\right )}^{2} {\\left ( s_{2} \\right )}^{2} + p_{1} q_{1} q_{4} {\\left ( r_{2} \\right )}^{2} s_{3} s_{4} - p_{1} q_{1} q_{4} r_{2} r_{3} s_{2} s_{4} - p_{1} q_{1} q_{4} r_{2} r_{4} s_{2} s_{3} + p_{1} q_{1} q_{4} r_{3} r_{4} {\\left ( s_{2} \\right )}^{2} - p_{1} {\\left ( q_{2} \\right )}^{2} r_{1} r_{3} {\\left ( s_{4} \\right )}^{2} + p_{1} {\\left ( q_{2} \\right )}^{2} r_{1} r_{4} s_{3} s_{4} + p_{1} {\\left ( q_{2} \\right )}^{2} r_{3} r_{4} s_{1} s_{4} - p_{1} {\\left ( q_{2} \\right )}^{2} {\\left ( r_{4} \\right )}^{2} s_{1} s_{3} + p_{1} q_{2} q_{3} r_{1} r_{2} {\\left ( s_{4} \\right )}^{2} - p_{1} q_{2} q_{3} r_{1} r_{4} s_{2} s_{4} - p_{1} q_{2} q_{3} r_{2} r_{4} s_{1} s_{4} + p_{1} q_{2} q_{3} {\\left ( r_{4} \\right )}^{2} s_{1} s_{2} - p_{1} q_{2} q_{4} r_{1} r_{2} s_{3} s_{4} + 2 p_{1} q_{2} q_{4} r_{1} r_{3} s_{2} s_{4} - p_{1} q_{2} q_{4} r_{1} r_{4} s_{2} s_{3} - p_{1} q_{2} q_{4} r_{2} r_{3} s_{1} s_{4} + 2 p_{1} q_{2} q_{4} r_{2} r_{4} s_{1} s_{3} - p_{1} q_{2} q_{4} r_{3} r_{4} s_{1} s_{2} - p_{1} q_{3} q_{4} r_{1} r_{2} s_{2} s_{4} + p_{1} q_{3} q_{4} r_{1} r_{4} {\\left ( s_{2} \\right )}^{2} + p_{1} q_{3} q_{4} {\\left ( r_{2} \\right )}^{2} s_{1} s_{4} - p_{1} q_{3} q_{4} r_{2} r_{4} s_{1} s_{2} + p_{1} {\\left ( q_{4} \\right )}^{2} r_{1} r_{2} s_{2} s_{3} - p_{1} {\\left ( q_{4} \\right )}^{2} r_{1} r_{3} {\\left ( s_{2} \\right )}^{2} - p_{1} {\\left ( q_{4} \\right )}^{2} {\\left ( r_{2} \\right )}^{2} s_{1} s_{3} + p_{1} {\\left ( q_{4} \\right )}^{2} r_{2} r_{3} s_{1} s_{2} - p_{2} {\\left ( q_{1} \\right )}^{2} r_{2} r_{3} {\\left ( s_{4} \\right )}^{2} + p_{2} {\\left ( q_{1} \\right )}^{2} r_{2} r_{4} s_{3} s_{4} + p_{2} {\\left ( q_{1} \\right )}^{2} r_{3} r_{4} s_{2} s_{4} - p_{2} {\\left ( q_{1} \\right )}^{2} {\\left ( r_{4} \\right )}^{2} s_{2} s_{3} + p_{2} q_{1} q_{2} r_{1} r_{3} {\\left ( s_{4} \\right )}^{2} - p_{2} q_{1} q_{2} r_{1} r_{4} s_{3} s_{4} - p_{2} q_{1} q_{2} r_{3} r_{4} s_{1} s_{4} + p_{2} q_{1} q_{2} {\\left ( r_{4} \\right )}^{2} s_{1} s_{3} + p_{2} q_{1} q_{3} r_{1} r_{2} {\\left ( s_{4} \\right )}^{2} - p_{2} q_{1} q_{3} r_{1} r_{4} s_{2} s_{4} - p_{2} q_{1} q_{3} r_{2} r_{4} s_{1} s_{4} + p_{2} q_{1} q_{3} {\\left ( r_{4} \\right )}^{2} s_{1} s_{2} - p_{2} q_{1} q_{4} r_{1} r_{2} s_{3} s_{4} - p_{2} q_{1} q_{4} r_{1} r_{3} s_{2} s_{4} + 2 p_{2} q_{1} q_{4} r_{1} r_{4} s_{2} s_{3} + 2 p_{2} q_{1} q_{4} r_{2} r_{3} s_{1} s_{4} - p_{2} q_{1} q_{4} r_{2} r_{4} s_{1} s_{3} - p_{2} q_{1} q_{4} r_{3} r_{4} s_{1} s_{2} - p_{2} q_{2} q_{3} {\\left ( r_{1} \\right )}^{2} {\\left ( s_{4} \\right )}^{2} + 2 p_{2} q_{2} q_{3} r_{1} r_{4} s_{1} s_{4} - p_{2} q_{2} q_{3} {\\left ( r_{4} \\right )}^{2} {\\left ( s_{1} \\right )}^{2} + p_{2} q_{2} q_{4} {\\left ( r_{1} \\right )}^{2} s_{3} s_{4} - p_{2} q_{2} q_{4} r_{1} r_{3} s_{1} s_{4} - p_{2} q_{2} q_{4} r_{1} r_{4} s_{1} s_{3} + p_{2} q_{2} q_{4} r_{3} r_{4} {\\left ( s_{1} \\right )}^{2} + p_{2} q_{3} q_{4} {\\left ( r_{1} \\right )}^{2} s_{2} s_{4} - p_{2} q_{3} q_{4} r_{1} r_{2} s_{1} s_{4} - p_{2} q_{3} q_{4} r_{1} r_{4} s_{1} s_{2} + p_{2} q_{3} q_{4} r_{2} r_{4} {\\left ( s_{1} \\right )}^{2} - p_{2} {\\left ( q_{4} \\right )}^{2} {\\left ( r_{1} \\right )}^{2} s_{2} s_{3} + p_{2} {\\left ( q_{4} \\right )}^{2} r_{1} r_{2} s_{1} s_{3} + p_{2} {\\left ( q_{4} \\right )}^{2} r_{1} r_{3} s_{1} s_{2} - p_{2} {\\left ( q_{4} \\right )}^{2} r_{2} r_{3} {\\left ( s_{1} \\right )}^{2} + p_{3} {\\left ( q_{1} \\right )}^{2} {\\left ( r_{2} \\right )}^{2} {\\left ( s_{4} \\right )}^{2} - 2 p_{3} {\\left ( q_{1} \\right )}^{2} r_{2} r_{4} s_{2} s_{4} + p_{3} {\\left ( q_{1} \\right )}^{2} {\\left ( r_{4} \\right )}^{2} {\\left ( s_{2} \\right )}^{2} - 2 p_{3} q_{1} q_{2} r_{1} r_{2} {\\left ( s_{4} \\right )}^{2} + 2 p_{3} q_{1} q_{2} r_{1} r_{4} s_{2} s_{4} + 2 p_{3} q_{1} q_{2} r_{2} r_{4} s_{1} s_{4} - 2 p_{3} q_{1} q_{2} {\\left ( r_{4} \\right )}^{2} s_{1} s_{2} + 2 p_{3} q_{1} q_{4} r_{1} r_{2} s_{2} s_{4} - 2 p_{3} q_{1} q_{4} r_{1} r_{4} {\\left ( s_{2} \\right )}^{2} - 2 p_{3} q_{1} q_{4} {\\left ( r_{2} \\right )}^{2} s_{1} s_{4} + 2 p_{3} q_{1} q_{4} r_{2} r_{4} s_{1} s_{2} + p_{3} {\\left ( q_{2} \\right )}^{2} {\\left ( r_{1} \\right )}^{2} {\\left ( s_{4} \\right )}^{2} - 2 p_{3} {\\left ( q_{2} \\right )}^{2} r_{1} r_{4} s_{1} s_{4} + p_{3} {\\left ( q_{2} \\right )}^{2} {\\left ( r_{4} \\right )}^{2} {\\left ( s_{1} \\right )}^{2} - 2 p_{3} q_{2} q_{4} {\\left ( r_{1} \\right )}^{2} s_{2} s_{4} + 2 p_{3} q_{2} q_{4} r_{1} r_{2} s_{1} s_{4} + 2 p_{3} q_{2} q_{4} r_{1} r_{4} s_{1} s_{2} - 2 p_{3} q_{2} q_{4} r_{2} r_{4} {\\left ( s_{1} \\right )}^{2} + p_{3} {\\left ( q_{4} \\right )}^{2} {\\left ( r_{1} \\right )}^{2} {\\left ( s_{2} \\right )}^{2} - 2 p_{3} {\\left ( q_{4} \\right )}^{2} r_{1} r_{2} s_{1} s_{2} + p_{3} {\\left ( q_{4} \\right )}^{2} {\\left ( r_{2} \\right )}^{2} {\\left ( s_{1} \\right )}^{2} - p_{4} {\\left ( q_{1} \\right )}^{2} {\\left ( r_{2} \\right )}^{2} s_{3} s_{4} + p_{4} {\\left ( q_{1} \\right )}^{2} r_{2} r_{3} s_{2} s_{4} + p_{4} {\\left ( q_{1} \\right )}^{2} r_{2} r_{4} s_{2} s_{3} - p_{4} {\\left ( q_{1} \\right )}^{2} r_{3} r_{4} {\\left ( s_{2} \\right )}^{2} + 2 p_{4} q_{1} q_{2} r_{1} r_{2} s_{3} s_{4} - p_{4} q_{1} q_{2} r_{1} r_{3} s_{2} s_{4} - p_{4} q_{1} q_{2} r_{1} r_{4} s_{2} s_{3} - p_{4} q_{1} q_{2} r_{2} r_{3} s_{1} s_{4} - p_{4} q_{1} q_{2} r_{2} r_{4} s_{1} s_{3} + 2 p_{4} q_{1} q_{2} r_{3} r_{4} s_{1} s_{2} - p_{4} q_{1} q_{3} r_{1} r_{2} s_{2} s_{4} + p_{4} q_{1} q_{3} r_{1} r_{4} {\\left ( s_{2} \\right )}^{2} + p_{4} q_{1} q_{3} {\\left ( r_{2} \\right )}^{2} s_{1} s_{4} - p_{4} q_{1} q_{3} r_{2} r_{4} s_{1} s_{2} - p_{4} q_{1} q_{4} r_{1} r_{2} s_{2} s_{3} + p_{4} q_{1} q_{4} r_{1} r_{3} {\\left ( s_{2} \\right )}^{2} + p_{4} q_{1} q_{4} {\\left ( r_{2} \\right )}^{2} s_{1} s_{3} - p_{4} q_{1} q_{4} r_{2} r_{3} s_{1} s_{2} - p_{4} {\\left ( q_{2} \\right )}^{2} {\\left ( r_{1} \\right )}^{2} s_{3} s_{4} + p_{4} {\\left ( q_{2} \\right )}^{2} r_{1} r_{3} s_{1} s_{4} + p_{4} {\\left ( q_{2} \\right )}^{2} r_{1} r_{4} s_{1} s_{3} - p_{4} {\\left ( q_{2} \\right )}^{2} r_{3} r_{4} {\\left ( s_{1} \\right )}^{2} + p_{4} q_{2} q_{3} {\\left ( r_{1} \\right )}^{2} s_{2} s_{4} - p_{4} q_{2} q_{3} r_{1} r_{2} s_{1} s_{4} - p_{4} q_{2} q_{3} r_{1} r_{4} s_{1} s_{2} + p_{4} q_{2} q_{3} r_{2} r_{4} {\\left ( s_{1} \\right )}^{2} + p_{4} q_{2} q_{4} {\\left ( r_{1} \\right )}^{2} s_{2} s_{3} - p_{4} q_{2} q_{4} r_{1} r_{2} s_{1} s_{3} - p_{4} q_{2} q_{4} r_{1} r_{3} s_{1} s_{2} + p_{4} q_{2} q_{4} r_{2} r_{3} {\\left ( s_{1} \\right )}^{2} - p_{4} q_{3} q_{4} {\\left ( r_{1} \\right )}^{2} {\\left ( s_{2} \\right )}^{2} + 2 p_{4} q_{3} q_{4} r_{1} r_{2} s_{1} s_{2} - p_{4} q_{3} q_{4} {\\left ( r_{2} \\right )}^{2} {\\left ( s_{1} \\right )}^{2}}{{\\left ( q_{1} \\right )}^{2} {\\left ( r_{2} \\right )}^{2} {\\left ( s_{3} \\right )}^{2} + {\\left ( q_{1} \\right )}^{2} {\\left ( r_{2} \\right )}^{2} {\\left ( s_{4} \\right )}^{2} - 2 {\\left ( q_{1} \\right )}^{2} r_{2} r_{3} s_{2} s_{3} - 2 {\\left ( q_{1} \\right )}^{2} r_{2} r_{4} s_{2} s_{4} + {\\left ( q_{1} \\right )}^{2} {\\left ( r_{3} \\right )}^{2} {\\left ( s_{2} \\right )}^{2} + {\\left ( q_{1} \\right )}^{2} {\\left ( r_{3} \\right )}^{2} {\\left ( s_{4} \\right )}^{2} - 2 {\\left ( q_{1} \\right )}^{2} r_{3} r_{4} s_{3} s_{4} + {\\left ( q_{1} \\right )}^{2} {\\left ( r_{4} \\right )}^{2} {\\left ( s_{2} \\right )}^{2} + {\\left ( q_{1} \\right )}^{2} {\\left ( r_{4} \\right )}^{2} {\\left ( s_{3} \\right )}^{2} - 2 q_{1} q_{2} r_{1} r_{2} {\\left ( s_{3} \\right )}^{2} - 2 q_{1} q_{2} r_{1} r_{2} {\\left ( s_{4} \\right )}^{2} + 2 q_{1} q_{2} r_{1} r_{3} s_{2} s_{3} + 2 q_{1} q_{2} r_{1} r_{4} s_{2} s_{4} + 2 q_{1} q_{2} r_{2} r_{3} s_{1} s_{3} + 2 q_{1} q_{2} r_{2} r_{4} s_{1} s_{4} - 2 q_{1} q_{2} {\\left ( r_{3} \\right )}^{2} s_{1} s_{2} - 2 q_{1} q_{2} {\\left ( r_{4} \\right )}^{2} s_{1} s_{2} + 2 q_{1} q_{3} r_{1} r_{2} s_{2} s_{3} - 2 q_{1} q_{3} r_{1} r_{3} {\\left ( s_{2} \\right )}^{2} - 2 q_{1} q_{3} r_{1} r_{3} {\\left ( s_{4} \\right )}^{2} + 2 q_{1} q_{3} r_{1} r_{4} s_{3} s_{4} - 2 q_{1} q_{3} {\\left ( r_{2} \\right )}^{2} s_{1} s_{3} + 2 q_{1} q_{3} r_{2} r_{3} s_{1} s_{2} + 2 q_{1} q_{3} r_{3} r_{4} s_{1} s_{4} - 2 q_{1} q_{3} {\\left ( r_{4} \\right )}^{2} s_{1} s_{3} + 2 q_{1} q_{4} r_{1} r_{2} s_{2} s_{4} + 2 q_{1} q_{4} r_{1} r_{3} s_{3} s_{4} - 2 q_{1} q_{4} r_{1} r_{4} {\\left ( s_{2} \\right )}^{2} - 2 q_{1} q_{4} r_{1} r_{4} {\\left ( s_{3} \\right )}^{2} - 2 q_{1} q_{4} {\\left ( r_{2} \\right )}^{2} s_{1} s_{4} + 2 q_{1} q_{4} r_{2} r_{4} s_{1} s_{2} - 2 q_{1} q_{4} {\\left ( r_{3} \\right )}^{2} s_{1} s_{4} + 2 q_{1} q_{4} r_{3} r_{4} s_{1} s_{3} + {\\left ( q_{2} \\right )}^{2} {\\left ( r_{1} \\right )}^{2} {\\left ( s_{3} \\right )}^{2} + {\\left ( q_{2} \\right )}^{2} {\\left ( r_{1} \\right )}^{2} {\\left ( s_{4} \\right )}^{2} - 2 {\\left ( q_{2} \\right )}^{2} r_{1} r_{3} s_{1} s_{3} - 2 {\\left ( q_{2} \\right )}^{2} r_{1} r_{4} s_{1} s_{4} + {\\left ( q_{2} \\right )}^{2} {\\left ( r_{3} \\right )}^{2} {\\left ( s_{1} \\right )}^{2} + {\\left ( q_{2} \\right )}^{2} {\\left ( r_{3} \\right )}^{2} {\\left ( s_{4} \\right )}^{2} - 2 {\\left ( q_{2} \\right )}^{2} r_{3} r_{4} s_{3} s_{4} + {\\left ( q_{2} \\right )}^{2} {\\left ( r_{4} \\right )}^{2} {\\left ( s_{1} \\right )}^{2} + {\\left ( q_{2} \\right )}^{2} {\\left ( r_{4} \\right )}^{2} {\\left ( s_{3} \\right )}^{2} - 2 q_{2} q_{3} {\\left ( r_{1} \\right )}^{2} s_{2} s_{3} + 2 q_{2} q_{3} r_{1} r_{2} s_{1} s_{3} + 2 q_{2} q_{3} r_{1} r_{3} s_{1} s_{2} - 2 q_{2} q_{3} r_{2} r_{3} {\\left ( s_{1} \\right )}^{2} - 2 q_{2} q_{3} r_{2} r_{3} {\\left ( s_{4} \\right )}^{2} + 2 q_{2} q_{3} r_{2} r_{4} s_{3} s_{4} + 2 q_{2} q_{3} r_{3} r_{4} s_{2} s_{4} - 2 q_{2} q_{3} {\\left ( r_{4} \\right )}^{2} s_{2} s_{3} - 2 q_{2} q_{4} {\\left ( r_{1} \\right )}^{2} s_{2} s_{4} + 2 q_{2} q_{4} r_{1} r_{2} s_{1} s_{4} + 2 q_{2} q_{4} r_{1} r_{4} s_{1} s_{2} + 2 q_{2} q_{4} r_{2} r_{3} s_{3} s_{4} - 2 q_{2} q_{4} r_{2} r_{4} {\\left ( s_{1} \\right )}^{2} - 2 q_{2} q_{4} r_{2} r_{4} {\\left ( s_{3} \\right )}^{2} - 2 q_{2} q_{4} {\\left ( r_{3} \\right )}^{2} s_{2} s_{4} + 2 q_{2} q_{4} r_{3} r_{4} s_{2} s_{3} + {\\left ( q_{3} \\right )}^{2} {\\left ( r_{1} \\right )}^{2} {\\left ( s_{2} \\right )}^{2} + {\\left ( q_{3} \\right )}^{2} {\\left ( r_{1} \\right )}^{2} {\\left ( s_{4} \\right )}^{2} - 2 {\\left ( q_{3} \\right )}^{2} r_{1} r_{2} s_{1} s_{2} - 2 {\\left ( q_{3} \\right )}^{2} r_{1} r_{4} s_{1} s_{4} + {\\left ( q_{3} \\right )}^{2} {\\left ( r_{2} \\right )}^{2} {\\left ( s_{1} \\right )}^{2} + {\\left ( q_{3} \\right )}^{2} {\\left ( r_{2} \\right )}^{2} {\\left ( s_{4} \\right )}^{2} - 2 {\\left ( q_{3} \\right )}^{2} r_{2} r_{4} s_{2} s_{4} + {\\left ( q_{3} \\right )}^{2} {\\left ( r_{4} \\right )}^{2} {\\left ( s_{1} \\right )}^{2} + {\\left ( q_{3} \\right )}^{2} {\\left ( r_{4} \\right )}^{2} {\\left ( s_{2} \\right )}^{2} - 2 q_{3} q_{4} {\\left ( r_{1} \\right )}^{2} s_{3} s_{4} + 2 q_{3} q_{4} r_{1} r_{3} s_{1} s_{4} + 2 q_{3} q_{4} r_{1} r_{4} s_{1} s_{3} - 2 q_{3} q_{4} {\\left ( r_{2} \\right )}^{2} s_{3} s_{4} + 2 q_{3} q_{4} r_{2} r_{3} s_{2} s_{4} + 2 q_{3} q_{4} r_{2} r_{4} s_{2} s_{3} - 2 q_{3} q_{4} r_{3} r_{4} {\\left ( s_{1} \\right )}^{2} - 2 q_{3} q_{4} r_{3} r_{4} {\\left ( s_{2} \\right )}^{2} + {\\left ( q_{4} \\right )}^{2} {\\left ( r_{1} \\right )}^{2} {\\left ( s_{2} \\right )}^{2} + {\\left ( q_{4} \\right )}^{2} {\\left ( r_{1} \\right )}^{2} {\\left ( s_{3} \\right )}^{2} - 2 {\\left ( q_{4} \\right )}^{2} r_{1} r_{2} s_{1} s_{2} - 2 {\\left ( q_{4} \\right )}^{2} r_{1} r_{3} s_{1} s_{3} + {\\left ( q_{4} \\right )}^{2} {\\left ( r_{2} \\right )}^{2} {\\left ( s_{1} \\right )}^{2} + {\\left ( q_{4} \\right )}^{2} {\\left ( r_{2} \\right )}^{2} {\\left ( s_{3} \\right )}^{2} - 2 {\\left ( q_{4} \\right )}^{2} r_{2} r_{3} s_{2} s_{3} + {\\left ( q_{4} \\right )}^{2} {\\left ( r_{3} \\right )}^{2} {\\left ( s_{1} \\right )}^{2} + {\\left ( q_{4} \\right )}^{2} {\\left ( r_{3} \\right )}^{2} {\\left ( s_{2} \\right )}^{2}} \\boldsymbol{e}_{3} \\\\  &  + \\frac{- p_{1} q_{1} q_{2} r_{2} r_{3} s_{3} s_{4} + p_{1} q_{1} q_{2} r_{2} r_{4} {\\left ( s_{3} \\right )}^{2} + p_{1} q_{1} q_{2} {\\left ( r_{3} \\right )}^{2} s_{2} s_{4} - p_{1} q_{1} q_{2} r_{3} r_{4} s_{2} s_{3} + p_{1} q_{1} q_{3} {\\left ( r_{2} \\right )}^{2} s_{3} s_{4} - p_{1} q_{1} q_{3} r_{2} r_{3} s_{2} s_{4} - p_{1} q_{1} q_{3} r_{2} r_{4} s_{2} s_{3} + p_{1} q_{1} q_{3} r_{3} r_{4} {\\left ( s_{2} \\right )}^{2} - p_{1} q_{1} q_{4} {\\left ( r_{2} \\right )}^{2} {\\left ( s_{3} \\right )}^{2} + 2 p_{1} q_{1} q_{4} r_{2} r_{3} s_{2} s_{3} - p_{1} q_{1} q_{4} {\\left ( r_{3} \\right )}^{2} {\\left ( s_{2} \\right )}^{2} + p_{1} {\\left ( q_{2} \\right )}^{2} r_{1} r_{3} s_{3} s_{4} - p_{1} {\\left ( q_{2} \\right )}^{2} r_{1} r_{4} {\\left ( s_{3} \\right )}^{2} - p_{1} {\\left ( q_{2} \\right )}^{2} {\\left ( r_{3} \\right )}^{2} s_{1} s_{4} + p_{1} {\\left ( q_{2} \\right )}^{2} r_{3} r_{4} s_{1} s_{3} - p_{1} q_{2} q_{3} r_{1} r_{2} s_{3} s_{4} - p_{1} q_{2} q_{3} r_{1} r_{3} s_{2} s_{4} + 2 p_{1} q_{2} q_{3} r_{1} r_{4} s_{2} s_{3} + 2 p_{1} q_{2} q_{3} r_{2} r_{3} s_{1} s_{4} - p_{1} q_{2} q_{3} r_{2} r_{4} s_{1} s_{3} - p_{1} q_{2} q_{3} r_{3} r_{4} s_{1} s_{2} + p_{1} q_{2} q_{4} r_{1} r_{2} {\\left ( s_{3} \\right )}^{2} - p_{1} q_{2} q_{4} r_{1} r_{3} s_{2} s_{3} - p_{1} q_{2} q_{4} r_{2} r_{3} s_{1} s_{3} + p_{1} q_{2} q_{4} {\\left ( r_{3} \\right )}^{2} s_{1} s_{2} + p_{1} {\\left ( q_{3} \\right )}^{2} r_{1} r_{2} s_{2} s_{4} - p_{1} {\\left ( q_{3} \\right )}^{2} r_{1} r_{4} {\\left ( s_{2} \\right )}^{2} - p_{1} {\\left ( q_{3} \\right )}^{2} {\\left ( r_{2} \\right )}^{2} s_{1} s_{4} + p_{1} {\\left ( q_{3} \\right )}^{2} r_{2} r_{4} s_{1} s_{2} - p_{1} q_{3} q_{4} r_{1} r_{2} s_{2} s_{3} + p_{1} q_{3} q_{4} r_{1} r_{3} {\\left ( s_{2} \\right )}^{2} + p_{1} q_{3} q_{4} {\\left ( r_{2} \\right )}^{2} s_{1} s_{3} - p_{1} q_{3} q_{4} r_{2} r_{3} s_{1} s_{2} + p_{2} {\\left ( q_{1} \\right )}^{2} r_{2} r_{3} s_{3} s_{4} - p_{2} {\\left ( q_{1} \\right )}^{2} r_{2} r_{4} {\\left ( s_{3} \\right )}^{2} - p_{2} {\\left ( q_{1} \\right )}^{2} {\\left ( r_{3} \\right )}^{2} s_{2} s_{4} + p_{2} {\\left ( q_{1} \\right )}^{2} r_{3} r_{4} s_{2} s_{3} - p_{2} q_{1} q_{2} r_{1} r_{3} s_{3} s_{4} + p_{2} q_{1} q_{2} r_{1} r_{4} {\\left ( s_{3} \\right )}^{2} + p_{2} q_{1} q_{2} {\\left ( r_{3} \\right )}^{2} s_{1} s_{4} - p_{2} q_{1} q_{2} r_{3} r_{4} s_{1} s_{3} - p_{2} q_{1} q_{3} r_{1} r_{2} s_{3} s_{4} + 2 p_{2} q_{1} q_{3} r_{1} r_{3} s_{2} s_{4} - p_{2} q_{1} q_{3} r_{1} r_{4} s_{2} s_{3} - p_{2} q_{1} q_{3} r_{2} r_{3} s_{1} s_{4} + 2 p_{2} q_{1} q_{3} r_{2} r_{4} s_{1} s_{3} - p_{2} q_{1} q_{3} r_{3} r_{4} s_{1} s_{2} + p_{2} q_{1} q_{4} r_{1} r_{2} {\\left ( s_{3} \\right )}^{2} - p_{2} q_{1} q_{4} r_{1} r_{3} s_{2} s_{3} - p_{2} q_{1} q_{4} r_{2} r_{3} s_{1} s_{3} + p_{2} q_{1} q_{4} {\\left ( r_{3} \\right )}^{2} s_{1} s_{2} + p_{2} q_{2} q_{3} {\\left ( r_{1} \\right )}^{2} s_{3} s_{4} - p_{2} q_{2} q_{3} r_{1} r_{3} s_{1} s_{4} - p_{2} q_{2} q_{3} r_{1} r_{4} s_{1} s_{3} + p_{2} q_{2} q_{3} r_{3} r_{4} {\\left ( s_{1} \\right )}^{2} - p_{2} q_{2} q_{4} {\\left ( r_{1} \\right )}^{2} {\\left ( s_{3} \\right )}^{2} + 2 p_{2} q_{2} q_{4} r_{1} r_{3} s_{1} s_{3} - p_{2} q_{2} q_{4} {\\left ( r_{3} \\right )}^{2} {\\left ( s_{1} \\right )}^{2} - p_{2} {\\left ( q_{3} \\right )}^{2} {\\left ( r_{1} \\right )}^{2} s_{2} s_{4} + p_{2} {\\left ( q_{3} \\right )}^{2} r_{1} r_{2} s_{1} s_{4} + p_{2} {\\left ( q_{3} \\right )}^{2} r_{1} r_{4} s_{1} s_{2} - p_{2} {\\left ( q_{3} \\right )}^{2} r_{2} r_{4} {\\left ( s_{1} \\right )}^{2} + p_{2} q_{3} q_{4} {\\left ( r_{1} \\right )}^{2} s_{2} s_{3} - p_{2} q_{3} q_{4} r_{1} r_{2} s_{1} s_{3} - p_{2} q_{3} q_{4} r_{1} r_{3} s_{1} s_{2} + p_{2} q_{3} q_{4} r_{2} r_{3} {\\left ( s_{1} \\right )}^{2} - p_{3} {\\left ( q_{1} \\right )}^{2} {\\left ( r_{2} \\right )}^{2} s_{3} s_{4} + p_{3} {\\left ( q_{1} \\right )}^{2} r_{2} r_{3} s_{2} s_{4} + p_{3} {\\left ( q_{1} \\right )}^{2} r_{2} r_{4} s_{2} s_{3} - p_{3} {\\left ( q_{1} \\right )}^{2} r_{3} r_{4} {\\left ( s_{2} \\right )}^{2} + 2 p_{3} q_{1} q_{2} r_{1} r_{2} s_{3} s_{4} - p_{3} q_{1} q_{2} r_{1} r_{3} s_{2} s_{4} - p_{3} q_{1} q_{2} r_{1} r_{4} s_{2} s_{3} - p_{3} q_{1} q_{2} r_{2} r_{3} s_{1} s_{4} - p_{3} q_{1} q_{2} r_{2} r_{4} s_{1} s_{3} + 2 p_{3} q_{1} q_{2} r_{3} r_{4} s_{1} s_{2} - p_{3} q_{1} q_{3} r_{1} r_{2} s_{2} s_{4} + p_{3} q_{1} q_{3} r_{1} r_{4} {\\left ( s_{2} \\right )}^{2} + p_{3} q_{1} q_{3} {\\left ( r_{2} \\right )}^{2} s_{1} s_{4} - p_{3} q_{1} q_{3} r_{2} r_{4} s_{1} s_{2} - p_{3} q_{1} q_{4} r_{1} r_{2} s_{2} s_{3} + p_{3} q_{1} q_{4} r_{1} r_{3} {\\left ( s_{2} \\right )}^{2} + p_{3} q_{1} q_{4} {\\left ( r_{2} \\right )}^{2} s_{1} s_{3} - p_{3} q_{1} q_{4} r_{2} r_{3} s_{1} s_{2} - p_{3} {\\left ( q_{2} \\right )}^{2} {\\left ( r_{1} \\right )}^{2} s_{3} s_{4} + p_{3} {\\left ( q_{2} \\right )}^{2} r_{1} r_{3} s_{1} s_{4} + p_{3} {\\left ( q_{2} \\right )}^{2} r_{1} r_{4} s_{1} s_{3} - p_{3} {\\left ( q_{2} \\right )}^{2} r_{3} r_{4} {\\left ( s_{1} \\right )}^{2} + p_{3} q_{2} q_{3} {\\left ( r_{1} \\right )}^{2} s_{2} s_{4} - p_{3} q_{2} q_{3} r_{1} r_{2} s_{1} s_{4} - p_{3} q_{2} q_{3} r_{1} r_{4} s_{1} s_{2} + p_{3} q_{2} q_{3} r_{2} r_{4} {\\left ( s_{1} \\right )}^{2} + p_{3} q_{2} q_{4} {\\left ( r_{1} \\right )}^{2} s_{2} s_{3} - p_{3} q_{2} q_{4} r_{1} r_{2} s_{1} s_{3} - p_{3} q_{2} q_{4} r_{1} r_{3} s_{1} s_{2} + p_{3} q_{2} q_{4} r_{2} r_{3} {\\left ( s_{1} \\right )}^{2} - p_{3} q_{3} q_{4} {\\left ( r_{1} \\right )}^{2} {\\left ( s_{2} \\right )}^{2} + 2 p_{3} q_{3} q_{4} r_{1} r_{2} s_{1} s_{2} - p_{3} q_{3} q_{4} {\\left ( r_{2} \\right )}^{2} {\\left ( s_{1} \\right )}^{2} + p_{4} {\\left ( q_{1} \\right )}^{2} {\\left ( r_{2} \\right )}^{2} {\\left ( s_{3} \\right )}^{2} - 2 p_{4} {\\left ( q_{1} \\right )}^{2} r_{2} r_{3} s_{2} s_{3} + p_{4} {\\left ( q_{1} \\right )}^{2} {\\left ( r_{3} \\right )}^{2} {\\left ( s_{2} \\right )}^{2} - 2 p_{4} q_{1} q_{2} r_{1} r_{2} {\\left ( s_{3} \\right )}^{2} + 2 p_{4} q_{1} q_{2} r_{1} r_{3} s_{2} s_{3} + 2 p_{4} q_{1} q_{2} r_{2} r_{3} s_{1} s_{3} - 2 p_{4} q_{1} q_{2} {\\left ( r_{3} \\right )}^{2} s_{1} s_{2} + 2 p_{4} q_{1} q_{3} r_{1} r_{2} s_{2} s_{3} - 2 p_{4} q_{1} q_{3} r_{1} r_{3} {\\left ( s_{2} \\right )}^{2} - 2 p_{4} q_{1} q_{3} {\\left ( r_{2} \\right )}^{2} s_{1} s_{3} + 2 p_{4} q_{1} q_{3} r_{2} r_{3} s_{1} s_{2} + p_{4} {\\left ( q_{2} \\right )}^{2} {\\left ( r_{1} \\right )}^{2} {\\left ( s_{3} \\right )}^{2} - 2 p_{4} {\\left ( q_{2} \\right )}^{2} r_{1} r_{3} s_{1} s_{3} + p_{4} {\\left ( q_{2} \\right )}^{2} {\\left ( r_{3} \\right )}^{2} {\\left ( s_{1} \\right )}^{2} - 2 p_{4} q_{2} q_{3} {\\left ( r_{1} \\right )}^{2} s_{2} s_{3} + 2 p_{4} q_{2} q_{3} r_{1} r_{2} s_{1} s_{3} + 2 p_{4} q_{2} q_{3} r_{1} r_{3} s_{1} s_{2} - 2 p_{4} q_{2} q_{3} r_{2} r_{3} {\\left ( s_{1} \\right )}^{2} + p_{4} {\\left ( q_{3} \\right )}^{2} {\\left ( r_{1} \\right )}^{2} {\\left ( s_{2} \\right )}^{2} - 2 p_{4} {\\left ( q_{3} \\right )}^{2} r_{1} r_{2} s_{1} s_{2} + p_{4} {\\left ( q_{3} \\right )}^{2} {\\left ( r_{2} \\right )}^{2} {\\left ( s_{1} \\right )}^{2}}{{\\left ( q_{1} \\right )}^{2} {\\left ( r_{2} \\right )}^{2} {\\left ( s_{3} \\right )}^{2} + {\\left ( q_{1} \\right )}^{2} {\\left ( r_{2} \\right )}^{2} {\\left ( s_{4} \\right )}^{2} - 2 {\\left ( q_{1} \\right )}^{2} r_{2} r_{3} s_{2} s_{3} - 2 {\\left ( q_{1} \\right )}^{2} r_{2} r_{4} s_{2} s_{4} + {\\left ( q_{1} \\right )}^{2} {\\left ( r_{3} \\right )}^{2} {\\left ( s_{2} \\right )}^{2} + {\\left ( q_{1} \\right )}^{2} {\\left ( r_{3} \\right )}^{2} {\\left ( s_{4} \\right )}^{2} - 2 {\\left ( q_{1} \\right )}^{2} r_{3} r_{4} s_{3} s_{4} + {\\left ( q_{1} \\right )}^{2} {\\left ( r_{4} \\right )}^{2} {\\left ( s_{2} \\right )}^{2} + {\\left ( q_{1} \\right )}^{2} {\\left ( r_{4} \\right )}^{2} {\\left ( s_{3} \\right )}^{2} - 2 q_{1} q_{2} r_{1} r_{2} {\\left ( s_{3} \\right )}^{2} - 2 q_{1} q_{2} r_{1} r_{2} {\\left ( s_{4} \\right )}^{2} + 2 q_{1} q_{2} r_{1} r_{3} s_{2} s_{3} + 2 q_{1} q_{2} r_{1} r_{4} s_{2} s_{4} + 2 q_{1} q_{2} r_{2} r_{3} s_{1} s_{3} + 2 q_{1} q_{2} r_{2} r_{4} s_{1} s_{4} - 2 q_{1} q_{2} {\\left ( r_{3} \\right )}^{2} s_{1} s_{2} - 2 q_{1} q_{2} {\\left ( r_{4} \\right )}^{2} s_{1} s_{2} + 2 q_{1} q_{3} r_{1} r_{2} s_{2} s_{3} - 2 q_{1} q_{3} r_{1} r_{3} {\\left ( s_{2} \\right )}^{2} - 2 q_{1} q_{3} r_{1} r_{3} {\\left ( s_{4} \\right )}^{2} + 2 q_{1} q_{3} r_{1} r_{4} s_{3} s_{4} - 2 q_{1} q_{3} {\\left ( r_{2} \\right )}^{2} s_{1} s_{3} + 2 q_{1} q_{3} r_{2} r_{3} s_{1} s_{2} + 2 q_{1} q_{3} r_{3} r_{4} s_{1} s_{4} - 2 q_{1} q_{3} {\\left ( r_{4} \\right )}^{2} s_{1} s_{3} + 2 q_{1} q_{4} r_{1} r_{2} s_{2} s_{4} + 2 q_{1} q_{4} r_{1} r_{3} s_{3} s_{4} - 2 q_{1} q_{4} r_{1} r_{4} {\\left ( s_{2} \\right )}^{2} - 2 q_{1} q_{4} r_{1} r_{4} {\\left ( s_{3} \\right )}^{2} - 2 q_{1} q_{4} {\\left ( r_{2} \\right )}^{2} s_{1} s_{4} + 2 q_{1} q_{4} r_{2} r_{4} s_{1} s_{2} - 2 q_{1} q_{4} {\\left ( r_{3} \\right )}^{2} s_{1} s_{4} + 2 q_{1} q_{4} r_{3} r_{4} s_{1} s_{3} + {\\left ( q_{2} \\right )}^{2} {\\left ( r_{1} \\right )}^{2} {\\left ( s_{3} \\right )}^{2} + {\\left ( q_{2} \\right )}^{2} {\\left ( r_{1} \\right )}^{2} {\\left ( s_{4} \\right )}^{2} - 2 {\\left ( q_{2} \\right )}^{2} r_{1} r_{3} s_{1} s_{3} - 2 {\\left ( q_{2} \\right )}^{2} r_{1} r_{4} s_{1} s_{4} + {\\left ( q_{2} \\right )}^{2} {\\left ( r_{3} \\right )}^{2} {\\left ( s_{1} \\right )}^{2} + {\\left ( q_{2} \\right )}^{2} {\\left ( r_{3} \\right )}^{2} {\\left ( s_{4} \\right )}^{2} - 2 {\\left ( q_{2} \\right )}^{2} r_{3} r_{4} s_{3} s_{4} + {\\left ( q_{2} \\right )}^{2} {\\left ( r_{4} \\right )}^{2} {\\left ( s_{1} \\right )}^{2} + {\\left ( q_{2} \\right )}^{2} {\\left ( r_{4} \\right )}^{2} {\\left ( s_{3} \\right )}^{2} - 2 q_{2} q_{3} {\\left ( r_{1} \\right )}^{2} s_{2} s_{3} + 2 q_{2} q_{3} r_{1} r_{2} s_{1} s_{3} + 2 q_{2} q_{3} r_{1} r_{3} s_{1} s_{2} - 2 q_{2} q_{3} r_{2} r_{3} {\\left ( s_{1} \\right )}^{2} - 2 q_{2} q_{3} r_{2} r_{3} {\\left ( s_{4} \\right )}^{2} + 2 q_{2} q_{3} r_{2} r_{4} s_{3} s_{4} + 2 q_{2} q_{3} r_{3} r_{4} s_{2} s_{4} - 2 q_{2} q_{3} {\\left ( r_{4} \\right )}^{2} s_{2} s_{3} - 2 q_{2} q_{4} {\\left ( r_{1} \\right )}^{2} s_{2} s_{4} + 2 q_{2} q_{4} r_{1} r_{2} s_{1} s_{4} + 2 q_{2} q_{4} r_{1} r_{4} s_{1} s_{2} + 2 q_{2} q_{4} r_{2} r_{3} s_{3} s_{4} - 2 q_{2} q_{4} r_{2} r_{4} {\\left ( s_{1} \\right )}^{2} - 2 q_{2} q_{4} r_{2} r_{4} {\\left ( s_{3} \\right )}^{2} - 2 q_{2} q_{4} {\\left ( r_{3} \\right )}^{2} s_{2} s_{4} + 2 q_{2} q_{4} r_{3} r_{4} s_{2} s_{3} + {\\left ( q_{3} \\right )}^{2} {\\left ( r_{1} \\right )}^{2} {\\left ( s_{2} \\right )}^{2} + {\\left ( q_{3} \\right )}^{2} {\\left ( r_{1} \\right )}^{2} {\\left ( s_{4} \\right )}^{2} - 2 {\\left ( q_{3} \\right )}^{2} r_{1} r_{2} s_{1} s_{2} - 2 {\\left ( q_{3} \\right )}^{2} r_{1} r_{4} s_{1} s_{4} + {\\left ( q_{3} \\right )}^{2} {\\left ( r_{2} \\right )}^{2} {\\left ( s_{1} \\right )}^{2} + {\\left ( q_{3} \\right )}^{2} {\\left ( r_{2} \\right )}^{2} {\\left ( s_{4} \\right )}^{2} - 2 {\\left ( q_{3} \\right )}^{2} r_{2} r_{4} s_{2} s_{4} + {\\left ( q_{3} \\right )}^{2} {\\left ( r_{4} \\right )}^{2} {\\left ( s_{1} \\right )}^{2} + {\\left ( q_{3} \\right )}^{2} {\\left ( r_{4} \\right )}^{2} {\\left ( s_{2} \\right )}^{2} - 2 q_{3} q_{4} {\\left ( r_{1} \\right )}^{2} s_{3} s_{4} + 2 q_{3} q_{4} r_{1} r_{3} s_{1} s_{4} + 2 q_{3} q_{4} r_{1} r_{4} s_{1} s_{3} - 2 q_{3} q_{4} {\\left ( r_{2} \\right )}^{2} s_{3} s_{4} + 2 q_{3} q_{4} r_{2} r_{3} s_{2} s_{4} + 2 q_{3} q_{4} r_{2} r_{4} s_{2} s_{3} - 2 q_{3} q_{4} r_{3} r_{4} {\\left ( s_{1} \\right )}^{2} - 2 q_{3} q_{4} r_{3} r_{4} {\\left ( s_{2} \\right )}^{2} + {\\left ( q_{4} \\right )}^{2} {\\left ( r_{1} \\right )}^{2} {\\left ( s_{2} \\right )}^{2} + {\\left ( q_{4} \\right )}^{2} {\\left ( r_{1} \\right )}^{2} {\\left ( s_{3} \\right )}^{2} - 2 {\\left ( q_{4} \\right )}^{2} r_{1} r_{2} s_{1} s_{2} - 2 {\\left ( q_{4} \\right )}^{2} r_{1} r_{3} s_{1} s_{3} + {\\left ( q_{4} \\right )}^{2} {\\left ( r_{2} \\right )}^{2} {\\left ( s_{1} \\right )}^{2} + {\\left ( q_{4} \\right )}^{2} {\\left ( r_{2} \\right )}^{2} {\\left ( s_{3} \\right )}^{2} - 2 {\\left ( q_{4} \\right )}^{2} r_{2} r_{3} s_{2} s_{3} + {\\left ( q_{4} \\right )}^{2} {\\left ( r_{3} \\right )}^{2} {\\left ( s_{1} \\right )}^{2} + {\\left ( q_{4} \\right )}^{2} {\\left ( r_{3} \\right )}^{2} {\\left ( s_{2} \\right )}^{2}} \\boldsymbol{e}_{5}  \\end{aligned} \n",
       "  $$"
      ],
      "text/plain": [
       "<IPython.core.display.Latex object>"
      ]
     },
     "metadata": {},
     "output_type": "display_data"
    },
    {
     "data": {
      "text/latex": [
       "$$ \n",
       "  $$"
      ],
      "text/plain": [
       "<IPython.core.display.Latex object>"
      ]
     },
     "metadata": {},
     "output_type": "display_data"
    },
    {
     "data": {
      "text/latex": [
       "$$ X = \\left ( q_{1} r_{2} s_{3} t_{4} - q_{1} r_{2} s_{4} t_{3} - q_{1} r_{3} s_{2} t_{4} + q_{1} r_{3} s_{4} t_{2} + q_{1} r_{4} s_{2} t_{3} - q_{1} r_{4} s_{3} t_{2} - q_{2} r_{1} s_{3} t_{4} + q_{2} r_{1} s_{4} t_{3} + q_{2} r_{3} s_{1} t_{4} - q_{2} r_{3} s_{4} t_{1} - q_{2} r_{4} s_{1} t_{3} + q_{2} r_{4} s_{3} t_{1} + q_{3} r_{1} s_{2} t_{4} - q_{3} r_{1} s_{4} t_{2} - q_{3} r_{2} s_{1} t_{4} + q_{3} r_{2} s_{4} t_{1} + q_{3} r_{4} s_{1} t_{2} - q_{3} r_{4} s_{2} t_{1} - q_{4} r_{1} s_{2} t_{3} + q_{4} r_{1} s_{3} t_{2} + q_{4} r_{2} s_{1} t_{3} - q_{4} r_{2} s_{3} t_{1} - q_{4} r_{3} s_{1} t_{2} + q_{4} r_{3} s_{2} t_{1}\\right ) \\boldsymbol{e}_{0}\\wedge \\boldsymbol{e}_{1}\\wedge \\boldsymbol{e}_{2}\\wedge \\boldsymbol{e}_{3}\\wedge \\boldsymbol{e}_{5}  $$"
      ],
      "text/plain": [
       "<IPython.core.display.Latex object>"
      ]
     },
     "metadata": {},
     "output_type": "display_data"
    },
    {
     "data": {
      "text/latex": [
       "$$ \n",
       "  $$"
      ],
      "text/plain": [
       "<IPython.core.display.Latex object>"
      ]
     },
     "metadata": {},
     "output_type": "display_data"
    },
    {
     "data": {
      "text/latex": [
       "$$ M =  0   $$"
      ],
      "text/plain": [
       "<IPython.core.display.Latex object>"
      ]
     },
     "metadata": {},
     "output_type": "display_data"
    },
    {
     "data": {
      "text/latex": [
       "$$ \n",
       "  $$"
      ],
      "text/plain": [
       "<IPython.core.display.Latex object>"
      ]
     },
     "metadata": {},
     "output_type": "display_data"
    },
    {
     "data": {
      "text/latex": [
       "$$ d =  0   $$"
      ],
      "text/plain": [
       "<IPython.core.display.Latex object>"
      ]
     },
     "metadata": {},
     "output_type": "display_data"
    }
   ],
   "source": [
    "# We test available finite k-flats\n",
    "for k in range(1, GA.n):\n",
    "    A = reduce(Mv.__xor__, v[:k])\n",
    "    X = (p ^ A)\n",
    "    hline()\n",
    "    print('X =',X.Fmt(3))\n",
    "    #self.assertNotEquals(X, 0)\n",
    "    M = e_0_inv < (e_0 ^ X)\n",
    "    hline()\n",
    "    print('M =',M.Fmt(3))\n",
    "    # Very slow\n",
    "    d = (e_0_inv < (e_0 ^ X)) / (e_0_inv < X)\n",
    "    hline()\n",
    "    print('d =',d.Fmt(3))\n",
    "    #d_inv = d.inv()"
   ]
  },
  {
   "cell_type": "code",
   "execution_count": null,
   "metadata": {},
   "outputs": [],
   "source": []
  }
 ],
 "metadata": {
  "kernelspec": {
   "display_name": "Python 3",
   "language": "python",
   "name": "python3"
  },
  "language_info": {
   "codemirror_mode": {
    "name": "ipython",
    "version": 3
   },
   "file_extension": ".py",
   "mimetype": "text/x-python",
   "name": "python",
   "nbconvert_exporter": "python",
   "pygments_lexer": "ipython3",
   "version": "3.6.8"
  }
 },
 "nbformat": 4,
 "nbformat_minor": 4
}
