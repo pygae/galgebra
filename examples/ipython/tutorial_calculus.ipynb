{
 "cells": [
  {
   "cell_type": "markdown",
   "metadata": {},
   "source": [
    "# Geometric Calculus Tutorial"
   ]
  },
  {
   "cell_type": "code",
   "execution_count": 1,
   "metadata": {},
   "outputs": [
    {
     "data": {
      "text/latex": [
       "$$ \n",
       "\\DeclareMathOperator{\\Tr}{Tr}\n",
       "\\DeclareMathOperator{\\Adj}{Adj}\n",
       "\\newcommand{\\bfrac}[2]{\\displaystyle\\frac{#1}{#2}}\n",
       "\\newcommand{\\lp}{\\left (}\n",
       "\\newcommand{\\rp}{\\right )}\n",
       "\\newcommand{\\paren}[1]{\\lp {#1} \\rp}\n",
       "\\newcommand{\\half}{\\frac{1}{2}}\n",
       "\\newcommand{\\llt}{\\left <}\n",
       "\\newcommand{\\rgt}{\\right >}\n",
       "\\newcommand{\\abs}[1]{\\left |{#1}\\right | }\n",
       "\\newcommand{\\pdiff}[2]{\\bfrac{\\partial {#1}}{\\partial {#2}}}\n",
       "\\newcommand{\\npdiff}[3]{\\bfrac{\\partial^{#3} {#1}}{\\partial {#2}^{#3}}}\n",
       "\\newcommand{\\lbrc}{\\left \\{}\n",
       "\\newcommand{\\rbrc}{\\right \\}}\n",
       "\\newcommand{\\W}{\\wedge}\n",
       "\\newcommand{\\prm}[1]{{#1}'}\n",
       "\\newcommand{\\ddt}[1]{\\bfrac{d{#1}}{dt}}\n",
       "\\newcommand{\\R}{\\dagger}\n",
       "\\newcommand{\\deriv}[3]{\\bfrac{d^{#3}#1}{d{#2}^{#3}}}\n",
       "\\newcommand{\\grd}[1]{\\left < {#1} \\right >}\n",
       "\\newcommand{\\f}[2]{{#1}\\lp {#2} \\rp}\n",
       "\\newcommand{\\eval}[2]{\\left . {#1} \\right |_{#2}}\n",
       "\\newcommand{\\bs}[1]{\\boldsymbol{#1}}\n",
       "\\newcommand{\\es}[1]{\\boldsymbol{e}_{#1}}\n",
       "\\newcommand{\\eS}[1]{\\boldsymbol{e}^{#1}}\n",
       "\\newcommand{\\grade}[2]{\\left < {#1} \\right >_{#2}}\n",
       "\\newcommand{\\lc}{\\rfloor}\n",
       "\\newcommand{\\rc}{\\lfloor}\n",
       "\\newcommand{\\T}[1]{\\text{#1}}\n",
       "\\newcommand{\\lop}[1]{\\overleftarrow{#1}}\n",
       "\\newcommand{\\rop}[1]{\\overrightarrow{#1}}\n",
       "\\newcommand{\\ldot}{\\lfloor}\n",
       "\\newcommand{\\rdot}{\\rfloor}\n",
       "\n",
       "%MacDonald LaTeX macros\n",
       "\n",
       "\\newcommand   {\\thalf}    {\\textstyle \\frac{1}{2}}\n",
       "\\newcommand   {\\tthird}   {\\textstyle \\frac{1}{3}}\n",
       "\\newcommand   {\\tquarter} {\\textstyle \\frac{1}{4}}\n",
       "\\newcommand   {\\tsixth}   {\\textstyle \\frac{1}{6}}\n",
       "\n",
       "\\newcommand   {\\RE}       {\\mathbb{R}}\n",
       "\\newcommand   {\\GA}       {\\mathbb{G}}\n",
       "\\newcommand   {\\inner}    {\\mathbin{\\pmb{\\cdot}}}\n",
       "\\renewcommand {\\outer}    {\\mathbin{\\wedge}}\n",
       "\\newcommand   {\\cross}    {\\mathbin{\\times}}\n",
       "\\newcommand   {\\meet}     {\\mathbin{{\\,\\vee\\;}}}\n",
       "\\renewcommand {\\iff}              {\\Leftrightarrow}\n",
       "\\renewcommand {\\impliedby}{\\Leftarrow}\n",
       "\\renewcommand {\\implies}  {\\Rightarrow}\n",
       "\\newcommand   {\\perpc}    {\\perp}  % Orthogonal complement\n",
       "\\newcommand   {\\perpm}    {*}  % Dual of multivector\n",
       "\\newcommand   {\\del}      {\\mathbf{\\nabla}}  %{\\boldsymbol\\nabla\\!}\n",
       "\\newcommand   {\\mpart}[2]{\\left\\langle\\, #1 \\,\\right\\rangle_{#2}} % AMS has a \\part\n",
       "\\newcommand   {\\spart}[1]{\\mpart{#1}{0}}\n",
       "\\newcommand   {\\ds}       {\\displaystyle}\n",
       "\\newcommand   {\\os}       {\\overset}\n",
       "\\newcommand   {\\galgebra} {\\mbox{$\\mathcal{G\\!A}$\\hspace{.01in}lgebra}}\n",
       "\\newcommand   {\\latex}    {\\LaTeX}\n",
       " $$"
      ],
      "text/plain": [
       "<IPython.core.display.Latex object>"
      ]
     },
     "metadata": {},
     "output_type": "display_data"
    }
   ],
   "source": [
    "from sympy import symbols, sin, cos\n",
    "from ga import Ga\n",
    "from mv import Mv, Pdop, Sdop\n",
    "from printer import Format\n",
    "Format()"
   ]
  },
  {
   "cell_type": "markdown",
   "metadata": {},
   "source": [
    "### Differential Opperators\n",
    "\n",
    "This is a tutorial to introduce you to scalar and multivector differential operators in galgebra3 which is a symbolic geometric algebra library for python3.\n",
    "\n",
    "To start with we will define the geometric algebra of a 3 dimensional Euclidaen vector space, `o3d`, with coordinates x, y, and z and unit vectors ex, ey, and ez as defined in the code below.\n",
    "\n",
    "Additionally, when `o3d` is instanciated we can then define the basic partial derivative operators shown as `pDx`$= \\pdiff{}{x}$, `pDy`$= \\pdiff{}{y}$, and `pDz`$= \\pdiff{}{z}$ below.  Also defined is the gradient operator ($\\nabla$), `o3d.grad`$= \\es{x}\\pdiff{}{x}+\\es{y}\\pdiff{}{y}+\\es{z}\\pdiff{}{z}$.\n",
    "\n",
    "Note that when it comes to any kind of differential operators using parenthesis is essential.  Let `D` be a differential operator and `A` and `B` multivector functions.   The expression `D*(A*B)` is quite diffenent than `(D*A)*B`.  Theis is true even if `D` is a simple derivative.  In the first case we need to use the chain rule but not in the second case.  For later consideration note that $\\nabla (FG) \\neq (\\nabla F)G + F(\\nabla G)$ because the multivector parts of $\\nabla$ and $F$ do not commute.  Hestenes developed the \"dot\" notation to resolve this problem so that $\\nabla (FG) = \\nabla FG + \\dot{\\nabla}F\\dot{G}$.  The dot indicates that the partial derivatives in $\\nabla$ should be applied to $G$ but not $F$ while preserving the order of the geometric or other products (an equivalent to the dot notation has not yet been implemented in galgebra).\n",
    "\n",
    "### Scalar Differential Operators\n",
    "\n",
    "We start by illustrating the interoperability of `Pdop` and `Sdop` operators and scalar functions."
   ]
  },
  {
   "cell_type": "code",
   "execution_count": 2,
   "metadata": {
    "scrolled": true
   },
   "outputs": [
    {
     "data": {
      "text/latex": [
       "$$ \\begin{array}{c}\\hline \\T{Test arguments}  \\\\ \\hline \\end{array}  $$"
      ],
      "text/plain": [
       "<IPython.core.display.Latex object>"
      ]
     },
     "metadata": {},
     "output_type": "display_data"
    },
    {
     "data": {
      "text/latex": [
       "$$ \\T{Pdop =} {\\displaystyle\\frac{\\partial}{\\partial x}}  $$"
      ],
      "text/plain": [
       "<IPython.core.display.Latex object>"
      ]
     },
     "metadata": {},
     "output_type": "display_data"
    },
    {
     "data": {
      "text/latex": [
       "$$ \\T{Sdop =} {\\displaystyle\\frac{\\partial}{\\partial x}} + {\\displaystyle\\frac{\\partial}{\\partial y}} + {\\displaystyle\\frac{\\partial}{\\partial z}}  $$"
      ],
      "text/plain": [
       "<IPython.core.display.Latex object>"
      ]
     },
     "metadata": {},
     "output_type": "display_data"
    },
    {
     "data": {
      "text/latex": [
       "$$ \\T{f(x,y,z) =} x^{2} + y^{2} + z^{2}  $$"
      ],
      "text/plain": [
       "<IPython.core.display.Latex object>"
      ]
     },
     "metadata": {},
     "output_type": "display_data"
    },
    {
     "data": {
      "text/latex": [
       "$$ \\T{Dop =} \\boldsymbol{e}_{x}{\\displaystyle\\frac{\\partial}{\\partial x}}+\\boldsymbol{e}_{y}{\\displaystyle\\frac{\\partial}{\\partial y}}+\\boldsymbol{e}_{z}{\\displaystyle\\frac{\\partial}{\\partial z}}  $$"
      ],
      "text/plain": [
       "<IPython.core.display.Latex object>"
      ]
     },
     "metadata": {},
     "output_type": "display_data"
    },
    {
     "data": {
      "text/latex": [
       "$$ \\T{Mv =} x^{2}\\boldsymbol{e}_{x}+y^{2}\\boldsymbol{e}_{y}+z^{2}\\boldsymbol{e}_{z}  $$"
      ],
      "text/plain": [
       "<IPython.core.display.Latex object>"
      ]
     },
     "metadata": {},
     "output_type": "display_data"
    },
    {
     "data": {
      "text/latex": [
       "$$ \\begin{array}{c}\\hline \\T{Test + op}  \\\\ \\hline \\end{array}  $$"
      ],
      "text/plain": [
       "<IPython.core.display.Latex object>"
      ]
     },
     "metadata": {},
     "output_type": "display_data"
    },
    {
     "data": {
      "text/latex": [
       "$$ \\lp  {\\displaystyle\\frac{\\partial}{\\partial x}} \\rp + \\lp {\\displaystyle\\frac{\\partial}{\\partial x}} \\rp = 2{\\displaystyle\\frac{\\partial}{\\partial x}}  $$"
      ],
      "text/plain": [
       "<IPython.core.display.Latex object>"
      ]
     },
     "metadata": {},
     "output_type": "display_data"
    },
    {
     "data": {
      "text/latex": [
       "$$ \\lp  {\\displaystyle\\frac{\\partial}{\\partial x}} \\rp + \\lp {\\displaystyle\\frac{\\partial}{\\partial x}} + {\\displaystyle\\frac{\\partial}{\\partial y}} + {\\displaystyle\\frac{\\partial}{\\partial z}} \\rp = 2{\\displaystyle\\frac{\\partial}{\\partial x}} + {\\displaystyle\\frac{\\partial}{\\partial y}} + {\\displaystyle\\frac{\\partial}{\\partial z}}  $$"
      ],
      "text/plain": [
       "<IPython.core.display.Latex object>"
      ]
     },
     "metadata": {},
     "output_type": "display_data"
    },
    {
     "data": {
      "text/latex": [
       "$$ \\lp  {\\displaystyle\\frac{\\partial}{\\partial x}} \\rp + \\lp x^{2} + y^{2} + z^{2} \\rp = \\left ( x^{2} + y^{2} + z^{2}\\right )  + {\\displaystyle\\frac{\\partial}{\\partial x}}  $$"
      ],
      "text/plain": [
       "<IPython.core.display.Latex object>"
      ]
     },
     "metadata": {},
     "output_type": "display_data"
    },
    {
     "data": {
      "text/latex": [
       "$$ \\lp  {\\displaystyle\\frac{\\partial}{\\partial x}} \\rp + \\lp \\boldsymbol{e}_{x}{\\displaystyle\\frac{\\partial}{\\partial x}}+\\boldsymbol{e}_{y}{\\displaystyle\\frac{\\partial}{\\partial y}}+\\boldsymbol{e}_{z}{\\displaystyle\\frac{\\partial}{\\partial z}} \\rp = \\left ( 1+\\boldsymbol{e}_{x}\\right ) {\\displaystyle\\frac{\\partial}{\\partial x}}+\\boldsymbol{e}_{y}{\\displaystyle\\frac{\\partial}{\\partial y}}+\\boldsymbol{e}_{z}{\\displaystyle\\frac{\\partial}{\\partial z}}  $$"
      ],
      "text/plain": [
       "<IPython.core.display.Latex object>"
      ]
     },
     "metadata": {},
     "output_type": "display_data"
    },
    {
     "data": {
      "text/latex": [
       "$$ \\lp  {\\displaystyle\\frac{\\partial}{\\partial x}} \\rp + \\lp x^{2}\\boldsymbol{e}_{x}+y^{2}\\boldsymbol{e}_{y}+z^{2}\\boldsymbol{e}_{z} \\rp = \\left ( x^{2}\\boldsymbol{e}_{x}+y^{2}\\boldsymbol{e}_{y}+z^{2}\\boldsymbol{e}_{z}\\right )  + {\\displaystyle\\frac{\\partial}{\\partial x}}  $$"
      ],
      "text/plain": [
       "<IPython.core.display.Latex object>"
      ]
     },
     "metadata": {},
     "output_type": "display_data"
    },
    {
     "data": {
      "text/latex": [
       "$$ \\lp  {\\displaystyle\\frac{\\partial}{\\partial x}} + {\\displaystyle\\frac{\\partial}{\\partial y}} + {\\displaystyle\\frac{\\partial}{\\partial z}} \\rp + \\lp {\\displaystyle\\frac{\\partial}{\\partial x}} \\rp = 2{\\displaystyle\\frac{\\partial}{\\partial x}} + {\\displaystyle\\frac{\\partial}{\\partial y}} + {\\displaystyle\\frac{\\partial}{\\partial z}}  $$"
      ],
      "text/plain": [
       "<IPython.core.display.Latex object>"
      ]
     },
     "metadata": {},
     "output_type": "display_data"
    },
    {
     "data": {
      "text/latex": [
       "$$ \\lp  {\\displaystyle\\frac{\\partial}{\\partial x}} + {\\displaystyle\\frac{\\partial}{\\partial y}} + {\\displaystyle\\frac{\\partial}{\\partial z}} \\rp + \\lp {\\displaystyle\\frac{\\partial}{\\partial x}} + {\\displaystyle\\frac{\\partial}{\\partial y}} + {\\displaystyle\\frac{\\partial}{\\partial z}} \\rp = 2{\\displaystyle\\frac{\\partial}{\\partial x}}+2{\\displaystyle\\frac{\\partial}{\\partial y}}+2{\\displaystyle\\frac{\\partial}{\\partial z}}  $$"
      ],
      "text/plain": [
       "<IPython.core.display.Latex object>"
      ]
     },
     "metadata": {},
     "output_type": "display_data"
    },
    {
     "data": {
      "text/latex": [
       "$$ \\lp  {\\displaystyle\\frac{\\partial}{\\partial x}} + {\\displaystyle\\frac{\\partial}{\\partial y}} + {\\displaystyle\\frac{\\partial}{\\partial z}} \\rp + \\lp x^{2} + y^{2} + z^{2} \\rp = \\left ( x^{2} + y^{2} + z^{2}\\right )  + {\\displaystyle\\frac{\\partial}{\\partial x}} + {\\displaystyle\\frac{\\partial}{\\partial y}} + {\\displaystyle\\frac{\\partial}{\\partial z}}  $$"
      ],
      "text/plain": [
       "<IPython.core.display.Latex object>"
      ]
     },
     "metadata": {},
     "output_type": "display_data"
    },
    {
     "data": {
      "text/latex": [
       "$$ \\lp  {\\displaystyle\\frac{\\partial}{\\partial x}} + {\\displaystyle\\frac{\\partial}{\\partial y}} + {\\displaystyle\\frac{\\partial}{\\partial z}} \\rp + \\lp \\boldsymbol{e}_{x}{\\displaystyle\\frac{\\partial}{\\partial x}}+\\boldsymbol{e}_{y}{\\displaystyle\\frac{\\partial}{\\partial y}}+\\boldsymbol{e}_{z}{\\displaystyle\\frac{\\partial}{\\partial z}} \\rp = \\boldsymbol{e}_{x}{\\displaystyle\\frac{\\partial}{\\partial x}}+\\boldsymbol{e}_{y}{\\displaystyle\\frac{\\partial}{\\partial y}}+\\boldsymbol{e}_{z}{\\displaystyle\\frac{\\partial}{\\partial z}} + {\\displaystyle\\frac{\\partial}{\\partial x}} + {\\displaystyle\\frac{\\partial}{\\partial y}} + {\\displaystyle\\frac{\\partial}{\\partial z}}  $$"
      ],
      "text/plain": [
       "<IPython.core.display.Latex object>"
      ]
     },
     "metadata": {},
     "output_type": "display_data"
    },
    {
     "data": {
      "text/latex": [
       "$$ \\lp  {\\displaystyle\\frac{\\partial}{\\partial x}} + {\\displaystyle\\frac{\\partial}{\\partial y}} + {\\displaystyle\\frac{\\partial}{\\partial z}} \\rp + \\lp x^{2}\\boldsymbol{e}_{x}+y^{2}\\boldsymbol{e}_{y}+z^{2}\\boldsymbol{e}_{z} \\rp = \\left ( x^{2}\\boldsymbol{e}_{x}+y^{2}\\boldsymbol{e}_{y}+z^{2}\\boldsymbol{e}_{z}\\right )  + {\\displaystyle\\frac{\\partial}{\\partial x}} + {\\displaystyle\\frac{\\partial}{\\partial y}} + {\\displaystyle\\frac{\\partial}{\\partial z}}  $$"
      ],
      "text/plain": [
       "<IPython.core.display.Latex object>"
      ]
     },
     "metadata": {},
     "output_type": "display_data"
    },
    {
     "data": {
      "text/latex": [
       "$$ \\lp  x^{2} + y^{2} + z^{2} \\rp + \\lp {\\displaystyle\\frac{\\partial}{\\partial x}} \\rp = \\left ( x^{2} + y^{2} + z^{2}\\right )  + {\\displaystyle\\frac{\\partial}{\\partial x}}  $$"
      ],
      "text/plain": [
       "<IPython.core.display.Latex object>"
      ]
     },
     "metadata": {},
     "output_type": "display_data"
    },
    {
     "data": {
      "text/latex": [
       "$$ \\lp  x^{2} + y^{2} + z^{2} \\rp + \\lp {\\displaystyle\\frac{\\partial}{\\partial x}} + {\\displaystyle\\frac{\\partial}{\\partial y}} + {\\displaystyle\\frac{\\partial}{\\partial z}} \\rp = \\left ( x^{2} + y^{2} + z^{2}\\right )  + {\\displaystyle\\frac{\\partial}{\\partial x}} + {\\displaystyle\\frac{\\partial}{\\partial y}} + {\\displaystyle\\frac{\\partial}{\\partial z}}  $$"
      ],
      "text/plain": [
       "<IPython.core.display.Latex object>"
      ]
     },
     "metadata": {},
     "output_type": "display_data"
    },
    {
     "data": {
      "text/latex": [
       "$$ \\lp  x^{2} + y^{2} + z^{2} \\rp + \\lp x^{2} + y^{2} + z^{2} \\rp = 2 x^{2} + 2 y^{2} + 2 z^{2}  $$"
      ],
      "text/plain": [
       "<IPython.core.display.Latex object>"
      ]
     },
     "metadata": {},
     "output_type": "display_data"
    },
    {
     "data": {
      "text/latex": [
       "$$ \\lp  x^{2} + y^{2} + z^{2} \\rp + \\lp \\boldsymbol{e}_{x}{\\displaystyle\\frac{\\partial}{\\partial x}}+\\boldsymbol{e}_{y}{\\displaystyle\\frac{\\partial}{\\partial y}}+\\boldsymbol{e}_{z}{\\displaystyle\\frac{\\partial}{\\partial z}} \\rp = \\left ( x^{2} + y^{2} + z^{2}\\right ) +\\boldsymbol{e}_{x}{\\displaystyle\\frac{\\partial}{\\partial x}}+\\boldsymbol{e}_{y}{\\displaystyle\\frac{\\partial}{\\partial y}}+\\boldsymbol{e}_{z}{\\displaystyle\\frac{\\partial}{\\partial z}}  $$"
      ],
      "text/plain": [
       "<IPython.core.display.Latex object>"
      ]
     },
     "metadata": {},
     "output_type": "display_data"
    },
    {
     "data": {
      "text/latex": [
       "$$ \\lp  x^{2} + y^{2} + z^{2} \\rp + \\lp x^{2}\\boldsymbol{e}_{x}+y^{2}\\boldsymbol{e}_{y}+z^{2}\\boldsymbol{e}_{z} \\rp = x^{2} + y^{2} + z^{2}+x^{2}\\boldsymbol{e}_{x}+y^{2}\\boldsymbol{e}_{y}+z^{2}\\boldsymbol{e}_{z}  $$"
      ],
      "text/plain": [
       "<IPython.core.display.Latex object>"
      ]
     },
     "metadata": {},
     "output_type": "display_data"
    },
    {
     "data": {
      "text/latex": [
       "$$ \\lp  \\boldsymbol{e}_{x}{\\displaystyle\\frac{\\partial}{\\partial x}}+\\boldsymbol{e}_{y}{\\displaystyle\\frac{\\partial}{\\partial y}}+\\boldsymbol{e}_{z}{\\displaystyle\\frac{\\partial}{\\partial z}} \\rp + \\lp {\\displaystyle\\frac{\\partial}{\\partial x}} \\rp = \\left ( 1+\\boldsymbol{e}_{x}\\right ) {\\displaystyle\\frac{\\partial}{\\partial x}}+\\boldsymbol{e}_{y}{\\displaystyle\\frac{\\partial}{\\partial y}}+\\boldsymbol{e}_{z}{\\displaystyle\\frac{\\partial}{\\partial z}}  $$"
      ],
      "text/plain": [
       "<IPython.core.display.Latex object>"
      ]
     },
     "metadata": {},
     "output_type": "display_data"
    },
    {
     "data": {
      "text/latex": [
       "$$ \\lp  \\boldsymbol{e}_{x}{\\displaystyle\\frac{\\partial}{\\partial x}}+\\boldsymbol{e}_{y}{\\displaystyle\\frac{\\partial}{\\partial y}}+\\boldsymbol{e}_{z}{\\displaystyle\\frac{\\partial}{\\partial z}} \\rp + \\lp {\\displaystyle\\frac{\\partial}{\\partial x}} + {\\displaystyle\\frac{\\partial}{\\partial y}} + {\\displaystyle\\frac{\\partial}{\\partial z}} \\rp = \\left ( 1+\\boldsymbol{e}_{x}\\right ) {\\displaystyle\\frac{\\partial}{\\partial x}}+\\left ( 1+\\boldsymbol{e}_{y}\\right ) {\\displaystyle\\frac{\\partial}{\\partial y}}+\\left ( 1+\\boldsymbol{e}_{z}\\right ) {\\displaystyle\\frac{\\partial}{\\partial z}}  $$"
      ],
      "text/plain": [
       "<IPython.core.display.Latex object>"
      ]
     },
     "metadata": {},
     "output_type": "display_data"
    },
    {
     "data": {
      "text/latex": [
       "$$ \\lp  \\boldsymbol{e}_{x}{\\displaystyle\\frac{\\partial}{\\partial x}}+\\boldsymbol{e}_{y}{\\displaystyle\\frac{\\partial}{\\partial y}}+\\boldsymbol{e}_{z}{\\displaystyle\\frac{\\partial}{\\partial z}} \\rp + \\lp x^{2} + y^{2} + z^{2} \\rp = \\left ( x^{2} + y^{2} + z^{2}\\right ) +\\boldsymbol{e}_{x}{\\displaystyle\\frac{\\partial}{\\partial x}}+\\boldsymbol{e}_{y}{\\displaystyle\\frac{\\partial}{\\partial y}}+\\boldsymbol{e}_{z}{\\displaystyle\\frac{\\partial}{\\partial z}}  $$"
      ],
      "text/plain": [
       "<IPython.core.display.Latex object>"
      ]
     },
     "metadata": {},
     "output_type": "display_data"
    },
    {
     "data": {
      "text/latex": [
       "$$ \\lp  \\boldsymbol{e}_{x}{\\displaystyle\\frac{\\partial}{\\partial x}}+\\boldsymbol{e}_{y}{\\displaystyle\\frac{\\partial}{\\partial y}}+\\boldsymbol{e}_{z}{\\displaystyle\\frac{\\partial}{\\partial z}} \\rp + \\lp \\boldsymbol{e}_{x}{\\displaystyle\\frac{\\partial}{\\partial x}}+\\boldsymbol{e}_{y}{\\displaystyle\\frac{\\partial}{\\partial y}}+\\boldsymbol{e}_{z}{\\displaystyle\\frac{\\partial}{\\partial z}} \\rp = 2\\boldsymbol{e}_{x}{\\displaystyle\\frac{\\partial}{\\partial x}}+2\\boldsymbol{e}_{y}{\\displaystyle\\frac{\\partial}{\\partial y}}+2\\boldsymbol{e}_{z}{\\displaystyle\\frac{\\partial}{\\partial z}}  $$"
      ],
      "text/plain": [
       "<IPython.core.display.Latex object>"
      ]
     },
     "metadata": {},
     "output_type": "display_data"
    },
    {
     "data": {
      "text/latex": [
       "$$ \\lp  \\boldsymbol{e}_{x}{\\displaystyle\\frac{\\partial}{\\partial x}}+\\boldsymbol{e}_{y}{\\displaystyle\\frac{\\partial}{\\partial y}}+\\boldsymbol{e}_{z}{\\displaystyle\\frac{\\partial}{\\partial z}} \\rp + \\lp x^{2}\\boldsymbol{e}_{x}+y^{2}\\boldsymbol{e}_{y}+z^{2}\\boldsymbol{e}_{z} \\rp = \\left ( x^{2}\\boldsymbol{e}_{x}+y^{2}\\boldsymbol{e}_{y}+z^{2}\\boldsymbol{e}_{z}\\right ) +\\boldsymbol{e}_{x}{\\displaystyle\\frac{\\partial}{\\partial x}}+\\boldsymbol{e}_{y}{\\displaystyle\\frac{\\partial}{\\partial y}}+\\boldsymbol{e}_{z}{\\displaystyle\\frac{\\partial}{\\partial z}}  $$"
      ],
      "text/plain": [
       "<IPython.core.display.Latex object>"
      ]
     },
     "metadata": {},
     "output_type": "display_data"
    },
    {
     "data": {
      "text/latex": [
       "$$ \\lp  x^{2}\\boldsymbol{e}_{x}+y^{2}\\boldsymbol{e}_{y}+z^{2}\\boldsymbol{e}_{z} \\rp + \\lp {\\displaystyle\\frac{\\partial}{\\partial x}} \\rp = \\left ( x^{2}\\boldsymbol{e}_{x}+y^{2}\\boldsymbol{e}_{y}+z^{2}\\boldsymbol{e}_{z}\\right )  + {\\displaystyle\\frac{\\partial}{\\partial x}}  $$"
      ],
      "text/plain": [
       "<IPython.core.display.Latex object>"
      ]
     },
     "metadata": {},
     "output_type": "display_data"
    },
    {
     "data": {
      "text/latex": [
       "$$ \\lp  x^{2}\\boldsymbol{e}_{x}+y^{2}\\boldsymbol{e}_{y}+z^{2}\\boldsymbol{e}_{z} \\rp + \\lp {\\displaystyle\\frac{\\partial}{\\partial x}} + {\\displaystyle\\frac{\\partial}{\\partial y}} + {\\displaystyle\\frac{\\partial}{\\partial z}} \\rp = \\left ( x^{2}\\boldsymbol{e}_{x}+y^{2}\\boldsymbol{e}_{y}+z^{2}\\boldsymbol{e}_{z}\\right )  + {\\displaystyle\\frac{\\partial}{\\partial x}} + {\\displaystyle\\frac{\\partial}{\\partial y}} + {\\displaystyle\\frac{\\partial}{\\partial z}}  $$"
      ],
      "text/plain": [
       "<IPython.core.display.Latex object>"
      ]
     },
     "metadata": {},
     "output_type": "display_data"
    },
    {
     "data": {
      "text/latex": [
       "$$ \\lp  x^{2}\\boldsymbol{e}_{x}+y^{2}\\boldsymbol{e}_{y}+z^{2}\\boldsymbol{e}_{z} \\rp + \\lp x^{2} + y^{2} + z^{2} \\rp = x^{2} + y^{2} + z^{2}+x^{2}\\boldsymbol{e}_{x}+y^{2}\\boldsymbol{e}_{y}+z^{2}\\boldsymbol{e}_{z}  $$"
      ],
      "text/plain": [
       "<IPython.core.display.Latex object>"
      ]
     },
     "metadata": {},
     "output_type": "display_data"
    },
    {
     "data": {
      "text/latex": [
       "$$ \\lp  x^{2}\\boldsymbol{e}_{x}+y^{2}\\boldsymbol{e}_{y}+z^{2}\\boldsymbol{e}_{z} \\rp + \\lp \\boldsymbol{e}_{x}{\\displaystyle\\frac{\\partial}{\\partial x}}+\\boldsymbol{e}_{y}{\\displaystyle\\frac{\\partial}{\\partial y}}+\\boldsymbol{e}_{z}{\\displaystyle\\frac{\\partial}{\\partial z}} \\rp = \\left ( x^{2}\\boldsymbol{e}_{x}+y^{2}\\boldsymbol{e}_{y}+z^{2}\\boldsymbol{e}_{z}\\right ) +\\boldsymbol{e}_{x}{\\displaystyle\\frac{\\partial}{\\partial x}}+\\boldsymbol{e}_{y}{\\displaystyle\\frac{\\partial}{\\partial y}}+\\boldsymbol{e}_{z}{\\displaystyle\\frac{\\partial}{\\partial z}}  $$"
      ],
      "text/plain": [
       "<IPython.core.display.Latex object>"
      ]
     },
     "metadata": {},
     "output_type": "display_data"
    },
    {
     "data": {
      "text/latex": [
       "$$ \\lp  x^{2}\\boldsymbol{e}_{x}+y^{2}\\boldsymbol{e}_{y}+z^{2}\\boldsymbol{e}_{z} \\rp + \\lp x^{2}\\boldsymbol{e}_{x}+y^{2}\\boldsymbol{e}_{y}+z^{2}\\boldsymbol{e}_{z} \\rp = 2 x^{2}\\boldsymbol{e}_{x}+2 y^{2}\\boldsymbol{e}_{y}+2 z^{2}\\boldsymbol{e}_{z}  $$"
      ],
      "text/plain": [
       "<IPython.core.display.Latex object>"
      ]
     },
     "metadata": {},
     "output_type": "display_data"
    },
    {
     "data": {
      "text/latex": [
       "$$ \\begin{array}{c}\\hline \\T{Test - op}  \\\\ \\hline \\end{array}  $$"
      ],
      "text/plain": [
       "<IPython.core.display.Latex object>"
      ]
     },
     "metadata": {},
     "output_type": "display_data"
    },
    {
     "data": {
      "text/latex": [
       "$$ \\lp  {\\displaystyle\\frac{\\partial}{\\partial x}} \\rp - \\lp {\\displaystyle\\frac{\\partial}{\\partial x}} \\rp =  0  $$"
      ],
      "text/plain": [
       "<IPython.core.display.Latex object>"
      ]
     },
     "metadata": {},
     "output_type": "display_data"
    },
    {
     "data": {
      "text/latex": [
       "$$ \\lp  {\\displaystyle\\frac{\\partial}{\\partial x}} \\rp - \\lp {\\displaystyle\\frac{\\partial}{\\partial x}} + {\\displaystyle\\frac{\\partial}{\\partial y}} + {\\displaystyle\\frac{\\partial}{\\partial z}} \\rp =   - {\\displaystyle\\frac{\\partial}{\\partial y}} - {\\displaystyle\\frac{\\partial}{\\partial z}}  $$"
      ],
      "text/plain": [
       "<IPython.core.display.Latex object>"
      ]
     },
     "metadata": {},
     "output_type": "display_data"
    },
    {
     "data": {
      "text/latex": [
       "$$ \\lp  {\\displaystyle\\frac{\\partial}{\\partial x}} \\rp - \\lp x^{2} + y^{2} + z^{2} \\rp =  \\left ( x^{2} + y^{2} + z^{2}\\right )  + {\\displaystyle\\frac{\\partial}{\\partial x}}  $$"
      ],
      "text/plain": [
       "<IPython.core.display.Latex object>"
      ]
     },
     "metadata": {},
     "output_type": "display_data"
    },
    {
     "data": {
      "text/latex": [
       "$$ \\lp  {\\displaystyle\\frac{\\partial}{\\partial x}} \\rp - \\lp \\boldsymbol{e}_{x}{\\displaystyle\\frac{\\partial}{\\partial x}}+\\boldsymbol{e}_{y}{\\displaystyle\\frac{\\partial}{\\partial y}}+\\boldsymbol{e}_{z}{\\displaystyle\\frac{\\partial}{\\partial z}} \\rp =  \\left ( 1-\\boldsymbol{e}_{x}\\right ) {\\displaystyle\\frac{\\partial}{\\partial x}}-\\boldsymbol{e}_{y}{\\displaystyle\\frac{\\partial}{\\partial y}}-\\boldsymbol{e}_{z}{\\displaystyle\\frac{\\partial}{\\partial z}}  $$"
      ],
      "text/plain": [
       "<IPython.core.display.Latex object>"
      ]
     },
     "metadata": {},
     "output_type": "display_data"
    },
    {
     "data": {
      "text/latex": [
       "$$ \\lp  {\\displaystyle\\frac{\\partial}{\\partial x}} \\rp - \\lp x^{2}\\boldsymbol{e}_{x}+y^{2}\\boldsymbol{e}_{y}+z^{2}\\boldsymbol{e}_{z} \\rp =  \\left ( x^{2}\\boldsymbol{e}_{x}+y^{2}\\boldsymbol{e}_{y}+z^{2}\\boldsymbol{e}_{z}\\right )  + {\\displaystyle\\frac{\\partial}{\\partial x}}  $$"
      ],
      "text/plain": [
       "<IPython.core.display.Latex object>"
      ]
     },
     "metadata": {},
     "output_type": "display_data"
    },
    {
     "data": {
      "text/latex": [
       "$$ \\lp  {\\displaystyle\\frac{\\partial}{\\partial x}} + {\\displaystyle\\frac{\\partial}{\\partial y}} + {\\displaystyle\\frac{\\partial}{\\partial z}} \\rp - \\lp {\\displaystyle\\frac{\\partial}{\\partial x}} \\rp =  {\\displaystyle\\frac{\\partial}{\\partial y}} + {\\displaystyle\\frac{\\partial}{\\partial z}}  $$"
      ],
      "text/plain": [
       "<IPython.core.display.Latex object>"
      ]
     },
     "metadata": {},
     "output_type": "display_data"
    },
    {
     "data": {
      "text/latex": [
       "$$ \\lp  {\\displaystyle\\frac{\\partial}{\\partial x}} + {\\displaystyle\\frac{\\partial}{\\partial y}} + {\\displaystyle\\frac{\\partial}{\\partial z}} \\rp - \\lp {\\displaystyle\\frac{\\partial}{\\partial x}} + {\\displaystyle\\frac{\\partial}{\\partial y}} + {\\displaystyle\\frac{\\partial}{\\partial z}} \\rp =  0  $$"
      ],
      "text/plain": [
       "<IPython.core.display.Latex object>"
      ]
     },
     "metadata": {},
     "output_type": "display_data"
    },
    {
     "data": {
      "text/latex": [
       "$$ \\lp  {\\displaystyle\\frac{\\partial}{\\partial x}} + {\\displaystyle\\frac{\\partial}{\\partial y}} + {\\displaystyle\\frac{\\partial}{\\partial z}} \\rp - \\lp x^{2} + y^{2} + z^{2} \\rp =  \\left ( x^{2} + y^{2} + z^{2}\\right )  + {\\displaystyle\\frac{\\partial}{\\partial x}} + {\\displaystyle\\frac{\\partial}{\\partial y}} + {\\displaystyle\\frac{\\partial}{\\partial z}}  $$"
      ],
      "text/plain": [
       "<IPython.core.display.Latex object>"
      ]
     },
     "metadata": {},
     "output_type": "display_data"
    },
    {
     "data": {
      "text/latex": [
       "$$ \\lp  {\\displaystyle\\frac{\\partial}{\\partial x}} + {\\displaystyle\\frac{\\partial}{\\partial y}} + {\\displaystyle\\frac{\\partial}{\\partial z}} \\rp - \\lp \\boldsymbol{e}_{x}{\\displaystyle\\frac{\\partial}{\\partial x}}+\\boldsymbol{e}_{y}{\\displaystyle\\frac{\\partial}{\\partial y}}+\\boldsymbol{e}_{z}{\\displaystyle\\frac{\\partial}{\\partial z}} \\rp =  -\\boldsymbol{e}_{x}{\\displaystyle\\frac{\\partial}{\\partial x}}-\\boldsymbol{e}_{y}{\\displaystyle\\frac{\\partial}{\\partial y}}-\\boldsymbol{e}_{z}{\\displaystyle\\frac{\\partial}{\\partial z}} + {\\displaystyle\\frac{\\partial}{\\partial x}} + {\\displaystyle\\frac{\\partial}{\\partial y}} + {\\displaystyle\\frac{\\partial}{\\partial z}}  $$"
      ],
      "text/plain": [
       "<IPython.core.display.Latex object>"
      ]
     },
     "metadata": {},
     "output_type": "display_data"
    },
    {
     "data": {
      "text/latex": [
       "$$ \\lp  {\\displaystyle\\frac{\\partial}{\\partial x}} + {\\displaystyle\\frac{\\partial}{\\partial y}} + {\\displaystyle\\frac{\\partial}{\\partial z}} \\rp - \\lp x^{2}\\boldsymbol{e}_{x}+y^{2}\\boldsymbol{e}_{y}+z^{2}\\boldsymbol{e}_{z} \\rp =  \\left ( x^{2}\\boldsymbol{e}_{x}+y^{2}\\boldsymbol{e}_{y}+z^{2}\\boldsymbol{e}_{z}\\right )  + {\\displaystyle\\frac{\\partial}{\\partial x}} + {\\displaystyle\\frac{\\partial}{\\partial y}} + {\\displaystyle\\frac{\\partial}{\\partial z}}  $$"
      ],
      "text/plain": [
       "<IPython.core.display.Latex object>"
      ]
     },
     "metadata": {},
     "output_type": "display_data"
    },
    {
     "data": {
      "text/latex": [
       "$$ \\lp  x^{2} + y^{2} + z^{2} \\rp - \\lp {\\displaystyle\\frac{\\partial}{\\partial x}} \\rp =  \\left ( x^{2} + y^{2} + z^{2}\\right )  + {\\displaystyle\\frac{\\partial}{\\partial x}}  $$"
      ],
      "text/plain": [
       "<IPython.core.display.Latex object>"
      ]
     },
     "metadata": {},
     "output_type": "display_data"
    },
    {
     "data": {
      "text/latex": [
       "$$ \\lp  x^{2} + y^{2} + z^{2} \\rp - \\lp {\\displaystyle\\frac{\\partial}{\\partial x}} + {\\displaystyle\\frac{\\partial}{\\partial y}} + {\\displaystyle\\frac{\\partial}{\\partial z}} \\rp =  \\left ( x^{2} + y^{2} + z^{2}\\right )  - {\\displaystyle\\frac{\\partial}{\\partial x}} - {\\displaystyle\\frac{\\partial}{\\partial y}} - {\\displaystyle\\frac{\\partial}{\\partial z}}  $$"
      ],
      "text/plain": [
       "<IPython.core.display.Latex object>"
      ]
     },
     "metadata": {},
     "output_type": "display_data"
    },
    {
     "data": {
      "text/latex": [
       "$$ \\lp  x^{2} + y^{2} + z^{2} \\rp - \\lp x^{2} + y^{2} + z^{2} \\rp =  0  $$"
      ],
      "text/plain": [
       "<IPython.core.display.Latex object>"
      ]
     },
     "metadata": {},
     "output_type": "display_data"
    },
    {
     "data": {
      "text/latex": [
       "$$ \\lp  x^{2} + y^{2} + z^{2} \\rp - \\lp \\boldsymbol{e}_{x}{\\displaystyle\\frac{\\partial}{\\partial x}}+\\boldsymbol{e}_{y}{\\displaystyle\\frac{\\partial}{\\partial y}}+\\boldsymbol{e}_{z}{\\displaystyle\\frac{\\partial}{\\partial z}} \\rp =  \\left ( x^{2} + y^{2} + z^{2}\\right ) -\\boldsymbol{e}_{x}{\\displaystyle\\frac{\\partial}{\\partial x}}-\\boldsymbol{e}_{y}{\\displaystyle\\frac{\\partial}{\\partial y}}-\\boldsymbol{e}_{z}{\\displaystyle\\frac{\\partial}{\\partial z}}  $$"
      ],
      "text/plain": [
       "<IPython.core.display.Latex object>"
      ]
     },
     "metadata": {},
     "output_type": "display_data"
    },
    {
     "data": {
      "text/latex": [
       "$$ \\lp  x^{2} + y^{2} + z^{2} \\rp - \\lp x^{2}\\boldsymbol{e}_{x}+y^{2}\\boldsymbol{e}_{y}+z^{2}\\boldsymbol{e}_{z} \\rp =  x^{2} + y^{2} + z^{2}- x^{2}\\boldsymbol{e}_{x}- y^{2}\\boldsymbol{e}_{y}- z^{2}\\boldsymbol{e}_{z}  $$"
      ],
      "text/plain": [
       "<IPython.core.display.Latex object>"
      ]
     },
     "metadata": {},
     "output_type": "display_data"
    },
    {
     "data": {
      "text/latex": [
       "$$ \\lp  \\boldsymbol{e}_{x}{\\displaystyle\\frac{\\partial}{\\partial x}}+\\boldsymbol{e}_{y}{\\displaystyle\\frac{\\partial}{\\partial y}}+\\boldsymbol{e}_{z}{\\displaystyle\\frac{\\partial}{\\partial z}} \\rp - \\lp {\\displaystyle\\frac{\\partial}{\\partial x}} \\rp =  \\left ( 1-\\boldsymbol{e}_{x}\\right ) {\\displaystyle\\frac{\\partial}{\\partial x}}+\\boldsymbol{e}_{y}{\\displaystyle\\frac{\\partial}{\\partial y}}+\\boldsymbol{e}_{z}{\\displaystyle\\frac{\\partial}{\\partial z}}  $$"
      ],
      "text/plain": [
       "<IPython.core.display.Latex object>"
      ]
     },
     "metadata": {},
     "output_type": "display_data"
    },
    {
     "data": {
      "text/latex": [
       "$$ \\lp  \\boldsymbol{e}_{x}{\\displaystyle\\frac{\\partial}{\\partial x}}+\\boldsymbol{e}_{y}{\\displaystyle\\frac{\\partial}{\\partial y}}+\\boldsymbol{e}_{z}{\\displaystyle\\frac{\\partial}{\\partial z}} \\rp - \\lp {\\displaystyle\\frac{\\partial}{\\partial x}} + {\\displaystyle\\frac{\\partial}{\\partial y}} + {\\displaystyle\\frac{\\partial}{\\partial z}} \\rp =  \\left ( 1-\\boldsymbol{e}_{x}\\right ) {\\displaystyle\\frac{\\partial}{\\partial x}}-\\left ( 1-\\boldsymbol{e}_{y}\\right ) {\\displaystyle\\frac{\\partial}{\\partial y}}-\\left ( 1-\\boldsymbol{e}_{z}\\right ) {\\displaystyle\\frac{\\partial}{\\partial z}}  $$"
      ],
      "text/plain": [
       "<IPython.core.display.Latex object>"
      ]
     },
     "metadata": {},
     "output_type": "display_data"
    },
    {
     "data": {
      "text/latex": [
       "$$ \\lp  \\boldsymbol{e}_{x}{\\displaystyle\\frac{\\partial}{\\partial x}}+\\boldsymbol{e}_{y}{\\displaystyle\\frac{\\partial}{\\partial y}}+\\boldsymbol{e}_{z}{\\displaystyle\\frac{\\partial}{\\partial z}} \\rp - \\lp x^{2} + y^{2} + z^{2} \\rp =  \\left ( x^{2} + y^{2} + z^{2}\\right ) +\\boldsymbol{e}_{x}{\\displaystyle\\frac{\\partial}{\\partial x}}+\\boldsymbol{e}_{y}{\\displaystyle\\frac{\\partial}{\\partial y}}+\\boldsymbol{e}_{z}{\\displaystyle\\frac{\\partial}{\\partial z}}  $$"
      ],
      "text/plain": [
       "<IPython.core.display.Latex object>"
      ]
     },
     "metadata": {},
     "output_type": "display_data"
    },
    {
     "data": {
      "text/latex": [
       "$$ \\lp  \\boldsymbol{e}_{x}{\\displaystyle\\frac{\\partial}{\\partial x}}+\\boldsymbol{e}_{y}{\\displaystyle\\frac{\\partial}{\\partial y}}+\\boldsymbol{e}_{z}{\\displaystyle\\frac{\\partial}{\\partial z}} \\rp - \\lp \\boldsymbol{e}_{x}{\\displaystyle\\frac{\\partial}{\\partial x}}+\\boldsymbol{e}_{y}{\\displaystyle\\frac{\\partial}{\\partial y}}+\\boldsymbol{e}_{z}{\\displaystyle\\frac{\\partial}{\\partial z}} \\rp =  0  $$"
      ],
      "text/plain": [
       "<IPython.core.display.Latex object>"
      ]
     },
     "metadata": {},
     "output_type": "display_data"
    },
    {
     "data": {
      "text/latex": [
       "$$ \\lp  \\boldsymbol{e}_{x}{\\displaystyle\\frac{\\partial}{\\partial x}}+\\boldsymbol{e}_{y}{\\displaystyle\\frac{\\partial}{\\partial y}}+\\boldsymbol{e}_{z}{\\displaystyle\\frac{\\partial}{\\partial z}} \\rp - \\lp x^{2}\\boldsymbol{e}_{x}+y^{2}\\boldsymbol{e}_{y}+z^{2}\\boldsymbol{e}_{z} \\rp =  \\left ( x^{2}\\boldsymbol{e}_{x}+y^{2}\\boldsymbol{e}_{y}+z^{2}\\boldsymbol{e}_{z}\\right ) +\\boldsymbol{e}_{x}{\\displaystyle\\frac{\\partial}{\\partial x}}+\\boldsymbol{e}_{y}{\\displaystyle\\frac{\\partial}{\\partial y}}+\\boldsymbol{e}_{z}{\\displaystyle\\frac{\\partial}{\\partial z}}  $$"
      ],
      "text/plain": [
       "<IPython.core.display.Latex object>"
      ]
     },
     "metadata": {},
     "output_type": "display_data"
    },
    {
     "data": {
      "text/latex": [
       "$$ \\lp  x^{2}\\boldsymbol{e}_{x}+y^{2}\\boldsymbol{e}_{y}+z^{2}\\boldsymbol{e}_{z} \\rp - \\lp {\\displaystyle\\frac{\\partial}{\\partial x}} \\rp =  \\left ( x^{2}\\boldsymbol{e}_{x}+y^{2}\\boldsymbol{e}_{y}+z^{2}\\boldsymbol{e}_{z}\\right )  - {\\displaystyle\\frac{\\partial}{\\partial x}}  $$"
      ],
      "text/plain": [
       "<IPython.core.display.Latex object>"
      ]
     },
     "metadata": {},
     "output_type": "display_data"
    },
    {
     "data": {
      "text/latex": [
       "$$ \\lp  x^{2}\\boldsymbol{e}_{x}+y^{2}\\boldsymbol{e}_{y}+z^{2}\\boldsymbol{e}_{z} \\rp - \\lp {\\displaystyle\\frac{\\partial}{\\partial x}} + {\\displaystyle\\frac{\\partial}{\\partial y}} + {\\displaystyle\\frac{\\partial}{\\partial z}} \\rp =  \\left ( x^{2}\\boldsymbol{e}_{x}+y^{2}\\boldsymbol{e}_{y}+z^{2}\\boldsymbol{e}_{z}\\right )  - {\\displaystyle\\frac{\\partial}{\\partial x}} - {\\displaystyle\\frac{\\partial}{\\partial y}} - {\\displaystyle\\frac{\\partial}{\\partial z}}  $$"
      ],
      "text/plain": [
       "<IPython.core.display.Latex object>"
      ]
     },
     "metadata": {},
     "output_type": "display_data"
    },
    {
     "data": {
      "text/latex": [
       "$$ \\lp  x^{2}\\boldsymbol{e}_{x}+y^{2}\\boldsymbol{e}_{y}+z^{2}\\boldsymbol{e}_{z} \\rp - \\lp x^{2} + y^{2} + z^{2} \\rp =  - x^{2} - y^{2} - z^{2}+x^{2}\\boldsymbol{e}_{x}+y^{2}\\boldsymbol{e}_{y}+z^{2}\\boldsymbol{e}_{z}  $$"
      ],
      "text/plain": [
       "<IPython.core.display.Latex object>"
      ]
     },
     "metadata": {},
     "output_type": "display_data"
    },
    {
     "data": {
      "text/latex": [
       "$$ \\lp  x^{2}\\boldsymbol{e}_{x}+y^{2}\\boldsymbol{e}_{y}+z^{2}\\boldsymbol{e}_{z} \\rp - \\lp \\boldsymbol{e}_{x}{\\displaystyle\\frac{\\partial}{\\partial x}}+\\boldsymbol{e}_{y}{\\displaystyle\\frac{\\partial}{\\partial y}}+\\boldsymbol{e}_{z}{\\displaystyle\\frac{\\partial}{\\partial z}} \\rp =  \\left ( x^{2}\\boldsymbol{e}_{x}+y^{2}\\boldsymbol{e}_{y}+z^{2}\\boldsymbol{e}_{z}\\right ) -\\boldsymbol{e}_{x}{\\displaystyle\\frac{\\partial}{\\partial x}}-\\boldsymbol{e}_{y}{\\displaystyle\\frac{\\partial}{\\partial y}}-\\boldsymbol{e}_{z}{\\displaystyle\\frac{\\partial}{\\partial z}}  $$"
      ],
      "text/plain": [
       "<IPython.core.display.Latex object>"
      ]
     },
     "metadata": {},
     "output_type": "display_data"
    },
    {
     "data": {
      "text/latex": [
       "$$ \\lp  x^{2}\\boldsymbol{e}_{x}+y^{2}\\boldsymbol{e}_{y}+z^{2}\\boldsymbol{e}_{z} \\rp - \\lp x^{2}\\boldsymbol{e}_{x}+y^{2}\\boldsymbol{e}_{y}+z^{2}\\boldsymbol{e}_{z} \\rp =  0  $$"
      ],
      "text/plain": [
       "<IPython.core.display.Latex object>"
      ]
     },
     "metadata": {},
     "output_type": "display_data"
    },
    {
     "data": {
      "text/latex": [
       "$$ \\begin{array}{c}\\hline \\T{Test * op}  \\\\ \\hline \\end{array}  $$"
      ],
      "text/plain": [
       "<IPython.core.display.Latex object>"
      ]
     },
     "metadata": {},
     "output_type": "display_data"
    },
    {
     "data": {
      "text/latex": [
       "$$ \\lp  {\\displaystyle\\frac{\\partial}{\\partial x}} \\rp \\lp  {\\displaystyle\\frac{\\partial}{\\partial x}} \\rp = {\\displaystyle\\frac{\\partial^{2}}{\\partial x^{2}}}  $$"
      ],
      "text/plain": [
       "<IPython.core.display.Latex object>"
      ]
     },
     "metadata": {},
     "output_type": "display_data"
    },
    {
     "data": {
      "text/latex": [
       "$$ \\lp  {\\displaystyle\\frac{\\partial}{\\partial x}} \\rp \\lp  {\\displaystyle\\frac{\\partial}{\\partial x}} + {\\displaystyle\\frac{\\partial}{\\partial y}} + {\\displaystyle\\frac{\\partial}{\\partial z}} \\rp = {\\displaystyle\\frac{\\partial^{2}}{\\partial x\\partial y}} + {\\displaystyle\\frac{\\partial^{2}}{\\partial x\\partial z}} + {\\displaystyle\\frac{\\partial^{2}}{\\partial x^{2}}}  $$"
      ],
      "text/plain": [
       "<IPython.core.display.Latex object>"
      ]
     },
     "metadata": {},
     "output_type": "display_data"
    },
    {
     "data": {
      "text/latex": [
       "$$ \\lp  {\\displaystyle\\frac{\\partial}{\\partial x}} \\rp \\lp  x^{2} + y^{2} + z^{2} \\rp = 2 x  $$"
      ],
      "text/plain": [
       "<IPython.core.display.Latex object>"
      ]
     },
     "metadata": {},
     "output_type": "display_data"
    },
    {
     "data": {
      "text/latex": [
       "$$ \\lp  {\\displaystyle\\frac{\\partial}{\\partial x}} \\rp \\lp  \\boldsymbol{e}_{x}{\\displaystyle\\frac{\\partial}{\\partial x}}+\\boldsymbol{e}_{y}{\\displaystyle\\frac{\\partial}{\\partial y}}+\\boldsymbol{e}_{z}{\\displaystyle\\frac{\\partial}{\\partial z}} \\rp = \\boldsymbol{e}_{y}{\\displaystyle\\frac{\\partial^{2}}{\\partial x\\partial y}}+\\boldsymbol{e}_{z}{\\displaystyle\\frac{\\partial^{2}}{\\partial x\\partial z}}+\\boldsymbol{e}_{x}{\\displaystyle\\frac{\\partial^{2}}{\\partial x^{2}}}  $$"
      ],
      "text/plain": [
       "<IPython.core.display.Latex object>"
      ]
     },
     "metadata": {},
     "output_type": "display_data"
    },
    {
     "data": {
      "text/latex": [
       "$$ \\lp  {\\displaystyle\\frac{\\partial}{\\partial x}} \\rp \\lp  x^{2}\\boldsymbol{e}_{x}+y^{2}\\boldsymbol{e}_{y}+z^{2}\\boldsymbol{e}_{z} \\rp = 2 x\\boldsymbol{e}_{x}  $$"
      ],
      "text/plain": [
       "<IPython.core.display.Latex object>"
      ]
     },
     "metadata": {},
     "output_type": "display_data"
    },
    {
     "data": {
      "text/latex": [
       "$$ \\lp  {\\displaystyle\\frac{\\partial}{\\partial x}} + {\\displaystyle\\frac{\\partial}{\\partial y}} + {\\displaystyle\\frac{\\partial}{\\partial z}} \\rp \\lp  {\\displaystyle\\frac{\\partial}{\\partial x}} \\rp = {\\displaystyle\\frac{\\partial^{2}}{\\partial x\\partial y}} + {\\displaystyle\\frac{\\partial^{2}}{\\partial x\\partial z}} + {\\displaystyle\\frac{\\partial^{2}}{\\partial x^{2}}}  $$"
      ],
      "text/plain": [
       "<IPython.core.display.Latex object>"
      ]
     },
     "metadata": {},
     "output_type": "display_data"
    },
    {
     "data": {
      "text/latex": [
       "$$ \\lp  {\\displaystyle\\frac{\\partial}{\\partial x}} + {\\displaystyle\\frac{\\partial}{\\partial y}} + {\\displaystyle\\frac{\\partial}{\\partial z}} \\rp \\lp  {\\displaystyle\\frac{\\partial}{\\partial x}} + {\\displaystyle\\frac{\\partial}{\\partial y}} + {\\displaystyle\\frac{\\partial}{\\partial z}} \\rp = 2{\\displaystyle\\frac{\\partial^{2}}{\\partial x\\partial y}}+2{\\displaystyle\\frac{\\partial^{2}}{\\partial x\\partial z}}+2{\\displaystyle\\frac{\\partial^{2}}{\\partial y\\partial z}} + {\\displaystyle\\frac{\\partial^{2}}{\\partial x^{2}}} + {\\displaystyle\\frac{\\partial^{2}}{\\partial y^{2}}} + {\\displaystyle\\frac{\\partial^{2}}{\\partial z^{2}}}  $$"
      ],
      "text/plain": [
       "<IPython.core.display.Latex object>"
      ]
     },
     "metadata": {},
     "output_type": "display_data"
    },
    {
     "data": {
      "text/latex": [
       "$$ \\lp  {\\displaystyle\\frac{\\partial}{\\partial x}} + {\\displaystyle\\frac{\\partial}{\\partial y}} + {\\displaystyle\\frac{\\partial}{\\partial z}} \\rp \\lp  x^{2} + y^{2} + z^{2} \\rp = 2 x + 2 y + 2 z  $$"
      ],
      "text/plain": [
       "<IPython.core.display.Latex object>"
      ]
     },
     "metadata": {},
     "output_type": "display_data"
    },
    {
     "data": {
      "text/latex": [
       "$$ \\lp  {\\displaystyle\\frac{\\partial}{\\partial x}} + {\\displaystyle\\frac{\\partial}{\\partial y}} + {\\displaystyle\\frac{\\partial}{\\partial z}} \\rp \\lp  \\boldsymbol{e}_{x}{\\displaystyle\\frac{\\partial}{\\partial x}}+\\boldsymbol{e}_{y}{\\displaystyle\\frac{\\partial}{\\partial y}}+\\boldsymbol{e}_{z}{\\displaystyle\\frac{\\partial}{\\partial z}} \\rp = \\left ( \\boldsymbol{e}_{x}+\\boldsymbol{e}_{y}\\right ) {\\displaystyle\\frac{\\partial^{2}}{\\partial x\\partial y}}+\\left ( \\boldsymbol{e}_{x}+\\boldsymbol{e}_{z}\\right ) {\\displaystyle\\frac{\\partial^{2}}{\\partial x\\partial z}}+\\left ( \\boldsymbol{e}_{y}+\\boldsymbol{e}_{z}\\right ) {\\displaystyle\\frac{\\partial^{2}}{\\partial y\\partial z}}+\\boldsymbol{e}_{x}{\\displaystyle\\frac{\\partial^{2}}{\\partial x^{2}}}+\\boldsymbol{e}_{y}{\\displaystyle\\frac{\\partial^{2}}{\\partial y^{2}}}+\\boldsymbol{e}_{z}{\\displaystyle\\frac{\\partial^{2}}{\\partial z^{2}}}  $$"
      ],
      "text/plain": [
       "<IPython.core.display.Latex object>"
      ]
     },
     "metadata": {},
     "output_type": "display_data"
    },
    {
     "data": {
      "text/latex": [
       "$$ \\lp  {\\displaystyle\\frac{\\partial}{\\partial x}} + {\\displaystyle\\frac{\\partial}{\\partial y}} + {\\displaystyle\\frac{\\partial}{\\partial z}} \\rp \\lp  x^{2}\\boldsymbol{e}_{x}+y^{2}\\boldsymbol{e}_{y}+z^{2}\\boldsymbol{e}_{z} \\rp = 2 x\\boldsymbol{e}_{x}+2 y\\boldsymbol{e}_{y}+2 z\\boldsymbol{e}_{z}  $$"
      ],
      "text/plain": [
       "<IPython.core.display.Latex object>"
      ]
     },
     "metadata": {},
     "output_type": "display_data"
    },
    {
     "data": {
      "text/latex": [
       "$$ \\lp  x^{2} + y^{2} + z^{2} \\rp \\lp  {\\displaystyle\\frac{\\partial}{\\partial x}} \\rp = \\left ( x^{2} + y^{2} + z^{2}\\right ) {\\displaystyle\\frac{\\partial}{\\partial x}}  $$"
      ],
      "text/plain": [
       "<IPython.core.display.Latex object>"
      ]
     },
     "metadata": {},
     "output_type": "display_data"
    },
    {
     "data": {
      "text/latex": [
       "$$ \\lp  x^{2} + y^{2} + z^{2} \\rp \\lp  {\\displaystyle\\frac{\\partial}{\\partial x}} + {\\displaystyle\\frac{\\partial}{\\partial y}} + {\\displaystyle\\frac{\\partial}{\\partial z}} \\rp = \\left ( x^{2} + y^{2} + z^{2}\\right ) {\\displaystyle\\frac{\\partial}{\\partial x}}+\\left ( x^{2} + y^{2} + z^{2}\\right ) {\\displaystyle\\frac{\\partial}{\\partial y}}+\\left ( x^{2} + y^{2} + z^{2}\\right ) {\\displaystyle\\frac{\\partial}{\\partial z}}  $$"
      ],
      "text/plain": [
       "<IPython.core.display.Latex object>"
      ]
     },
     "metadata": {},
     "output_type": "display_data"
    },
    {
     "data": {
      "text/latex": [
       "$$ \\lp  x^{2} + y^{2} + z^{2} \\rp \\lp  x^{2} + y^{2} + z^{2} \\rp = \\left(x^{2} + y^{2} + z^{2}\\right)^{2}  $$"
      ],
      "text/plain": [
       "<IPython.core.display.Latex object>"
      ]
     },
     "metadata": {},
     "output_type": "display_data"
    },
    {
     "data": {
      "text/latex": [
       "$$ \\lp  x^{2} + y^{2} + z^{2} \\rp \\lp  \\boldsymbol{e}_{x}{\\displaystyle\\frac{\\partial}{\\partial x}}+\\boldsymbol{e}_{y}{\\displaystyle\\frac{\\partial}{\\partial y}}+\\boldsymbol{e}_{z}{\\displaystyle\\frac{\\partial}{\\partial z}} \\rp = \\left ( \\left (x^{2} + y^{2} + z^{2}\\right )\\boldsymbol{e}_{x}\\right ) {\\displaystyle\\frac{\\partial}{\\partial x}}+\\left ( \\left (x^{2} + y^{2} + z^{2}\\right )\\boldsymbol{e}_{y}\\right ) {\\displaystyle\\frac{\\partial}{\\partial y}}+\\left ( \\left (x^{2} + y^{2} + z^{2}\\right )\\boldsymbol{e}_{z}\\right ) {\\displaystyle\\frac{\\partial}{\\partial z}}  $$"
      ],
      "text/plain": [
       "<IPython.core.display.Latex object>"
      ]
     },
     "metadata": {},
     "output_type": "display_data"
    },
    {
     "data": {
      "text/latex": [
       "$$ \\lp  x^{2} + y^{2} + z^{2} \\rp \\lp  x^{2}\\boldsymbol{e}_{x}+y^{2}\\boldsymbol{e}_{y}+z^{2}\\boldsymbol{e}_{z} \\rp = \\left (x^{4} + x^{2} y^{2} + x^{2} z^{2}\\right )\\boldsymbol{e}_{x}+\\left (x^{2} y^{2} + y^{4} + y^{2} z^{2}\\right )\\boldsymbol{e}_{y}+\\left (x^{2} z^{2} + y^{2} z^{2} + z^{4}\\right )\\boldsymbol{e}_{z}  $$"
      ],
      "text/plain": [
       "<IPython.core.display.Latex object>"
      ]
     },
     "metadata": {},
     "output_type": "display_data"
    },
    {
     "data": {
      "text/latex": [
       "$$ \\lp  \\boldsymbol{e}_{x}{\\displaystyle\\frac{\\partial}{\\partial x}}+\\boldsymbol{e}_{y}{\\displaystyle\\frac{\\partial}{\\partial y}}+\\boldsymbol{e}_{z}{\\displaystyle\\frac{\\partial}{\\partial z}} \\rp \\lp  {\\displaystyle\\frac{\\partial}{\\partial x}} \\rp = \\boldsymbol{e}_{y}{\\displaystyle\\frac{\\partial^{2}}{\\partial x\\partial y}}+\\boldsymbol{e}_{z}{\\displaystyle\\frac{\\partial^{2}}{\\partial x\\partial z}}+\\boldsymbol{e}_{x}{\\displaystyle\\frac{\\partial^{2}}{\\partial x^{2}}}  $$"
      ],
      "text/plain": [
       "<IPython.core.display.Latex object>"
      ]
     },
     "metadata": {},
     "output_type": "display_data"
    },
    {
     "data": {
      "text/latex": [
       "$$ \\lp  \\boldsymbol{e}_{x}{\\displaystyle\\frac{\\partial}{\\partial x}}+\\boldsymbol{e}_{y}{\\displaystyle\\frac{\\partial}{\\partial y}}+\\boldsymbol{e}_{z}{\\displaystyle\\frac{\\partial}{\\partial z}} \\rp \\lp  {\\displaystyle\\frac{\\partial}{\\partial x}} + {\\displaystyle\\frac{\\partial}{\\partial y}} + {\\displaystyle\\frac{\\partial}{\\partial z}} \\rp = \\left ( \\boldsymbol{e}_{x}+\\boldsymbol{e}_{y}\\right ) {\\displaystyle\\frac{\\partial^{2}}{\\partial x\\partial y}}+\\left ( \\boldsymbol{e}_{x}+\\boldsymbol{e}_{z}\\right ) {\\displaystyle\\frac{\\partial^{2}}{\\partial x\\partial z}}+\\left ( \\boldsymbol{e}_{y}+\\boldsymbol{e}_{z}\\right ) {\\displaystyle\\frac{\\partial^{2}}{\\partial y\\partial z}}+\\boldsymbol{e}_{x}{\\displaystyle\\frac{\\partial^{2}}{\\partial x^{2}}}+\\boldsymbol{e}_{y}{\\displaystyle\\frac{\\partial^{2}}{\\partial y^{2}}}+\\boldsymbol{e}_{z}{\\displaystyle\\frac{\\partial^{2}}{\\partial z^{2}}}  $$"
      ],
      "text/plain": [
       "<IPython.core.display.Latex object>"
      ]
     },
     "metadata": {},
     "output_type": "display_data"
    },
    {
     "data": {
      "text/latex": [
       "$$ \\lp  \\boldsymbol{e}_{x}{\\displaystyle\\frac{\\partial}{\\partial x}}+\\boldsymbol{e}_{y}{\\displaystyle\\frac{\\partial}{\\partial y}}+\\boldsymbol{e}_{z}{\\displaystyle\\frac{\\partial}{\\partial z}} \\rp \\lp  x^{2} + y^{2} + z^{2} \\rp = 2 x\\boldsymbol{e}_{x}+2 y\\boldsymbol{e}_{y}+2 z\\boldsymbol{e}_{z}  $$"
      ],
      "text/plain": [
       "<IPython.core.display.Latex object>"
      ]
     },
     "metadata": {},
     "output_type": "display_data"
    },
    {
     "data": {
      "text/latex": [
       "$$ \\lp  \\boldsymbol{e}_{x}{\\displaystyle\\frac{\\partial}{\\partial x}}+\\boldsymbol{e}_{y}{\\displaystyle\\frac{\\partial}{\\partial y}}+\\boldsymbol{e}_{z}{\\displaystyle\\frac{\\partial}{\\partial z}} \\rp \\lp  \\boldsymbol{e}_{x}{\\displaystyle\\frac{\\partial}{\\partial x}}+\\boldsymbol{e}_{y}{\\displaystyle\\frac{\\partial}{\\partial y}}+\\boldsymbol{e}_{z}{\\displaystyle\\frac{\\partial}{\\partial z}} \\rp = {\\displaystyle\\frac{\\partial^{2}}{\\partial x^{2}}} + {\\displaystyle\\frac{\\partial^{2}}{\\partial y^{2}}} + {\\displaystyle\\frac{\\partial^{2}}{\\partial z^{2}}}  $$"
      ],
      "text/plain": [
       "<IPython.core.display.Latex object>"
      ]
     },
     "metadata": {},
     "output_type": "display_data"
    },
    {
     "data": {
      "text/latex": [
       "$$ \\lp  \\boldsymbol{e}_{x}{\\displaystyle\\frac{\\partial}{\\partial x}}+\\boldsymbol{e}_{y}{\\displaystyle\\frac{\\partial}{\\partial y}}+\\boldsymbol{e}_{z}{\\displaystyle\\frac{\\partial}{\\partial z}} \\rp \\lp  x^{2}\\boldsymbol{e}_{x}+y^{2}\\boldsymbol{e}_{y}+z^{2}\\boldsymbol{e}_{z} \\rp = 2 x + 2 y + 2 z  $$"
      ],
      "text/plain": [
       "<IPython.core.display.Latex object>"
      ]
     },
     "metadata": {},
     "output_type": "display_data"
    },
    {
     "data": {
      "text/latex": [
       "$$ \\lp  x^{2}\\boldsymbol{e}_{x}+y^{2}\\boldsymbol{e}_{y}+z^{2}\\boldsymbol{e}_{z} \\rp \\lp  {\\displaystyle\\frac{\\partial}{\\partial x}} \\rp = \\left ( x^{2}\\boldsymbol{e}_{x}+y^{2}\\boldsymbol{e}_{y}+z^{2}\\boldsymbol{e}_{z}\\right ) {\\displaystyle\\frac{\\partial}{\\partial x}}  $$"
      ],
      "text/plain": [
       "<IPython.core.display.Latex object>"
      ]
     },
     "metadata": {},
     "output_type": "display_data"
    },
    {
     "data": {
      "text/latex": [
       "$$ \\lp  x^{2}\\boldsymbol{e}_{x}+y^{2}\\boldsymbol{e}_{y}+z^{2}\\boldsymbol{e}_{z} \\rp \\lp  {\\displaystyle\\frac{\\partial}{\\partial x}} + {\\displaystyle\\frac{\\partial}{\\partial y}} + {\\displaystyle\\frac{\\partial}{\\partial z}} \\rp = \\left ( x^{2}\\boldsymbol{e}_{x}+y^{2}\\boldsymbol{e}_{y}+z^{2}\\boldsymbol{e}_{z}\\right ) {\\displaystyle\\frac{\\partial}{\\partial x}}+\\left ( x^{2}\\boldsymbol{e}_{x}+y^{2}\\boldsymbol{e}_{y}+z^{2}\\boldsymbol{e}_{z}\\right ) {\\displaystyle\\frac{\\partial}{\\partial y}}+\\left ( x^{2}\\boldsymbol{e}_{x}+y^{2}\\boldsymbol{e}_{y}+z^{2}\\boldsymbol{e}_{z}\\right ) {\\displaystyle\\frac{\\partial}{\\partial z}}  $$"
      ],
      "text/plain": [
       "<IPython.core.display.Latex object>"
      ]
     },
     "metadata": {},
     "output_type": "display_data"
    },
    {
     "data": {
      "text/latex": [
       "$$ \\lp  x^{2}\\boldsymbol{e}_{x}+y^{2}\\boldsymbol{e}_{y}+z^{2}\\boldsymbol{e}_{z} \\rp \\lp  x^{2} + y^{2} + z^{2} \\rp = \\left (x^{4} + x^{2} y^{2} + x^{2} z^{2}\\right )\\boldsymbol{e}_{x}+\\left (x^{2} y^{2} + y^{4} + y^{2} z^{2}\\right )\\boldsymbol{e}_{y}+\\left (x^{2} z^{2} + y^{2} z^{2} + z^{4}\\right )\\boldsymbol{e}_{z}  $$"
      ],
      "text/plain": [
       "<IPython.core.display.Latex object>"
      ]
     },
     "metadata": {},
     "output_type": "display_data"
    },
    {
     "data": {
      "text/latex": [
       "$$ \\lp  x^{2}\\boldsymbol{e}_{x}+y^{2}\\boldsymbol{e}_{y}+z^{2}\\boldsymbol{e}_{z} \\rp \\lp  \\boldsymbol{e}_{x}{\\displaystyle\\frac{\\partial}{\\partial x}}+\\boldsymbol{e}_{y}{\\displaystyle\\frac{\\partial}{\\partial y}}+\\boldsymbol{e}_{z}{\\displaystyle\\frac{\\partial}{\\partial z}} \\rp = \\left ( x^{2}- y^{2}\\boldsymbol{e}_{x}\\wedge \\boldsymbol{e}_{y}- z^{2}\\boldsymbol{e}_{x}\\wedge \\boldsymbol{e}_{z}\\right ) {\\displaystyle\\frac{\\partial}{\\partial x}}+\\left ( y^{2}+x^{2}\\boldsymbol{e}_{x}\\wedge \\boldsymbol{e}_{y}- z^{2}\\boldsymbol{e}_{y}\\wedge \\boldsymbol{e}_{z}\\right ) {\\displaystyle\\frac{\\partial}{\\partial y}}+\\left ( z^{2}+x^{2}\\boldsymbol{e}_{x}\\wedge \\boldsymbol{e}_{z}+y^{2}\\boldsymbol{e}_{y}\\wedge \\boldsymbol{e}_{z}\\right ) {\\displaystyle\\frac{\\partial}{\\partial z}}  $$"
      ],
      "text/plain": [
       "<IPython.core.display.Latex object>"
      ]
     },
     "metadata": {},
     "output_type": "display_data"
    },
    {
     "data": {
      "text/latex": [
       "$$ \\lp  x^{2}\\boldsymbol{e}_{x}+y^{2}\\boldsymbol{e}_{y}+z^{2}\\boldsymbol{e}_{z} \\rp \\lp  x^{2}\\boldsymbol{e}_{x}+y^{2}\\boldsymbol{e}_{y}+z^{2}\\boldsymbol{e}_{z} \\rp = x^{4} + y^{4} + z^{4}  $$"
      ],
      "text/plain": [
       "<IPython.core.display.Latex object>"
      ]
     },
     "metadata": {},
     "output_type": "display_data"
    }
   ],
   "source": [
    "xyz = (x, y, z) = symbols('x y z', real=True)\n",
    "\n",
    "o3d = Ga('e_x e_y e_z', g = [1,1,1], coords=xyz)\n",
    "(ex, ey, ez) = o3d.mv()\n",
    "grad = o3d.grad\n",
    "pDx =Pdop(x,ga=o3d)\n",
    "pDy =Pdop(y,ga=o3d)\n",
    "pDz =Pdop(z,ga=o3d)\n",
    "fxyz = x**2+y**2+z**2\n",
    "dS = pDx+pDy+pDz\n",
    "ops = ['+','-','*']\n",
    "r = x**2*ex+y**2*ey+z**2*ez\n",
    "args = [('Pdop',pDx),('Sdop',dS),('f(x,y,z)',fxyz), ('Dop', grad), ('Mv', r)]\n",
    "args_dict = dict(args)\n",
    "\n",
    "print('h',r'\\T{Test arguments}')\n",
    "for arg in args:\n",
    "    print(r'\\T{'+arg[0]+' =}',arg[1])\n",
    "\n",
    "print('h',r'\\T{Test + op}')\n",
    "for arg1 in args:\n",
    "    for arg2 in args:\n",
    "        print(r'\\lp ',arg1[1],r'\\rp + \\lp',arg2[1],r'\\rp =',arg1[1]+arg2[1])\n",
    "\n",
    "print('h',r'\\T{Test - op}')\n",
    "for arg1 in args:\n",
    "    for arg2 in args:\n",
    "        print(r'\\lp ',arg1[1],r'\\rp - \\lp',arg2[1],r'\\rp = ',arg1[1]-arg2[1])\n",
    "\n",
    "print('h',r'\\T{Test * op}')\n",
    "for arg1 in args:\n",
    "    for arg2 in args:\n",
    "        print(r'\\lp ',arg1[1],r'\\rp \\lp ',arg2[1],r'\\rp =',arg1[1]*arg2[1])\n"
   ]
  },
  {
   "cell_type": "markdown",
   "metadata": {},
   "source": [
    "### Multivector Differential Operators\n",
    "\n",
    "Now we illustrate the interoperability of `Pdop`, `Sdop`, and `Dop` operators and scalar and multivector functions."
   ]
  },
  {
   "cell_type": "code",
   "execution_count": 3,
   "metadata": {},
   "outputs": [
    {
     "data": {
      "text/latex": [
       "$$ \\begin{array}{c}\\hline \\T{Test arguments}  \\\\ \\hline \\end{array}  $$"
      ],
      "text/plain": [
       "<IPython.core.display.Latex object>"
      ]
     },
     "metadata": {},
     "output_type": "display_data"
    },
    {
     "data": {
      "text/latex": [
       "$$ \\T{Pdop =} {\\displaystyle\\frac{\\partial}{\\partial x}}  $$"
      ],
      "text/plain": [
       "<IPython.core.display.Latex object>"
      ]
     },
     "metadata": {},
     "output_type": "display_data"
    },
    {
     "data": {
      "text/latex": [
       "$$ \\T{Sdop =} {\\displaystyle\\frac{\\partial}{\\partial x}} + {\\displaystyle\\frac{\\partial}{\\partial y}} + {\\displaystyle\\frac{\\partial}{\\partial z}}  $$"
      ],
      "text/plain": [
       "<IPython.core.display.Latex object>"
      ]
     },
     "metadata": {},
     "output_type": "display_data"
    },
    {
     "data": {
      "text/latex": [
       "$$ \\T{f(x,y,z) =} x^{2} + y^{2} + z^{2}  $$"
      ],
      "text/plain": [
       "<IPython.core.display.Latex object>"
      ]
     },
     "metadata": {},
     "output_type": "display_data"
    },
    {
     "data": {
      "text/latex": [
       "$$ \\T{Dop =} \\boldsymbol{e}_{x}{\\displaystyle\\frac{\\partial}{\\partial x}}+\\boldsymbol{e}_{y}{\\displaystyle\\frac{\\partial}{\\partial y}}+\\boldsymbol{e}_{z}{\\displaystyle\\frac{\\partial}{\\partial z}}  $$"
      ],
      "text/plain": [
       "<IPython.core.display.Latex object>"
      ]
     },
     "metadata": {},
     "output_type": "display_data"
    },
    {
     "data": {
      "text/latex": [
       "$$ \\T{Mv =} x^{2}\\boldsymbol{e}_{x}+y^{2}\\boldsymbol{e}_{y}+z^{2}\\boldsymbol{e}_{z}  $$"
      ],
      "text/plain": [
       "<IPython.core.display.Latex object>"
      ]
     },
     "metadata": {},
     "output_type": "display_data"
    },
    {
     "data": {
      "text/latex": [
       "$$ \\begin{array}{c}\\hline \\T{Test + op}  \\\\ \\hline \\end{array}  $$"
      ],
      "text/plain": [
       "<IPython.core.display.Latex object>"
      ]
     },
     "metadata": {},
     "output_type": "display_data"
    },
    {
     "data": {
      "text/latex": [
       "$$ \\lp  {\\displaystyle\\frac{\\partial}{\\partial x}} \\rp + \\lp  {\\displaystyle\\frac{\\partial}{\\partial x}} \\rp = 2{\\displaystyle\\frac{\\partial}{\\partial x}}  $$"
      ],
      "text/plain": [
       "<IPython.core.display.Latex object>"
      ]
     },
     "metadata": {},
     "output_type": "display_data"
    },
    {
     "data": {
      "text/latex": [
       "$$ \\lp  {\\displaystyle\\frac{\\partial}{\\partial x}} \\rp + \\lp  {\\displaystyle\\frac{\\partial}{\\partial x}} + {\\displaystyle\\frac{\\partial}{\\partial y}} + {\\displaystyle\\frac{\\partial}{\\partial z}} \\rp = 2{\\displaystyle\\frac{\\partial}{\\partial x}} + {\\displaystyle\\frac{\\partial}{\\partial y}} + {\\displaystyle\\frac{\\partial}{\\partial z}}  $$"
      ],
      "text/plain": [
       "<IPython.core.display.Latex object>"
      ]
     },
     "metadata": {},
     "output_type": "display_data"
    },
    {
     "data": {
      "text/latex": [
       "$$ \\lp  {\\displaystyle\\frac{\\partial}{\\partial x}} \\rp + \\lp  x^{2} + y^{2} + z^{2} \\rp = \\left ( x^{2} + y^{2} + z^{2}\\right )  + {\\displaystyle\\frac{\\partial}{\\partial x}}  $$"
      ],
      "text/plain": [
       "<IPython.core.display.Latex object>"
      ]
     },
     "metadata": {},
     "output_type": "display_data"
    },
    {
     "data": {
      "text/latex": [
       "$$ \\lp  {\\displaystyle\\frac{\\partial}{\\partial x}} \\rp + \\lp  \\boldsymbol{e}_{x}{\\displaystyle\\frac{\\partial}{\\partial x}}+\\boldsymbol{e}_{y}{\\displaystyle\\frac{\\partial}{\\partial y}}+\\boldsymbol{e}_{z}{\\displaystyle\\frac{\\partial}{\\partial z}} \\rp = \\left ( 1+\\boldsymbol{e}_{x}\\right ) {\\displaystyle\\frac{\\partial}{\\partial x}}+\\boldsymbol{e}_{y}{\\displaystyle\\frac{\\partial}{\\partial y}}+\\boldsymbol{e}_{z}{\\displaystyle\\frac{\\partial}{\\partial z}}  $$"
      ],
      "text/plain": [
       "<IPython.core.display.Latex object>"
      ]
     },
     "metadata": {},
     "output_type": "display_data"
    },
    {
     "data": {
      "text/latex": [
       "$$ \\lp  {\\displaystyle\\frac{\\partial}{\\partial x}} \\rp + \\lp  x^{2}\\boldsymbol{e}_{x}+y^{2}\\boldsymbol{e}_{y}+z^{2}\\boldsymbol{e}_{z} \\rp = \\left ( x^{2}\\boldsymbol{e}_{x}+y^{2}\\boldsymbol{e}_{y}+z^{2}\\boldsymbol{e}_{z}\\right )  + {\\displaystyle\\frac{\\partial}{\\partial x}}  $$"
      ],
      "text/plain": [
       "<IPython.core.display.Latex object>"
      ]
     },
     "metadata": {},
     "output_type": "display_data"
    },
    {
     "data": {
      "text/latex": [
       "$$ \\lp  {\\displaystyle\\frac{\\partial}{\\partial x}} + {\\displaystyle\\frac{\\partial}{\\partial y}} + {\\displaystyle\\frac{\\partial}{\\partial z}} \\rp + \\lp  {\\displaystyle\\frac{\\partial}{\\partial x}} \\rp = 2{\\displaystyle\\frac{\\partial}{\\partial x}} + {\\displaystyle\\frac{\\partial}{\\partial y}} + {\\displaystyle\\frac{\\partial}{\\partial z}}  $$"
      ],
      "text/plain": [
       "<IPython.core.display.Latex object>"
      ]
     },
     "metadata": {},
     "output_type": "display_data"
    },
    {
     "data": {
      "text/latex": [
       "$$ \\lp  {\\displaystyle\\frac{\\partial}{\\partial x}} + {\\displaystyle\\frac{\\partial}{\\partial y}} + {\\displaystyle\\frac{\\partial}{\\partial z}} \\rp + \\lp  {\\displaystyle\\frac{\\partial}{\\partial x}} + {\\displaystyle\\frac{\\partial}{\\partial y}} + {\\displaystyle\\frac{\\partial}{\\partial z}} \\rp = 2{\\displaystyle\\frac{\\partial}{\\partial x}}+2{\\displaystyle\\frac{\\partial}{\\partial y}}+2{\\displaystyle\\frac{\\partial}{\\partial z}}  $$"
      ],
      "text/plain": [
       "<IPython.core.display.Latex object>"
      ]
     },
     "metadata": {},
     "output_type": "display_data"
    },
    {
     "data": {
      "text/latex": [
       "$$ \\lp  {\\displaystyle\\frac{\\partial}{\\partial x}} + {\\displaystyle\\frac{\\partial}{\\partial y}} + {\\displaystyle\\frac{\\partial}{\\partial z}} \\rp + \\lp  x^{2} + y^{2} + z^{2} \\rp = \\left ( x^{2} + y^{2} + z^{2}\\right )  + {\\displaystyle\\frac{\\partial}{\\partial x}} + {\\displaystyle\\frac{\\partial}{\\partial y}} + {\\displaystyle\\frac{\\partial}{\\partial z}}  $$"
      ],
      "text/plain": [
       "<IPython.core.display.Latex object>"
      ]
     },
     "metadata": {},
     "output_type": "display_data"
    },
    {
     "data": {
      "text/latex": [
       "$$ \\lp  {\\displaystyle\\frac{\\partial}{\\partial x}} + {\\displaystyle\\frac{\\partial}{\\partial y}} + {\\displaystyle\\frac{\\partial}{\\partial z}} \\rp + \\lp  \\boldsymbol{e}_{x}{\\displaystyle\\frac{\\partial}{\\partial x}}+\\boldsymbol{e}_{y}{\\displaystyle\\frac{\\partial}{\\partial y}}+\\boldsymbol{e}_{z}{\\displaystyle\\frac{\\partial}{\\partial z}} \\rp = \\boldsymbol{e}_{x}{\\displaystyle\\frac{\\partial}{\\partial x}}+\\boldsymbol{e}_{y}{\\displaystyle\\frac{\\partial}{\\partial y}}+\\boldsymbol{e}_{z}{\\displaystyle\\frac{\\partial}{\\partial z}} + {\\displaystyle\\frac{\\partial}{\\partial x}} + {\\displaystyle\\frac{\\partial}{\\partial y}} + {\\displaystyle\\frac{\\partial}{\\partial z}}  $$"
      ],
      "text/plain": [
       "<IPython.core.display.Latex object>"
      ]
     },
     "metadata": {},
     "output_type": "display_data"
    },
    {
     "data": {
      "text/latex": [
       "$$ \\lp  {\\displaystyle\\frac{\\partial}{\\partial x}} + {\\displaystyle\\frac{\\partial}{\\partial y}} + {\\displaystyle\\frac{\\partial}{\\partial z}} \\rp + \\lp  x^{2}\\boldsymbol{e}_{x}+y^{2}\\boldsymbol{e}_{y}+z^{2}\\boldsymbol{e}_{z} \\rp = \\left ( x^{2}\\boldsymbol{e}_{x}+y^{2}\\boldsymbol{e}_{y}+z^{2}\\boldsymbol{e}_{z}\\right )  + {\\displaystyle\\frac{\\partial}{\\partial x}} + {\\displaystyle\\frac{\\partial}{\\partial y}} + {\\displaystyle\\frac{\\partial}{\\partial z}}  $$"
      ],
      "text/plain": [
       "<IPython.core.display.Latex object>"
      ]
     },
     "metadata": {},
     "output_type": "display_data"
    },
    {
     "data": {
      "text/latex": [
       "$$ \\lp  x^{2} + y^{2} + z^{2} \\rp + \\lp  {\\displaystyle\\frac{\\partial}{\\partial x}} \\rp = \\left ( x^{2} + y^{2} + z^{2}\\right )  + {\\displaystyle\\frac{\\partial}{\\partial x}}  $$"
      ],
      "text/plain": [
       "<IPython.core.display.Latex object>"
      ]
     },
     "metadata": {},
     "output_type": "display_data"
    },
    {
     "data": {
      "text/latex": [
       "$$ \\lp  x^{2} + y^{2} + z^{2} \\rp + \\lp  {\\displaystyle\\frac{\\partial}{\\partial x}} + {\\displaystyle\\frac{\\partial}{\\partial y}} + {\\displaystyle\\frac{\\partial}{\\partial z}} \\rp = \\left ( x^{2} + y^{2} + z^{2}\\right )  + {\\displaystyle\\frac{\\partial}{\\partial x}} + {\\displaystyle\\frac{\\partial}{\\partial y}} + {\\displaystyle\\frac{\\partial}{\\partial z}}  $$"
      ],
      "text/plain": [
       "<IPython.core.display.Latex object>"
      ]
     },
     "metadata": {},
     "output_type": "display_data"
    },
    {
     "data": {
      "text/latex": [
       "$$ \\lp  x^{2} + y^{2} + z^{2} \\rp + \\lp  x^{2} + y^{2} + z^{2} \\rp = 2 x^{2} + 2 y^{2} + 2 z^{2}  $$"
      ],
      "text/plain": [
       "<IPython.core.display.Latex object>"
      ]
     },
     "metadata": {},
     "output_type": "display_data"
    },
    {
     "data": {
      "text/latex": [
       "$$ \\lp  x^{2} + y^{2} + z^{2} \\rp + \\lp  \\boldsymbol{e}_{x}{\\displaystyle\\frac{\\partial}{\\partial x}}+\\boldsymbol{e}_{y}{\\displaystyle\\frac{\\partial}{\\partial y}}+\\boldsymbol{e}_{z}{\\displaystyle\\frac{\\partial}{\\partial z}} \\rp = \\left ( x^{2} + y^{2} + z^{2}\\right ) +\\boldsymbol{e}_{x}{\\displaystyle\\frac{\\partial}{\\partial x}}+\\boldsymbol{e}_{y}{\\displaystyle\\frac{\\partial}{\\partial y}}+\\boldsymbol{e}_{z}{\\displaystyle\\frac{\\partial}{\\partial z}}  $$"
      ],
      "text/plain": [
       "<IPython.core.display.Latex object>"
      ]
     },
     "metadata": {},
     "output_type": "display_data"
    },
    {
     "data": {
      "text/latex": [
       "$$ \\lp  x^{2} + y^{2} + z^{2} \\rp + \\lp  x^{2}\\boldsymbol{e}_{x}+y^{2}\\boldsymbol{e}_{y}+z^{2}\\boldsymbol{e}_{z} \\rp = x^{2} + y^{2} + z^{2}+x^{2}\\boldsymbol{e}_{x}+y^{2}\\boldsymbol{e}_{y}+z^{2}\\boldsymbol{e}_{z}  $$"
      ],
      "text/plain": [
       "<IPython.core.display.Latex object>"
      ]
     },
     "metadata": {},
     "output_type": "display_data"
    },
    {
     "data": {
      "text/latex": [
       "$$ \\lp  \\boldsymbol{e}_{x}{\\displaystyle\\frac{\\partial}{\\partial x}}+\\boldsymbol{e}_{y}{\\displaystyle\\frac{\\partial}{\\partial y}}+\\boldsymbol{e}_{z}{\\displaystyle\\frac{\\partial}{\\partial z}} \\rp + \\lp  {\\displaystyle\\frac{\\partial}{\\partial x}} \\rp = \\left ( 1+\\boldsymbol{e}_{x}\\right ) {\\displaystyle\\frac{\\partial}{\\partial x}}+\\boldsymbol{e}_{y}{\\displaystyle\\frac{\\partial}{\\partial y}}+\\boldsymbol{e}_{z}{\\displaystyle\\frac{\\partial}{\\partial z}}  $$"
      ],
      "text/plain": [
       "<IPython.core.display.Latex object>"
      ]
     },
     "metadata": {},
     "output_type": "display_data"
    },
    {
     "data": {
      "text/latex": [
       "$$ \\lp  \\boldsymbol{e}_{x}{\\displaystyle\\frac{\\partial}{\\partial x}}+\\boldsymbol{e}_{y}{\\displaystyle\\frac{\\partial}{\\partial y}}+\\boldsymbol{e}_{z}{\\displaystyle\\frac{\\partial}{\\partial z}} \\rp + \\lp  {\\displaystyle\\frac{\\partial}{\\partial x}} + {\\displaystyle\\frac{\\partial}{\\partial y}} + {\\displaystyle\\frac{\\partial}{\\partial z}} \\rp = \\left ( 1+\\boldsymbol{e}_{x}\\right ) {\\displaystyle\\frac{\\partial}{\\partial x}}+\\left ( 1+\\boldsymbol{e}_{y}\\right ) {\\displaystyle\\frac{\\partial}{\\partial y}}+\\left ( 1+\\boldsymbol{e}_{z}\\right ) {\\displaystyle\\frac{\\partial}{\\partial z}}  $$"
      ],
      "text/plain": [
       "<IPython.core.display.Latex object>"
      ]
     },
     "metadata": {},
     "output_type": "display_data"
    },
    {
     "data": {
      "text/latex": [
       "$$ \\lp  \\boldsymbol{e}_{x}{\\displaystyle\\frac{\\partial}{\\partial x}}+\\boldsymbol{e}_{y}{\\displaystyle\\frac{\\partial}{\\partial y}}+\\boldsymbol{e}_{z}{\\displaystyle\\frac{\\partial}{\\partial z}} \\rp + \\lp  x^{2} + y^{2} + z^{2} \\rp = \\left ( x^{2} + y^{2} + z^{2}\\right ) +\\boldsymbol{e}_{x}{\\displaystyle\\frac{\\partial}{\\partial x}}+\\boldsymbol{e}_{y}{\\displaystyle\\frac{\\partial}{\\partial y}}+\\boldsymbol{e}_{z}{\\displaystyle\\frac{\\partial}{\\partial z}}  $$"
      ],
      "text/plain": [
       "<IPython.core.display.Latex object>"
      ]
     },
     "metadata": {},
     "output_type": "display_data"
    },
    {
     "data": {
      "text/latex": [
       "$$ \\lp  \\boldsymbol{e}_{x}{\\displaystyle\\frac{\\partial}{\\partial x}}+\\boldsymbol{e}_{y}{\\displaystyle\\frac{\\partial}{\\partial y}}+\\boldsymbol{e}_{z}{\\displaystyle\\frac{\\partial}{\\partial z}} \\rp + \\lp  \\boldsymbol{e}_{x}{\\displaystyle\\frac{\\partial}{\\partial x}}+\\boldsymbol{e}_{y}{\\displaystyle\\frac{\\partial}{\\partial y}}+\\boldsymbol{e}_{z}{\\displaystyle\\frac{\\partial}{\\partial z}} \\rp = 2\\boldsymbol{e}_{x}{\\displaystyle\\frac{\\partial}{\\partial x}}+2\\boldsymbol{e}_{y}{\\displaystyle\\frac{\\partial}{\\partial y}}+2\\boldsymbol{e}_{z}{\\displaystyle\\frac{\\partial}{\\partial z}}  $$"
      ],
      "text/plain": [
       "<IPython.core.display.Latex object>"
      ]
     },
     "metadata": {},
     "output_type": "display_data"
    },
    {
     "data": {
      "text/latex": [
       "$$ \\lp  \\boldsymbol{e}_{x}{\\displaystyle\\frac{\\partial}{\\partial x}}+\\boldsymbol{e}_{y}{\\displaystyle\\frac{\\partial}{\\partial y}}+\\boldsymbol{e}_{z}{\\displaystyle\\frac{\\partial}{\\partial z}} \\rp + \\lp  x^{2}\\boldsymbol{e}_{x}+y^{2}\\boldsymbol{e}_{y}+z^{2}\\boldsymbol{e}_{z} \\rp = \\left ( x^{2}\\boldsymbol{e}_{x}+y^{2}\\boldsymbol{e}_{y}+z^{2}\\boldsymbol{e}_{z}\\right ) +\\boldsymbol{e}_{x}{\\displaystyle\\frac{\\partial}{\\partial x}}+\\boldsymbol{e}_{y}{\\displaystyle\\frac{\\partial}{\\partial y}}+\\boldsymbol{e}_{z}{\\displaystyle\\frac{\\partial}{\\partial z}}  $$"
      ],
      "text/plain": [
       "<IPython.core.display.Latex object>"
      ]
     },
     "metadata": {},
     "output_type": "display_data"
    },
    {
     "data": {
      "text/latex": [
       "$$ \\lp  x^{2}\\boldsymbol{e}_{x}+y^{2}\\boldsymbol{e}_{y}+z^{2}\\boldsymbol{e}_{z} \\rp + \\lp  {\\displaystyle\\frac{\\partial}{\\partial x}} \\rp = \\left ( x^{2}\\boldsymbol{e}_{x}+y^{2}\\boldsymbol{e}_{y}+z^{2}\\boldsymbol{e}_{z}\\right )  + {\\displaystyle\\frac{\\partial}{\\partial x}}  $$"
      ],
      "text/plain": [
       "<IPython.core.display.Latex object>"
      ]
     },
     "metadata": {},
     "output_type": "display_data"
    },
    {
     "data": {
      "text/latex": [
       "$$ \\lp  x^{2}\\boldsymbol{e}_{x}+y^{2}\\boldsymbol{e}_{y}+z^{2}\\boldsymbol{e}_{z} \\rp + \\lp  {\\displaystyle\\frac{\\partial}{\\partial x}} + {\\displaystyle\\frac{\\partial}{\\partial y}} + {\\displaystyle\\frac{\\partial}{\\partial z}} \\rp = \\left ( x^{2}\\boldsymbol{e}_{x}+y^{2}\\boldsymbol{e}_{y}+z^{2}\\boldsymbol{e}_{z}\\right )  + {\\displaystyle\\frac{\\partial}{\\partial x}} + {\\displaystyle\\frac{\\partial}{\\partial y}} + {\\displaystyle\\frac{\\partial}{\\partial z}}  $$"
      ],
      "text/plain": [
       "<IPython.core.display.Latex object>"
      ]
     },
     "metadata": {},
     "output_type": "display_data"
    },
    {
     "data": {
      "text/latex": [
       "$$ \\lp  x^{2}\\boldsymbol{e}_{x}+y^{2}\\boldsymbol{e}_{y}+z^{2}\\boldsymbol{e}_{z} \\rp + \\lp  x^{2} + y^{2} + z^{2} \\rp = x^{2} + y^{2} + z^{2}+x^{2}\\boldsymbol{e}_{x}+y^{2}\\boldsymbol{e}_{y}+z^{2}\\boldsymbol{e}_{z}  $$"
      ],
      "text/plain": [
       "<IPython.core.display.Latex object>"
      ]
     },
     "metadata": {},
     "output_type": "display_data"
    },
    {
     "data": {
      "text/latex": [
       "$$ \\lp  x^{2}\\boldsymbol{e}_{x}+y^{2}\\boldsymbol{e}_{y}+z^{2}\\boldsymbol{e}_{z} \\rp + \\lp  \\boldsymbol{e}_{x}{\\displaystyle\\frac{\\partial}{\\partial x}}+\\boldsymbol{e}_{y}{\\displaystyle\\frac{\\partial}{\\partial y}}+\\boldsymbol{e}_{z}{\\displaystyle\\frac{\\partial}{\\partial z}} \\rp = \\left ( x^{2}\\boldsymbol{e}_{x}+y^{2}\\boldsymbol{e}_{y}+z^{2}\\boldsymbol{e}_{z}\\right ) +\\boldsymbol{e}_{x}{\\displaystyle\\frac{\\partial}{\\partial x}}+\\boldsymbol{e}_{y}{\\displaystyle\\frac{\\partial}{\\partial y}}+\\boldsymbol{e}_{z}{\\displaystyle\\frac{\\partial}{\\partial z}}  $$"
      ],
      "text/plain": [
       "<IPython.core.display.Latex object>"
      ]
     },
     "metadata": {},
     "output_type": "display_data"
    },
    {
     "data": {
      "text/latex": [
       "$$ \\lp  x^{2}\\boldsymbol{e}_{x}+y^{2}\\boldsymbol{e}_{y}+z^{2}\\boldsymbol{e}_{z} \\rp + \\lp  x^{2}\\boldsymbol{e}_{x}+y^{2}\\boldsymbol{e}_{y}+z^{2}\\boldsymbol{e}_{z} \\rp = 2 x^{2}\\boldsymbol{e}_{x}+2 y^{2}\\boldsymbol{e}_{y}+2 z^{2}\\boldsymbol{e}_{z}  $$"
      ],
      "text/plain": [
       "<IPython.core.display.Latex object>"
      ]
     },
     "metadata": {},
     "output_type": "display_data"
    },
    {
     "data": {
      "text/latex": [
       "$$ \\begin{array}{c}\\hline \\T{Test - op}  \\\\ \\hline \\end{array}  $$"
      ],
      "text/plain": [
       "<IPython.core.display.Latex object>"
      ]
     },
     "metadata": {},
     "output_type": "display_data"
    },
    {
     "data": {
      "text/latex": [
       "$$ \\lp  {\\displaystyle\\frac{\\partial}{\\partial x}} \\rp - \\lp  {\\displaystyle\\frac{\\partial}{\\partial x}} \\rp = 0  $$"
      ],
      "text/plain": [
       "<IPython.core.display.Latex object>"
      ]
     },
     "metadata": {},
     "output_type": "display_data"
    },
    {
     "data": {
      "text/latex": [
       "$$ \\lp  {\\displaystyle\\frac{\\partial}{\\partial x}} \\rp - \\lp  {\\displaystyle\\frac{\\partial}{\\partial x}} + {\\displaystyle\\frac{\\partial}{\\partial y}} + {\\displaystyle\\frac{\\partial}{\\partial z}} \\rp =  - {\\displaystyle\\frac{\\partial}{\\partial y}} - {\\displaystyle\\frac{\\partial}{\\partial z}}  $$"
      ],
      "text/plain": [
       "<IPython.core.display.Latex object>"
      ]
     },
     "metadata": {},
     "output_type": "display_data"
    },
    {
     "data": {
      "text/latex": [
       "$$ \\lp  {\\displaystyle\\frac{\\partial}{\\partial x}} \\rp - \\lp  x^{2} + y^{2} + z^{2} \\rp = \\left ( x^{2} + y^{2} + z^{2}\\right )  + {\\displaystyle\\frac{\\partial}{\\partial x}}  $$"
      ],
      "text/plain": [
       "<IPython.core.display.Latex object>"
      ]
     },
     "metadata": {},
     "output_type": "display_data"
    },
    {
     "data": {
      "text/latex": [
       "$$ \\lp  {\\displaystyle\\frac{\\partial}{\\partial x}} \\rp - \\lp  \\boldsymbol{e}_{x}{\\displaystyle\\frac{\\partial}{\\partial x}}+\\boldsymbol{e}_{y}{\\displaystyle\\frac{\\partial}{\\partial y}}+\\boldsymbol{e}_{z}{\\displaystyle\\frac{\\partial}{\\partial z}} \\rp = \\left ( 1-\\boldsymbol{e}_{x}\\right ) {\\displaystyle\\frac{\\partial}{\\partial x}}-\\boldsymbol{e}_{y}{\\displaystyle\\frac{\\partial}{\\partial y}}-\\boldsymbol{e}_{z}{\\displaystyle\\frac{\\partial}{\\partial z}}  $$"
      ],
      "text/plain": [
       "<IPython.core.display.Latex object>"
      ]
     },
     "metadata": {},
     "output_type": "display_data"
    },
    {
     "data": {
      "text/latex": [
       "$$ \\lp  {\\displaystyle\\frac{\\partial}{\\partial x}} \\rp - \\lp  x^{2}\\boldsymbol{e}_{x}+y^{2}\\boldsymbol{e}_{y}+z^{2}\\boldsymbol{e}_{z} \\rp = \\left ( x^{2}\\boldsymbol{e}_{x}+y^{2}\\boldsymbol{e}_{y}+z^{2}\\boldsymbol{e}_{z}\\right )  + {\\displaystyle\\frac{\\partial}{\\partial x}}  $$"
      ],
      "text/plain": [
       "<IPython.core.display.Latex object>"
      ]
     },
     "metadata": {},
     "output_type": "display_data"
    },
    {
     "data": {
      "text/latex": [
       "$$ \\lp  {\\displaystyle\\frac{\\partial}{\\partial x}} + {\\displaystyle\\frac{\\partial}{\\partial y}} + {\\displaystyle\\frac{\\partial}{\\partial z}} \\rp - \\lp  {\\displaystyle\\frac{\\partial}{\\partial x}} \\rp = {\\displaystyle\\frac{\\partial}{\\partial y}} + {\\displaystyle\\frac{\\partial}{\\partial z}}  $$"
      ],
      "text/plain": [
       "<IPython.core.display.Latex object>"
      ]
     },
     "metadata": {},
     "output_type": "display_data"
    },
    {
     "data": {
      "text/latex": [
       "$$ \\lp  {\\displaystyle\\frac{\\partial}{\\partial x}} + {\\displaystyle\\frac{\\partial}{\\partial y}} + {\\displaystyle\\frac{\\partial}{\\partial z}} \\rp - \\lp  {\\displaystyle\\frac{\\partial}{\\partial x}} + {\\displaystyle\\frac{\\partial}{\\partial y}} + {\\displaystyle\\frac{\\partial}{\\partial z}} \\rp = 0  $$"
      ],
      "text/plain": [
       "<IPython.core.display.Latex object>"
      ]
     },
     "metadata": {},
     "output_type": "display_data"
    },
    {
     "data": {
      "text/latex": [
       "$$ \\lp  {\\displaystyle\\frac{\\partial}{\\partial x}} + {\\displaystyle\\frac{\\partial}{\\partial y}} + {\\displaystyle\\frac{\\partial}{\\partial z}} \\rp - \\lp  x^{2} + y^{2} + z^{2} \\rp = \\left ( x^{2} + y^{2} + z^{2}\\right )  + {\\displaystyle\\frac{\\partial}{\\partial x}} + {\\displaystyle\\frac{\\partial}{\\partial y}} + {\\displaystyle\\frac{\\partial}{\\partial z}}  $$"
      ],
      "text/plain": [
       "<IPython.core.display.Latex object>"
      ]
     },
     "metadata": {},
     "output_type": "display_data"
    },
    {
     "data": {
      "text/latex": [
       "$$ \\lp  {\\displaystyle\\frac{\\partial}{\\partial x}} + {\\displaystyle\\frac{\\partial}{\\partial y}} + {\\displaystyle\\frac{\\partial}{\\partial z}} \\rp - \\lp  \\boldsymbol{e}_{x}{\\displaystyle\\frac{\\partial}{\\partial x}}+\\boldsymbol{e}_{y}{\\displaystyle\\frac{\\partial}{\\partial y}}+\\boldsymbol{e}_{z}{\\displaystyle\\frac{\\partial}{\\partial z}} \\rp = -\\boldsymbol{e}_{x}{\\displaystyle\\frac{\\partial}{\\partial x}}-\\boldsymbol{e}_{y}{\\displaystyle\\frac{\\partial}{\\partial y}}-\\boldsymbol{e}_{z}{\\displaystyle\\frac{\\partial}{\\partial z}} + {\\displaystyle\\frac{\\partial}{\\partial x}} + {\\displaystyle\\frac{\\partial}{\\partial y}} + {\\displaystyle\\frac{\\partial}{\\partial z}}  $$"
      ],
      "text/plain": [
       "<IPython.core.display.Latex object>"
      ]
     },
     "metadata": {},
     "output_type": "display_data"
    },
    {
     "data": {
      "text/latex": [
       "$$ \\lp  {\\displaystyle\\frac{\\partial}{\\partial x}} + {\\displaystyle\\frac{\\partial}{\\partial y}} + {\\displaystyle\\frac{\\partial}{\\partial z}} \\rp - \\lp  x^{2}\\boldsymbol{e}_{x}+y^{2}\\boldsymbol{e}_{y}+z^{2}\\boldsymbol{e}_{z} \\rp = \\left ( x^{2}\\boldsymbol{e}_{x}+y^{2}\\boldsymbol{e}_{y}+z^{2}\\boldsymbol{e}_{z}\\right )  + {\\displaystyle\\frac{\\partial}{\\partial x}} + {\\displaystyle\\frac{\\partial}{\\partial y}} + {\\displaystyle\\frac{\\partial}{\\partial z}}  $$"
      ],
      "text/plain": [
       "<IPython.core.display.Latex object>"
      ]
     },
     "metadata": {},
     "output_type": "display_data"
    },
    {
     "data": {
      "text/latex": [
       "$$ \\lp  x^{2} + y^{2} + z^{2} \\rp - \\lp  {\\displaystyle\\frac{\\partial}{\\partial x}} \\rp = \\left ( x^{2} + y^{2} + z^{2}\\right )  + {\\displaystyle\\frac{\\partial}{\\partial x}}  $$"
      ],
      "text/plain": [
       "<IPython.core.display.Latex object>"
      ]
     },
     "metadata": {},
     "output_type": "display_data"
    },
    {
     "data": {
      "text/latex": [
       "$$ \\lp  x^{2} + y^{2} + z^{2} \\rp - \\lp  {\\displaystyle\\frac{\\partial}{\\partial x}} + {\\displaystyle\\frac{\\partial}{\\partial y}} + {\\displaystyle\\frac{\\partial}{\\partial z}} \\rp = \\left ( x^{2} + y^{2} + z^{2}\\right )  - {\\displaystyle\\frac{\\partial}{\\partial x}} - {\\displaystyle\\frac{\\partial}{\\partial y}} - {\\displaystyle\\frac{\\partial}{\\partial z}}  $$"
      ],
      "text/plain": [
       "<IPython.core.display.Latex object>"
      ]
     },
     "metadata": {},
     "output_type": "display_data"
    },
    {
     "data": {
      "text/latex": [
       "$$ \\lp  x^{2} + y^{2} + z^{2} \\rp - \\lp  x^{2} + y^{2} + z^{2} \\rp = 0  $$"
      ],
      "text/plain": [
       "<IPython.core.display.Latex object>"
      ]
     },
     "metadata": {},
     "output_type": "display_data"
    },
    {
     "data": {
      "text/latex": [
       "$$ \\lp  x^{2} + y^{2} + z^{2} \\rp - \\lp  \\boldsymbol{e}_{x}{\\displaystyle\\frac{\\partial}{\\partial x}}+\\boldsymbol{e}_{y}{\\displaystyle\\frac{\\partial}{\\partial y}}+\\boldsymbol{e}_{z}{\\displaystyle\\frac{\\partial}{\\partial z}} \\rp = \\left ( x^{2} + y^{2} + z^{2}\\right ) -\\boldsymbol{e}_{x}{\\displaystyle\\frac{\\partial}{\\partial x}}-\\boldsymbol{e}_{y}{\\displaystyle\\frac{\\partial}{\\partial y}}-\\boldsymbol{e}_{z}{\\displaystyle\\frac{\\partial}{\\partial z}}  $$"
      ],
      "text/plain": [
       "<IPython.core.display.Latex object>"
      ]
     },
     "metadata": {},
     "output_type": "display_data"
    },
    {
     "data": {
      "text/latex": [
       "$$ \\lp  x^{2} + y^{2} + z^{2} \\rp - \\lp  x^{2}\\boldsymbol{e}_{x}+y^{2}\\boldsymbol{e}_{y}+z^{2}\\boldsymbol{e}_{z} \\rp = x^{2} + y^{2} + z^{2}- x^{2}\\boldsymbol{e}_{x}- y^{2}\\boldsymbol{e}_{y}- z^{2}\\boldsymbol{e}_{z}  $$"
      ],
      "text/plain": [
       "<IPython.core.display.Latex object>"
      ]
     },
     "metadata": {},
     "output_type": "display_data"
    },
    {
     "data": {
      "text/latex": [
       "$$ \\lp  \\boldsymbol{e}_{x}{\\displaystyle\\frac{\\partial}{\\partial x}}+\\boldsymbol{e}_{y}{\\displaystyle\\frac{\\partial}{\\partial y}}+\\boldsymbol{e}_{z}{\\displaystyle\\frac{\\partial}{\\partial z}} \\rp - \\lp  {\\displaystyle\\frac{\\partial}{\\partial x}} \\rp = \\left ( 1-\\boldsymbol{e}_{x}\\right ) {\\displaystyle\\frac{\\partial}{\\partial x}}+\\boldsymbol{e}_{y}{\\displaystyle\\frac{\\partial}{\\partial y}}+\\boldsymbol{e}_{z}{\\displaystyle\\frac{\\partial}{\\partial z}}  $$"
      ],
      "text/plain": [
       "<IPython.core.display.Latex object>"
      ]
     },
     "metadata": {},
     "output_type": "display_data"
    },
    {
     "data": {
      "text/latex": [
       "$$ \\lp  \\boldsymbol{e}_{x}{\\displaystyle\\frac{\\partial}{\\partial x}}+\\boldsymbol{e}_{y}{\\displaystyle\\frac{\\partial}{\\partial y}}+\\boldsymbol{e}_{z}{\\displaystyle\\frac{\\partial}{\\partial z}} \\rp - \\lp  {\\displaystyle\\frac{\\partial}{\\partial x}} + {\\displaystyle\\frac{\\partial}{\\partial y}} + {\\displaystyle\\frac{\\partial}{\\partial z}} \\rp = \\left ( 1-\\boldsymbol{e}_{x}\\right ) {\\displaystyle\\frac{\\partial}{\\partial x}}-\\left ( 1-\\boldsymbol{e}_{y}\\right ) {\\displaystyle\\frac{\\partial}{\\partial y}}-\\left ( 1-\\boldsymbol{e}_{z}\\right ) {\\displaystyle\\frac{\\partial}{\\partial z}}  $$"
      ],
      "text/plain": [
       "<IPython.core.display.Latex object>"
      ]
     },
     "metadata": {},
     "output_type": "display_data"
    },
    {
     "data": {
      "text/latex": [
       "$$ \\lp  \\boldsymbol{e}_{x}{\\displaystyle\\frac{\\partial}{\\partial x}}+\\boldsymbol{e}_{y}{\\displaystyle\\frac{\\partial}{\\partial y}}+\\boldsymbol{e}_{z}{\\displaystyle\\frac{\\partial}{\\partial z}} \\rp - \\lp  x^{2} + y^{2} + z^{2} \\rp = \\left ( x^{2} + y^{2} + z^{2}\\right ) +\\boldsymbol{e}_{x}{\\displaystyle\\frac{\\partial}{\\partial x}}+\\boldsymbol{e}_{y}{\\displaystyle\\frac{\\partial}{\\partial y}}+\\boldsymbol{e}_{z}{\\displaystyle\\frac{\\partial}{\\partial z}}  $$"
      ],
      "text/plain": [
       "<IPython.core.display.Latex object>"
      ]
     },
     "metadata": {},
     "output_type": "display_data"
    },
    {
     "data": {
      "text/latex": [
       "$$ \\lp  \\boldsymbol{e}_{x}{\\displaystyle\\frac{\\partial}{\\partial x}}+\\boldsymbol{e}_{y}{\\displaystyle\\frac{\\partial}{\\partial y}}+\\boldsymbol{e}_{z}{\\displaystyle\\frac{\\partial}{\\partial z}} \\rp - \\lp  \\boldsymbol{e}_{x}{\\displaystyle\\frac{\\partial}{\\partial x}}+\\boldsymbol{e}_{y}{\\displaystyle\\frac{\\partial}{\\partial y}}+\\boldsymbol{e}_{z}{\\displaystyle\\frac{\\partial}{\\partial z}} \\rp = 0  $$"
      ],
      "text/plain": [
       "<IPython.core.display.Latex object>"
      ]
     },
     "metadata": {},
     "output_type": "display_data"
    },
    {
     "data": {
      "text/latex": [
       "$$ \\lp  \\boldsymbol{e}_{x}{\\displaystyle\\frac{\\partial}{\\partial x}}+\\boldsymbol{e}_{y}{\\displaystyle\\frac{\\partial}{\\partial y}}+\\boldsymbol{e}_{z}{\\displaystyle\\frac{\\partial}{\\partial z}} \\rp - \\lp  x^{2}\\boldsymbol{e}_{x}+y^{2}\\boldsymbol{e}_{y}+z^{2}\\boldsymbol{e}_{z} \\rp = \\left ( x^{2}\\boldsymbol{e}_{x}+y^{2}\\boldsymbol{e}_{y}+z^{2}\\boldsymbol{e}_{z}\\right ) +\\boldsymbol{e}_{x}{\\displaystyle\\frac{\\partial}{\\partial x}}+\\boldsymbol{e}_{y}{\\displaystyle\\frac{\\partial}{\\partial y}}+\\boldsymbol{e}_{z}{\\displaystyle\\frac{\\partial}{\\partial z}}  $$"
      ],
      "text/plain": [
       "<IPython.core.display.Latex object>"
      ]
     },
     "metadata": {},
     "output_type": "display_data"
    },
    {
     "data": {
      "text/latex": [
       "$$ \\lp  x^{2}\\boldsymbol{e}_{x}+y^{2}\\boldsymbol{e}_{y}+z^{2}\\boldsymbol{e}_{z} \\rp - \\lp  {\\displaystyle\\frac{\\partial}{\\partial x}} \\rp = \\left ( x^{2}\\boldsymbol{e}_{x}+y^{2}\\boldsymbol{e}_{y}+z^{2}\\boldsymbol{e}_{z}\\right )  - {\\displaystyle\\frac{\\partial}{\\partial x}}  $$"
      ],
      "text/plain": [
       "<IPython.core.display.Latex object>"
      ]
     },
     "metadata": {},
     "output_type": "display_data"
    },
    {
     "data": {
      "text/latex": [
       "$$ \\lp  x^{2}\\boldsymbol{e}_{x}+y^{2}\\boldsymbol{e}_{y}+z^{2}\\boldsymbol{e}_{z} \\rp - \\lp  {\\displaystyle\\frac{\\partial}{\\partial x}} + {\\displaystyle\\frac{\\partial}{\\partial y}} + {\\displaystyle\\frac{\\partial}{\\partial z}} \\rp = \\left ( x^{2}\\boldsymbol{e}_{x}+y^{2}\\boldsymbol{e}_{y}+z^{2}\\boldsymbol{e}_{z}\\right )  - {\\displaystyle\\frac{\\partial}{\\partial x}} - {\\displaystyle\\frac{\\partial}{\\partial y}} - {\\displaystyle\\frac{\\partial}{\\partial z}}  $$"
      ],
      "text/plain": [
       "<IPython.core.display.Latex object>"
      ]
     },
     "metadata": {},
     "output_type": "display_data"
    },
    {
     "data": {
      "text/latex": [
       "$$ \\lp  x^{2}\\boldsymbol{e}_{x}+y^{2}\\boldsymbol{e}_{y}+z^{2}\\boldsymbol{e}_{z} \\rp - \\lp  x^{2} + y^{2} + z^{2} \\rp = - x^{2} - y^{2} - z^{2}+x^{2}\\boldsymbol{e}_{x}+y^{2}\\boldsymbol{e}_{y}+z^{2}\\boldsymbol{e}_{z}  $$"
      ],
      "text/plain": [
       "<IPython.core.display.Latex object>"
      ]
     },
     "metadata": {},
     "output_type": "display_data"
    },
    {
     "data": {
      "text/latex": [
       "$$ \\lp  x^{2}\\boldsymbol{e}_{x}+y^{2}\\boldsymbol{e}_{y}+z^{2}\\boldsymbol{e}_{z} \\rp - \\lp  \\boldsymbol{e}_{x}{\\displaystyle\\frac{\\partial}{\\partial x}}+\\boldsymbol{e}_{y}{\\displaystyle\\frac{\\partial}{\\partial y}}+\\boldsymbol{e}_{z}{\\displaystyle\\frac{\\partial}{\\partial z}} \\rp = \\left ( x^{2}\\boldsymbol{e}_{x}+y^{2}\\boldsymbol{e}_{y}+z^{2}\\boldsymbol{e}_{z}\\right ) -\\boldsymbol{e}_{x}{\\displaystyle\\frac{\\partial}{\\partial x}}-\\boldsymbol{e}_{y}{\\displaystyle\\frac{\\partial}{\\partial y}}-\\boldsymbol{e}_{z}{\\displaystyle\\frac{\\partial}{\\partial z}}  $$"
      ],
      "text/plain": [
       "<IPython.core.display.Latex object>"
      ]
     },
     "metadata": {},
     "output_type": "display_data"
    },
    {
     "data": {
      "text/latex": [
       "$$ \\lp  x^{2}\\boldsymbol{e}_{x}+y^{2}\\boldsymbol{e}_{y}+z^{2}\\boldsymbol{e}_{z} \\rp - \\lp  x^{2}\\boldsymbol{e}_{x}+y^{2}\\boldsymbol{e}_{y}+z^{2}\\boldsymbol{e}_{z} \\rp = 0  $$"
      ],
      "text/plain": [
       "<IPython.core.display.Latex object>"
      ]
     },
     "metadata": {},
     "output_type": "display_data"
    },
    {
     "data": {
      "text/latex": [
       "$$ \\begin{array}{c}\\hline \\T{Test * op}  \\\\ \\hline \\end{array}  $$"
      ],
      "text/plain": [
       "<IPython.core.display.Latex object>"
      ]
     },
     "metadata": {},
     "output_type": "display_data"
    },
    {
     "data": {
      "text/latex": [
       "$$ \\lp  {\\displaystyle\\frac{\\partial}{\\partial x}} \\rp \\lp  {\\displaystyle\\frac{\\partial}{\\partial x}} \\rp = {\\displaystyle\\frac{\\partial^{2}}{\\partial x^{2}}}  $$"
      ],
      "text/plain": [
       "<IPython.core.display.Latex object>"
      ]
     },
     "metadata": {},
     "output_type": "display_data"
    },
    {
     "data": {
      "text/latex": [
       "$$ \\lp  {\\displaystyle\\frac{\\partial}{\\partial x}} \\rp \\lp  {\\displaystyle\\frac{\\partial}{\\partial x}} + {\\displaystyle\\frac{\\partial}{\\partial y}} + {\\displaystyle\\frac{\\partial}{\\partial z}} \\rp = {\\displaystyle\\frac{\\partial^{2}}{\\partial x\\partial y}} + {\\displaystyle\\frac{\\partial^{2}}{\\partial x\\partial z}} + {\\displaystyle\\frac{\\partial^{2}}{\\partial x^{2}}}  $$"
      ],
      "text/plain": [
       "<IPython.core.display.Latex object>"
      ]
     },
     "metadata": {},
     "output_type": "display_data"
    },
    {
     "data": {
      "text/latex": [
       "$$ \\lp  {\\displaystyle\\frac{\\partial}{\\partial x}} \\rp \\lp  x^{2} + y^{2} + z^{2} \\rp = 2 x  $$"
      ],
      "text/plain": [
       "<IPython.core.display.Latex object>"
      ]
     },
     "metadata": {},
     "output_type": "display_data"
    },
    {
     "data": {
      "text/latex": [
       "$$ \\lp  {\\displaystyle\\frac{\\partial}{\\partial x}} \\rp \\lp  \\boldsymbol{e}_{x}{\\displaystyle\\frac{\\partial}{\\partial x}}+\\boldsymbol{e}_{y}{\\displaystyle\\frac{\\partial}{\\partial y}}+\\boldsymbol{e}_{z}{\\displaystyle\\frac{\\partial}{\\partial z}} \\rp = \\boldsymbol{e}_{y}{\\displaystyle\\frac{\\partial^{2}}{\\partial x\\partial y}}+\\boldsymbol{e}_{z}{\\displaystyle\\frac{\\partial^{2}}{\\partial x\\partial z}}+\\boldsymbol{e}_{x}{\\displaystyle\\frac{\\partial^{2}}{\\partial x^{2}}}  $$"
      ],
      "text/plain": [
       "<IPython.core.display.Latex object>"
      ]
     },
     "metadata": {},
     "output_type": "display_data"
    },
    {
     "data": {
      "text/latex": [
       "$$ \\lp  {\\displaystyle\\frac{\\partial}{\\partial x}} \\rp \\lp  x^{2}\\boldsymbol{e}_{x}+y^{2}\\boldsymbol{e}_{y}+z^{2}\\boldsymbol{e}_{z} \\rp = 2 x\\boldsymbol{e}_{x}  $$"
      ],
      "text/plain": [
       "<IPython.core.display.Latex object>"
      ]
     },
     "metadata": {},
     "output_type": "display_data"
    },
    {
     "data": {
      "text/latex": [
       "$$ \\lp  {\\displaystyle\\frac{\\partial}{\\partial x}} + {\\displaystyle\\frac{\\partial}{\\partial y}} + {\\displaystyle\\frac{\\partial}{\\partial z}} \\rp \\lp  {\\displaystyle\\frac{\\partial}{\\partial x}} \\rp = {\\displaystyle\\frac{\\partial^{2}}{\\partial x\\partial y}} + {\\displaystyle\\frac{\\partial^{2}}{\\partial x\\partial z}} + {\\displaystyle\\frac{\\partial^{2}}{\\partial x^{2}}}  $$"
      ],
      "text/plain": [
       "<IPython.core.display.Latex object>"
      ]
     },
     "metadata": {},
     "output_type": "display_data"
    },
    {
     "data": {
      "text/latex": [
       "$$ \\lp  {\\displaystyle\\frac{\\partial}{\\partial x}} + {\\displaystyle\\frac{\\partial}{\\partial y}} + {\\displaystyle\\frac{\\partial}{\\partial z}} \\rp \\lp  {\\displaystyle\\frac{\\partial}{\\partial x}} + {\\displaystyle\\frac{\\partial}{\\partial y}} + {\\displaystyle\\frac{\\partial}{\\partial z}} \\rp = 2{\\displaystyle\\frac{\\partial^{2}}{\\partial x\\partial y}}+2{\\displaystyle\\frac{\\partial^{2}}{\\partial x\\partial z}}+2{\\displaystyle\\frac{\\partial^{2}}{\\partial y\\partial z}} + {\\displaystyle\\frac{\\partial^{2}}{\\partial x^{2}}} + {\\displaystyle\\frac{\\partial^{2}}{\\partial y^{2}}} + {\\displaystyle\\frac{\\partial^{2}}{\\partial z^{2}}}  $$"
      ],
      "text/plain": [
       "<IPython.core.display.Latex object>"
      ]
     },
     "metadata": {},
     "output_type": "display_data"
    },
    {
     "data": {
      "text/latex": [
       "$$ \\lp  {\\displaystyle\\frac{\\partial}{\\partial x}} + {\\displaystyle\\frac{\\partial}{\\partial y}} + {\\displaystyle\\frac{\\partial}{\\partial z}} \\rp \\lp  x^{2} + y^{2} + z^{2} \\rp = 2 x + 2 y + 2 z  $$"
      ],
      "text/plain": [
       "<IPython.core.display.Latex object>"
      ]
     },
     "metadata": {},
     "output_type": "display_data"
    },
    {
     "data": {
      "text/latex": [
       "$$ \\lp  {\\displaystyle\\frac{\\partial}{\\partial x}} + {\\displaystyle\\frac{\\partial}{\\partial y}} + {\\displaystyle\\frac{\\partial}{\\partial z}} \\rp \\lp  \\boldsymbol{e}_{x}{\\displaystyle\\frac{\\partial}{\\partial x}}+\\boldsymbol{e}_{y}{\\displaystyle\\frac{\\partial}{\\partial y}}+\\boldsymbol{e}_{z}{\\displaystyle\\frac{\\partial}{\\partial z}} \\rp = \\left ( \\boldsymbol{e}_{x}+\\boldsymbol{e}_{y}\\right ) {\\displaystyle\\frac{\\partial^{2}}{\\partial x\\partial y}}+\\left ( \\boldsymbol{e}_{x}+\\boldsymbol{e}_{z}\\right ) {\\displaystyle\\frac{\\partial^{2}}{\\partial x\\partial z}}+\\left ( \\boldsymbol{e}_{y}+\\boldsymbol{e}_{z}\\right ) {\\displaystyle\\frac{\\partial^{2}}{\\partial y\\partial z}}+\\boldsymbol{e}_{x}{\\displaystyle\\frac{\\partial^{2}}{\\partial x^{2}}}+\\boldsymbol{e}_{y}{\\displaystyle\\frac{\\partial^{2}}{\\partial y^{2}}}+\\boldsymbol{e}_{z}{\\displaystyle\\frac{\\partial^{2}}{\\partial z^{2}}}  $$"
      ],
      "text/plain": [
       "<IPython.core.display.Latex object>"
      ]
     },
     "metadata": {},
     "output_type": "display_data"
    },
    {
     "data": {
      "text/latex": [
       "$$ \\lp  {\\displaystyle\\frac{\\partial}{\\partial x}} + {\\displaystyle\\frac{\\partial}{\\partial y}} + {\\displaystyle\\frac{\\partial}{\\partial z}} \\rp \\lp  x^{2}\\boldsymbol{e}_{x}+y^{2}\\boldsymbol{e}_{y}+z^{2}\\boldsymbol{e}_{z} \\rp = 2 x\\boldsymbol{e}_{x}+2 y\\boldsymbol{e}_{y}+2 z\\boldsymbol{e}_{z}  $$"
      ],
      "text/plain": [
       "<IPython.core.display.Latex object>"
      ]
     },
     "metadata": {},
     "output_type": "display_data"
    },
    {
     "data": {
      "text/latex": [
       "$$ \\lp  x^{2} + y^{2} + z^{2} \\rp \\lp  {\\displaystyle\\frac{\\partial}{\\partial x}} \\rp = \\left ( x^{2} + y^{2} + z^{2}\\right ) {\\displaystyle\\frac{\\partial}{\\partial x}}  $$"
      ],
      "text/plain": [
       "<IPython.core.display.Latex object>"
      ]
     },
     "metadata": {},
     "output_type": "display_data"
    },
    {
     "data": {
      "text/latex": [
       "$$ \\lp  x^{2} + y^{2} + z^{2} \\rp \\lp  {\\displaystyle\\frac{\\partial}{\\partial x}} + {\\displaystyle\\frac{\\partial}{\\partial y}} + {\\displaystyle\\frac{\\partial}{\\partial z}} \\rp = \\left ( x^{2} + y^{2} + z^{2}\\right ) {\\displaystyle\\frac{\\partial}{\\partial x}}+\\left ( x^{2} + y^{2} + z^{2}\\right ) {\\displaystyle\\frac{\\partial}{\\partial y}}+\\left ( x^{2} + y^{2} + z^{2}\\right ) {\\displaystyle\\frac{\\partial}{\\partial z}}  $$"
      ],
      "text/plain": [
       "<IPython.core.display.Latex object>"
      ]
     },
     "metadata": {},
     "output_type": "display_data"
    },
    {
     "data": {
      "text/latex": [
       "$$ \\lp  x^{2} + y^{2} + z^{2} \\rp \\lp  x^{2} + y^{2} + z^{2} \\rp = \\left(x^{2} + y^{2} + z^{2}\\right)^{2}  $$"
      ],
      "text/plain": [
       "<IPython.core.display.Latex object>"
      ]
     },
     "metadata": {},
     "output_type": "display_data"
    },
    {
     "data": {
      "text/latex": [
       "$$ \\lp  x^{2} + y^{2} + z^{2} \\rp \\lp  \\boldsymbol{e}_{x}{\\displaystyle\\frac{\\partial}{\\partial x}}+\\boldsymbol{e}_{y}{\\displaystyle\\frac{\\partial}{\\partial y}}+\\boldsymbol{e}_{z}{\\displaystyle\\frac{\\partial}{\\partial z}} \\rp = \\left ( \\left (x^{2} + y^{2} + z^{2}\\right )\\boldsymbol{e}_{x}\\right ) {\\displaystyle\\frac{\\partial}{\\partial x}}+\\left ( \\left (x^{2} + y^{2} + z^{2}\\right )\\boldsymbol{e}_{y}\\right ) {\\displaystyle\\frac{\\partial}{\\partial y}}+\\left ( \\left (x^{2} + y^{2} + z^{2}\\right )\\boldsymbol{e}_{z}\\right ) {\\displaystyle\\frac{\\partial}{\\partial z}}  $$"
      ],
      "text/plain": [
       "<IPython.core.display.Latex object>"
      ]
     },
     "metadata": {},
     "output_type": "display_data"
    },
    {
     "data": {
      "text/latex": [
       "$$ \\lp  x^{2} + y^{2} + z^{2} \\rp \\lp  x^{2}\\boldsymbol{e}_{x}+y^{2}\\boldsymbol{e}_{y}+z^{2}\\boldsymbol{e}_{z} \\rp = \\left (x^{4} + x^{2} y^{2} + x^{2} z^{2}\\right )\\boldsymbol{e}_{x}+\\left (x^{2} y^{2} + y^{4} + y^{2} z^{2}\\right )\\boldsymbol{e}_{y}+\\left (x^{2} z^{2} + y^{2} z^{2} + z^{4}\\right )\\boldsymbol{e}_{z}  $$"
      ],
      "text/plain": [
       "<IPython.core.display.Latex object>"
      ]
     },
     "metadata": {},
     "output_type": "display_data"
    },
    {
     "data": {
      "text/latex": [
       "$$ \\lp  \\boldsymbol{e}_{x}{\\displaystyle\\frac{\\partial}{\\partial x}}+\\boldsymbol{e}_{y}{\\displaystyle\\frac{\\partial}{\\partial y}}+\\boldsymbol{e}_{z}{\\displaystyle\\frac{\\partial}{\\partial z}} \\rp \\lp  {\\displaystyle\\frac{\\partial}{\\partial x}} \\rp = \\boldsymbol{e}_{y}{\\displaystyle\\frac{\\partial^{2}}{\\partial x\\partial y}}+\\boldsymbol{e}_{z}{\\displaystyle\\frac{\\partial^{2}}{\\partial x\\partial z}}+\\boldsymbol{e}_{x}{\\displaystyle\\frac{\\partial^{2}}{\\partial x^{2}}}  $$"
      ],
      "text/plain": [
       "<IPython.core.display.Latex object>"
      ]
     },
     "metadata": {},
     "output_type": "display_data"
    },
    {
     "data": {
      "text/latex": [
       "$$ \\lp  \\boldsymbol{e}_{x}{\\displaystyle\\frac{\\partial}{\\partial x}}+\\boldsymbol{e}_{y}{\\displaystyle\\frac{\\partial}{\\partial y}}+\\boldsymbol{e}_{z}{\\displaystyle\\frac{\\partial}{\\partial z}} \\rp \\lp  {\\displaystyle\\frac{\\partial}{\\partial x}} + {\\displaystyle\\frac{\\partial}{\\partial y}} + {\\displaystyle\\frac{\\partial}{\\partial z}} \\rp = \\left ( \\boldsymbol{e}_{x}+\\boldsymbol{e}_{y}\\right ) {\\displaystyle\\frac{\\partial^{2}}{\\partial x\\partial y}}+\\left ( \\boldsymbol{e}_{x}+\\boldsymbol{e}_{z}\\right ) {\\displaystyle\\frac{\\partial^{2}}{\\partial x\\partial z}}+\\left ( \\boldsymbol{e}_{y}+\\boldsymbol{e}_{z}\\right ) {\\displaystyle\\frac{\\partial^{2}}{\\partial y\\partial z}}+\\boldsymbol{e}_{x}{\\displaystyle\\frac{\\partial^{2}}{\\partial x^{2}}}+\\boldsymbol{e}_{y}{\\displaystyle\\frac{\\partial^{2}}{\\partial y^{2}}}+\\boldsymbol{e}_{z}{\\displaystyle\\frac{\\partial^{2}}{\\partial z^{2}}}  $$"
      ],
      "text/plain": [
       "<IPython.core.display.Latex object>"
      ]
     },
     "metadata": {},
     "output_type": "display_data"
    },
    {
     "data": {
      "text/latex": [
       "$$ \\lp  \\boldsymbol{e}_{x}{\\displaystyle\\frac{\\partial}{\\partial x}}+\\boldsymbol{e}_{y}{\\displaystyle\\frac{\\partial}{\\partial y}}+\\boldsymbol{e}_{z}{\\displaystyle\\frac{\\partial}{\\partial z}} \\rp \\lp  x^{2} + y^{2} + z^{2} \\rp = 2 x\\boldsymbol{e}_{x}+2 y\\boldsymbol{e}_{y}+2 z\\boldsymbol{e}_{z}  $$"
      ],
      "text/plain": [
       "<IPython.core.display.Latex object>"
      ]
     },
     "metadata": {},
     "output_type": "display_data"
    },
    {
     "data": {
      "text/latex": [
       "$$ \\lp  \\boldsymbol{e}_{x}{\\displaystyle\\frac{\\partial}{\\partial x}}+\\boldsymbol{e}_{y}{\\displaystyle\\frac{\\partial}{\\partial y}}+\\boldsymbol{e}_{z}{\\displaystyle\\frac{\\partial}{\\partial z}} \\rp \\lp  \\boldsymbol{e}_{x}{\\displaystyle\\frac{\\partial}{\\partial x}}+\\boldsymbol{e}_{y}{\\displaystyle\\frac{\\partial}{\\partial y}}+\\boldsymbol{e}_{z}{\\displaystyle\\frac{\\partial}{\\partial z}} \\rp = {\\displaystyle\\frac{\\partial^{2}}{\\partial x^{2}}} + {\\displaystyle\\frac{\\partial^{2}}{\\partial y^{2}}} + {\\displaystyle\\frac{\\partial^{2}}{\\partial z^{2}}}  $$"
      ],
      "text/plain": [
       "<IPython.core.display.Latex object>"
      ]
     },
     "metadata": {},
     "output_type": "display_data"
    },
    {
     "data": {
      "text/latex": [
       "$$ \\lp  \\boldsymbol{e}_{x}{\\displaystyle\\frac{\\partial}{\\partial x}}+\\boldsymbol{e}_{y}{\\displaystyle\\frac{\\partial}{\\partial y}}+\\boldsymbol{e}_{z}{\\displaystyle\\frac{\\partial}{\\partial z}} \\rp \\lp  x^{2}\\boldsymbol{e}_{x}+y^{2}\\boldsymbol{e}_{y}+z^{2}\\boldsymbol{e}_{z} \\rp = 2 x + 2 y + 2 z  $$"
      ],
      "text/plain": [
       "<IPython.core.display.Latex object>"
      ]
     },
     "metadata": {},
     "output_type": "display_data"
    },
    {
     "data": {
      "text/latex": [
       "$$ \\lp  x^{2}\\boldsymbol{e}_{x}+y^{2}\\boldsymbol{e}_{y}+z^{2}\\boldsymbol{e}_{z} \\rp \\lp  {\\displaystyle\\frac{\\partial}{\\partial x}} \\rp = \\left ( x^{2}\\boldsymbol{e}_{x}+y^{2}\\boldsymbol{e}_{y}+z^{2}\\boldsymbol{e}_{z}\\right ) {\\displaystyle\\frac{\\partial}{\\partial x}}  $$"
      ],
      "text/plain": [
       "<IPython.core.display.Latex object>"
      ]
     },
     "metadata": {},
     "output_type": "display_data"
    },
    {
     "data": {
      "text/latex": [
       "$$ \\lp  x^{2}\\boldsymbol{e}_{x}+y^{2}\\boldsymbol{e}_{y}+z^{2}\\boldsymbol{e}_{z} \\rp \\lp  {\\displaystyle\\frac{\\partial}{\\partial x}} + {\\displaystyle\\frac{\\partial}{\\partial y}} + {\\displaystyle\\frac{\\partial}{\\partial z}} \\rp = \\left ( x^{2}\\boldsymbol{e}_{x}+y^{2}\\boldsymbol{e}_{y}+z^{2}\\boldsymbol{e}_{z}\\right ) {\\displaystyle\\frac{\\partial}{\\partial x}}+\\left ( x^{2}\\boldsymbol{e}_{x}+y^{2}\\boldsymbol{e}_{y}+z^{2}\\boldsymbol{e}_{z}\\right ) {\\displaystyle\\frac{\\partial}{\\partial y}}+\\left ( x^{2}\\boldsymbol{e}_{x}+y^{2}\\boldsymbol{e}_{y}+z^{2}\\boldsymbol{e}_{z}\\right ) {\\displaystyle\\frac{\\partial}{\\partial z}}  $$"
      ],
      "text/plain": [
       "<IPython.core.display.Latex object>"
      ]
     },
     "metadata": {},
     "output_type": "display_data"
    },
    {
     "data": {
      "text/latex": [
       "$$ \\lp  x^{2}\\boldsymbol{e}_{x}+y^{2}\\boldsymbol{e}_{y}+z^{2}\\boldsymbol{e}_{z} \\rp \\lp  x^{2} + y^{2} + z^{2} \\rp = \\left (x^{4} + x^{2} y^{2} + x^{2} z^{2}\\right )\\boldsymbol{e}_{x}+\\left (x^{2} y^{2} + y^{4} + y^{2} z^{2}\\right )\\boldsymbol{e}_{y}+\\left (x^{2} z^{2} + y^{2} z^{2} + z^{4}\\right )\\boldsymbol{e}_{z}  $$"
      ],
      "text/plain": [
       "<IPython.core.display.Latex object>"
      ]
     },
     "metadata": {},
     "output_type": "display_data"
    },
    {
     "data": {
      "text/latex": [
       "$$ \\lp  x^{2}\\boldsymbol{e}_{x}+y^{2}\\boldsymbol{e}_{y}+z^{2}\\boldsymbol{e}_{z} \\rp \\lp  \\boldsymbol{e}_{x}{\\displaystyle\\frac{\\partial}{\\partial x}}+\\boldsymbol{e}_{y}{\\displaystyle\\frac{\\partial}{\\partial y}}+\\boldsymbol{e}_{z}{\\displaystyle\\frac{\\partial}{\\partial z}} \\rp = \\left ( x^{2}- y^{2}\\boldsymbol{e}_{x}\\wedge \\boldsymbol{e}_{y}- z^{2}\\boldsymbol{e}_{x}\\wedge \\boldsymbol{e}_{z}\\right ) {\\displaystyle\\frac{\\partial}{\\partial x}}+\\left ( y^{2}+x^{2}\\boldsymbol{e}_{x}\\wedge \\boldsymbol{e}_{y}- z^{2}\\boldsymbol{e}_{y}\\wedge \\boldsymbol{e}_{z}\\right ) {\\displaystyle\\frac{\\partial}{\\partial y}}+\\left ( z^{2}+x^{2}\\boldsymbol{e}_{x}\\wedge \\boldsymbol{e}_{z}+y^{2}\\boldsymbol{e}_{y}\\wedge \\boldsymbol{e}_{z}\\right ) {\\displaystyle\\frac{\\partial}{\\partial z}}  $$"
      ],
      "text/plain": [
       "<IPython.core.display.Latex object>"
      ]
     },
     "metadata": {},
     "output_type": "display_data"
    },
    {
     "data": {
      "text/latex": [
       "$$ \\lp  x^{2}\\boldsymbol{e}_{x}+y^{2}\\boldsymbol{e}_{y}+z^{2}\\boldsymbol{e}_{z} \\rp \\lp  x^{2}\\boldsymbol{e}_{x}+y^{2}\\boldsymbol{e}_{y}+z^{2}\\boldsymbol{e}_{z} \\rp = x^{4} + y^{4} + z^{4}  $$"
      ],
      "text/plain": [
       "<IPython.core.display.Latex object>"
      ]
     },
     "metadata": {},
     "output_type": "display_data"
    }
   ],
   "source": [
    "print('h',r'\\T{Test arguments}')\n",
    "for arg in args:\n",
    "    print(r'\\T{'+arg[0]+' =}',arg[1])\n",
    "\n",
    "print('h',r'\\T{Test + op}')\n",
    "for arg1 in args:\n",
    "    for arg2 in args:\n",
    "        print(r'\\lp ',arg1[1],r'\\rp + \\lp ',arg2[1],r'\\rp =',arg1[1]+arg2[1])\n",
    "\n",
    "print('h',r'\\T{Test - op}')\n",
    "for arg1 in args:\n",
    "    for arg2 in args:\n",
    "        print(r'\\lp ',arg1[1],r'\\rp - \\lp ',arg2[1],r'\\rp =',arg1[1]-arg2[1])\n",
    "\n",
    "print('h',r'\\T{Test * op}')\n",
    "for arg1 in args:\n",
    "    for arg2 in args:\n",
    "        print(r'\\lp ',arg1[1],r'\\rp \\lp ',arg2[1],r'\\rp =',arg1[1]*arg2[1])"
   ]
  },
  {
   "cell_type": "markdown",
   "metadata": {},
   "source": [
    "### Formatting Multivector Differential Operator \n",
    "\n",
    "Multivectors the mulitvector differential operators have a `Fmt()` member function for formatting the ouput. The default is `Fmt(1)` which prints one differential operator per line and `Fmt(2)` which prints one partial derivative and it's coefficient per line.  Some examples are:"
   ]
  },
  {
   "cell_type": "code",
   "execution_count": 4,
   "metadata": {},
   "outputs": [
    {
     "data": {
      "text/latex": [
       "$$ \\T{dDop =} \\left ( x^{2} + y^{2} + z^{2}\\right ) +\\left ( 1+\\boldsymbol{e}_{x}\\right ) {\\displaystyle\\frac{\\partial}{\\partial x}}+\\boldsymbol{e}_{y}{\\displaystyle\\frac{\\partial}{\\partial y}}+\\boldsymbol{e}_{z}{\\displaystyle\\frac{\\partial}{\\partial z}}  $$"
      ],
      "text/plain": [
       "<IPython.core.display.Latex object>"
      ]
     },
     "metadata": {},
     "output_type": "display_data"
    },
    {
     "data": {
      "text/latex": [
       "$$ \\begin{array}{c}\\hline \\T{dDop =} \\begin{array}{l} \\left ( x^{2} + y^{2} + z^{2}\\right )  \\\\ +\\left ( 1+\\boldsymbol{e}_{x}\\right ) {\\displaystyle\\frac{\\partial}{\\partial x}} \\\\ +\\boldsymbol{e}_{y}{\\displaystyle\\frac{\\partial}{\\partial y}} \\\\ +\\boldsymbol{e}_{z}{\\displaystyle\\frac{\\partial}{\\partial z}} \\end{array}  \\\\ \\hline \\end{array}  $$"
      ],
      "text/plain": [
       "<IPython.core.display.Latex object>"
      ]
     },
     "metadata": {},
     "output_type": "display_data"
    }
   ],
   "source": [
    "dDop = grad + pDx + fxyz\n",
    "print(r'\\T{dDop =}',dDop)\n",
    "print('h',r'\\T{dDop =}',dDop.Fmt(2))"
   ]
  },
  {
   "cell_type": "markdown",
   "metadata": {},
   "source": [
    "### Left and Right Differential Operators\n",
    "\n",
    "In geometric calculus the occasion arises when instead of having a differential operator operate on operators and multivectors to the right in a multiplicative expression we wish the operations to occur to the left.  One way of denoting this in a document is to use an arrow accent with the arrow pointing to the left or right.  For example the usual $\\nabla$ operator is equivalent to $\\rop{\\nabla}$ while the left operator would be designated by $\\lop{\\nabla}$.  When a geometric algebra is instanciated (for example `o3d`) then $\\rop{\\nabla} =$ `o3d.grad` and $\\lop{\\nabla} =$ `o3d.rgrad`.  $\\lop{\\nabla}$ is called `o3d.rgrad` because it is to the right of the operands in the expression.  Two member of the `Dop` class, `rop()` and `lop()` force an operator to be left or right operating. If `D` is a multivector differential operator then `D.rop()` modifies `D` to the right operation and `D.lop()` modifies `D` to the left operation (both `D.rop()` and `D.lop()` return `None`).\n",
    "\n",
    "Printing `o3d.grad` and `o3d.rgrag` gives indentical output: "
   ]
  },
  {
   "cell_type": "code",
   "execution_count": 5,
   "metadata": {},
   "outputs": [
    {
     "data": {
      "text/latex": [
       "$$ \\T{o3d.grad} = \\boldsymbol{e}_{x}{\\displaystyle\\frac{\\partial}{\\partial x}}+\\boldsymbol{e}_{y}{\\displaystyle\\frac{\\partial}{\\partial y}}+\\boldsymbol{e}_{z}{\\displaystyle\\frac{\\partial}{\\partial z}}  $$"
      ],
      "text/plain": [
       "<IPython.core.display.Latex object>"
      ]
     },
     "metadata": {},
     "output_type": "display_data"
    },
    {
     "data": {
      "text/latex": [
       "$$ \\T{o3d.rgrad} = \\boldsymbol{e}_{x}{\\displaystyle\\frac{\\partial}{\\partial x}}+\\boldsymbol{e}_{y}{\\displaystyle\\frac{\\partial}{\\partial y}}+\\boldsymbol{e}_{z}{\\displaystyle\\frac{\\partial}{\\partial z}}  $$"
      ],
      "text/plain": [
       "<IPython.core.display.Latex object>"
      ]
     },
     "metadata": {},
     "output_type": "display_data"
    }
   ],
   "source": [
    "print(r'\\T{o3d.grad} =', o3d.grad)\n",
    "print(r'\\T{o3d.rgrad} =', o3d.rgrad)"
   ]
  },
  {
   "cell_type": "markdown",
   "metadata": {},
   "source": [
    "But if one operates with $\\lop{\\nabla}$ and $\\rop{\\nabla}$ on a multivector function one gets:"
   ]
  },
  {
   "cell_type": "code",
   "execution_count": 6,
   "metadata": {},
   "outputs": [
    {
     "data": {
      "text/latex": [
       "$$ \\rop{\\nabla}\\lp x^2\\es{x}+y^2\\es{y}+z^2\\es{z}\\rp = 2 x + 2 y + 2 z  $$"
      ],
      "text/plain": [
       "<IPython.core.display.Latex object>"
      ]
     },
     "metadata": {},
     "output_type": "display_data"
    },
    {
     "data": {
      "text/latex": [
       "$$ \\lp x^2\\es{x}+y^2\\es{y}+z^2\\es{z}\\rp\\rop{\\nabla} = \\left ( x^{2}- y^{2}\\boldsymbol{e}_{x}\\wedge \\boldsymbol{e}_{y}- z^{2}\\boldsymbol{e}_{x}\\wedge \\boldsymbol{e}_{z}\\right ) {\\displaystyle\\frac{\\partial}{\\partial x}}+\\left ( y^{2}+x^{2}\\boldsymbol{e}_{x}\\wedge \\boldsymbol{e}_{y}- z^{2}\\boldsymbol{e}_{y}\\wedge \\boldsymbol{e}_{z}\\right ) {\\displaystyle\\frac{\\partial}{\\partial y}}+\\left ( z^{2}+x^{2}\\boldsymbol{e}_{x}\\wedge \\boldsymbol{e}_{z}+y^{2}\\boldsymbol{e}_{y}\\wedge \\boldsymbol{e}_{z}\\right ) {\\displaystyle\\frac{\\partial}{\\partial z}}  $$"
      ],
      "text/plain": [
       "<IPython.core.display.Latex object>"
      ]
     },
     "metadata": {},
     "output_type": "display_data"
    },
    {
     "data": {
      "text/latex": [
       "$$ \\lop{\\nabla}\\lp x^2\\es{x}+y^2\\es{y}+z^2\\es{z}\\rp = \\left ( x^{2}+y^{2}\\boldsymbol{e}_{x}\\wedge \\boldsymbol{e}_{y}+z^{2}\\boldsymbol{e}_{x}\\wedge \\boldsymbol{e}_{z}\\right ) {\\displaystyle\\frac{\\partial}{\\partial x}}+\\left ( y^{2}- x^{2}\\boldsymbol{e}_{x}\\wedge \\boldsymbol{e}_{y}+z^{2}\\boldsymbol{e}_{y}\\wedge \\boldsymbol{e}_{z}\\right ) {\\displaystyle\\frac{\\partial}{\\partial y}}+\\left ( z^{2}- x^{2}\\boldsymbol{e}_{x}\\wedge \\boldsymbol{e}_{z}- y^{2}\\boldsymbol{e}_{y}\\wedge \\boldsymbol{e}_{z}\\right ) {\\displaystyle\\frac{\\partial}{\\partial z}}  $$"
      ],
      "text/plain": [
       "<IPython.core.display.Latex object>"
      ]
     },
     "metadata": {},
     "output_type": "display_data"
    },
    {
     "data": {
      "text/latex": [
       "$$ \\lp x^2\\es{x}+y^2\\es{y}+z^2\\es{z}\\rp\\lop{\\nabla} = 2 x + 2 y + 2 z  $$"
      ],
      "text/plain": [
       "<IPython.core.display.Latex object>"
      ]
     },
     "metadata": {},
     "output_type": "display_data"
    }
   ],
   "source": [
    "print(r'\\rop{\\nabla}\\lp x^2\\es{x}+y^2\\es{y}+z^2\\es{z}\\rp =',o3d.grad*r)\n",
    "print(r'\\lp x^2\\es{x}+y^2\\es{y}+z^2\\es{z}\\rp\\rop{\\nabla} =',r*o3d.grad)\n",
    "print(r'\\lop{\\nabla}\\lp x^2\\es{x}+y^2\\es{y}+z^2\\es{z}\\rp =',o3d.rgrad*r)\n",
    "print(r'\\lp x^2\\es{x}+y^2\\es{y}+z^2\\es{z}\\rp\\lop{\\nabla} =',r*o3d.rgrad)"
   ]
  },
  {
   "cell_type": "code",
   "execution_count": 8,
   "metadata": {},
   "outputs": [
    {
     "data": {
      "text/latex": [
       "$$ \\bs{A} = A +A^{x} \\boldsymbol{e}_{x}+A^{y} \\boldsymbol{e}_{y}+A^{z} \\boldsymbol{e}_{z}+A^{xy} \\boldsymbol{e}_{x}\\wedge \\boldsymbol{e}_{y}+A^{xz} \\boldsymbol{e}_{x}\\wedge \\boldsymbol{e}_{z}+A^{yz} \\boldsymbol{e}_{y}\\wedge \\boldsymbol{e}_{z}+A^{xyz} \\boldsymbol{e}_{x}\\wedge \\boldsymbol{e}_{y}\\wedge \\boldsymbol{e}_{z}  $$"
      ],
      "text/plain": [
       "<IPython.core.display.Latex object>"
      ]
     },
     "metadata": {},
     "output_type": "display_data"
    },
    {
     "data": {
      "text/latex": [
       "$$ \\bs{B} = B +B^{x} \\boldsymbol{e}_{x}+B^{y} \\boldsymbol{e}_{y}+B^{z} \\boldsymbol{e}_{z}+B^{xy} \\boldsymbol{e}_{x}\\wedge \\boldsymbol{e}_{y}+B^{xz} \\boldsymbol{e}_{x}\\wedge \\boldsymbol{e}_{z}+B^{yz} \\boldsymbol{e}_{y}\\wedge \\boldsymbol{e}_{z}+B^{xyz} \\boldsymbol{e}_{x}\\wedge \\boldsymbol{e}_{y}\\wedge \\boldsymbol{e}_{z}  $$"
      ],
      "text/plain": [
       "<IPython.core.display.Latex object>"
      ]
     },
     "metadata": {},
     "output_type": "display_data"
    },
    {
     "data": {
      "text/latex": [
       "$$ \\begin{array}{c}\\hline \\bs{AB} = \\begin{array}{l} A  B  + A^{x}  B^{x}  - A^{xy}  B^{xy}  - A^{xyz}  B^{xyz}  - A^{xz}  B^{xz}  + A^{y}  B^{y}  - A^{yz}  B^{yz}  + A^{z}  B^{z} \\\\ +\\left (A  B^{x}  + A^{x}  B  + A^{xy}  B^{y}  - A^{xyz}  B^{yz}  + A^{xz}  B^{z}  - A^{y}  B^{xy}  - A^{yz}  B^{xyz}  - A^{z}  B^{xz} \\right )\\boldsymbol{e}_{x} \\\\ +\\left (A  B^{y}  + A^{x}  B^{xy}  - A^{xy}  B^{x}  + A^{xyz}  B^{xz}  + A^{xz}  B^{xyz}  + A^{y}  B  + A^{yz}  B^{z}  - A^{z}  B^{yz} \\right )\\boldsymbol{e}_{y} \\\\ +\\left (A  B^{z}  + A^{x}  B^{xz}  - A^{xy}  B^{xyz}  - A^{xyz}  B^{xy}  - A^{xz}  B^{x}  + A^{y}  B^{yz}  - A^{yz}  B^{y}  + A^{z}  B \\right )\\boldsymbol{e}_{z} \\\\ +\\left (A  B^{xy}  + A^{x}  B^{y}  + A^{xy}  B  + A^{xyz}  B^{z}  - A^{xz}  B^{yz}  - A^{y}  B^{x}  + A^{yz}  B^{xz}  + A^{z}  B^{xyz} \\right )\\boldsymbol{e}_{x}\\wedge \\boldsymbol{e}_{y} \\\\ +\\left (A  B^{xz}  + A^{x}  B^{z}  + A^{xy}  B^{yz}  - A^{xyz}  B^{y}  + A^{xz}  B  - A^{y}  B^{xyz}  - A^{yz}  B^{xy}  - A^{z}  B^{x} \\right )\\boldsymbol{e}_{x}\\wedge \\boldsymbol{e}_{z} \\\\ +\\left (A  B^{yz}  + A^{x}  B^{xyz}  - A^{xy}  B^{xz}  + A^{xyz}  B^{x}  + A^{xz}  B^{xy}  + A^{y}  B^{z}  + A^{yz}  B  - A^{z}  B^{y} \\right )\\boldsymbol{e}_{y}\\wedge \\boldsymbol{e}_{z} \\\\ +\\left (A  B^{xyz}  + A^{x}  B^{yz}  + A^{xy}  B^{z}  + A^{xyz}  B  - A^{xz}  B^{y}  - A^{y}  B^{xz}  + A^{yz}  B^{x}  + A^{z}  B^{xy} \\right )\\boldsymbol{e}_{x}\\wedge \\boldsymbol{e}_{y}\\wedge \\boldsymbol{e}\\end{array}   \\\\ \\hline \\end{array}  $$"
      ],
      "text/plain": [
       "<IPython.core.display.Latex object>"
      ]
     },
     "metadata": {},
     "output_type": "display_data"
    },
    {
     "data": {
      "text/latex": [
       "$$ A  \\partial_{x} B^{x}  - A  \\partial_{x} B^{x}  + A  \\partial_{y} B^{y}  - A  \\partial_{y} B^{y}  + A  \\partial_{z} B^{z}  - A  \\partial_{z} B^{z}  + A^{x}  \\partial_{x} B  - A^{x}  \\partial_{x} B  + A^{x}  \\partial_{y} B^{xy}  - A^{x}  \\partial_{y} B^{xy}  + A^{x}  \\partial_{z} B^{xz}  - A^{x}  \\partial_{z} B^{xz}  + A^{xy}  \\partial_{y} B^{x}  - A^{xy}  \\partial_{y} B^{x}  + A^{xy}  \\partial_{z} B^{xyz}  - A^{xy}  \\partial_{z} B^{xyz}  - A^{xy}  \\partial_{x} B^{y}  + A^{xy}  \\partial_{x} B^{y}  - A^{xyz}  \\partial_{z} B^{xy}  + A^{xyz}  \\partial_{z} B^{xy}  - A^{xyz}  \\partial_{y} B^{xz}  + A^{xyz}  \\partial_{y} B^{xz}  - A^{xyz}  \\partial_{x} B^{yz}  + A^{xyz}  \\partial_{x} B^{yz}  + A^{xz}  \\partial_{z} B^{x}  - A^{xz}  \\partial_{z} B^{x}  - A^{xz}  \\partial_{y} B^{xyz}  + A^{xz}  \\partial_{y} B^{xyz}  + A^{xz}  \\partial_{x} B^{z}  - A^{xz}  \\partial_{x} B^{z}  - A^{y}  \\partial_{y} B  + A^{y}  \\partial_{y} B  + A^{y}  \\partial_{x} B^{xy}  - A^{y}  \\partial_{x} B^{xy}  - A^{y}  \\partial_{z} B^{yz}  + A^{y}  \\partial_{z} B^{yz}  + A^{yz}  \\partial_{x} B^{xyz}  - A^{yz}  \\partial_{x} B^{xyz}  + A^{yz}  \\partial_{z} B^{y}  - A^{yz}  \\partial_{z} B^{y}  + A^{yz}  \\partial_{y} B^{z}  - A^{yz}  \\partial_{y} B^{z}  - A^{z}  \\partial_{z} B  + A^{z}  \\partial_{z} B  + A^{z}  \\partial_{x} B^{xz}  - A^{z}  \\partial_{x} B^{xz}  - A^{z}  \\partial_{y} B^{yz}  + A^{z}  \\partial_{y} B^{yz} +\\left (A  \\partial_{x} B  - A  \\partial_{x} B  - A  \\partial_{y} B^{xy}  + A  \\partial_{y} B^{xy}  - A  \\partial_{z} B^{xz}  + A  \\partial_{z} B^{xz}  + A^{x}  \\partial_{x} B^{x}  - A^{x}  \\partial_{x} B^{x}  - A^{x}  \\partial_{y} B^{y}  + A^{x}  \\partial_{y} B^{y}  - A^{x}  \\partial_{z} B^{z}  + A^{x}  \\partial_{z} B^{z}  + A^{xy}  \\partial_{y} B  - A^{xy}  \\partial_{y} B  + A^{xy}  \\partial_{x} B^{xy}  - A^{xy}  \\partial_{x} B^{xy}  + A^{xy}  \\partial_{z} B^{yz}  - A^{xy}  \\partial_{z} B^{yz}  + A^{xyz}  \\partial_{x} B^{xyz}  - A^{xyz}  \\partial_{x} B^{xyz}  - A^{xyz}  \\partial_{z} B^{y}  + A^{xyz}  \\partial_{z} B^{y}  - A^{xyz}  \\partial_{y} B^{z}  + A^{xyz}  \\partial_{y} B^{z}  + A^{xz}  \\partial_{z} B  - A^{xz}  \\partial_{z} B  + A^{xz}  \\partial_{x} B^{xz}  - A^{xz}  \\partial_{x} B^{xz}  + A^{xz}  \\partial_{y} B^{yz}  - A^{xz}  \\partial_{y} B^{yz}  - A^{y}  \\partial_{y} B^{x}  + A^{y}  \\partial_{y} B^{x}  - A^{y}  \\partial_{z} B^{xyz}  + A^{y}  \\partial_{z} B^{xyz}  - A^{y}  \\partial_{x} B^{y}  + A^{y}  \\partial_{x} B^{y}  + A^{yz}  \\partial_{z} B^{xy}  - A^{yz}  \\partial_{z} B^{xy}  + A^{yz}  \\partial_{y} B^{xz}  - A^{yz}  \\partial_{y} B^{xz}  - A^{yz}  \\partial_{x} B^{yz}  + A^{yz}  \\partial_{x} B^{yz}  - A^{z}  \\partial_{z} B^{x}  + A^{z}  \\partial_{z} B^{x}  + A^{z}  \\partial_{y} B^{xyz}  - A^{z}  \\partial_{y} B^{xyz}  + A^{z}  \\partial_{x} B^{z}  - A^{z}  \\partial_{x} B^{z} \\right )\\boldsymbol{e}_{x}-\\left (A  \\partial_{y} B  - A  \\partial_{y} B  + A  \\partial_{x} B^{xy}  - A  \\partial_{x} B^{xy}  - A  \\partial_{z} B^{yz}  + A  \\partial_{z} B^{yz}  + A^{x}  \\partial_{y} B^{x}  - A^{x}  \\partial_{y} B^{x}  - A^{x}  \\partial_{z} B^{xyz}  + A^{x}  \\partial_{z} B^{xyz}  + A^{x}  \\partial_{x} B^{y}  - A^{x}  \\partial_{x} B^{y}  - A^{xy}  \\partial_{x} B  + A^{xy}  \\partial_{x} B  + A^{xy}  \\partial_{y} B^{xy}  - A^{xy}  \\partial_{y} B^{xy}  - A^{xy}  \\partial_{z} B^{xz}  + A^{xy}  \\partial_{z} B^{xz}  - A^{xyz}  \\partial_{z} B^{x}  + A^{xyz}  \\partial_{z} B^{x}  - A^{xyz}  \\partial_{y} B^{xyz}  + A^{xyz}  \\partial_{y} B^{xyz}  + A^{xyz}  \\partial_{x} B^{z}  - A^{xyz}  \\partial_{x} B^{z}  + A^{xz}  \\partial_{z} B^{xy}  - A^{xz}  \\partial_{z} B^{xy}  - A^{xz}  \\partial_{y} B^{xz}  + A^{xz}  \\partial_{y} B^{xz}  + A^{xz}  \\partial_{x} B^{yz}  - A^{xz}  \\partial_{x} B^{yz}  + A^{y}  \\partial_{x} B^{x}  - A^{y}  \\partial_{x} B^{x}  - A^{y}  \\partial_{y} B^{y}  + A^{y}  \\partial_{y} B^{y}  + A^{y}  \\partial_{z} B^{z}  - A^{y}  \\partial_{z} B^{z}  - A^{yz}  \\partial_{z} B  + A^{yz}  \\partial_{z} B  + A^{yz}  \\partial_{x} B^{xz}  - A^{yz}  \\partial_{x} B^{xz}  + A^{yz}  \\partial_{y} B^{yz}  - A^{yz}  \\partial_{y} B^{yz}  + A^{z}  \\partial_{x} B^{xyz}  - A^{z}  \\partial_{x} B^{xyz}  + A^{z}  \\partial_{z} B^{y}  - A^{z}  \\partial_{z} B^{y}  - A^{z}  \\partial_{y} B^{z}  + A^{z}  \\partial_{y} B^{z} \\right )\\boldsymbol{e}_{y}-\\left (A  \\partial_{z} B  - A  \\partial_{z} B  + A  \\partial_{x} B^{xz}  - A  \\partial_{x} B^{xz}  - A  \\partial_{y} B^{yz}  + A  \\partial_{y} B^{yz}  + A^{x}  \\partial_{z} B^{x}  - A^{x}  \\partial_{z} B^{x}  + A^{x}  \\partial_{y} B^{xyz}  - A^{x}  \\partial_{y} B^{xyz}  + A^{x}  \\partial_{x} B^{z}  - A^{x}  \\partial_{x} B^{z}  + A^{xy}  \\partial_{z} B^{xy}  - A^{xy}  \\partial_{z} B^{xy}  - A^{xy}  \\partial_{y} B^{xz}  + A^{xy}  \\partial_{y} B^{xz}  - A^{xy}  \\partial_{x} B^{yz}  + A^{xy}  \\partial_{x} B^{yz}  + A^{xyz}  \\partial_{y} B^{x}  - A^{xyz}  \\partial_{y} B^{x}  - A^{xyz}  \\partial_{z} B^{xyz}  + A^{xyz}  \\partial_{z} B^{xyz}  - A^{xyz}  \\partial_{x} B^{y}  + A^{xyz}  \\partial_{x} B^{y}  - A^{xz}  \\partial_{x} B  + A^{xz}  \\partial_{x} B  - A^{xz}  \\partial_{y} B^{xy}  + A^{xz}  \\partial_{y} B^{xy}  + A^{xz}  \\partial_{z} B^{xz}  - A^{xz}  \\partial_{z} B^{xz}  - A^{y}  \\partial_{x} B^{xyz}  + A^{y}  \\partial_{x} B^{xyz}  + A^{y}  \\partial_{z} B^{y}  - A^{y}  \\partial_{z} B^{y}  - A^{y}  \\partial_{y} B^{z}  + A^{y}  \\partial_{y} B^{z}  + A^{yz}  \\partial_{y} B  - A^{yz}  \\partial_{y} B  - A^{yz}  \\partial_{x} B^{xy}  + A^{yz}  \\partial_{x} B^{xy}  - A^{yz}  \\partial_{z} B^{yz}  + A^{yz}  \\partial_{z} B^{yz}  + A^{z}  \\partial_{x} B^{x}  - A^{z}  \\partial_{x} B^{x}  + A^{z}  \\partial_{y} B^{y}  - A^{z}  \\partial_{y} B^{y}  - A^{z}  \\partial_{z} B^{z}  + A^{z}  \\partial_{z} B^{z} \\right )\\boldsymbol{e}_{z}+\\left (A  \\partial_{y} B^{x}  - A  \\partial_{y} B^{x}  - A  \\partial_{z} B^{xyz}  + A  \\partial_{z} B^{xyz}  - A  \\partial_{x} B^{y}  + A  \\partial_{x} B^{y}  + A^{x}  \\partial_{y} B  - A^{x}  \\partial_{y} B  - A^{x}  \\partial_{x} B^{xy}  + A^{x}  \\partial_{x} B^{xy}  - A^{x}  \\partial_{z} B^{yz}  + A^{x}  \\partial_{z} B^{yz}  - A^{xy}  \\partial_{x} B^{x}  + A^{xy}  \\partial_{x} B^{x}  - A^{xy}  \\partial_{y} B^{y}  + A^{xy}  \\partial_{y} B^{y}  + A^{xy}  \\partial_{z} B^{z}  - A^{xy}  \\partial_{z} B^{z}  - A^{xyz}  \\partial_{z} B  + A^{xyz}  \\partial_{z} B  - A^{xyz}  \\partial_{x} B^{xz}  + A^{xyz}  \\partial_{x} B^{xz}  + A^{xyz}  \\partial_{y} B^{yz}  - A^{xyz}  \\partial_{y} B^{yz}  - A^{xz}  \\partial_{x} B^{xyz}  + A^{xz}  \\partial_{x} B^{xyz}  + A^{xz}  \\partial_{z} B^{y}  - A^{xz}  \\partial_{z} B^{y}  - A^{xz}  \\partial_{y} B^{z}  + A^{xz}  \\partial_{y} B^{z}  + A^{y}  \\partial_{x} B  - A^{y}  \\partial_{x} B  + A^{y}  \\partial_{y} B^{xy}  - A^{y}  \\partial_{y} B^{xy}  - A^{y}  \\partial_{z} B^{xz}  + A^{y}  \\partial_{z} B^{xz}  - A^{yz}  \\partial_{z} B^{x}  + A^{yz}  \\partial_{z} B^{x}  - A^{yz}  \\partial_{y} B^{xyz}  + A^{yz}  \\partial_{y} B^{xyz}  + A^{yz}  \\partial_{x} B^{z}  - A^{yz}  \\partial_{x} B^{z}  + A^{z}  \\partial_{z} B^{xy}  - A^{z}  \\partial_{z} B^{xy}  - A^{z}  \\partial_{y} B^{xz}  + A^{z}  \\partial_{y} B^{xz}  - A^{z}  \\partial_{x} B^{yz}  + A^{z}  \\partial_{x} B^{yz} \\right )\\boldsymbol{e}_{x}\\wedge \\boldsymbol{e}_{y}+\\left (A  \\partial_{z} B^{x}  - A  \\partial_{z} B^{x}  + A  \\partial_{y} B^{xyz}  - A  \\partial_{y} B^{xyz}  + A  \\partial_{x} B^{z}  - A  \\partial_{x} B^{z}  + A^{x}  \\partial_{z} B  - A^{x}  \\partial_{z} B  - A^{x}  \\partial_{x} B^{xz}  + A^{x}  \\partial_{x} B^{xz}  - A^{x}  \\partial_{y} B^{yz}  + A^{x}  \\partial_{y} B^{yz}  + A^{xy}  \\partial_{x} B^{xyz}  - A^{xy}  \\partial_{x} B^{xyz}  + A^{xy}  \\partial_{z} B^{y}  - A^{xy}  \\partial_{z} B^{y}  - A^{xy}  \\partial_{y} B^{z}  + A^{xy}  \\partial_{y} B^{z}  + A^{xyz}  \\partial_{y} B  - A^{xyz}  \\partial_{y} B  + A^{xyz}  \\partial_{x} B^{xy}  - A^{xyz}  \\partial_{x} B^{xy}  - A^{xyz}  \\partial_{z} B^{yz}  + A^{xyz}  \\partial_{z} B^{yz}  - A^{xz}  \\partial_{x} B^{x}  + A^{xz}  \\partial_{x} B^{x}  + A^{xz}  \\partial_{y} B^{y}  - A^{xz}  \\partial_{y} B^{y}  - A^{xz}  \\partial_{z} B^{z}  + A^{xz}  \\partial_{z} B^{z}  + A^{y}  \\partial_{z} B^{xy}  - A^{y}  \\partial_{z} B^{xy}  - A^{y}  \\partial_{y} B^{xz}  + A^{y}  \\partial_{y} B^{xz}  + A^{y}  \\partial_{x} B^{yz}  - A^{y}  \\partial_{x} B^{yz}  + A^{yz}  \\partial_{y} B^{x}  - A^{yz}  \\partial_{y} B^{x}  - A^{yz}  \\partial_{z} B^{xyz}  + A^{yz}  \\partial_{z} B^{xyz}  + A^{yz}  \\partial_{x} B^{y}  - A^{yz}  \\partial_{x} B^{y}  + A^{z}  \\partial_{x} B  - A^{z}  \\partial_{x} B  - A^{z}  \\partial_{y} B^{xy}  + A^{z}  \\partial_{y} B^{xy}  + A^{z}  \\partial_{z} B^{xz}  - A^{z}  \\partial_{z} B^{xz} \\right )\\boldsymbol{e}_{x}\\wedge \\boldsymbol{e}_{z}-\\left (A  \\partial_{x} B^{xyz}  - A  \\partial_{x} B^{xyz}  - A  \\partial_{z} B^{y}  + A  \\partial_{z} B^{y}  - A  \\partial_{y} B^{z}  + A  \\partial_{y} B^{z}  + A^{x}  \\partial_{z} B^{xy}  - A^{x}  \\partial_{z} B^{xy}  + A^{x}  \\partial_{y} B^{xz}  - A^{x}  \\partial_{y} B^{xz}  - A^{x}  \\partial_{x} B^{yz}  + A^{x}  \\partial_{x} B^{yz}  + A^{xy}  \\partial_{z} B^{x}  - A^{xy}  \\partial_{z} B^{x}  - A^{xy}  \\partial_{y} B^{xyz}  + A^{xy}  \\partial_{y} B^{xyz}  + A^{xy}  \\partial_{x} B^{z}  - A^{xy}  \\partial_{x} B^{z}  - A^{xyz}  \\partial_{x} B  + A^{xyz}  \\partial_{x} B  + A^{xyz}  \\partial_{y} B^{xy}  - A^{xyz}  \\partial_{y} B^{xy}  + A^{xyz}  \\partial_{z} B^{xz}  - A^{xyz}  \\partial_{z} B^{xz}  - A^{xz}  \\partial_{y} B^{x}  + A^{xz}  \\partial_{y} B^{x}  - A^{xz}  \\partial_{z} B^{xyz}  + A^{xz}  \\partial_{z} B^{xyz}  - A^{xz}  \\partial_{x} B^{y}  + A^{xz}  \\partial_{x} B^{y}  - A^{y}  \\partial_{z} B  + A^{y}  \\partial_{z} B  - A^{y}  \\partial_{x} B^{xz}  + A^{y}  \\partial_{x} B^{xz}  - A^{y}  \\partial_{y} B^{yz}  + A^{y}  \\partial_{y} B^{yz}  - A^{yz}  \\partial_{x} B^{x}  + A^{yz}  \\partial_{x} B^{x}  + A^{yz}  \\partial_{y} B^{y}  - A^{yz}  \\partial_{y} B^{y}  + A^{yz}  \\partial_{z} B^{z}  - A^{yz}  \\partial_{z} B^{z}  + A^{z}  \\partial_{y} B  - A^{z}  \\partial_{y} B  + A^{z}  \\partial_{x} B^{xy}  - A^{z}  \\partial_{x} B^{xy}  + A^{z}  \\partial_{z} B^{yz}  - A^{z}  \\partial_{z} B^{yz} \\right )\\boldsymbol{e}_{y}\\wedge \\boldsymbol{e}_{z}+\\left (A  \\partial_{z} B^{xy}  - A  \\partial_{z} B^{xy}  + A  \\partial_{y} B^{xz}  - A  \\partial_{y} B^{xz}  + A  \\partial_{x} B^{yz}  - A  \\partial_{x} B^{yz}  - A^{x}  \\partial_{x} B^{xyz}  + A^{x}  \\partial_{x} B^{xyz}  - A^{x}  \\partial_{z} B^{y}  + A^{x}  \\partial_{z} B^{y}  - A^{x}  \\partial_{y} B^{z}  + A^{x}  \\partial_{y} B^{z}  - A^{xy}  \\partial_{z} B  + A^{xy}  \\partial_{z} B  + A^{xy}  \\partial_{x} B^{xz}  - A^{xy}  \\partial_{x} B^{xz}  - A^{xy}  \\partial_{y} B^{yz}  + A^{xy}  \\partial_{y} B^{yz}  + A^{xyz}  \\partial_{x} B^{x}  - A^{xyz}  \\partial_{x} B^{x}  + A^{xyz}  \\partial_{y} B^{y}  - A^{xyz}  \\partial_{y} B^{y}  + A^{xyz}  \\partial_{z} B^{z}  - A^{xyz}  \\partial_{z} B^{z}  + A^{xz}  \\partial_{y} B  - A^{xz}  \\partial_{y} B  - A^{xz}  \\partial_{x} B^{xy}  + A^{xz}  \\partial_{x} B^{xy}  + A^{xz}  \\partial_{z} B^{yz}  - A^{xz}  \\partial_{z} B^{yz}  + A^{y}  \\partial_{z} B^{x}  - A^{y}  \\partial_{z} B^{x}  - A^{y}  \\partial_{y} B^{xyz}  + A^{y}  \\partial_{y} B^{xyz}  + A^{y}  \\partial_{x} B^{z}  - A^{y}  \\partial_{x} B^{z}  + A^{yz}  \\partial_{x} B  - A^{yz}  \\partial_{x} B  + A^{yz}  \\partial_{y} B^{xy}  - A^{yz}  \\partial_{y} B^{xy}  + A^{yz}  \\partial_{z} B^{xz}  - A^{yz}  \\partial_{z} B^{xz}  - A^{z}  \\partial_{y} B^{x}  + A^{z}  \\partial_{y} B^{x}  - A^{z}  \\partial_{z} B^{xyz}  + A^{z}  \\partial_{z} B^{xyz}  + A^{z}  \\partial_{x} B^{y}  - A^{z}  \\partial_{x} B^{y} \\right )\\boldsymbol{e}_{x}\\wedge \\boldsymbol{e}_{y}\\wedge \\boldsymbol{e}_{z}  $$"
      ],
      "text/plain": [
       "<IPython.core.display.Latex object>"
      ]
     },
     "metadata": {},
     "output_type": "display_data"
    }
   ],
   "source": [
    "A = o3d.mv('A','mv',f=True)\n",
    "B = o3d.mv('B','mv',f=True)\n",
    "print(r'\\bs{A} =',A)\n",
    "print(r'\\bs{B} =',B)\n",
    "C = A*B\n",
    "print('h',r'\\bs{AB} =',C.Fmt(3))\n",
    "diff = (grad*C) - (grad*A)*B - (grad.odot()*A)*B.odot()\n",
    "#print(r'\\nabla\\lp\\bs{AB}\\rp - \\lp\\nabla \\bs{A}\\rp \\bs{B} - \\lp\\dot{\\nabla}A\\rp\\dot{\\bs{B}}=',diff)\n",
    "print('diff =',diff)"
   ]
  },
  {
   "cell_type": "code",
   "execution_count": null,
   "metadata": {},
   "outputs": [],
   "source": []
  }
 ],
 "metadata": {
  "kernelspec": {
   "display_name": "Python 2",
   "language": "python",
   "name": "python2"
  },
  "language_info": {
   "codemirror_mode": {
    "name": "ipython",
    "version": 3
   },
   "file_extension": ".py",
   "mimetype": "text/x-python",
   "name": "python",
   "nbconvert_exporter": "python",
   "pygments_lexer": "ipython3",
   "version": "3.6.8"
  }
 },
 "nbformat": 4,
 "nbformat_minor": 2
}
