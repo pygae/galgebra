{
 "cells": [
  {
   "cell_type": "markdown",
   "metadata": {},
   "source": [
    "# Geometric Calculus Tutorial"
   ]
  },
  {
   "cell_type": "code",
   "execution_count": 1,
   "metadata": {},
   "outputs": [],
   "source": [
    "from sympy import symbols, sin, cos\n",
    "from galgebra.ga import Ga\n",
    "from galgebra.dop import Sdop, Pdop, DiffOpExpr\n",
    "from galgebra.printer import latex\n",
    "from IPython.core.display import Math, Markdown\n",
    "import sys"
   ]
  },
  {
   "cell_type": "markdown",
   "metadata": {},
   "source": [
    "### Differential Opperators\n",
    "$$\n",
    "\\newcommand{\\pdiff}[2]{\\bfrac{\\partial {#1}}{\\partial {#2}}}\n",
    "\\newcommand{\\es}[1]{\\boldsymbol{e}_{#1}}\n",
    "\\newcommand{\\bfrac}[2]{\\displaystyle\\frac{#1}{#2}}\n",
    "$$\n",
    "This is a tutorial to introduce you to scalar and multivector differential operators.\n",
    "\n",
    "To start with we will define the geometric algebra of a 3 dimensional Euclidaen vector space, `o3d`, with coordinates $x$, $y$, and $z$ and unit vectors $\\es{x}$, $\\es{y}$, and $\\es{z}$:"
   ]
  },
  {
   "cell_type": "code",
   "execution_count": 2,
   "metadata": {},
   "outputs": [],
   "source": [
    "xyz = x, y, z = symbols('x y z', real=True)\n",
    "o3d = Ga('e_x e_y e_z', g = [1,1,1], coords=xyz)\n",
    "ex, ey, ez = o3d.mv()"
   ]
  },
  {
   "cell_type": "markdown",
   "metadata": {},
   "source": [
    "Once `o3d` is instantiated we can then define the basic partial derivative operators shown as `pDx`$= \\pdiff{}{x}$, `pDy`$= \\pdiff{}{y}$, and `pDz`$= \\pdiff{}{z}$ below."
   ]
  },
  {
   "cell_type": "code",
   "execution_count": 3,
   "metadata": {},
   "outputs": [],
   "source": [
    "pDx = Pdop(x)\n",
    "pDy = Pdop(y)\n",
    "pDz = Pdop(z)"
   ]
  },
  {
   "cell_type": "markdown",
   "metadata": {},
   "source": [
    "Also defined is the gradient operator ($\\nabla$), `o3d.grad`:"
   ]
  },
  {
   "cell_type": "code",
   "execution_count": 4,
   "metadata": {},
   "outputs": [
    {
     "data": {
      "text/latex": [
       "\\begin{equation*} \\boldsymbol{e}_{x} \\frac{\\partial}{\\partial x} + \\boldsymbol{e}_{y} \\frac{\\partial}{\\partial y} + \\boldsymbol{e}_{z} \\frac{\\partial}{\\partial z} \\end{equation*}"
      ],
      "text/plain": [
       "e_x*D{x} + e_y*D{y} + e_z*D{z}"
      ]
     },
     "execution_count": 4,
     "metadata": {},
     "output_type": "execute_result"
    }
   ],
   "source": [
    "o3d.grad"
   ]
  },
  {
   "cell_type": "markdown",
   "metadata": {},
   "source": [
    "Note that when it comes to any kind of differential operators using parenthesis is essential.\n",
    "Let `D` be a differential operator and `A` and `B` multivector functions.\n",
    "The expression `D*(A*B)` is quite diffenent than `(D*A)*B`.\n",
    "Theis is true even if `D` is a simple derivative.\n",
    "In the first case we need to use the chain rule but not in the second case.\n",
    "For later consideration note that $\\nabla (FG) \\neq (\\nabla F)G + F(\\nabla G)$ because the multivector parts of $\\nabla$ and $F$ do not commute.\n",
    "Hestenes developed the \"dot\" notation to resolve this problem so that $\\nabla (FG) = \\nabla FG + \\dot{\\nabla}F\\dot{G}$.\n",
    "The dot indicates that the partial derivatives in $\\nabla$ should be applied to $G$ but not $F$ while preserving the order of the geometric or other products (an equivalent to the dot notation has not yet been implemented in galgebra).\n"
   ]
  },
  {
   "cell_type": "markdown",
   "metadata": {},
   "source": [
    "### Scalar Differential Operators\n",
    "\n",
    "We start by illustrating the interoperability of `Pdop` and `Sdop` operators and scalar functions."
   ]
  },
  {
   "cell_type": "code",
   "execution_count": 5,
   "metadata": {
    "scrolled": true
   },
   "outputs": [],
   "source": [
    "import operator\n",
    "\n",
    "ops = [\n",
    "    ('+', operator.add),\n",
    "    ('-', operator.sub),\n",
    "    ('*', operator.mul),\n",
    "]"
   ]
  },
  {
   "cell_type": "code",
   "execution_count": 6,
   "metadata": {},
   "outputs": [
    {
     "data": {
      "text/markdown": [
       "### The ``+`` operator"
      ],
      "text/plain": [
       "<IPython.core.display.Markdown object>"
      ]
     },
     "metadata": {},
     "output_type": "display_data"
    },
    {
     "data": {
      "text/latex": [
       "$\\displaystyle \\underbrace{\\left(\\frac{\\partial}{\\partial x}\\right)}_\\text{Pdop} + \\underbrace{\\left(\\frac{\\partial}{\\partial x}\\right)}_\\text{Pdop} = \\underbrace{2 \\frac{\\partial}{\\partial x}}_\\text{op}$"
      ],
      "text/plain": [
       "<IPython.core.display.Math object>"
      ]
     },
     "metadata": {},
     "output_type": "display_data"
    },
    {
     "data": {
      "text/latex": [
       "$\\displaystyle \\underbrace{\\left(\\frac{\\partial}{\\partial x}\\right)}_\\text{Pdop} + \\underbrace{\\left(\\frac{\\partial}{\\partial x} + \\frac{\\partial}{\\partial y} + \\frac{\\partial}{\\partial z}\\right)}_\\text{Sdop} = \\underbrace{2 \\frac{\\partial}{\\partial x} + \\frac{\\partial}{\\partial y} + \\frac{\\partial}{\\partial z}}_\\text{op}$"
      ],
      "text/plain": [
       "<IPython.core.display.Math object>"
      ]
     },
     "metadata": {},
     "output_type": "display_data"
    },
    {
     "data": {
      "text/latex": [
       "$\\displaystyle \\underbrace{\\left(\\frac{\\partial}{\\partial x}\\right)}_\\text{Pdop} + \\underbrace{\\left(x^{2} + y^{2} + z^{2}\\right)}_\\text{f(x,y,z)} = \\underbrace{x^{2}  + y^{2}  + z^{2}  + \\frac{\\partial}{\\partial x}}_\\text{op}$"
      ],
      "text/plain": [
       "<IPython.core.display.Math object>"
      ]
     },
     "metadata": {},
     "output_type": "display_data"
    },
    {
     "data": {
      "text/latex": [
       "$\\displaystyle \\underbrace{\\left(\\frac{\\partial}{\\partial x} + \\frac{\\partial}{\\partial y} + \\frac{\\partial}{\\partial z}\\right)}_\\text{Sdop} + \\underbrace{\\left(\\frac{\\partial}{\\partial x}\\right)}_\\text{Pdop} = \\underbrace{2 \\frac{\\partial}{\\partial x} + \\frac{\\partial}{\\partial y} + \\frac{\\partial}{\\partial z}}_\\text{op}$"
      ],
      "text/plain": [
       "<IPython.core.display.Math object>"
      ]
     },
     "metadata": {},
     "output_type": "display_data"
    },
    {
     "data": {
      "text/latex": [
       "$\\displaystyle \\underbrace{\\left(\\frac{\\partial}{\\partial x} + \\frac{\\partial}{\\partial y} + \\frac{\\partial}{\\partial z}\\right)}_\\text{Sdop} + \\underbrace{\\left(\\frac{\\partial}{\\partial x} + \\frac{\\partial}{\\partial y} + \\frac{\\partial}{\\partial z}\\right)}_\\text{Sdop} = \\underbrace{2 \\frac{\\partial}{\\partial x} + 2 \\frac{\\partial}{\\partial y} + 2 \\frac{\\partial}{\\partial z}}_\\text{op}$"
      ],
      "text/plain": [
       "<IPython.core.display.Math object>"
      ]
     },
     "metadata": {},
     "output_type": "display_data"
    },
    {
     "data": {
      "text/latex": [
       "$\\displaystyle \\underbrace{\\left(\\frac{\\partial}{\\partial x} + \\frac{\\partial}{\\partial y} + \\frac{\\partial}{\\partial z}\\right)}_\\text{Sdop} + \\underbrace{\\left(x^{2} + y^{2} + z^{2}\\right)}_\\text{f(x,y,z)} = \\underbrace{x^{2}  + y^{2}  + z^{2}  + \\frac{\\partial}{\\partial x} + \\frac{\\partial}{\\partial y} + \\frac{\\partial}{\\partial z}}_\\text{op}$"
      ],
      "text/plain": [
       "<IPython.core.display.Math object>"
      ]
     },
     "metadata": {},
     "output_type": "display_data"
    },
    {
     "data": {
      "text/latex": [
       "$\\displaystyle \\underbrace{\\left(x^{2} + y^{2} + z^{2}\\right)}_\\text{f(x,y,z)} + \\underbrace{\\left(\\frac{\\partial}{\\partial x}\\right)}_\\text{Pdop} = \\underbrace{x^{2}  + y^{2}  + z^{2}  + \\frac{\\partial}{\\partial x}}_\\text{op}$"
      ],
      "text/plain": [
       "<IPython.core.display.Math object>"
      ]
     },
     "metadata": {},
     "output_type": "display_data"
    },
    {
     "data": {
      "text/latex": [
       "$\\displaystyle \\underbrace{\\left(x^{2} + y^{2} + z^{2}\\right)}_\\text{f(x,y,z)} + \\underbrace{\\left(\\frac{\\partial}{\\partial x} + \\frac{\\partial}{\\partial y} + \\frac{\\partial}{\\partial z}\\right)}_\\text{Sdop} = \\underbrace{x^{2}  + y^{2}  + z^{2}  + \\frac{\\partial}{\\partial x} + \\frac{\\partial}{\\partial y} + \\frac{\\partial}{\\partial z}}_\\text{op}$"
      ],
      "text/plain": [
       "<IPython.core.display.Math object>"
      ]
     },
     "metadata": {},
     "output_type": "display_data"
    },
    {
     "data": {
      "text/latex": [
       "$\\displaystyle \\underbrace{\\left(x^{2} + y^{2} + z^{2}\\right)}_\\text{f(x,y,z)} + \\underbrace{\\left(x^{2} + y^{2} + z^{2}\\right)}_\\text{f(x,y,z)} = \\underbrace{2 x^{2} + 2 y^{2} + 2 z^{2}}_\\text{Add}$"
      ],
      "text/plain": [
       "<IPython.core.display.Math object>"
      ]
     },
     "metadata": {},
     "output_type": "display_data"
    },
    {
     "data": {
      "text/markdown": [
       "### The ``-`` operator"
      ],
      "text/plain": [
       "<IPython.core.display.Markdown object>"
      ]
     },
     "metadata": {},
     "output_type": "display_data"
    },
    {
     "data": {
      "text/latex": [
       "$\\displaystyle \\underbrace{\\left(\\frac{\\partial}{\\partial x}\\right)}_\\text{Pdop} - \\underbrace{\\left(\\frac{\\partial}{\\partial x}\\right)}_\\text{Pdop} = \\underbrace{DiffOpZero\\left(\\right)}_\\text{op}$"
      ],
      "text/plain": [
       "<IPython.core.display.Math object>"
      ]
     },
     "metadata": {},
     "output_type": "display_data"
    },
    {
     "data": {
      "text/latex": [
       "$\\displaystyle \\underbrace{\\left(\\frac{\\partial}{\\partial x}\\right)}_\\text{Pdop} - \\underbrace{\\left(\\frac{\\partial}{\\partial x} + \\frac{\\partial}{\\partial y} + \\frac{\\partial}{\\partial z}\\right)}_\\text{Sdop} = \\underbrace{\\frac{\\partial}{\\partial x} - \\left(\\frac{\\partial}{\\partial x} + \\frac{\\partial}{\\partial y} + \\frac{\\partial}{\\partial z}\\right)}_\\text{op}$"
      ],
      "text/plain": [
       "<IPython.core.display.Math object>"
      ]
     },
     "metadata": {},
     "output_type": "display_data"
    },
    {
     "data": {
      "text/latex": [
       "$\\displaystyle \\underbrace{\\left(\\frac{\\partial}{\\partial x}\\right)}_\\text{Pdop} - \\underbrace{\\left(x^{2} + y^{2} + z^{2}\\right)}_\\text{f(x,y,z)} = \\underbrace{- x^{2}  + - y^{2}  + - z^{2}  + \\frac{\\partial}{\\partial x}}_\\text{op}$"
      ],
      "text/plain": [
       "<IPython.core.display.Math object>"
      ]
     },
     "metadata": {},
     "output_type": "display_data"
    },
    {
     "data": {
      "text/latex": [
       "$\\displaystyle \\underbrace{\\left(\\frac{\\partial}{\\partial x} + \\frac{\\partial}{\\partial y} + \\frac{\\partial}{\\partial z}\\right)}_\\text{Sdop} - \\underbrace{\\left(\\frac{\\partial}{\\partial x}\\right)}_\\text{Pdop} = \\underbrace{\\frac{\\partial}{\\partial y} + \\frac{\\partial}{\\partial z}}_\\text{op}$"
      ],
      "text/plain": [
       "<IPython.core.display.Math object>"
      ]
     },
     "metadata": {},
     "output_type": "display_data"
    },
    {
     "data": {
      "text/latex": [
       "$\\displaystyle \\underbrace{\\left(\\frac{\\partial}{\\partial x} + \\frac{\\partial}{\\partial y} + \\frac{\\partial}{\\partial z}\\right)}_\\text{Sdop} - \\underbrace{\\left(\\frac{\\partial}{\\partial x} + \\frac{\\partial}{\\partial y} + \\frac{\\partial}{\\partial z}\\right)}_\\text{Sdop} = \\underbrace{\\frac{\\partial}{\\partial x} + \\frac{\\partial}{\\partial y} + \\frac{\\partial}{\\partial z} - \\left(\\frac{\\partial}{\\partial x} + \\frac{\\partial}{\\partial y} + \\frac{\\partial}{\\partial z}\\right)}_\\text{op}$"
      ],
      "text/plain": [
       "<IPython.core.display.Math object>"
      ]
     },
     "metadata": {},
     "output_type": "display_data"
    },
    {
     "data": {
      "text/latex": [
       "$\\displaystyle \\underbrace{\\left(\\frac{\\partial}{\\partial x} + \\frac{\\partial}{\\partial y} + \\frac{\\partial}{\\partial z}\\right)}_\\text{Sdop} - \\underbrace{\\left(x^{2} + y^{2} + z^{2}\\right)}_\\text{f(x,y,z)} = \\underbrace{- x^{2}  + - y^{2}  + - z^{2}  + \\frac{\\partial}{\\partial x} + \\frac{\\partial}{\\partial y} + \\frac{\\partial}{\\partial z}}_\\text{op}$"
      ],
      "text/plain": [
       "<IPython.core.display.Math object>"
      ]
     },
     "metadata": {},
     "output_type": "display_data"
    },
    {
     "data": {
      "text/latex": [
       "$\\displaystyle \\underbrace{\\left(x^{2} + y^{2} + z^{2}\\right)}_\\text{f(x,y,z)} - \\underbrace{\\left(\\frac{\\partial}{\\partial x}\\right)}_\\text{Pdop} = \\underbrace{x^{2}  + y^{2}  + z^{2}  - \\frac{\\partial}{\\partial x}}_\\text{op}$"
      ],
      "text/plain": [
       "<IPython.core.display.Math object>"
      ]
     },
     "metadata": {},
     "output_type": "display_data"
    },
    {
     "data": {
      "text/latex": [
       "$\\displaystyle \\underbrace{\\left(x^{2} + y^{2} + z^{2}\\right)}_\\text{f(x,y,z)} - \\underbrace{\\left(\\frac{\\partial}{\\partial x} + \\frac{\\partial}{\\partial y} + \\frac{\\partial}{\\partial z}\\right)}_\\text{Sdop} = \\underbrace{x^{2}  + y^{2}  + z^{2}  - \\left(\\frac{\\partial}{\\partial x} + \\frac{\\partial}{\\partial y} + \\frac{\\partial}{\\partial z}\\right)}_\\text{op}$"
      ],
      "text/plain": [
       "<IPython.core.display.Math object>"
      ]
     },
     "metadata": {},
     "output_type": "display_data"
    },
    {
     "data": {
      "text/latex": [
       "$\\displaystyle \\underbrace{\\left(x^{2} + y^{2} + z^{2}\\right)}_\\text{f(x,y,z)} - \\underbrace{\\left(x^{2} + y^{2} + z^{2}\\right)}_\\text{f(x,y,z)} = \\underbrace{0}_\\text{Zero}$"
      ],
      "text/plain": [
       "<IPython.core.display.Math object>"
      ]
     },
     "metadata": {},
     "output_type": "display_data"
    },
    {
     "data": {
      "text/markdown": [
       "### The ``*`` operator"
      ],
      "text/plain": [
       "<IPython.core.display.Markdown object>"
      ]
     },
     "metadata": {},
     "output_type": "display_data"
    },
    {
     "data": {
      "text/latex": [
       "$\\displaystyle \\underbrace{\\left(\\frac{\\partial}{\\partial x}\\right)}_\\text{Pdop} * \\underbrace{\\left(\\frac{\\partial}{\\partial x}\\right)}_\\text{Pdop} = \\underbrace{\\frac{\\partial^{2}}{\\partial x^{2}}}_\\text{op}$"
      ],
      "text/plain": [
       "<IPython.core.display.Math object>"
      ]
     },
     "metadata": {},
     "output_type": "display_data"
    },
    {
     "data": {
      "text/latex": [
       "$\\displaystyle \\underbrace{\\left(\\frac{\\partial}{\\partial x}\\right)}_\\text{Pdop} * \\underbrace{\\left(\\frac{\\partial}{\\partial x} + \\frac{\\partial}{\\partial y} + \\frac{\\partial}{\\partial z}\\right)}_\\text{Sdop} = \\underbrace{\\frac{\\partial^{2}}{\\partial x^{2}} + \\frac{\\partial^{2}}{\\partial x\\partial y} + \\frac{\\partial^{2}}{\\partial x\\partial z}}_\\text{op}$"
      ],
      "text/plain": [
       "<IPython.core.display.Math object>"
      ]
     },
     "metadata": {},
     "output_type": "display_data"
    },
    {
     "data": {
      "text/latex": [
       "$\\displaystyle \\underbrace{\\left(\\frac{\\partial}{\\partial x}\\right)}_\\text{Pdop} * \\underbrace{\\left(x^{2} + y^{2} + z^{2}\\right)}_\\text{f(x,y,z)} = \\underbrace{2 x}_\\text{Mul}$"
      ],
      "text/plain": [
       "<IPython.core.display.Math object>"
      ]
     },
     "metadata": {},
     "output_type": "display_data"
    },
    {
     "data": {
      "text/latex": [
       "$\\displaystyle \\underbrace{\\left(\\frac{\\partial}{\\partial x} + \\frac{\\partial}{\\partial y} + \\frac{\\partial}{\\partial z}\\right)}_\\text{Sdop} * \\underbrace{\\left(\\frac{\\partial}{\\partial x}\\right)}_\\text{Pdop} = \\underbrace{\\frac{\\partial^{2}}{\\partial x^{2}} + \\frac{\\partial^{2}}{\\partial x\\partial y} + \\frac{\\partial^{2}}{\\partial x\\partial z}}_\\text{op}$"
      ],
      "text/plain": [
       "<IPython.core.display.Math object>"
      ]
     },
     "metadata": {},
     "output_type": "display_data"
    },
    {
     "data": {
      "text/latex": [
       "$\\displaystyle \\underbrace{\\left(\\frac{\\partial}{\\partial x} + \\frac{\\partial}{\\partial y} + \\frac{\\partial}{\\partial z}\\right)}_\\text{Sdop} * \\underbrace{\\left(\\frac{\\partial}{\\partial x} + \\frac{\\partial}{\\partial y} + \\frac{\\partial}{\\partial z}\\right)}_\\text{Sdop} = \\underbrace{\\frac{\\partial^{2}}{\\partial x^{2}} + 2 \\frac{\\partial^{2}}{\\partial x\\partial y} + 2 \\frac{\\partial^{2}}{\\partial x\\partial z} + \\frac{\\partial^{2}}{\\partial y^{2}} + 2 \\frac{\\partial^{2}}{\\partial y\\partial z} + \\frac{\\partial^{2}}{\\partial z^{2}}}_\\text{op}$"
      ],
      "text/plain": [
       "<IPython.core.display.Math object>"
      ]
     },
     "metadata": {},
     "output_type": "display_data"
    },
    {
     "data": {
      "text/latex": [
       "$\\displaystyle \\underbrace{\\left(\\frac{\\partial}{\\partial x} + \\frac{\\partial}{\\partial y} + \\frac{\\partial}{\\partial z}\\right)}_\\text{Sdop} * \\underbrace{\\left(x^{2} + y^{2} + z^{2}\\right)}_\\text{f(x,y,z)} = \\underbrace{2 x + 2 y + 2 z}_\\text{Add}$"
      ],
      "text/plain": [
       "<IPython.core.display.Math object>"
      ]
     },
     "metadata": {},
     "output_type": "display_data"
    },
    {
     "data": {
      "text/latex": [
       "$\\displaystyle \\underbrace{\\left(x^{2} + y^{2} + z^{2}\\right)}_\\text{f(x,y,z)} * \\underbrace{\\left(\\frac{\\partial}{\\partial x}\\right)}_\\text{Pdop} = \\underbrace{\\left(x^{2} + y^{2} + z^{2}\\right) \\frac{\\partial}{\\partial x}}_\\text{op}$"
      ],
      "text/plain": [
       "<IPython.core.display.Math object>"
      ]
     },
     "metadata": {},
     "output_type": "display_data"
    },
    {
     "data": {
      "text/latex": [
       "$\\displaystyle \\underbrace{\\left(x^{2} + y^{2} + z^{2}\\right)}_\\text{f(x,y,z)} * \\underbrace{\\left(\\frac{\\partial}{\\partial x} + \\frac{\\partial}{\\partial y} + \\frac{\\partial}{\\partial z}\\right)}_\\text{Sdop} = \\underbrace{\\left(x^{2} + y^{2} + z^{2}\\right) \\left(\\frac{\\partial}{\\partial x} + \\frac{\\partial}{\\partial y} + \\frac{\\partial}{\\partial z}\\right)}_\\text{op}$"
      ],
      "text/plain": [
       "<IPython.core.display.Math object>"
      ]
     },
     "metadata": {},
     "output_type": "display_data"
    },
    {
     "data": {
      "text/latex": [
       "$\\displaystyle \\underbrace{\\left(x^{2} + y^{2} + z^{2}\\right)}_\\text{f(x,y,z)} * \\underbrace{\\left(x^{2} + y^{2} + z^{2}\\right)}_\\text{f(x,y,z)} = \\underbrace{\\left(x^{2} + y^{2} + z^{2}\\right)^{2}}_\\text{Pow}$"
      ],
      "text/plain": [
       "<IPython.core.display.Math object>"
      ]
     },
     "metadata": {},
     "output_type": "display_data"
    }
   ],
   "source": [
    "fxyz = x**2+y**2+z**2\n",
    "dS = pDx + pDy + pDz\n",
    "args = [('Pdop', pDx), ('Sdop', dS), ('f(x,y,z)', fxyz)]\n",
    "\n",
    "for op_name, op in ops:\n",
    "    display(Markdown(f\"### The ``{op_name}`` operator\"))\n",
    "    for t1, v1 in args:\n",
    "        for t2, v2 in args:\n",
    "            v = op(v1, v2)\n",
    "            display(Math(\n",
    "                fr'\\underbrace{{\\left({latex(v1)}\\right)}}_\\text{{{t1}}} {op_name} '\n",
    "                fr'\\underbrace{{\\left({latex(v2)}\\right)}}_\\text{{{t2}}} = '\n",
    "                fr'\\underbrace{{{latex(v)}}}_\\text{{{\"op\" if isinstance(v, DiffOpExpr) else type(v).__name__}}}'\n",
    "            ))"
   ]
  },
  {
   "cell_type": "markdown",
   "metadata": {},
   "source": [
    "### Multivector Differential Operators\n",
    "\n",
    "Now we illustrate the interoperability of `Pdop`, `Sdop`, and `Dop` operators and scalar and multivector functions."
   ]
  },
  {
   "cell_type": "code",
   "execution_count": 7,
   "metadata": {
    "scrolled": false
   },
   "outputs": [
    {
     "data": {
      "text/markdown": [
       "### The ``+`` operator"
      ],
      "text/plain": [
       "<IPython.core.display.Markdown object>"
      ]
     },
     "metadata": {},
     "output_type": "display_data"
    },
    {
     "data": {
      "text/latex": [
       "$\\displaystyle \\underbrace{\\left(\\frac{\\partial}{\\partial x}\\right)}_\\text{Pdop} + \\underbrace{\\left(\\frac{\\partial}{\\partial x}\\right)}_\\text{Pdop} = \\underbrace{2 \\frac{\\partial}{\\partial x}}_\\text{op}$"
      ],
      "text/plain": [
       "<IPython.core.display.Math object>"
      ]
     },
     "metadata": {},
     "output_type": "display_data"
    },
    {
     "data": {
      "text/latex": [
       "$\\displaystyle \\underbrace{\\left(\\frac{\\partial}{\\partial x}\\right)}_\\text{Pdop} + \\underbrace{\\left(\\frac{\\partial}{\\partial x} + \\frac{\\partial}{\\partial y} + \\frac{\\partial}{\\partial z}\\right)}_\\text{Sdop} = \\underbrace{2 \\frac{\\partial}{\\partial x} + \\frac{\\partial}{\\partial y} + \\frac{\\partial}{\\partial z}}_\\text{op}$"
      ],
      "text/plain": [
       "<IPython.core.display.Math object>"
      ]
     },
     "metadata": {},
     "output_type": "display_data"
    },
    {
     "data": {
      "text/latex": [
       "$\\displaystyle \\underbrace{\\left(\\frac{\\partial}{\\partial x}\\right)}_\\text{Pdop} + \\underbrace{\\left(x^{2} + y^{2} + z^{2}\\right)}_\\text{f(x,y,z)} = \\underbrace{x^{2}  + y^{2}  + z^{2}  + \\frac{\\partial}{\\partial x}}_\\text{op}$"
      ],
      "text/plain": [
       "<IPython.core.display.Math object>"
      ]
     },
     "metadata": {},
     "output_type": "display_data"
    },
    {
     "data": {
      "text/latex": [
       "$\\displaystyle \\underbrace{\\left(\\frac{\\partial}{\\partial x}\\right)}_\\text{Pdop} + \\underbrace{\\left(\\boldsymbol{e}_{x} \\frac{\\partial}{\\partial x} + \\boldsymbol{e}_{y} \\frac{\\partial}{\\partial y} + \\boldsymbol{e}_{z} \\frac{\\partial}{\\partial z}\\right)}_\\text{Dop} = \\underbrace{\\frac{\\partial}{\\partial x} + \\boldsymbol{e}_{x} \\frac{\\partial}{\\partial x} + \\boldsymbol{e}_{y} \\frac{\\partial}{\\partial y} + \\boldsymbol{e}_{z} \\frac{\\partial}{\\partial z}}_\\text{Dop}$"
      ],
      "text/plain": [
       "<IPython.core.display.Math object>"
      ]
     },
     "metadata": {},
     "output_type": "display_data"
    },
    {
     "data": {
      "text/latex": [
       "$\\displaystyle \\underbrace{\\left(\\frac{\\partial}{\\partial x}\\right)}_\\text{Pdop} + \\underbrace{\\left(x^{2} \\boldsymbol{e}_{x} + y^{2} \\boldsymbol{e}_{y} + z^{2} \\boldsymbol{e}_{z}\\right)}_\\text{Mv} = \\underbrace{\\frac{\\partial}{\\partial x} + \\boldsymbol{e}_{x} x^{2} + \\boldsymbol{e}_{y} y^{2} + \\boldsymbol{e}_{z} z^{2}}_\\text{Dop}$"
      ],
      "text/plain": [
       "<IPython.core.display.Math object>"
      ]
     },
     "metadata": {},
     "output_type": "display_data"
    },
    {
     "data": {
      "text/latex": [
       "$\\displaystyle \\underbrace{\\left(\\frac{\\partial}{\\partial x} + \\frac{\\partial}{\\partial y} + \\frac{\\partial}{\\partial z}\\right)}_\\text{Sdop} + \\underbrace{\\left(\\frac{\\partial}{\\partial x}\\right)}_\\text{Pdop} = \\underbrace{2 \\frac{\\partial}{\\partial x} + \\frac{\\partial}{\\partial y} + \\frac{\\partial}{\\partial z}}_\\text{op}$"
      ],
      "text/plain": [
       "<IPython.core.display.Math object>"
      ]
     },
     "metadata": {},
     "output_type": "display_data"
    },
    {
     "data": {
      "text/latex": [
       "$\\displaystyle \\underbrace{\\left(\\frac{\\partial}{\\partial x} + \\frac{\\partial}{\\partial y} + \\frac{\\partial}{\\partial z}\\right)}_\\text{Sdop} + \\underbrace{\\left(\\frac{\\partial}{\\partial x} + \\frac{\\partial}{\\partial y} + \\frac{\\partial}{\\partial z}\\right)}_\\text{Sdop} = \\underbrace{2 \\frac{\\partial}{\\partial x} + 2 \\frac{\\partial}{\\partial y} + 2 \\frac{\\partial}{\\partial z}}_\\text{op}$"
      ],
      "text/plain": [
       "<IPython.core.display.Math object>"
      ]
     },
     "metadata": {},
     "output_type": "display_data"
    },
    {
     "data": {
      "text/latex": [
       "$\\displaystyle \\underbrace{\\left(\\frac{\\partial}{\\partial x} + \\frac{\\partial}{\\partial y} + \\frac{\\partial}{\\partial z}\\right)}_\\text{Sdop} + \\underbrace{\\left(x^{2} + y^{2} + z^{2}\\right)}_\\text{f(x,y,z)} = \\underbrace{x^{2}  + y^{2}  + z^{2}  + \\frac{\\partial}{\\partial x} + \\frac{\\partial}{\\partial y} + \\frac{\\partial}{\\partial z}}_\\text{op}$"
      ],
      "text/plain": [
       "<IPython.core.display.Math object>"
      ]
     },
     "metadata": {},
     "output_type": "display_data"
    },
    {
     "data": {
      "text/latex": [
       "$\\displaystyle \\underbrace{\\left(\\frac{\\partial}{\\partial x} + \\frac{\\partial}{\\partial y} + \\frac{\\partial}{\\partial z}\\right)}_\\text{Sdop} + \\underbrace{\\left(\\boldsymbol{e}_{x} \\frac{\\partial}{\\partial x} + \\boldsymbol{e}_{y} \\frac{\\partial}{\\partial y} + \\boldsymbol{e}_{z} \\frac{\\partial}{\\partial z}\\right)}_\\text{Dop} = \\underbrace{\\frac{\\partial}{\\partial x} + \\frac{\\partial}{\\partial y} + \\frac{\\partial}{\\partial z} + \\boldsymbol{e}_{x} \\frac{\\partial}{\\partial x} + \\boldsymbol{e}_{y} \\frac{\\partial}{\\partial y} + \\boldsymbol{e}_{z} \\frac{\\partial}{\\partial z}}_\\text{Dop}$"
      ],
      "text/plain": [
       "<IPython.core.display.Math object>"
      ]
     },
     "metadata": {},
     "output_type": "display_data"
    },
    {
     "data": {
      "text/latex": [
       "$\\displaystyle \\underbrace{\\left(\\frac{\\partial}{\\partial x} + \\frac{\\partial}{\\partial y} + \\frac{\\partial}{\\partial z}\\right)}_\\text{Sdop} + \\underbrace{\\left(x^{2} \\boldsymbol{e}_{x} + y^{2} \\boldsymbol{e}_{y} + z^{2} \\boldsymbol{e}_{z}\\right)}_\\text{Mv} = \\underbrace{\\frac{\\partial}{\\partial x} + \\frac{\\partial}{\\partial y} + \\frac{\\partial}{\\partial z} + \\boldsymbol{e}_{x} x^{2} + \\boldsymbol{e}_{y} y^{2} + \\boldsymbol{e}_{z} z^{2}}_\\text{Dop}$"
      ],
      "text/plain": [
       "<IPython.core.display.Math object>"
      ]
     },
     "metadata": {},
     "output_type": "display_data"
    },
    {
     "data": {
      "text/latex": [
       "$\\displaystyle \\underbrace{\\left(x^{2} + y^{2} + z^{2}\\right)}_\\text{f(x,y,z)} + \\underbrace{\\left(\\frac{\\partial}{\\partial x}\\right)}_\\text{Pdop} = \\underbrace{x^{2}  + y^{2}  + z^{2}  + \\frac{\\partial}{\\partial x}}_\\text{op}$"
      ],
      "text/plain": [
       "<IPython.core.display.Math object>"
      ]
     },
     "metadata": {},
     "output_type": "display_data"
    },
    {
     "data": {
      "text/latex": [
       "$\\displaystyle \\underbrace{\\left(x^{2} + y^{2} + z^{2}\\right)}_\\text{f(x,y,z)} + \\underbrace{\\left(\\frac{\\partial}{\\partial x} + \\frac{\\partial}{\\partial y} + \\frac{\\partial}{\\partial z}\\right)}_\\text{Sdop} = \\underbrace{x^{2}  + y^{2}  + z^{2}  + \\frac{\\partial}{\\partial x} + \\frac{\\partial}{\\partial y} + \\frac{\\partial}{\\partial z}}_\\text{op}$"
      ],
      "text/plain": [
       "<IPython.core.display.Math object>"
      ]
     },
     "metadata": {},
     "output_type": "display_data"
    },
    {
     "data": {
      "text/latex": [
       "$\\displaystyle \\underbrace{\\left(x^{2} + y^{2} + z^{2}\\right)}_\\text{f(x,y,z)} + \\underbrace{\\left(x^{2} + y^{2} + z^{2}\\right)}_\\text{f(x,y,z)} = \\underbrace{2 x^{2} + 2 y^{2} + 2 z^{2}}_\\text{Add}$"
      ],
      "text/plain": [
       "<IPython.core.display.Math object>"
      ]
     },
     "metadata": {},
     "output_type": "display_data"
    },
    {
     "data": {
      "text/latex": [
       "$\\displaystyle \\underbrace{\\left(x^{2} + y^{2} + z^{2}\\right)}_\\text{f(x,y,z)} + \\underbrace{\\left(\\boldsymbol{e}_{x} \\frac{\\partial}{\\partial x} + \\boldsymbol{e}_{y} \\frac{\\partial}{\\partial y} + \\boldsymbol{e}_{z} \\frac{\\partial}{\\partial z}\\right)}_\\text{Dop} = \\underbrace{x^{2} + y^{2} + z^{2} + \\boldsymbol{e}_{x} \\frac{\\partial}{\\partial x} + \\boldsymbol{e}_{y} \\frac{\\partial}{\\partial y} + \\boldsymbol{e}_{z} \\frac{\\partial}{\\partial z}}_\\text{Dop}$"
      ],
      "text/plain": [
       "<IPython.core.display.Math object>"
      ]
     },
     "metadata": {},
     "output_type": "display_data"
    },
    {
     "data": {
      "text/latex": [
       "$\\displaystyle \\underbrace{\\left(x^{2} + y^{2} + z^{2}\\right)}_\\text{f(x,y,z)} + \\underbrace{\\left(x^{2} \\boldsymbol{e}_{x} + y^{2} \\boldsymbol{e}_{y} + z^{2} \\boldsymbol{e}_{z}\\right)}_\\text{Mv} = \\underbrace{\\left ( x^{2} + y^{2} + z^{2}\\right )  + x^{2} \\boldsymbol{e}_{x} + y^{2} \\boldsymbol{e}_{y} + z^{2} \\boldsymbol{e}_{z}}_\\text{Mv}$"
      ],
      "text/plain": [
       "<IPython.core.display.Math object>"
      ]
     },
     "metadata": {},
     "output_type": "display_data"
    },
    {
     "data": {
      "text/latex": [
       "$\\displaystyle \\underbrace{\\left(\\boldsymbol{e}_{x} \\frac{\\partial}{\\partial x} + \\boldsymbol{e}_{y} \\frac{\\partial}{\\partial y} + \\boldsymbol{e}_{z} \\frac{\\partial}{\\partial z}\\right)}_\\text{Dop} + \\underbrace{\\left(\\frac{\\partial}{\\partial x}\\right)}_\\text{Pdop} = \\underbrace{\\frac{\\partial}{\\partial x} + \\boldsymbol{e}_{x} \\frac{\\partial}{\\partial x} + \\boldsymbol{e}_{y} \\frac{\\partial}{\\partial y} + \\boldsymbol{e}_{z} \\frac{\\partial}{\\partial z}}_\\text{Dop}$"
      ],
      "text/plain": [
       "<IPython.core.display.Math object>"
      ]
     },
     "metadata": {},
     "output_type": "display_data"
    },
    {
     "data": {
      "text/latex": [
       "$\\displaystyle \\underbrace{\\left(\\boldsymbol{e}_{x} \\frac{\\partial}{\\partial x} + \\boldsymbol{e}_{y} \\frac{\\partial}{\\partial y} + \\boldsymbol{e}_{z} \\frac{\\partial}{\\partial z}\\right)}_\\text{Dop} + \\underbrace{\\left(\\frac{\\partial}{\\partial x} + \\frac{\\partial}{\\partial y} + \\frac{\\partial}{\\partial z}\\right)}_\\text{Sdop} = \\underbrace{\\frac{\\partial}{\\partial x} + \\frac{\\partial}{\\partial y} + \\frac{\\partial}{\\partial z} + \\boldsymbol{e}_{x} \\frac{\\partial}{\\partial x} + \\boldsymbol{e}_{y} \\frac{\\partial}{\\partial y} + \\boldsymbol{e}_{z} \\frac{\\partial}{\\partial z}}_\\text{Dop}$"
      ],
      "text/plain": [
       "<IPython.core.display.Math object>"
      ]
     },
     "metadata": {},
     "output_type": "display_data"
    },
    {
     "data": {
      "text/latex": [
       "$\\displaystyle \\underbrace{\\left(\\boldsymbol{e}_{x} \\frac{\\partial}{\\partial x} + \\boldsymbol{e}_{y} \\frac{\\partial}{\\partial y} + \\boldsymbol{e}_{z} \\frac{\\partial}{\\partial z}\\right)}_\\text{Dop} + \\underbrace{\\left(x^{2} + y^{2} + z^{2}\\right)}_\\text{f(x,y,z)} = \\underbrace{x^{2} + y^{2} + z^{2} + \\boldsymbol{e}_{x} \\frac{\\partial}{\\partial x} + \\boldsymbol{e}_{y} \\frac{\\partial}{\\partial y} + \\boldsymbol{e}_{z} \\frac{\\partial}{\\partial z}}_\\text{Dop}$"
      ],
      "text/plain": [
       "<IPython.core.display.Math object>"
      ]
     },
     "metadata": {},
     "output_type": "display_data"
    },
    {
     "data": {
      "text/latex": [
       "$\\displaystyle \\underbrace{\\left(\\boldsymbol{e}_{x} \\frac{\\partial}{\\partial x} + \\boldsymbol{e}_{y} \\frac{\\partial}{\\partial y} + \\boldsymbol{e}_{z} \\frac{\\partial}{\\partial z}\\right)}_\\text{Dop} + \\underbrace{\\left(\\boldsymbol{e}_{x} \\frac{\\partial}{\\partial x} + \\boldsymbol{e}_{y} \\frac{\\partial}{\\partial y} + \\boldsymbol{e}_{z} \\frac{\\partial}{\\partial z}\\right)}_\\text{Dop} = \\underbrace{\\boldsymbol{e}_{x} 0 + \\boldsymbol{e}_{y} 0 + \\boldsymbol{e}_{z} 0}_\\text{Dop}$"
      ],
      "text/plain": [
       "<IPython.core.display.Math object>"
      ]
     },
     "metadata": {},
     "output_type": "display_data"
    },
    {
     "data": {
      "text/latex": [
       "$\\displaystyle \\underbrace{\\left(\\boldsymbol{e}_{x} \\frac{\\partial}{\\partial x} + \\boldsymbol{e}_{y} \\frac{\\partial}{\\partial y} + \\boldsymbol{e}_{z} \\frac{\\partial}{\\partial z}\\right)}_\\text{Dop} + \\underbrace{\\left(x^{2} \\boldsymbol{e}_{x} + y^{2} \\boldsymbol{e}_{y} + z^{2} \\boldsymbol{e}_{z}\\right)}_\\text{Mv} = \\underbrace{\\boldsymbol{e}_{x} \\left ( x^{2}  + \\frac{\\partial}{\\partial x}\\right )  + \\boldsymbol{e}_{y} \\left ( y^{2}  + \\frac{\\partial}{\\partial y}\\right )  + \\boldsymbol{e}_{z} \\left ( z^{2}  + \\frac{\\partial}{\\partial z}\\right ) }_\\text{Dop}$"
      ],
      "text/plain": [
       "<IPython.core.display.Math object>"
      ]
     },
     "metadata": {},
     "output_type": "display_data"
    },
    {
     "data": {
      "text/latex": [
       "$\\displaystyle \\underbrace{\\left(x^{2} \\boldsymbol{e}_{x} + y^{2} \\boldsymbol{e}_{y} + z^{2} \\boldsymbol{e}_{z}\\right)}_\\text{Mv} + \\underbrace{\\left(\\frac{\\partial}{\\partial x}\\right)}_\\text{Pdop} = \\underbrace{\\frac{\\partial}{\\partial x} + \\boldsymbol{e}_{x} x^{2} + \\boldsymbol{e}_{y} y^{2} + \\boldsymbol{e}_{z} z^{2}}_\\text{Dop}$"
      ],
      "text/plain": [
       "<IPython.core.display.Math object>"
      ]
     },
     "metadata": {},
     "output_type": "display_data"
    },
    {
     "data": {
      "text/latex": [
       "$\\displaystyle \\underbrace{\\left(x^{2} \\boldsymbol{e}_{x} + y^{2} \\boldsymbol{e}_{y} + z^{2} \\boldsymbol{e}_{z}\\right)}_\\text{Mv} + \\underbrace{\\left(\\frac{\\partial}{\\partial x} + \\frac{\\partial}{\\partial y} + \\frac{\\partial}{\\partial z}\\right)}_\\text{Sdop} = \\underbrace{\\frac{\\partial}{\\partial x} + \\frac{\\partial}{\\partial y} + \\frac{\\partial}{\\partial z} + \\boldsymbol{e}_{x} x^{2} + \\boldsymbol{e}_{y} y^{2} + \\boldsymbol{e}_{z} z^{2}}_\\text{Dop}$"
      ],
      "text/plain": [
       "<IPython.core.display.Math object>"
      ]
     },
     "metadata": {},
     "output_type": "display_data"
    },
    {
     "data": {
      "text/latex": [
       "$\\displaystyle \\underbrace{\\left(x^{2} \\boldsymbol{e}_{x} + y^{2} \\boldsymbol{e}_{y} + z^{2} \\boldsymbol{e}_{z}\\right)}_\\text{Mv} + \\underbrace{\\left(x^{2} + y^{2} + z^{2}\\right)}_\\text{f(x,y,z)} = \\underbrace{\\left ( x^{2} + y^{2} + z^{2}\\right )  + x^{2} \\boldsymbol{e}_{x} + y^{2} \\boldsymbol{e}_{y} + z^{2} \\boldsymbol{e}_{z}}_\\text{Mv}$"
      ],
      "text/plain": [
       "<IPython.core.display.Math object>"
      ]
     },
     "metadata": {},
     "output_type": "display_data"
    },
    {
     "data": {
      "text/latex": [
       "$\\displaystyle \\underbrace{\\left(x^{2} \\boldsymbol{e}_{x} + y^{2} \\boldsymbol{e}_{y} + z^{2} \\boldsymbol{e}_{z}\\right)}_\\text{Mv} + \\underbrace{\\left(\\boldsymbol{e}_{x} \\frac{\\partial}{\\partial x} + \\boldsymbol{e}_{y} \\frac{\\partial}{\\partial y} + \\boldsymbol{e}_{z} \\frac{\\partial}{\\partial z}\\right)}_\\text{Dop} = \\underbrace{\\boldsymbol{e}_{x} \\left ( x^{2}  + \\frac{\\partial}{\\partial x}\\right )  + \\boldsymbol{e}_{y} \\left ( y^{2}  + \\frac{\\partial}{\\partial y}\\right )  + \\boldsymbol{e}_{z} \\left ( z^{2}  + \\frac{\\partial}{\\partial z}\\right ) }_\\text{Dop}$"
      ],
      "text/plain": [
       "<IPython.core.display.Math object>"
      ]
     },
     "metadata": {},
     "output_type": "display_data"
    },
    {
     "data": {
      "text/latex": [
       "$\\displaystyle \\underbrace{\\left(x^{2} \\boldsymbol{e}_{x} + y^{2} \\boldsymbol{e}_{y} + z^{2} \\boldsymbol{e}_{z}\\right)}_\\text{Mv} + \\underbrace{\\left(x^{2} \\boldsymbol{e}_{x} + y^{2} \\boldsymbol{e}_{y} + z^{2} \\boldsymbol{e}_{z}\\right)}_\\text{Mv} = \\underbrace{2 x^{2} \\boldsymbol{e}_{x} + 2 y^{2} \\boldsymbol{e}_{y} + 2 z^{2} \\boldsymbol{e}_{z}}_\\text{Mv}$"
      ],
      "text/plain": [
       "<IPython.core.display.Math object>"
      ]
     },
     "metadata": {},
     "output_type": "display_data"
    },
    {
     "data": {
      "text/markdown": [
       "### The ``-`` operator"
      ],
      "text/plain": [
       "<IPython.core.display.Markdown object>"
      ]
     },
     "metadata": {},
     "output_type": "display_data"
    },
    {
     "data": {
      "text/latex": [
       "$\\displaystyle \\underbrace{\\left(\\frac{\\partial}{\\partial x}\\right)}_\\text{Pdop} - \\underbrace{\\left(\\frac{\\partial}{\\partial x}\\right)}_\\text{Pdop} = \\underbrace{DiffOpZero\\left(\\right)}_\\text{op}$"
      ],
      "text/plain": [
       "<IPython.core.display.Math object>"
      ]
     },
     "metadata": {},
     "output_type": "display_data"
    },
    {
     "data": {
      "text/latex": [
       "$\\displaystyle \\underbrace{\\left(\\frac{\\partial}{\\partial x}\\right)}_\\text{Pdop} - \\underbrace{\\left(\\frac{\\partial}{\\partial x} + \\frac{\\partial}{\\partial y} + \\frac{\\partial}{\\partial z}\\right)}_\\text{Sdop} = \\underbrace{\\frac{\\partial}{\\partial x} - \\left(\\frac{\\partial}{\\partial x} + \\frac{\\partial}{\\partial y} + \\frac{\\partial}{\\partial z}\\right)}_\\text{op}$"
      ],
      "text/plain": [
       "<IPython.core.display.Math object>"
      ]
     },
     "metadata": {},
     "output_type": "display_data"
    },
    {
     "data": {
      "text/latex": [
       "$\\displaystyle \\underbrace{\\left(\\frac{\\partial}{\\partial x}\\right)}_\\text{Pdop} - \\underbrace{\\left(x^{2} + y^{2} + z^{2}\\right)}_\\text{f(x,y,z)} = \\underbrace{- x^{2}  + - y^{2}  + - z^{2}  + \\frac{\\partial}{\\partial x}}_\\text{op}$"
      ],
      "text/plain": [
       "<IPython.core.display.Math object>"
      ]
     },
     "metadata": {},
     "output_type": "display_data"
    },
    {
     "data": {
      "text/latex": [
       "$\\displaystyle \\underbrace{\\left(\\frac{\\partial}{\\partial x}\\right)}_\\text{Pdop} - \\underbrace{\\left(\\boldsymbol{e}_{x} \\frac{\\partial}{\\partial x} + \\boldsymbol{e}_{y} \\frac{\\partial}{\\partial y} + \\boldsymbol{e}_{z} \\frac{\\partial}{\\partial z}\\right)}_\\text{Dop} = \\underbrace{\\frac{\\partial}{\\partial x} + \\boldsymbol{e}_{x} 0 + \\boldsymbol{e}_{y} 0 + \\boldsymbol{e}_{z} 0}_\\text{Dop}$"
      ],
      "text/plain": [
       "<IPython.core.display.Math object>"
      ]
     },
     "metadata": {},
     "output_type": "display_data"
    },
    {
     "data": {
      "text/latex": [
       "$\\displaystyle \\underbrace{\\left(\\frac{\\partial}{\\partial x}\\right)}_\\text{Pdop} - \\underbrace{\\left(x^{2} \\boldsymbol{e}_{x} + y^{2} \\boldsymbol{e}_{y} + z^{2} \\boldsymbol{e}_{z}\\right)}_\\text{Mv} = \\underbrace{\\frac{\\partial}{\\partial x} -\\boldsymbol{e}_{x}  x^{2} -\\boldsymbol{e}_{y}  y^{2} -\\boldsymbol{e}_{z}  z^{2}}_\\text{Dop}$"
      ],
      "text/plain": [
       "<IPython.core.display.Math object>"
      ]
     },
     "metadata": {},
     "output_type": "display_data"
    },
    {
     "data": {
      "text/latex": [
       "$\\displaystyle \\underbrace{\\left(\\frac{\\partial}{\\partial x} + \\frac{\\partial}{\\partial y} + \\frac{\\partial}{\\partial z}\\right)}_\\text{Sdop} - \\underbrace{\\left(\\frac{\\partial}{\\partial x}\\right)}_\\text{Pdop} = \\underbrace{\\frac{\\partial}{\\partial y} + \\frac{\\partial}{\\partial z}}_\\text{op}$"
      ],
      "text/plain": [
       "<IPython.core.display.Math object>"
      ]
     },
     "metadata": {},
     "output_type": "display_data"
    },
    {
     "data": {
      "text/latex": [
       "$\\displaystyle \\underbrace{\\left(\\frac{\\partial}{\\partial x} + \\frac{\\partial}{\\partial y} + \\frac{\\partial}{\\partial z}\\right)}_\\text{Sdop} - \\underbrace{\\left(\\frac{\\partial}{\\partial x} + \\frac{\\partial}{\\partial y} + \\frac{\\partial}{\\partial z}\\right)}_\\text{Sdop} = \\underbrace{\\frac{\\partial}{\\partial x} + \\frac{\\partial}{\\partial y} + \\frac{\\partial}{\\partial z} - \\left(\\frac{\\partial}{\\partial x} + \\frac{\\partial}{\\partial y} + \\frac{\\partial}{\\partial z}\\right)}_\\text{op}$"
      ],
      "text/plain": [
       "<IPython.core.display.Math object>"
      ]
     },
     "metadata": {},
     "output_type": "display_data"
    },
    {
     "data": {
      "text/latex": [
       "$\\displaystyle \\underbrace{\\left(\\frac{\\partial}{\\partial x} + \\frac{\\partial}{\\partial y} + \\frac{\\partial}{\\partial z}\\right)}_\\text{Sdop} - \\underbrace{\\left(x^{2} + y^{2} + z^{2}\\right)}_\\text{f(x,y,z)} = \\underbrace{- x^{2}  + - y^{2}  + - z^{2}  + \\frac{\\partial}{\\partial x} + \\frac{\\partial}{\\partial y} + \\frac{\\partial}{\\partial z}}_\\text{op}$"
      ],
      "text/plain": [
       "<IPython.core.display.Math object>"
      ]
     },
     "metadata": {},
     "output_type": "display_data"
    },
    {
     "data": {
      "text/latex": [
       "$\\displaystyle \\underbrace{\\left(\\frac{\\partial}{\\partial x} + \\frac{\\partial}{\\partial y} + \\frac{\\partial}{\\partial z}\\right)}_\\text{Sdop} - \\underbrace{\\left(\\boldsymbol{e}_{x} \\frac{\\partial}{\\partial x} + \\boldsymbol{e}_{y} \\frac{\\partial}{\\partial y} + \\boldsymbol{e}_{z} \\frac{\\partial}{\\partial z}\\right)}_\\text{Dop} = \\underbrace{\\frac{\\partial}{\\partial x} + \\frac{\\partial}{\\partial y} + \\frac{\\partial}{\\partial z} + \\boldsymbol{e}_{x} 0 + \\boldsymbol{e}_{y} 0 + \\boldsymbol{e}_{z} 0}_\\text{Dop}$"
      ],
      "text/plain": [
       "<IPython.core.display.Math object>"
      ]
     },
     "metadata": {},
     "output_type": "display_data"
    },
    {
     "data": {
      "text/latex": [
       "$\\displaystyle \\underbrace{\\left(\\frac{\\partial}{\\partial x} + \\frac{\\partial}{\\partial y} + \\frac{\\partial}{\\partial z}\\right)}_\\text{Sdop} - \\underbrace{\\left(x^{2} \\boldsymbol{e}_{x} + y^{2} \\boldsymbol{e}_{y} + z^{2} \\boldsymbol{e}_{z}\\right)}_\\text{Mv} = \\underbrace{\\frac{\\partial}{\\partial x} + \\frac{\\partial}{\\partial y} + \\frac{\\partial}{\\partial z} -\\boldsymbol{e}_{x}  x^{2} -\\boldsymbol{e}_{y}  y^{2} -\\boldsymbol{e}_{z}  z^{2}}_\\text{Dop}$"
      ],
      "text/plain": [
       "<IPython.core.display.Math object>"
      ]
     },
     "metadata": {},
     "output_type": "display_data"
    },
    {
     "data": {
      "text/latex": [
       "$\\displaystyle \\underbrace{\\left(x^{2} + y^{2} + z^{2}\\right)}_\\text{f(x,y,z)} - \\underbrace{\\left(\\frac{\\partial}{\\partial x}\\right)}_\\text{Pdop} = \\underbrace{x^{2}  + y^{2}  + z^{2}  - \\frac{\\partial}{\\partial x}}_\\text{op}$"
      ],
      "text/plain": [
       "<IPython.core.display.Math object>"
      ]
     },
     "metadata": {},
     "output_type": "display_data"
    },
    {
     "data": {
      "text/latex": [
       "$\\displaystyle \\underbrace{\\left(x^{2} + y^{2} + z^{2}\\right)}_\\text{f(x,y,z)} - \\underbrace{\\left(\\frac{\\partial}{\\partial x} + \\frac{\\partial}{\\partial y} + \\frac{\\partial}{\\partial z}\\right)}_\\text{Sdop} = \\underbrace{x^{2}  + y^{2}  + z^{2}  - \\left(\\frac{\\partial}{\\partial x} + \\frac{\\partial}{\\partial y} + \\frac{\\partial}{\\partial z}\\right)}_\\text{op}$"
      ],
      "text/plain": [
       "<IPython.core.display.Math object>"
      ]
     },
     "metadata": {},
     "output_type": "display_data"
    },
    {
     "data": {
      "text/latex": [
       "$\\displaystyle \\underbrace{\\left(x^{2} + y^{2} + z^{2}\\right)}_\\text{f(x,y,z)} - \\underbrace{\\left(x^{2} + y^{2} + z^{2}\\right)}_\\text{f(x,y,z)} = \\underbrace{0}_\\text{Zero}$"
      ],
      "text/plain": [
       "<IPython.core.display.Math object>"
      ]
     },
     "metadata": {},
     "output_type": "display_data"
    },
    {
     "data": {
      "text/latex": [
       "$\\displaystyle \\underbrace{\\left(x^{2} + y^{2} + z^{2}\\right)}_\\text{f(x,y,z)} - \\underbrace{\\left(\\boldsymbol{e}_{x} \\frac{\\partial}{\\partial x} + \\boldsymbol{e}_{y} \\frac{\\partial}{\\partial y} + \\boldsymbol{e}_{z} \\frac{\\partial}{\\partial z}\\right)}_\\text{Dop} = \\underbrace{x^{2} + y^{2} + z^{2} + \\boldsymbol{e}_{x} 0 + \\boldsymbol{e}_{y} 0 + \\boldsymbol{e}_{z} 0}_\\text{Dop}$"
      ],
      "text/plain": [
       "<IPython.core.display.Math object>"
      ]
     },
     "metadata": {},
     "output_type": "display_data"
    },
    {
     "data": {
      "text/latex": [
       "$\\displaystyle \\underbrace{\\left(x^{2} + y^{2} + z^{2}\\right)}_\\text{f(x,y,z)} - \\underbrace{\\left(x^{2} \\boldsymbol{e}_{x} + y^{2} \\boldsymbol{e}_{y} + z^{2} \\boldsymbol{e}_{z}\\right)}_\\text{Mv} = \\underbrace{\\left ( x^{2} + y^{2} + z^{2}\\right )  - x^{2} \\boldsymbol{e}_{x} - y^{2} \\boldsymbol{e}_{y} - z^{2} \\boldsymbol{e}_{z}}_\\text{Mv}$"
      ],
      "text/plain": [
       "<IPython.core.display.Math object>"
      ]
     },
     "metadata": {},
     "output_type": "display_data"
    },
    {
     "data": {
      "text/latex": [
       "$\\displaystyle \\underbrace{\\left(\\boldsymbol{e}_{x} \\frac{\\partial}{\\partial x} + \\boldsymbol{e}_{y} \\frac{\\partial}{\\partial y} + \\boldsymbol{e}_{z} \\frac{\\partial}{\\partial z}\\right)}_\\text{Dop} - \\underbrace{\\left(\\frac{\\partial}{\\partial x}\\right)}_\\text{Pdop} = \\underbrace{0 + \\boldsymbol{e}_{x} \\frac{\\partial}{\\partial x} + \\boldsymbol{e}_{y} \\frac{\\partial}{\\partial y} + \\boldsymbol{e}_{z} \\frac{\\partial}{\\partial z}}_\\text{Dop}$"
      ],
      "text/plain": [
       "<IPython.core.display.Math object>"
      ]
     },
     "metadata": {},
     "output_type": "display_data"
    },
    {
     "data": {
      "text/latex": [
       "$\\displaystyle \\underbrace{\\left(\\boldsymbol{e}_{x} \\frac{\\partial}{\\partial x} + \\boldsymbol{e}_{y} \\frac{\\partial}{\\partial y} + \\boldsymbol{e}_{z} \\frac{\\partial}{\\partial z}\\right)}_\\text{Dop} - \\underbrace{\\left(\\frac{\\partial}{\\partial x} + \\frac{\\partial}{\\partial y} + \\frac{\\partial}{\\partial z}\\right)}_\\text{Sdop} = \\underbrace{- \\frac{\\partial}{\\partial x} - \\frac{\\partial}{\\partial y} - \\frac{\\partial}{\\partial z} + \\boldsymbol{e}_{x} \\frac{\\partial}{\\partial x} + \\boldsymbol{e}_{y} \\frac{\\partial}{\\partial y} + \\boldsymbol{e}_{z} \\frac{\\partial}{\\partial z}}_\\text{Dop}$"
      ],
      "text/plain": [
       "<IPython.core.display.Math object>"
      ]
     },
     "metadata": {},
     "output_type": "display_data"
    },
    {
     "data": {
      "text/latex": [
       "$\\displaystyle \\underbrace{\\left(\\boldsymbol{e}_{x} \\frac{\\partial}{\\partial x} + \\boldsymbol{e}_{y} \\frac{\\partial}{\\partial y} + \\boldsymbol{e}_{z} \\frac{\\partial}{\\partial z}\\right)}_\\text{Dop} - \\underbrace{\\left(x^{2} + y^{2} + z^{2}\\right)}_\\text{f(x,y,z)} = \\underbrace{- x^{2} - y^{2} - z^{2} + \\boldsymbol{e}_{x} \\frac{\\partial}{\\partial x} + \\boldsymbol{e}_{y} \\frac{\\partial}{\\partial y} + \\boldsymbol{e}_{z} \\frac{\\partial}{\\partial z}}_\\text{Dop}$"
      ],
      "text/plain": [
       "<IPython.core.display.Math object>"
      ]
     },
     "metadata": {},
     "output_type": "display_data"
    },
    {
     "data": {
      "text/latex": [
       "$\\displaystyle \\underbrace{\\left(\\boldsymbol{e}_{x} \\frac{\\partial}{\\partial x} + \\boldsymbol{e}_{y} \\frac{\\partial}{\\partial y} + \\boldsymbol{e}_{z} \\frac{\\partial}{\\partial z}\\right)}_\\text{Dop} - \\underbrace{\\left(\\boldsymbol{e}_{x} \\frac{\\partial}{\\partial x} + \\boldsymbol{e}_{y} \\frac{\\partial}{\\partial y} + \\boldsymbol{e}_{z} \\frac{\\partial}{\\partial z}\\right)}_\\text{Dop} = \\underbrace{ 0 }_\\text{Dop}$"
      ],
      "text/plain": [
       "<IPython.core.display.Math object>"
      ]
     },
     "metadata": {},
     "output_type": "display_data"
    },
    {
     "data": {
      "text/latex": [
       "$\\displaystyle \\underbrace{\\left(\\boldsymbol{e}_{x} \\frac{\\partial}{\\partial x} + \\boldsymbol{e}_{y} \\frac{\\partial}{\\partial y} + \\boldsymbol{e}_{z} \\frac{\\partial}{\\partial z}\\right)}_\\text{Dop} - \\underbrace{\\left(x^{2} \\boldsymbol{e}_{x} + y^{2} \\boldsymbol{e}_{y} + z^{2} \\boldsymbol{e}_{z}\\right)}_\\text{Mv} = \\underbrace{\\boldsymbol{e}_{x} \\left ( - x^{2}  + \\frac{\\partial}{\\partial x}\\right )  + \\boldsymbol{e}_{y} \\left ( - y^{2}  + \\frac{\\partial}{\\partial y}\\right )  + \\boldsymbol{e}_{z} \\left ( - z^{2}  + \\frac{\\partial}{\\partial z}\\right ) }_\\text{Dop}$"
      ],
      "text/plain": [
       "<IPython.core.display.Math object>"
      ]
     },
     "metadata": {},
     "output_type": "display_data"
    },
    {
     "data": {
      "text/latex": [
       "$\\displaystyle \\underbrace{\\left(x^{2} \\boldsymbol{e}_{x} + y^{2} \\boldsymbol{e}_{y} + z^{2} \\boldsymbol{e}_{z}\\right)}_\\text{Mv} - \\underbrace{\\left(\\frac{\\partial}{\\partial x}\\right)}_\\text{Pdop} = \\underbrace{0 + \\boldsymbol{e}_{x} x^{2} + \\boldsymbol{e}_{y} y^{2} + \\boldsymbol{e}_{z} z^{2}}_\\text{Dop}$"
      ],
      "text/plain": [
       "<IPython.core.display.Math object>"
      ]
     },
     "metadata": {},
     "output_type": "display_data"
    },
    {
     "data": {
      "text/latex": [
       "$\\displaystyle \\underbrace{\\left(x^{2} \\boldsymbol{e}_{x} + y^{2} \\boldsymbol{e}_{y} + z^{2} \\boldsymbol{e}_{z}\\right)}_\\text{Mv} - \\underbrace{\\left(\\frac{\\partial}{\\partial x} + \\frac{\\partial}{\\partial y} + \\frac{\\partial}{\\partial z}\\right)}_\\text{Sdop} = \\underbrace{- \\frac{\\partial}{\\partial x} - \\frac{\\partial}{\\partial y} - \\frac{\\partial}{\\partial z} + \\boldsymbol{e}_{x} x^{2} + \\boldsymbol{e}_{y} y^{2} + \\boldsymbol{e}_{z} z^{2}}_\\text{Dop}$"
      ],
      "text/plain": [
       "<IPython.core.display.Math object>"
      ]
     },
     "metadata": {},
     "output_type": "display_data"
    },
    {
     "data": {
      "text/latex": [
       "$\\displaystyle \\underbrace{\\left(x^{2} \\boldsymbol{e}_{x} + y^{2} \\boldsymbol{e}_{y} + z^{2} \\boldsymbol{e}_{z}\\right)}_\\text{Mv} - \\underbrace{\\left(x^{2} + y^{2} + z^{2}\\right)}_\\text{f(x,y,z)} = \\underbrace{\\left ( - x^{2} - y^{2} - z^{2}\\right )  + x^{2} \\boldsymbol{e}_{x} + y^{2} \\boldsymbol{e}_{y} + z^{2} \\boldsymbol{e}_{z}}_\\text{Mv}$"
      ],
      "text/plain": [
       "<IPython.core.display.Math object>"
      ]
     },
     "metadata": {},
     "output_type": "display_data"
    },
    {
     "data": {
      "text/latex": [
       "$\\displaystyle \\underbrace{\\left(x^{2} \\boldsymbol{e}_{x} + y^{2} \\boldsymbol{e}_{y} + z^{2} \\boldsymbol{e}_{z}\\right)}_\\text{Mv} - \\underbrace{\\left(\\boldsymbol{e}_{x} \\frac{\\partial}{\\partial x} + \\boldsymbol{e}_{y} \\frac{\\partial}{\\partial y} + \\boldsymbol{e}_{z} \\frac{\\partial}{\\partial z}\\right)}_\\text{Dop} = \\underbrace{\\boldsymbol{e}_{x} \\left ( x^{2}  - \\frac{\\partial}{\\partial x}\\right )  + \\boldsymbol{e}_{y} \\left ( y^{2}  - \\frac{\\partial}{\\partial y}\\right )  + \\boldsymbol{e}_{z} \\left ( z^{2}  - \\frac{\\partial}{\\partial z}\\right ) }_\\text{Dop}$"
      ],
      "text/plain": [
       "<IPython.core.display.Math object>"
      ]
     },
     "metadata": {},
     "output_type": "display_data"
    },
    {
     "data": {
      "text/latex": [
       "$\\displaystyle \\underbrace{\\left(x^{2} \\boldsymbol{e}_{x} + y^{2} \\boldsymbol{e}_{y} + z^{2} \\boldsymbol{e}_{z}\\right)}_\\text{Mv} - \\underbrace{\\left(x^{2} \\boldsymbol{e}_{x} + y^{2} \\boldsymbol{e}_{y} + z^{2} \\boldsymbol{e}_{z}\\right)}_\\text{Mv} = \\underbrace{ 0 }_\\text{Mv}$"
      ],
      "text/plain": [
       "<IPython.core.display.Math object>"
      ]
     },
     "metadata": {},
     "output_type": "display_data"
    },
    {
     "data": {
      "text/markdown": [
       "### The ``*`` operator"
      ],
      "text/plain": [
       "<IPython.core.display.Markdown object>"
      ]
     },
     "metadata": {},
     "output_type": "display_data"
    },
    {
     "data": {
      "text/latex": [
       "$\\displaystyle \\underbrace{\\left(\\frac{\\partial}{\\partial x}\\right)}_\\text{Pdop} * \\underbrace{\\left(\\frac{\\partial}{\\partial x}\\right)}_\\text{Pdop} = \\underbrace{\\frac{\\partial^{2}}{\\partial x^{2}}}_\\text{op}$"
      ],
      "text/plain": [
       "<IPython.core.display.Math object>"
      ]
     },
     "metadata": {},
     "output_type": "display_data"
    },
    {
     "data": {
      "text/latex": [
       "$\\displaystyle \\underbrace{\\left(\\frac{\\partial}{\\partial x}\\right)}_\\text{Pdop} * \\underbrace{\\left(\\frac{\\partial}{\\partial x} + \\frac{\\partial}{\\partial y} + \\frac{\\partial}{\\partial z}\\right)}_\\text{Sdop} = \\underbrace{\\frac{\\partial^{2}}{\\partial x^{2}} + \\frac{\\partial^{2}}{\\partial x\\partial y} + \\frac{\\partial^{2}}{\\partial x\\partial z}}_\\text{op}$"
      ],
      "text/plain": [
       "<IPython.core.display.Math object>"
      ]
     },
     "metadata": {},
     "output_type": "display_data"
    },
    {
     "data": {
      "text/latex": [
       "$\\displaystyle \\underbrace{\\left(\\frac{\\partial}{\\partial x}\\right)}_\\text{Pdop} * \\underbrace{\\left(x^{2} + y^{2} + z^{2}\\right)}_\\text{f(x,y,z)} = \\underbrace{2 x}_\\text{Mul}$"
      ],
      "text/plain": [
       "<IPython.core.display.Math object>"
      ]
     },
     "metadata": {},
     "output_type": "display_data"
    },
    {
     "data": {
      "text/latex": [
       "$\\displaystyle \\underbrace{\\left(\\frac{\\partial}{\\partial x}\\right)}_\\text{Pdop} * \\underbrace{\\left(\\boldsymbol{e}_{x} \\frac{\\partial}{\\partial x} + \\boldsymbol{e}_{y} \\frac{\\partial}{\\partial y} + \\boldsymbol{e}_{z} \\frac{\\partial}{\\partial z}\\right)}_\\text{Dop} = \\underbrace{\\boldsymbol{e}_{x} \\frac{\\partial^{2}}{\\partial x^{2}} + \\boldsymbol{e}_{y} \\frac{\\partial^{2}}{\\partial x\\partial y} + \\boldsymbol{e}_{z} \\frac{\\partial^{2}}{\\partial x\\partial z}}_\\text{Dop}$"
      ],
      "text/plain": [
       "<IPython.core.display.Math object>"
      ]
     },
     "metadata": {},
     "output_type": "display_data"
    },
    {
     "data": {
      "text/latex": [
       "$\\displaystyle \\underbrace{\\left(\\frac{\\partial}{\\partial x}\\right)}_\\text{Pdop} * \\underbrace{\\left(x^{2} \\boldsymbol{e}_{x} + y^{2} \\boldsymbol{e}_{y} + z^{2} \\boldsymbol{e}_{z}\\right)}_\\text{Mv} = \\underbrace{\\frac{\\partial^{2}}{\\partial x^{2}}}_\\text{Dop}$"
      ],
      "text/plain": [
       "<IPython.core.display.Math object>"
      ]
     },
     "metadata": {},
     "output_type": "display_data"
    },
    {
     "data": {
      "text/latex": [
       "$\\displaystyle \\underbrace{\\left(\\frac{\\partial}{\\partial x} + \\frac{\\partial}{\\partial y} + \\frac{\\partial}{\\partial z}\\right)}_\\text{Sdop} * \\underbrace{\\left(\\frac{\\partial}{\\partial x}\\right)}_\\text{Pdop} = \\underbrace{\\frac{\\partial^{2}}{\\partial x^{2}} + \\frac{\\partial^{2}}{\\partial x\\partial y} + \\frac{\\partial^{2}}{\\partial x\\partial z}}_\\text{op}$"
      ],
      "text/plain": [
       "<IPython.core.display.Math object>"
      ]
     },
     "metadata": {},
     "output_type": "display_data"
    },
    {
     "data": {
      "text/latex": [
       "$\\displaystyle \\underbrace{\\left(\\frac{\\partial}{\\partial x} + \\frac{\\partial}{\\partial y} + \\frac{\\partial}{\\partial z}\\right)}_\\text{Sdop} * \\underbrace{\\left(\\frac{\\partial}{\\partial x} + \\frac{\\partial}{\\partial y} + \\frac{\\partial}{\\partial z}\\right)}_\\text{Sdop} = \\underbrace{\\frac{\\partial^{2}}{\\partial x^{2}} + 2 \\frac{\\partial^{2}}{\\partial x\\partial y} + 2 \\frac{\\partial^{2}}{\\partial x\\partial z} + \\frac{\\partial^{2}}{\\partial y^{2}} + 2 \\frac{\\partial^{2}}{\\partial y\\partial z} + \\frac{\\partial^{2}}{\\partial z^{2}}}_\\text{op}$"
      ],
      "text/plain": [
       "<IPython.core.display.Math object>"
      ]
     },
     "metadata": {},
     "output_type": "display_data"
    },
    {
     "data": {
      "text/latex": [
       "$\\displaystyle \\underbrace{\\left(\\frac{\\partial}{\\partial x} + \\frac{\\partial}{\\partial y} + \\frac{\\partial}{\\partial z}\\right)}_\\text{Sdop} * \\underbrace{\\left(x^{2} + y^{2} + z^{2}\\right)}_\\text{f(x,y,z)} = \\underbrace{2 x + 2 y + 2 z}_\\text{Add}$"
      ],
      "text/plain": [
       "<IPython.core.display.Math object>"
      ]
     },
     "metadata": {},
     "output_type": "display_data"
    },
    {
     "data": {
      "text/latex": [
       "$\\displaystyle \\underbrace{\\left(\\frac{\\partial}{\\partial x} + \\frac{\\partial}{\\partial y} + \\frac{\\partial}{\\partial z}\\right)}_\\text{Sdop} * \\underbrace{\\left(\\boldsymbol{e}_{x} \\frac{\\partial}{\\partial x} + \\boldsymbol{e}_{y} \\frac{\\partial}{\\partial y} + \\boldsymbol{e}_{z} \\frac{\\partial}{\\partial z}\\right)}_\\text{Dop} = \\underbrace{\\boldsymbol{e}_{x} \\left ( \\frac{\\partial^{2}}{\\partial x^{2}} + \\frac{\\partial^{2}}{\\partial x\\partial y} + \\frac{\\partial^{2}}{\\partial x\\partial z}\\right )  + \\boldsymbol{e}_{y} \\left ( \\frac{\\partial^{2}}{\\partial x\\partial y} + \\frac{\\partial^{2}}{\\partial y^{2}} + \\frac{\\partial^{2}}{\\partial y\\partial z}\\right )  + \\boldsymbol{e}_{z} \\left ( \\frac{\\partial^{2}}{\\partial x\\partial z} + \\frac{\\partial^{2}}{\\partial y\\partial z} + \\frac{\\partial^{2}}{\\partial z^{2}}\\right ) }_\\text{Dop}$"
      ],
      "text/plain": [
       "<IPython.core.display.Math object>"
      ]
     },
     "metadata": {},
     "output_type": "display_data"
    },
    {
     "data": {
      "text/latex": [
       "$\\displaystyle \\underbrace{\\left(\\frac{\\partial}{\\partial x} + \\frac{\\partial}{\\partial y} + \\frac{\\partial}{\\partial z}\\right)}_\\text{Sdop} * \\underbrace{\\left(x^{2} \\boldsymbol{e}_{x} + y^{2} \\boldsymbol{e}_{y} + z^{2} \\boldsymbol{e}_{z}\\right)}_\\text{Mv} = \\underbrace{\\frac{\\partial^{2}}{\\partial x^{2}} + 2 \\frac{\\partial^{2}}{\\partial x\\partial y} + 2 \\frac{\\partial^{2}}{\\partial x\\partial z} + \\frac{\\partial^{2}}{\\partial y^{2}} + 2 \\frac{\\partial^{2}}{\\partial y\\partial z} + \\frac{\\partial^{2}}{\\partial z^{2}}}_\\text{Dop}$"
      ],
      "text/plain": [
       "<IPython.core.display.Math object>"
      ]
     },
     "metadata": {},
     "output_type": "display_data"
    },
    {
     "data": {
      "text/latex": [
       "$\\displaystyle \\underbrace{\\left(x^{2} + y^{2} + z^{2}\\right)}_\\text{f(x,y,z)} * \\underbrace{\\left(\\frac{\\partial}{\\partial x}\\right)}_\\text{Pdop} = \\underbrace{\\left(x^{2} + y^{2} + z^{2}\\right) \\frac{\\partial}{\\partial x}}_\\text{op}$"
      ],
      "text/plain": [
       "<IPython.core.display.Math object>"
      ]
     },
     "metadata": {},
     "output_type": "display_data"
    },
    {
     "data": {
      "text/latex": [
       "$\\displaystyle \\underbrace{\\left(x^{2} + y^{2} + z^{2}\\right)}_\\text{f(x,y,z)} * \\underbrace{\\left(\\frac{\\partial}{\\partial x} + \\frac{\\partial}{\\partial y} + \\frac{\\partial}{\\partial z}\\right)}_\\text{Sdop} = \\underbrace{\\left(x^{2} + y^{2} + z^{2}\\right) \\left(\\frac{\\partial}{\\partial x} + \\frac{\\partial}{\\partial y} + \\frac{\\partial}{\\partial z}\\right)}_\\text{op}$"
      ],
      "text/plain": [
       "<IPython.core.display.Math object>"
      ]
     },
     "metadata": {},
     "output_type": "display_data"
    },
    {
     "data": {
      "text/latex": [
       "$\\displaystyle \\underbrace{\\left(x^{2} + y^{2} + z^{2}\\right)}_\\text{f(x,y,z)} * \\underbrace{\\left(x^{2} + y^{2} + z^{2}\\right)}_\\text{f(x,y,z)} = \\underbrace{\\left(x^{2} + y^{2} + z^{2}\\right)^{2}}_\\text{Pow}$"
      ],
      "text/plain": [
       "<IPython.core.display.Math object>"
      ]
     },
     "metadata": {},
     "output_type": "display_data"
    },
    {
     "data": {
      "text/latex": [
       "$\\displaystyle \\underbrace{\\left(x^{2} + y^{2} + z^{2}\\right)}_\\text{f(x,y,z)} * \\underbrace{\\left(\\boldsymbol{e}_{x} \\frac{\\partial}{\\partial x} + \\boldsymbol{e}_{y} \\frac{\\partial}{\\partial y} + \\boldsymbol{e}_{z} \\frac{\\partial}{\\partial z}\\right)}_\\text{Dop} = \\underbrace{\\boldsymbol{e}_{x} 0 + \\boldsymbol{e}_{y} 0 + \\boldsymbol{e}_{z} 0}_\\text{Dop}$"
      ],
      "text/plain": [
       "<IPython.core.display.Math object>"
      ]
     },
     "metadata": {},
     "output_type": "display_data"
    },
    {
     "data": {
      "text/latex": [
       "$\\displaystyle \\underbrace{\\left(x^{2} + y^{2} + z^{2}\\right)}_\\text{f(x,y,z)} * \\underbrace{\\left(x^{2} \\boldsymbol{e}_{x} + y^{2} \\boldsymbol{e}_{y} + z^{2} \\boldsymbol{e}_{z}\\right)}_\\text{Mv} = \\underbrace{x^{2} \\left(x^{2} + y^{2} + z^{2}\\right) \\boldsymbol{e}_{x} + y^{2} \\left(x^{2} + y^{2} + z^{2}\\right) \\boldsymbol{e}_{y} + z^{2} \\left(x^{2} + y^{2} + z^{2}\\right) \\boldsymbol{e}_{z}}_\\text{Mv}$"
      ],
      "text/plain": [
       "<IPython.core.display.Math object>"
      ]
     },
     "metadata": {},
     "output_type": "display_data"
    },
    {
     "data": {
      "text/latex": [
       "$\\displaystyle \\underbrace{\\left(\\boldsymbol{e}_{x} \\frac{\\partial}{\\partial x} + \\boldsymbol{e}_{y} \\frac{\\partial}{\\partial y} + \\boldsymbol{e}_{z} \\frac{\\partial}{\\partial z}\\right)}_\\text{Dop} * \\underbrace{\\left(\\frac{\\partial}{\\partial x}\\right)}_\\text{Pdop} = \\underbrace{\\boldsymbol{e}_{x} \\frac{\\partial^{2}}{\\partial x^{2}} + \\boldsymbol{e}_{y} \\frac{\\partial^{2}}{\\partial x\\partial y} + \\boldsymbol{e}_{z} \\frac{\\partial^{2}}{\\partial x\\partial z}}_\\text{Dop}$"
      ],
      "text/plain": [
       "<IPython.core.display.Math object>"
      ]
     },
     "metadata": {},
     "output_type": "display_data"
    },
    {
     "data": {
      "text/latex": [
       "$\\displaystyle \\underbrace{\\left(\\boldsymbol{e}_{x} \\frac{\\partial}{\\partial x} + \\boldsymbol{e}_{y} \\frac{\\partial}{\\partial y} + \\boldsymbol{e}_{z} \\frac{\\partial}{\\partial z}\\right)}_\\text{Dop} * \\underbrace{\\left(\\frac{\\partial}{\\partial x} + \\frac{\\partial}{\\partial y} + \\frac{\\partial}{\\partial z}\\right)}_\\text{Sdop} = \\underbrace{\\boldsymbol{e}_{x} \\left ( \\frac{\\partial^{2}}{\\partial x^{2}} + \\frac{\\partial^{2}}{\\partial x\\partial y} + \\frac{\\partial^{2}}{\\partial x\\partial z}\\right )  + \\boldsymbol{e}_{y} \\left ( \\frac{\\partial^{2}}{\\partial x\\partial y} + \\frac{\\partial^{2}}{\\partial y^{2}} + \\frac{\\partial^{2}}{\\partial y\\partial z}\\right )  + \\boldsymbol{e}_{z} \\left ( \\frac{\\partial^{2}}{\\partial x\\partial z} + \\frac{\\partial^{2}}{\\partial y\\partial z} + \\frac{\\partial^{2}}{\\partial z^{2}}\\right ) }_\\text{Dop}$"
      ],
      "text/plain": [
       "<IPython.core.display.Math object>"
      ]
     },
     "metadata": {},
     "output_type": "display_data"
    },
    {
     "data": {
      "text/latex": [
       "$\\displaystyle \\underbrace{\\left(\\boldsymbol{e}_{x} \\frac{\\partial}{\\partial x} + \\boldsymbol{e}_{y} \\frac{\\partial}{\\partial y} + \\boldsymbol{e}_{z} \\frac{\\partial}{\\partial z}\\right)}_\\text{Dop} * \\underbrace{\\left(x^{2} + y^{2} + z^{2}\\right)}_\\text{f(x,y,z)} = \\underbrace{2 x \\boldsymbol{e}_{x} + 2 y \\boldsymbol{e}_{y} + 2 z \\boldsymbol{e}_{z}}_\\text{Mv}$"
      ],
      "text/plain": [
       "<IPython.core.display.Math object>"
      ]
     },
     "metadata": {},
     "output_type": "display_data"
    },
    {
     "data": {
      "text/latex": [
       "$\\displaystyle \\underbrace{\\left(\\boldsymbol{e}_{x} \\frac{\\partial}{\\partial x} + \\boldsymbol{e}_{y} \\frac{\\partial}{\\partial y} + \\boldsymbol{e}_{z} \\frac{\\partial}{\\partial z}\\right)}_\\text{Dop} * \\underbrace{\\left(\\boldsymbol{e}_{x} \\frac{\\partial}{\\partial x} + \\boldsymbol{e}_{y} \\frac{\\partial}{\\partial y} + \\boldsymbol{e}_{z} \\frac{\\partial}{\\partial z}\\right)}_\\text{Dop} = \\underbrace{\\frac{\\partial^{2}}{\\partial x^{2}} + \\frac{\\partial^{2}}{\\partial y^{2}} + \\frac{\\partial^{2}}{\\partial z^{2}}}_\\text{Dop}$"
      ],
      "text/plain": [
       "<IPython.core.display.Math object>"
      ]
     },
     "metadata": {},
     "output_type": "display_data"
    },
    {
     "data": {
      "text/latex": [
       "$\\displaystyle \\underbrace{\\left(\\boldsymbol{e}_{x} \\frac{\\partial}{\\partial x} + \\boldsymbol{e}_{y} \\frac{\\partial}{\\partial y} + \\boldsymbol{e}_{z} \\frac{\\partial}{\\partial z}\\right)}_\\text{Dop} * \\underbrace{\\left(x^{2} \\boldsymbol{e}_{x} + y^{2} \\boldsymbol{e}_{y} + z^{2} \\boldsymbol{e}_{z}\\right)}_\\text{Mv} = \\underbrace{2 x + 2 y + 2 z}_\\text{Mv}$"
      ],
      "text/plain": [
       "<IPython.core.display.Math object>"
      ]
     },
     "metadata": {},
     "output_type": "display_data"
    },
    {
     "data": {
      "text/latex": [
       "$\\displaystyle \\underbrace{\\left(x^{2} \\boldsymbol{e}_{x} + y^{2} \\boldsymbol{e}_{y} + z^{2} \\boldsymbol{e}_{z}\\right)}_\\text{Mv} * \\underbrace{\\left(\\frac{\\partial}{\\partial x}\\right)}_\\text{Pdop} = \\underbrace{\\boldsymbol{e}_{x} 0 + \\boldsymbol{e}_{y} 0 + \\boldsymbol{e}_{z} 0}_\\text{Dop}$"
      ],
      "text/plain": [
       "<IPython.core.display.Math object>"
      ]
     },
     "metadata": {},
     "output_type": "display_data"
    },
    {
     "data": {
      "text/latex": [
       "$\\displaystyle \\underbrace{\\left(x^{2} \\boldsymbol{e}_{x} + y^{2} \\boldsymbol{e}_{y} + z^{2} \\boldsymbol{e}_{z}\\right)}_\\text{Mv} * \\underbrace{\\left(\\frac{\\partial}{\\partial x} + \\frac{\\partial}{\\partial y} + \\frac{\\partial}{\\partial z}\\right)}_\\text{Sdop} = \\underbrace{\\boldsymbol{e}_{x} \\left ( x^{2} \\frac{\\partial}{\\partial x} + x^{2} \\frac{\\partial}{\\partial y} + x^{2} \\frac{\\partial}{\\partial z}\\right )  + \\boldsymbol{e}_{y} \\left ( y^{2} \\frac{\\partial}{\\partial x} + y^{2} \\frac{\\partial}{\\partial y} + y^{2} \\frac{\\partial}{\\partial z}\\right )  + \\boldsymbol{e}_{z} \\left ( z^{2} \\frac{\\partial}{\\partial x} + z^{2} \\frac{\\partial}{\\partial y} + z^{2} \\frac{\\partial}{\\partial z}\\right ) }_\\text{Dop}$"
      ],
      "text/plain": [
       "<IPython.core.display.Math object>"
      ]
     },
     "metadata": {},
     "output_type": "display_data"
    },
    {
     "data": {
      "text/latex": [
       "$\\displaystyle \\underbrace{\\left(x^{2} \\boldsymbol{e}_{x} + y^{2} \\boldsymbol{e}_{y} + z^{2} \\boldsymbol{e}_{z}\\right)}_\\text{Mv} * \\underbrace{\\left(x^{2} + y^{2} + z^{2}\\right)}_\\text{f(x,y,z)} = \\underbrace{x^{2} \\left(x^{2} + y^{2} + z^{2}\\right) \\boldsymbol{e}_{x} + y^{2} \\left(x^{2} + y^{2} + z^{2}\\right) \\boldsymbol{e}_{y} + z^{2} \\left(x^{2} + y^{2} + z^{2}\\right) \\boldsymbol{e}_{z}}_\\text{Mv}$"
      ],
      "text/plain": [
       "<IPython.core.display.Math object>"
      ]
     },
     "metadata": {},
     "output_type": "display_data"
    },
    {
     "data": {
      "text/latex": [
       "$\\displaystyle \\underbrace{\\left(x^{2} \\boldsymbol{e}_{x} + y^{2} \\boldsymbol{e}_{y} + z^{2} \\boldsymbol{e}_{z}\\right)}_\\text{Mv} * \\underbrace{\\left(\\boldsymbol{e}_{x} \\frac{\\partial}{\\partial x} + \\boldsymbol{e}_{y} \\frac{\\partial}{\\partial y} + \\boldsymbol{e}_{z} \\frac{\\partial}{\\partial z}\\right)}_\\text{Dop} = \\underbrace{x^{2} \\frac{\\partial}{\\partial x} + y^{2} \\frac{\\partial}{\\partial y} + z^{2} \\frac{\\partial}{\\partial z} + \\boldsymbol{e}_{x}\\wedge \\boldsymbol{e}_{y} \\left ( x^{2} \\frac{\\partial}{\\partial y} - y^{2} \\frac{\\partial}{\\partial x}\\right )  + \\boldsymbol{e}_{x}\\wedge \\boldsymbol{e}_{z} \\left ( x^{2} \\frac{\\partial}{\\partial z} - z^{2} \\frac{\\partial}{\\partial x}\\right )  + \\boldsymbol{e}_{y}\\wedge \\boldsymbol{e}_{z} \\left ( y^{2} \\frac{\\partial}{\\partial z} - z^{2} \\frac{\\partial}{\\partial y}\\right ) }_\\text{Dop}$"
      ],
      "text/plain": [
       "<IPython.core.display.Math object>"
      ]
     },
     "metadata": {},
     "output_type": "display_data"
    },
    {
     "data": {
      "text/latex": [
       "$\\displaystyle \\underbrace{\\left(x^{2} \\boldsymbol{e}_{x} + y^{2} \\boldsymbol{e}_{y} + z^{2} \\boldsymbol{e}_{z}\\right)}_\\text{Mv} * \\underbrace{\\left(x^{2} \\boldsymbol{e}_{x} + y^{2} \\boldsymbol{e}_{y} + z^{2} \\boldsymbol{e}_{z}\\right)}_\\text{Mv} = \\underbrace{x^{4} + y^{4} + z^{4}}_\\text{Mv}$"
      ],
      "text/plain": [
       "<IPython.core.display.Math object>"
      ]
     },
     "metadata": {},
     "output_type": "display_data"
    }
   ],
   "source": [
    "r = x**2*ex+y**2*ey+z**2*ez\n",
    "args = [('Pdop', pDx), ('Sdop', dS), ('f(x,y,z)', fxyz), ('Dop', o3d.grad), ('Mv', r)]\n",
    "\n",
    "for op_name, op in ops:\n",
    "    display(Markdown(f\"### The ``{op_name}`` operator\"))\n",
    "    for t1, v1 in args:\n",
    "        for t2, v2 in args:\n",
    "            v = op(v1, v2)\n",
    "            display(Math(\n",
    "                fr'\\underbrace{{\\left({latex(v1)}\\right)}}_\\text{{{t1}}} {op_name} '\n",
    "                fr'\\underbrace{{\\left({latex(v2)}\\right)}}_\\text{{{t2}}} = '\n",
    "                fr'\\underbrace{{{latex(v)}}}_\\text{{{\"op\" if isinstance(v, DiffOpExpr) else type(v).__name__}}}'\n",
    "            ))"
   ]
  },
  {
   "cell_type": "markdown",
   "metadata": {},
   "source": [
    "### Formatting Multivector Differential Operator \n",
    "\n",
    "Multivectors the mulitvector differential operators have a `Fmt()` member function for formatting the ouput. The default is `Fmt(1)` which prints one differential operator per line and `Fmt(2)` which prints one partial derivative and it's coefficient per line.  Some examples are:"
   ]
  },
  {
   "cell_type": "code",
   "execution_count": 8,
   "metadata": {},
   "outputs": [
    {
     "data": {
      "text/latex": [
       "\\begin{equation*} \\left(x^{2} + y^{2} + z^{2}\\right)  + \\frac{\\partial}{\\partial x} + \\boldsymbol{e}_{x} \\frac{\\partial}{\\partial x} + \\boldsymbol{e}_{y} \\frac{\\partial}{\\partial y} + \\boldsymbol{e}_{z} \\frac{\\partial}{\\partial z} \\end{equation*}"
      ],
      "text/plain": [
       "(x**2 + y**2 + z**2)*D{} + D{x} + e_x*D{x} + e_y*D{y} + e_z*D{z}"
      ]
     },
     "metadata": {},
     "output_type": "display_data"
    },
    {
     "data": {
      "text/latex": [
       "\\begin{equation*} \\left(x^{2} + y^{2} + z^{2}\\right)  + \\frac{\\partial}{\\partial x} + \\boldsymbol{e}_{x} \\frac{\\partial}{\\partial x} + \\boldsymbol{e}_{y} \\frac{\\partial}{\\partial y} + \\boldsymbol{e}_{z} \\frac{\\partial}{\\partial z} \\end{equation*}"
      ],
      "text/plain": [
       "(x**2 + y**2 + z**2)*D{} + D{x} + e_x*D{x} + e_y*D{y} + e_z*D{z}"
      ]
     },
     "metadata": {},
     "output_type": "display_data"
    }
   ],
   "source": [
    "dDop = o3d.grad + pDx + fxyz\n",
    "display(dDop)\n",
    "display(dDop.Fmt(3))"
   ]
  },
  {
   "cell_type": "markdown",
   "metadata": {},
   "source": [
    "### Left and Right Differential Operators\n",
    "\n",
    "In geometric calculus the occasion arises when instead of having a differential operator operate on operators and multivectors to the right in a multiplicative expression we wish the operations to occur to the left.  One way of denoting this in a document is to use an arrow accent with the arrow pointing to the left or right.  For example the usual $\\nabla$ operator is equivalent to $\\rop{\\nabla}$ while the left operator would be designated by $\\lop{\\nabla}$.  When a geometric algebra is instanciated (for example `o3d`) then $\\rop{\\nabla} =$ `o3d.grad` and $\\lop{\\nabla} =$ `o3d.rgrad`.  $\\lop{\\nabla}$ is called `o3d.rgrad` because it is to the right of the operands in the expression.  Two member of the `Dop` class, `rop()` and `lop()` force an operator to be left or right operating. If `D` is a multivector differential operator then `D.rop()` modifies `D` to the right operation and `D.lop()` modifies `D` to the left operation (both `D.rop()` and `D.lop()` return `None`).\n",
    "\n",
    "Printing `o3d.grad` and `o3d.rgrag` gives indentical output: "
   ]
  },
  {
   "cell_type": "code",
   "execution_count": 9,
   "metadata": {},
   "outputs": [
    {
     "name": "stdout",
     "output_type": "stream",
     "text": [
      "\\T{o3d.grad} = e_x*D{x} + e_y*D{y} + e_z*D{z}\n",
      "\\T{o3d.rgrad} = D{x}*e_x + D{y}*e_y + D{z}*e_z\n"
     ]
    }
   ],
   "source": [
    "print(r'\\T{o3d.grad} =', o3d.grad)\n",
    "print(r'\\T{o3d.rgrad} =', o3d.rgrad)"
   ]
  },
  {
   "cell_type": "markdown",
   "metadata": {},
   "source": [
    "But if one operates with $\\lop{\\nabla}$ and $\\rop{\\nabla}$ on a multivector function one gets:"
   ]
  },
  {
   "cell_type": "code",
   "execution_count": 10,
   "metadata": {},
   "outputs": [
    {
     "name": "stdout",
     "output_type": "stream",
     "text": [
      "\\rop{\\nabla}\\lp x^2\\es{x}+y^2\\es{y}+z^2\\es{z}\\rp = 2*x + 2*y + 2*z\n",
      "\\lp x^2\\es{x}+y^2\\es{y}+z^2\\es{z}\\rp\\rop{\\nabla} = x**2*D{x} + y**2*D{y} + z**2*D{z} + e_x^e_y*(x**2*D{y} + (-y**2)*D{x}) + e_x^e_z*(x**2*D{z} + (-z**2)*D{x}) + e_y^e_z*(y**2*D{z} + (-z**2)*D{y})\n",
      "\\lop{\\nabla}\\lp x^2\\es{x}+y^2\\es{y}+z^2\\es{z}\\rp = x**2*D{x} + y**2*D{y} + z**2*D{z} + ((-x**2)*D{y} + y**2*D{x})*e_x^e_y + ((-x**2)*D{z} + z**2*D{x})*e_x^e_z + ((-y**2)*D{z} + z**2*D{y})*e_y^e_z\n",
      "\\lp x^2\\es{x}+y^2\\es{y}+z^2\\es{z}\\rp\\lop{\\nabla} = 2*x + 2*y + 2*z\n"
     ]
    }
   ],
   "source": [
    "print(r'\\rop{\\nabla}\\lp x^2\\es{x}+y^2\\es{y}+z^2\\es{z}\\rp =',o3d.grad*r)\n",
    "print(r'\\lp x^2\\es{x}+y^2\\es{y}+z^2\\es{z}\\rp\\rop{\\nabla} =',r*o3d.grad)\n",
    "print(r'\\lop{\\nabla}\\lp x^2\\es{x}+y^2\\es{y}+z^2\\es{z}\\rp =',o3d.rgrad*r)\n",
    "print(r'\\lp x^2\\es{x}+y^2\\es{y}+z^2\\es{z}\\rp\\lop{\\nabla} =',r*o3d.rgrad)"
   ]
  },
  {
   "cell_type": "code",
   "execution_count": 11,
   "metadata": {},
   "outputs": [
    {
     "name": "stdout",
     "output_type": "stream",
     "text": [
      "\\bs{A} = A + A__x*e_x + A__y*e_y + A__z*e_z + A__xy*e_x^e_y + A__xz*e_x^e_z + A__yz*e_y^e_z + A__xyz*e_x^e_y^e_z\n",
      "\\bs{B} = B + B__x*e_x + B__y*e_y + B__z*e_z + B__xy*e_x^e_y + B__xz*e_x^e_z + B__yz*e_y^e_z + B__xyz*e_x^e_y^e_z\n",
      "h \\bs{AB} =  A*B + A__x*B__x - A__xy*B__xy - A__xyz*B__xyz - A__xz*B__xz + A__y*B__y - A__yz*B__yz + A__z*B__z\n",
      " + (A*B__x + A__x*B + A__xy*B__y - A__xyz*B__yz + A__xz*B__z - A__y*B__xy - A__yz*B__xyz - A__z*B__xz)*e_x\n",
      " + (A*B__y + A__x*B__xy - A__xy*B__x + A__xyz*B__xz + A__xz*B__xyz + A__y*B + A__yz*B__z - A__z*B__yz)*e_y\n",
      " + (A*B__z + A__x*B__xz - A__xy*B__xyz - A__xyz*B__xy - A__xz*B__x + A__y*B__yz - A__yz*B__y + A__z*B)*e_z\n",
      " + (A*B__xy + A__x*B__y + A__xy*B + A__xyz*B__z - A__xz*B__yz - A__y*B__x + A__yz*B__xz + A__z*B__xyz)*e_x^e_y\n",
      " + (A*B__xz + A__x*B__z + A__xy*B__yz - A__xyz*B__y + A__xz*B - A__y*B__xyz - A__yz*B__xy - A__z*B__x)*e_x^e_z\n",
      " + (A*B__yz + A__x*B__xyz - A__xy*B__xz + A__xyz*B__x + A__xz*B__xy + A__y*B__z + A__yz*B - A__z*B__y)*e_y^e_z\n",
      " + (A*B__xyz + A__x*B__yz + A__xy*B__z + A__xyz*B - A__xz*B__y - A__y*B__xz + A__yz*B__x + A__z*B__xy)*e_x^e_y^e_z\n"
     ]
    },
    {
     "ename": "NameError",
     "evalue": "name 'grad' is not defined",
     "output_type": "error",
     "traceback": [
      "\u001b[1;31m---------------------------------------------------------------------------\u001b[0m",
      "\u001b[1;31mNameError\u001b[0m                                 Traceback (most recent call last)",
      "\u001b[1;32m<ipython-input-11-80c5f2b0982d>\u001b[0m in \u001b[0;36m<module>\u001b[1;34m\u001b[0m\n\u001b[0;32m      5\u001b[0m \u001b[0mC\u001b[0m \u001b[1;33m=\u001b[0m \u001b[0mA\u001b[0m\u001b[1;33m*\u001b[0m\u001b[0mB\u001b[0m\u001b[1;33m\u001b[0m\u001b[1;33m\u001b[0m\u001b[0m\n\u001b[0;32m      6\u001b[0m \u001b[0mprint\u001b[0m\u001b[1;33m(\u001b[0m\u001b[1;34m'h'\u001b[0m\u001b[1;33m,\u001b[0m\u001b[1;34mr'\\bs{AB} ='\u001b[0m\u001b[1;33m,\u001b[0m\u001b[0mC\u001b[0m\u001b[1;33m.\u001b[0m\u001b[0mFmt\u001b[0m\u001b[1;33m(\u001b[0m\u001b[1;36m3\u001b[0m\u001b[1;33m)\u001b[0m\u001b[1;33m)\u001b[0m\u001b[1;33m\u001b[0m\u001b[1;33m\u001b[0m\u001b[0m\n\u001b[1;32m----> 7\u001b[1;33m \u001b[0mdiff\u001b[0m \u001b[1;33m=\u001b[0m \u001b[1;33m(\u001b[0m\u001b[0mgrad\u001b[0m\u001b[1;33m*\u001b[0m\u001b[0mC\u001b[0m\u001b[1;33m)\u001b[0m \u001b[1;33m-\u001b[0m \u001b[1;33m(\u001b[0m\u001b[0mgrad\u001b[0m\u001b[1;33m*\u001b[0m\u001b[0mA\u001b[0m\u001b[1;33m)\u001b[0m\u001b[1;33m*\u001b[0m\u001b[0mB\u001b[0m \u001b[1;33m-\u001b[0m \u001b[1;33m(\u001b[0m\u001b[0mgrad\u001b[0m\u001b[1;33m.\u001b[0m\u001b[0modot\u001b[0m\u001b[1;33m(\u001b[0m\u001b[1;33m)\u001b[0m\u001b[1;33m*\u001b[0m\u001b[0mA\u001b[0m\u001b[1;33m)\u001b[0m\u001b[1;33m*\u001b[0m\u001b[0mB\u001b[0m\u001b[1;33m.\u001b[0m\u001b[0modot\u001b[0m\u001b[1;33m(\u001b[0m\u001b[1;33m)\u001b[0m\u001b[1;33m\u001b[0m\u001b[1;33m\u001b[0m\u001b[0m\n\u001b[0m\u001b[0;32m      8\u001b[0m \u001b[1;31m#print(r'\\nabla\\lp\\bs{AB}\\rp - \\lp\\nabla \\bs{A}\\rp \\bs{B} - \\lp\\dot{\\nabla}A\\rp\\dot{\\bs{B}}=',diff)\u001b[0m\u001b[1;33m\u001b[0m\u001b[1;33m\u001b[0m\u001b[1;33m\u001b[0m\u001b[0m\n\u001b[0;32m      9\u001b[0m \u001b[0mprint\u001b[0m\u001b[1;33m(\u001b[0m\u001b[1;34m'diff ='\u001b[0m\u001b[1;33m,\u001b[0m\u001b[0mdiff\u001b[0m\u001b[1;33m)\u001b[0m\u001b[1;33m\u001b[0m\u001b[1;33m\u001b[0m\u001b[0m\n",
      "\u001b[1;31mNameError\u001b[0m: name 'grad' is not defined"
     ]
    }
   ],
   "source": [
    "A = o3d.mv('A','mv',f=True)\n",
    "B = o3d.mv('B','mv',f=True)\n",
    "print(r'\\bs{A} =',A)\n",
    "print(r'\\bs{B} =',B)\n",
    "C = A*B\n",
    "print('h',r'\\bs{AB} =',C.Fmt(3))\n",
    "diff = (grad*C) - (grad*A)*B - (grad.odot()*A)*B.odot()\n",
    "#print(r'\\nabla\\lp\\bs{AB}\\rp - \\lp\\nabla \\bs{A}\\rp \\bs{B} - \\lp\\dot{\\nabla}A\\rp\\dot{\\bs{B}}=',diff)\n",
    "print('diff =',diff)"
   ]
  },
  {
   "cell_type": "code",
   "execution_count": null,
   "metadata": {},
   "outputs": [],
   "source": []
  }
 ],
 "metadata": {
  "kernelspec": {
   "display_name": "Python 3",
   "language": "python",
   "name": "python3"
  },
  "language_info": {
   "codemirror_mode": {
    "name": "ipython",
    "version": 3
   },
   "file_extension": ".py",
   "mimetype": "text/x-python",
   "name": "python",
   "nbconvert_exporter": "python",
   "pygments_lexer": "ipython3",
   "version": "3.8.0"
  }
 },
 "nbformat": 4,
 "nbformat_minor": 2
}
