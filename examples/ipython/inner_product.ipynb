{
 "cells": [
  {
   "cell_type": "code",
   "execution_count": 2,
   "metadata": {},
   "outputs": [
    {
     "data": {
      "text/latex": [
       "$$ \n",
       "\\DeclareMathOperator{\\Tr}{Tr}\n",
       "\\DeclareMathOperator{\\Adj}{Adj}\n",
       "\\newcommand{\\bfrac}[2]{\\displaystyle\\frac{#1}{#2}}\n",
       "\\newcommand{\\lp}{\\left (}\n",
       "\\newcommand{\\rp}{\\right )}\n",
       "\\newcommand{\\paren}[1]{\\lp {#1} \\rp}\n",
       "\\newcommand{\\half}{\\frac{1}{2}}\n",
       "\\newcommand{\\llt}{\\left <}\n",
       "\\newcommand{\\rgt}{\\right >}\n",
       "\\newcommand{\\abs}[1]{\\left |{#1}\\right | }\n",
       "\\newcommand{\\pdiff}[2]{\\bfrac{\\partial {#1}}{\\partial {#2}}}\n",
       "\\newcommand{\\npdiff}[3]{\\bfrac{\\partial^{#3} {#1}}{\\partial {#2}^{#3}}}\n",
       "\\newcommand{\\lbrc}{\\left \\{}\n",
       "\\newcommand{\\rbrc}{\\right \\]}\n",
       "\\newcommand{\\lbrk}{\\left \\[}\n",
       "\\newcommand{\\rbrk}{\\right \\}}\n",
       "\\newcommand{\\W}{\\wedge}\n",
       "\\newcommand{\\prm}[1]{{#1}'}\n",
       "\\newcommand{\\ddt}[1]{\\bfrac{d{#1}}{dt}}\n",
       "\\newcommand{\\R}{\\dagger}\n",
       "\\newcommand{\\deriv}[3]{\\bfrac{d^{#3}#1}{d{#2}^{#3}}}\n",
       "\\newcommand{\\grd}[1]{\\left < {#1} \\right >}\n",
       "\\newcommand{\\f}[2]{{#1}\\lp {#2} \\rp}\n",
       "\\newcommand{\\eval}[2]{\\left . {#1} \\right |_{#2}}\n",
       "\\newcommand{\\bs}[1]{\\boldsymbol{#1}}\n",
       "\\newcommand{\\es}[1]{\\boldsymbol{e}_{#1}}\n",
       "\\newcommand{\\eS}[1]{\\boldsymbol{e}^{#1}}\n",
       "\\newcommand{\\grade}[2]{\\left < {#1} \\right >_{#2}}\n",
       "\\newcommand{\\lc}{\\rfloor}\n",
       "\\newcommand{\\rc}{\\lfloor}\n",
       "\\newcommand{\\T}[1]{\\text{#1}}\n",
       "\\newcommand{\\lop}[1]{\\overleftarrow{#1}}\n",
       "\\newcommand{\\rop}[1]{\\overrightarrow{#1}}\n",
       "\\newcommand{\\ldot}{\\lfloor}\n",
       "\\newcommand{\\rdot}{\\rfloor}\n",
       "\n",
       "%MacDonald LaTeX macros\n",
       "\n",
       "\\newcommand   {\\thalf}    {\\textstyle \\frac{1}{2}}\n",
       "\\newcommand   {\\tthird}   {\\textstyle \\frac{1}{3}}\n",
       "\\newcommand   {\\tquarter} {\\textstyle \\frac{1}{4}}\n",
       "\\newcommand   {\\tsixth}   {\\textstyle \\frac{1}{6}}\n",
       "\n",
       "\\newcommand   {\\RE}       {\\mathbb{R}}\n",
       "\\newcommand   {\\GA}       {\\mathbb{G}}\n",
       "\\newcommand   {\\inner}    {\\mathbin{\\pmb{\\cdot}}}\n",
       "\\renewcommand {\\outer}    {\\mathbin{\\wedge}}\n",
       "\\newcommand   {\\cross}    {\\mathbin{\\times}}\n",
       "\\newcommand   {\\meet}     {\\mathbin{{\\,\\vee\\;}}}\n",
       "\\renewcommand {\\iff}              {\\Leftrightarrow}\n",
       "\\renewcommand {\\impliedby}{\\Leftarrow}\n",
       "\\renewcommand {\\implies}  {\\Rightarrow}\n",
       "\\newcommand   {\\perpc}    {\\perp}  % Orthogonal complement\n",
       "\\newcommand   {\\perpm}    {*}  % Dual of multivector\n",
       "\\newcommand   {\\del}      {\\mathbf{\\nabla}}  %{\\boldsymbol\\nabla\\!}\n",
       "\\newcommand   {\\mpart}[2]{\\left\\langle\\, #1 \\,\\right\\rangle_{#2}} % AMS has a \\part\n",
       "\\newcommand   {\\spart}[1]{\\mpart{#1}{0}}\n",
       "\\newcommand   {\\ds}       {\\displaystyle}\n",
       "\\newcommand   {\\os}       {\\overset}\n",
       "\\newcommand   {\\galgebra} {\\mbox{$\\mathcal{G\\!A}$\\hspace{.01in}lgebra}}\n",
       "\\newcommand   {\\latex}    {\\LaTeX}\n",
       " $$"
      ],
      "text/plain": [
       "<IPython.core.display.Latex object>"
      ]
     },
     "metadata": {},
     "output_type": "display_data"
    }
   ],
   "source": [
    "from __future__ import print_function\n",
    "from sympy import Symbol, symbols, sin, cos, Rational, expand, simplify, collect, S\n",
    "from galgebra.printer import Eprint, Get_Program, Print_Function, Format\n",
    "from galgebra.ga import Ga, one, zero\n",
    "from galgebra.mv import Nga\n",
    "Format()"
   ]
  },
  {
   "cell_type": "code",
   "execution_count": 3,
   "metadata": {},
   "outputs": [],
   "source": [
    "X = (x, y, z) = symbols('x y z')\n",
    "o3d = Ga('e_x e_y e_z', g=[1, 1, 1], coords=X)\n",
    "(ex, ey, ez) = o3d.mv()\n",
    "grad = o3d.grad"
   ]
  },
  {
   "cell_type": "code",
   "execution_count": 4,
   "metadata": {},
   "outputs": [],
   "source": [
    "c = o3d.mv('c', 'scalar')"
   ]
  },
  {
   "cell_type": "code",
   "execution_count": 5,
   "metadata": {},
   "outputs": [],
   "source": [
    "a = o3d.mv('a', 'vector')\n",
    "b = o3d.mv('b', 'vector')"
   ]
  },
  {
   "cell_type": "code",
   "execution_count": 6,
   "metadata": {},
   "outputs": [
    {
     "data": {
      "text/latex": [
       "$$ c = c  $$"
      ],
      "text/plain": [
       "<IPython.core.display.Latex object>"
      ]
     },
     "metadata": {},
     "output_type": "display_data"
    },
    {
     "data": {
      "text/latex": [
       "$$ a = a^{x} \\boldsymbol{e}_{x} + a^{y} \\boldsymbol{e}_{y} + a^{z} \\boldsymbol{e}_{z}  $$"
      ],
      "text/plain": [
       "<IPython.core.display.Latex object>"
      ]
     },
     "metadata": {},
     "output_type": "display_data"
    },
    {
     "data": {
      "text/latex": [
       "$$ b = b^{x} \\boldsymbol{e}_{x} + b^{y} \\boldsymbol{e}_{y} + b^{z} \\boldsymbol{e}_{z}  $$"
      ],
      "text/plain": [
       "<IPython.core.display.Latex object>"
      ]
     },
     "metadata": {},
     "output_type": "display_data"
    },
    {
     "data": {
      "text/latex": [
       "$$ A = A  + A^{x} \\boldsymbol{e}_{x} + A^{y} \\boldsymbol{e}_{y} + A^{z} \\boldsymbol{e}_{z} + A^{xy} \\boldsymbol{e}_{x}\\wedge \\boldsymbol{e}_{y} + A^{xz} \\boldsymbol{e}_{x}\\wedge \\boldsymbol{e}_{z} + A^{yz} \\boldsymbol{e}_{y}\\wedge \\boldsymbol{e}_{z} + A^{xyz} \\boldsymbol{e}_{x}\\wedge \\boldsymbol{e}_{y}\\wedge \\boldsymbol{e}_{z}  $$"
      ],
      "text/plain": [
       "<IPython.core.display.Latex object>"
      ]
     },
     "metadata": {},
     "output_type": "display_data"
    },
    {
     "data": {
      "text/latex": [
       "$$ B = B  + B^{x} \\boldsymbol{e}_{x} + B^{y} \\boldsymbol{e}_{y} + B^{z} \\boldsymbol{e}_{z} + B^{xy} \\boldsymbol{e}_{x}\\wedge \\boldsymbol{e}_{y} + B^{xz} \\boldsymbol{e}_{x}\\wedge \\boldsymbol{e}_{z} + B^{yz} \\boldsymbol{e}_{y}\\wedge \\boldsymbol{e}_{z} + B^{xyz} \\boldsymbol{e}_{x}\\wedge \\boldsymbol{e}_{y}\\wedge \\boldsymbol{e}_{z}  $$"
      ],
      "text/plain": [
       "<IPython.core.display.Latex object>"
      ]
     },
     "metadata": {},
     "output_type": "display_data"
    }
   ],
   "source": [
    "A = o3d.mv('A','mv')\n",
    "B = o3d.mv('B','mv')\n",
    "print('c =',c)\n",
    "print('a =',a)\n",
    "print('b =',b)\n",
    "print('A =',A)\n",
    "print('B =',B)"
   ]
  },
  {
   "cell_type": "markdown",
   "metadata": {},
   "source": [
    "The inner product in GAlgebra is zero if either of operand is a scalar:\n",
    "\n",
    "$$\\begin{split}\\begin{aligned}\n",
    "      {\\boldsymbol{A}}_{r}{\\wedge}{\\boldsymbol{B}}_{s} &\\equiv {\\left <{{\\boldsymbol{A}}_{r}{\\boldsymbol{B}}_{s}} \\right >_{r+s}} \\\\\n",
    "      {\\boldsymbol{A}}_{r}\\cdot{\\boldsymbol{B}}_{s} &\\equiv {\\left \\{ { \\begin{array}{cc}\n",
    "      r\\mbox{ and }s \\ne 0: & {\\left <{{\\boldsymbol{A}}_{r}{\\boldsymbol{B}}_{s}} \\right >_{{\\left |{r-s}\\right |}}}  \\\\\n",
    "      r\\mbox{ or }s = 0: & 0 \\end{array}} \\right \\}}\n",
    "   \\end{aligned}\\end{split}$$\n",
    "   \n",
    "This definition comes from _David Hestenes and Garret Sobczyk, “Clifford Algebra to Geometric Calculus,” Kluwer Academic Publishers, 1984_.\n",
    "\n",
    "In some other literature, the inner product is defined without the exceptional case for scalar part and the definition above is known as \"the modified Hestenes inner product\" (this name comes from the source code of [GAViewer](http://www.geometricalgebra.net/gaviewer_download.html))."
   ]
  },
  {
   "cell_type": "code",
   "execution_count": 9,
   "metadata": {},
   "outputs": [
    {
     "data": {
      "text/latex": [
       "$$ c\\cdot a = 0  $$"
      ],
      "text/plain": [
       "<IPython.core.display.Latex object>"
      ]
     },
     "metadata": {},
     "output_type": "display_data"
    },
    {
     "data": {
      "text/latex": [
       "$$ a\\cdot c = 0  $$"
      ],
      "text/plain": [
       "<IPython.core.display.Latex object>"
      ]
     },
     "metadata": {},
     "output_type": "display_data"
    },
    {
     "data": {
      "text/latex": [
       "$$ c\\cdot A = 0  $$"
      ],
      "text/plain": [
       "<IPython.core.display.Latex object>"
      ]
     },
     "metadata": {},
     "output_type": "display_data"
    },
    {
     "data": {
      "text/latex": [
       "$$ A\\cdot c = 0  $$"
      ],
      "text/plain": [
       "<IPython.core.display.Latex object>"
      ]
     },
     "metadata": {},
     "output_type": "display_data"
    }
   ],
   "source": [
    "print(r'c\\cdot a =',c|a)\n",
    "print(r'a\\cdot c =',a|c)\n",
    "print(r'c\\cdot A =',c|A)\n",
    "print(r'A\\cdot c =',A|c)"
   ]
  },
  {
   "cell_type": "markdown",
   "metadata": {},
   "source": [
    "$ab=a \\wedge b + a \\cdot b$ holds for vectors:"
   ]
  },
  {
   "cell_type": "code",
   "execution_count": 15,
   "metadata": {
    "scrolled": true
   },
   "outputs": [
    {
     "data": {
      "text/latex": [
       "$$ ab = \\left ( a^{x} b^{x} + a^{y} b^{y} + a^{z} b^{z}\\right )  + \\left ( a^{x} b^{y} - a^{y} b^{x}\\right ) \\boldsymbol{e}_{x}\\wedge \\boldsymbol{e}_{y} + \\left ( a^{x} b^{z} - a^{z} b^{x}\\right ) \\boldsymbol{e}_{x}\\wedge \\boldsymbol{e}_{z} + \\left ( a^{y} b^{z} - a^{z} b^{y}\\right ) \\boldsymbol{e}_{y}\\wedge \\boldsymbol{e}_{z}  $$"
      ],
      "text/plain": [
       "<IPython.core.display.Latex object>"
      ]
     },
     "metadata": {},
     "output_type": "display_data"
    },
    {
     "data": {
      "text/latex": [
       "$$ a\\W b = \\left ( a^{x} b^{y} - a^{y} b^{x}\\right ) \\boldsymbol{e}_{x}\\wedge \\boldsymbol{e}_{y} + \\left ( a^{x} b^{z} - a^{z} b^{x}\\right ) \\boldsymbol{e}_{x}\\wedge \\boldsymbol{e}_{z} + \\left ( a^{y} b^{z} - a^{z} b^{y}\\right ) \\boldsymbol{e}_{y}\\wedge \\boldsymbol{e}_{z}  $$"
      ],
      "text/plain": [
       "<IPython.core.display.Latex object>"
      ]
     },
     "metadata": {},
     "output_type": "display_data"
    },
    {
     "data": {
      "text/latex": [
       "$$ a\\cdot b = a^{x} b^{x} + a^{y} b^{y} + a^{z} b^{z}  $$"
      ],
      "text/plain": [
       "<IPython.core.display.Latex object>"
      ]
     },
     "metadata": {},
     "output_type": "display_data"
    },
    {
     "data": {
      "text/latex": [
       "$$ ab - a\\W b - a\\cdot b =  0   $$"
      ],
      "text/plain": [
       "<IPython.core.display.Latex object>"
      ]
     },
     "metadata": {},
     "output_type": "display_data"
    }
   ],
   "source": [
    "print('ab =',a*b)\n",
    "print(r'a\\W b =',a^b)\n",
    "print(r'a\\cdot b =',a|b)\n",
    "print(r'ab - a\\W b - a\\cdot b =',a*b - (a^b) - (a|b))"
   ]
  },
  {
   "cell_type": "markdown",
   "metadata": {},
   "source": [
    "$aA=a \\wedge A + a \\cdot A$ holds for the products between vectors and multivectors:"
   ]
  },
  {
   "cell_type": "code",
   "execution_count": 16,
   "metadata": {},
   "outputs": [
    {
     "data": {
      "text/latex": [
       "$$ aA = \\left ( A^{x} a^{x} + A^{y} a^{y} + A^{z} a^{z}\\right )  + \\left ( A a^{x} - A^{xy} a^{y} - A^{xz} a^{z}\\right ) \\boldsymbol{e}_{x} + \\left ( A a^{y} + A^{xy} a^{x} - A^{yz} a^{z}\\right ) \\boldsymbol{e}_{y} + \\left ( A a^{z} + A^{xz} a^{x} + A^{yz} a^{y}\\right ) \\boldsymbol{e}_{z} + \\left ( A^{xyz} a^{z} - A^{x} a^{y} + A^{y} a^{x}\\right ) \\boldsymbol{e}_{x}\\wedge \\boldsymbol{e}_{y} + \\left ( - A^{xyz} a^{y} - A^{x} a^{z} + A^{z} a^{x}\\right ) \\boldsymbol{e}_{x}\\wedge \\boldsymbol{e}_{z} + \\left ( A^{xyz} a^{x} - A^{y} a^{z} + A^{z} a^{y}\\right ) \\boldsymbol{e}_{y}\\wedge \\boldsymbol{e}_{z} + \\left ( A^{xy} a^{z} - A^{xz} a^{y} + A^{yz} a^{x}\\right ) \\boldsymbol{e}_{x}\\wedge \\boldsymbol{e}_{y}\\wedge \\boldsymbol{e}_{z}  $$"
      ],
      "text/plain": [
       "<IPython.core.display.Latex object>"
      ]
     },
     "metadata": {},
     "output_type": "display_data"
    },
    {
     "data": {
      "text/latex": [
       "$$ a\\W A = A a^{x} \\boldsymbol{e}_{x} + A a^{y} \\boldsymbol{e}_{y} + A a^{z} \\boldsymbol{e}_{z} + \\left ( - A^{x} a^{y} + A^{y} a^{x}\\right ) \\boldsymbol{e}_{x}\\wedge \\boldsymbol{e}_{y} + \\left ( - A^{x} a^{z} + A^{z} a^{x}\\right ) \\boldsymbol{e}_{x}\\wedge \\boldsymbol{e}_{z} + \\left ( - A^{y} a^{z} + A^{z} a^{y}\\right ) \\boldsymbol{e}_{y}\\wedge \\boldsymbol{e}_{z} + \\left ( A^{xy} a^{z} - A^{xz} a^{y} + A^{yz} a^{x}\\right ) \\boldsymbol{e}_{x}\\wedge \\boldsymbol{e}_{y}\\wedge \\boldsymbol{e}_{z}  $$"
      ],
      "text/plain": [
       "<IPython.core.display.Latex object>"
      ]
     },
     "metadata": {},
     "output_type": "display_data"
    },
    {
     "data": {
      "text/latex": [
       "$$ a\\cdot A = \\left ( A^{x} a^{x} + A^{y} a^{y} + A^{z} a^{z}\\right )  + \\left ( - A^{xy} a^{y} - A^{xz} a^{z}\\right ) \\boldsymbol{e}_{x} + \\left ( A^{xy} a^{x} - A^{yz} a^{z}\\right ) \\boldsymbol{e}_{y} + \\left ( A^{xz} a^{x} + A^{yz} a^{y}\\right ) \\boldsymbol{e}_{z} + A^{xyz} a^{z} \\boldsymbol{e}_{x}\\wedge \\boldsymbol{e}_{y} - A^{xyz} a^{y} \\boldsymbol{e}_{x}\\wedge \\boldsymbol{e}_{z} + A^{xyz} a^{x} \\boldsymbol{e}_{y}\\wedge \\boldsymbol{e}_{z}  $$"
      ],
      "text/plain": [
       "<IPython.core.display.Latex object>"
      ]
     },
     "metadata": {},
     "output_type": "display_data"
    },
    {
     "data": {
      "text/latex": [
       "$$ aA -a\\W A - a\\cdot A =  0   $$"
      ],
      "text/plain": [
       "<IPython.core.display.Latex object>"
      ]
     },
     "metadata": {},
     "output_type": "display_data"
    }
   ],
   "source": [
    "print('aA =',a*A)\n",
    "print(r'a\\W A =',a^A)\n",
    "print(r'a\\cdot A =',a|A)\n",
    "print(r'aA -a\\W A - a\\cdot A =',a*A - (a^A) - (a|A))"
   ]
  },
  {
   "cell_type": "markdown",
   "metadata": {},
   "source": [
    "$AB=A \\wedge B + A \\cdot B$ does NOT hold for the products between multivectors and multivectors:"
   ]
  },
  {
   "cell_type": "code",
   "execution_count": 20,
   "metadata": {},
   "outputs": [
    {
     "data": {
      "text/latex": [
       "$$ AB =  \\begin{aligned}  & \\left ( A B - A^{xyz} B^{xyz} - A^{xy} B^{xy} - A^{xz} B^{xz} + A^{x} B^{x} - A^{yz} B^{yz} + A^{y} B^{y} + A^{z} B^{z}\\right )  \\\\  &  + \\left ( A B^{x} - A^{xyz} B^{yz} + A^{xy} B^{y} + A^{xz} B^{z} + A^{x} B - A^{yz} B^{xyz} - A^{y} B^{xy} - A^{z} B^{xz}\\right ) \\boldsymbol{e}_{x} \\\\  &  + \\left ( A B^{y} + A^{xyz} B^{xz} - A^{xy} B^{x} + A^{xz} B^{xyz} + A^{x} B^{xy} + A^{yz} B^{z} + A^{y} B - A^{z} B^{yz}\\right ) \\boldsymbol{e}_{y} \\\\  &  + \\left ( A B^{z} - A^{xyz} B^{xy} - A^{xy} B^{xyz} - A^{xz} B^{x} + A^{x} B^{xz} - A^{yz} B^{y} + A^{y} B^{yz} + A^{z} B\\right ) \\boldsymbol{e}_{z} \\\\  &  + \\left ( A B^{xy} + A^{xyz} B^{z} + A^{xy} B - A^{xz} B^{yz} + A^{x} B^{y} + A^{yz} B^{xz} - A^{y} B^{x} + A^{z} B^{xyz}\\right ) \\boldsymbol{e}_{x}\\wedge \\boldsymbol{e}_{y} \\\\  &  + \\left ( A B^{xz} - A^{xyz} B^{y} + A^{xy} B^{yz} + A^{xz} B + A^{x} B^{z} - A^{yz} B^{xy} - A^{y} B^{xyz} - A^{z} B^{x}\\right ) \\boldsymbol{e}_{x}\\wedge \\boldsymbol{e}_{z} \\\\  &  + \\left ( A B^{yz} + A^{xyz} B^{x} - A^{xy} B^{xz} + A^{xz} B^{xy} + A^{x} B^{xyz} + A^{yz} B + A^{y} B^{z} - A^{z} B^{y}\\right ) \\boldsymbol{e}_{y}\\wedge \\boldsymbol{e}_{z} \\\\  &  + \\left ( A B^{xyz} + A^{xyz} B + A^{xy} B^{z} - A^{xz} B^{y} + A^{x} B^{yz} + A^{yz} B^{x} - A^{y} B^{xz} + A^{z} B^{xy}\\right ) \\boldsymbol{e}_{x}\\wedge \\boldsymbol{e}_{y}\\wedge \\boldsymbol{e}_{z}  \\end{aligned} \n",
       "  $$"
      ],
      "text/plain": [
       "<IPython.core.display.Latex object>"
      ]
     },
     "metadata": {},
     "output_type": "display_data"
    }
   ],
   "source": [
    "print('AB =',(A*B).Fmt(3))"
   ]
  },
  {
   "cell_type": "code",
   "execution_count": 21,
   "metadata": {},
   "outputs": [
    {
     "data": {
      "text/latex": [
       "$$ A\\W B =  \\begin{aligned}  & A B  \\\\  &  + \\left ( A B^{x} + A^{x} B\\right ) \\boldsymbol{e}_{x} \\\\  &  + \\left ( A B^{y} + A^{y} B\\right ) \\boldsymbol{e}_{y} \\\\  &  + \\left ( A B^{z} + A^{z} B\\right ) \\boldsymbol{e}_{z} \\\\  &  + \\left ( A B^{xy} + A^{xy} B + A^{x} B^{y} - A^{y} B^{x}\\right ) \\boldsymbol{e}_{x}\\wedge \\boldsymbol{e}_{y} \\\\  &  + \\left ( A B^{xz} + A^{xz} B + A^{x} B^{z} - A^{z} B^{x}\\right ) \\boldsymbol{e}_{x}\\wedge \\boldsymbol{e}_{z} \\\\  &  + \\left ( A B^{yz} + A^{yz} B + A^{y} B^{z} - A^{z} B^{y}\\right ) \\boldsymbol{e}_{y}\\wedge \\boldsymbol{e}_{z} \\\\  &  + \\left ( A B^{xyz} + A^{xyz} B + A^{xy} B^{z} - A^{xz} B^{y} + A^{x} B^{yz} + A^{yz} B^{x} - A^{y} B^{xz} + A^{z} B^{xy}\\right ) \\boldsymbol{e}_{x}\\wedge \\boldsymbol{e}_{y}\\wedge \\boldsymbol{e}_{z}  \\end{aligned} \n",
       "  $$"
      ],
      "text/plain": [
       "<IPython.core.display.Latex object>"
      ]
     },
     "metadata": {},
     "output_type": "display_data"
    },
    {
     "data": {
      "text/latex": [
       "$$ A\\cdot B =  \\begin{aligned}  & \\left ( - A^{xyz} B^{xyz} - A^{xy} B^{xy} - A^{xz} B^{xz} + A^{x} B^{x} - A^{yz} B^{yz} + A^{y} B^{y} + A^{z} B^{z}\\right )  \\\\  &  + \\left ( - A^{xyz} B^{yz} + A^{xy} B^{y} + A^{xz} B^{z} - A^{yz} B^{xyz} - A^{y} B^{xy} - A^{z} B^{xz}\\right ) \\boldsymbol{e}_{x} \\\\  &  + \\left ( A^{xyz} B^{xz} - A^{xy} B^{x} + A^{xz} B^{xyz} + A^{x} B^{xy} + A^{yz} B^{z} - A^{z} B^{yz}\\right ) \\boldsymbol{e}_{y} \\\\  &  + \\left ( - A^{xyz} B^{xy} - A^{xy} B^{xyz} - A^{xz} B^{x} + A^{x} B^{xz} - A^{yz} B^{y} + A^{y} B^{yz}\\right ) \\boldsymbol{e}_{z} \\\\  &  + \\left ( A^{xyz} B^{z} + A^{z} B^{xyz}\\right ) \\boldsymbol{e}_{x}\\wedge \\boldsymbol{e}_{y} \\\\  &  + \\left ( - A^{xyz} B^{y} - A^{y} B^{xyz}\\right ) \\boldsymbol{e}_{x}\\wedge \\boldsymbol{e}_{z} \\\\  &  + \\left ( A^{xyz} B^{x} + A^{x} B^{xyz}\\right ) \\boldsymbol{e}_{y}\\wedge \\boldsymbol{e}_{z}  \\end{aligned} \n",
       "  $$"
      ],
      "text/plain": [
       "<IPython.core.display.Latex object>"
      ]
     },
     "metadata": {},
     "output_type": "display_data"
    }
   ],
   "source": [
    "print(r'A\\W B =',(A^B).Fmt(3))\n",
    "print(r'A\\cdot B =',(A|B).Fmt(3))"
   ]
  },
  {
   "cell_type": "code",
   "execution_count": 22,
   "metadata": {
    "scrolled": true
   },
   "outputs": [
    {
     "data": {
      "text/latex": [
       "$$ AB - A\\W B - A\\cdot B =  \\begin{aligned}  & \\left ( - A^{xz} B^{yz} + A^{yz} B^{xz}\\right ) \\boldsymbol{e}_{x}\\wedge \\boldsymbol{e}_{y} \\\\  &  + \\left ( A^{xy} B^{yz} - A^{yz} B^{xy}\\right ) \\boldsymbol{e}_{x}\\wedge \\boldsymbol{e}_{z} \\\\  &  + \\left ( - A^{xy} B^{xz} + A^{xz} B^{xy}\\right ) \\boldsymbol{e}_{y}\\wedge \\boldsymbol{e}_{z}  \\end{aligned} \n",
       "  $$"
      ],
      "text/plain": [
       "<IPython.core.display.Latex object>"
      ]
     },
     "metadata": {},
     "output_type": "display_data"
    }
   ],
   "source": [
    "print(r'AB - A\\W B - A\\cdot B =',(A*B)-(A^B)-(A|B))"
   ]
  },
  {
   "cell_type": "code",
   "execution_count": 23,
   "metadata": {},
   "outputs": [
    {
     "data": {
      "text/latex": [
       "$$ A\\lfloor B + A\\cdot B + A\\rfloor B - AB =  \\begin{aligned}  & \\left ( A B - 2 A^{xyz} B^{xyz} - 2 A^{xy} B^{xy} - 2 A^{xz} B^{xz} + 2 A^{x} B^{x} - 2 A^{yz} B^{yz} + 2 A^{y} B^{y} + 2 A^{z} B^{z}\\right )  \\\\  &  + \\left ( - A^{xyz} B^{yz} + A^{xy} B^{y} + A^{xz} B^{z} - A^{yz} B^{xyz} - A^{y} B^{xy} - A^{z} B^{xz}\\right ) \\boldsymbol{e}_{x} \\\\  &  + \\left ( A^{xyz} B^{xz} - A^{xy} B^{x} + A^{xz} B^{xyz} + A^{x} B^{xy} + A^{yz} B^{z} - A^{z} B^{yz}\\right ) \\boldsymbol{e}_{y} \\\\  &  + \\left ( - A^{xyz} B^{xy} - A^{xy} B^{xyz} - A^{xz} B^{x} + A^{x} B^{xz} - A^{yz} B^{y} + A^{y} B^{yz}\\right ) \\boldsymbol{e}_{z} \\\\  &  + \\left ( A^{xyz} B^{z} + A^{xz} B^{yz} - A^{x} B^{y} - A^{yz} B^{xz} + A^{y} B^{x} + A^{z} B^{xyz}\\right ) \\boldsymbol{e}_{x}\\wedge \\boldsymbol{e}_{y} \\\\  &  + \\left ( - A^{xyz} B^{y} - A^{xy} B^{yz} - A^{x} B^{z} + A^{yz} B^{xy} - A^{y} B^{xyz} + A^{z} B^{x}\\right ) \\boldsymbol{e}_{x}\\wedge \\boldsymbol{e}_{z} \\\\  &  + \\left ( A^{xyz} B^{x} + A^{xy} B^{xz} - A^{xz} B^{xy} + A^{x} B^{xyz} - A^{y} B^{z} + A^{z} B^{y}\\right ) \\boldsymbol{e}_{y}\\wedge \\boldsymbol{e}_{z} \\\\  &  + \\left ( - A^{xy} B^{z} + A^{xz} B^{y} - A^{x} B^{yz} - A^{yz} B^{x} + A^{y} B^{xz} - A^{z} B^{xy}\\right ) \\boldsymbol{e}_{x}\\wedge \\boldsymbol{e}_{y}\\wedge \\boldsymbol{e}_{z}  \\end{aligned} \n",
       "  $$"
      ],
      "text/plain": [
       "<IPython.core.display.Latex object>"
      ]
     },
     "metadata": {},
     "output_type": "display_data"
    }
   ],
   "source": [
    "print(r'A\\lfloor B + A\\cdot B + A\\rfloor B - AB =',((A<B)+(A|B)+(A>B)-A*B).Fmt(3))"
   ]
  },
  {
   "cell_type": "code",
   "execution_count": null,
   "metadata": {},
   "outputs": [],
   "source": []
  }
 ],
 "metadata": {
  "kernelspec": {
   "display_name": "Python 3",
   "language": "python",
   "name": "python3"
  },
  "language_info": {
   "codemirror_mode": {
    "name": "ipython",
    "version": 3
   },
   "file_extension": ".py",
   "mimetype": "text/x-python",
   "name": "python",
   "nbconvert_exporter": "python",
   "pygments_lexer": "ipython3",
   "version": "3.6.8"
  }
 },
 "nbformat": 4,
 "nbformat_minor": 2
}
