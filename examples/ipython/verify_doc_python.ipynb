{
 "cells": [
  {
   "cell_type": "markdown",
   "metadata": {},
   "source": [
    "This notebook verifies `doc/python/*.py`"
   ]
  },
  {
   "cell_type": "markdown",
   "metadata": {},
   "source": [
    "# BACCAB.py"
   ]
  },
  {
   "cell_type": "code",
   "execution_count": 1,
   "metadata": {},
   "outputs": [],
   "source": [
    "import sympy"
   ]
  },
  {
   "cell_type": "code",
   "execution_count": 2,
   "metadata": {},
   "outputs": [],
   "source": [
    "from __future__ import absolute_import, division\n",
    "from __future__ import print_function\n",
    "from galgebra.printer import Format, xpdf\n",
    "from galgebra.ga import Ga"
   ]
  },
  {
   "cell_type": "code",
   "execution_count": 3,
   "metadata": {},
   "outputs": [],
   "source": [
    "Format()"
   ]
  },
  {
   "cell_type": "code",
   "execution_count": 4,
   "metadata": {},
   "outputs": [],
   "source": [
    "g4d = Ga('a b c d')"
   ]
  },
  {
   "cell_type": "code",
   "execution_count": 5,
   "metadata": {},
   "outputs": [],
   "source": [
    "(a, b, c, d) = g4d.mv()"
   ]
  },
  {
   "cell_type": "code",
   "execution_count": 6,
   "metadata": {},
   "outputs": [
    {
     "data": {
      "text/latex": [
       "$$\\left[\\begin{matrix}(a.a) & (a.b) & (a.c) & (a.d)\\\\(a.b) & (b.b) & (b.c) & (b.d)\\\\(a.c) & (b.c) & (c.c) & (c.d)\\\\(a.d) & (b.d) & (c.d) & (d.d)\\end{matrix}\\right]$$"
      ],
      "text/plain": [
       " \\left [ \\begin{array}{cccc} \\left ( a\\cdot a\\right )  & \\left ( a\\cdot b\\right )  & \\left ( a\\cdot c\\right )  & \\left ( a\\cdot d\\right )   \\\\ \\left ( a\\cdot b\\right )  & \\left ( b\\cdot b\\right )  & \\left ( b\\cdot c\\right )  & \\left ( b\\cdot d\\right )   \\\\ \\left ( a\\cdot c\\right )  & \\left ( b\\cdot c\\right )  & \\left ( c\\cdot c\\right )  & \\left ( c\\cdot d\\right )   \\\\ \\left ( a\\cdot d\\right )  & \\left ( b\\cdot d\\right )  & \\left ( c\\cdot d\\right )  & \\left ( d\\cdot d\\right )   \\end{array}\\right ] "
      ]
     },
     "execution_count": 6,
     "metadata": {},
     "output_type": "execute_result"
    }
   ],
   "source": [
    "g4d.g"
   ]
  },
  {
   "cell_type": "code",
   "execution_count": 7,
   "metadata": {},
   "outputs": [
    {
     "data": {
      "text/latex": [
       "\\begin{equation*} - \\left ( a\\cdot c\\right )  \\boldsymbol{b} + \\left ( a\\cdot b\\right )  \\boldsymbol{c} \\end{equation*}"
      ],
      "text/plain": [
       "- \\left ( a\\cdot c\\right )  \\boldsymbol{b} + \\left ( a\\cdot b\\right )  \\boldsymbol{c}"
      ]
     },
     "execution_count": 7,
     "metadata": {},
     "output_type": "execute_result"
    }
   ],
   "source": [
    "a | (b * c)"
   ]
  },
  {
   "cell_type": "code",
   "execution_count": 8,
   "metadata": {},
   "outputs": [
    {
     "data": {
      "text/latex": [
       "\\begin{equation*} - \\left ( a\\cdot c\\right )  \\boldsymbol{b} + \\left ( a\\cdot b\\right )  \\boldsymbol{c} \\end{equation*}"
      ],
      "text/plain": [
       "- \\left ( a\\cdot c\\right )  \\boldsymbol{b} + \\left ( a\\cdot b\\right )  \\boldsymbol{c}"
      ]
     },
     "execution_count": 8,
     "metadata": {},
     "output_type": "execute_result"
    }
   ],
   "source": [
    "a | (b ^ c)"
   ]
  },
  {
   "cell_type": "code",
   "execution_count": 9,
   "metadata": {},
   "outputs": [
    {
     "data": {
      "text/latex": [
       "\\begin{equation*} \\left ( a\\cdot d\\right )  \\boldsymbol{b}\\wedge \\boldsymbol{c} - \\left ( a\\cdot c\\right )  \\boldsymbol{b}\\wedge \\boldsymbol{d} + \\left ( a\\cdot b\\right )  \\boldsymbol{c}\\wedge \\boldsymbol{d} \\end{equation*}"
      ],
      "text/plain": [
       "\\left ( a\\cdot d\\right )  \\boldsymbol{b}\\wedge \\boldsymbol{c} - \\left ( a\\cdot c\\right )  \\boldsymbol{b}\\wedge \\boldsymbol{d} + \\left ( a\\cdot b\\right )  \\boldsymbol{c}\\wedge \\boldsymbol{d}"
      ]
     },
     "execution_count": 9,
     "metadata": {},
     "output_type": "execute_result"
    }
   ],
   "source": [
    "a | (b ^ c ^ d)"
   ]
  },
  {
   "cell_type": "code",
   "execution_count": 10,
   "metadata": {},
   "outputs": [
    {
     "data": {
      "text/latex": [
       "\\begin{equation*}  0  \\end{equation*}"
      ],
      "text/plain": [
       " 0 "
      ]
     },
     "execution_count": 10,
     "metadata": {},
     "output_type": "execute_result"
    }
   ],
   "source": [
    "(a | (b ^ c)) + (c | (a ^ b)) + (b | (c ^ a))"
   ]
  },
  {
   "cell_type": "code",
   "execution_count": 11,
   "metadata": {},
   "outputs": [
    {
     "data": {
      "text/latex": [
       "\\begin{equation*} 3 \\boldsymbol{a}\\wedge \\boldsymbol{b}\\wedge \\boldsymbol{c} \\end{equation*}"
      ],
      "text/plain": [
       "3 \\boldsymbol{a}\\wedge \\boldsymbol{b}\\wedge \\boldsymbol{c}"
      ]
     },
     "execution_count": 11,
     "metadata": {},
     "output_type": "execute_result"
    }
   ],
   "source": [
    "a * (b ^ c) - b * (a ^ c) + c * (a ^ b)"
   ]
  },
  {
   "cell_type": "code",
   "execution_count": 12,
   "metadata": {},
   "outputs": [
    {
     "data": {
      "text/latex": [
       "\\begin{equation*} 4 \\boldsymbol{a}\\wedge \\boldsymbol{b}\\wedge \\boldsymbol{c}\\wedge \\boldsymbol{d} \\end{equation*}"
      ],
      "text/plain": [
       "4 \\boldsymbol{a}\\wedge \\boldsymbol{b}\\wedge \\boldsymbol{c}\\wedge \\boldsymbol{d}"
      ]
     },
     "execution_count": 12,
     "metadata": {},
     "output_type": "execute_result"
    }
   ],
   "source": [
    "a * (b ^ c ^ d) - b * (a ^ c ^ d) + c * (a ^ b ^ d) - d * (a ^ b ^ c)"
   ]
  },
  {
   "cell_type": "code",
   "execution_count": 13,
   "metadata": {},
   "outputs": [
    {
     "data": {
      "text/latex": [
       "\\begin{equation*} - \\left ( a\\cdot c\\right )  \\left ( b\\cdot d\\right )  + \\left ( a\\cdot d\\right )  \\left ( b\\cdot c\\right )  \\end{equation*}"
      ],
      "text/plain": [
       "- \\left ( a\\cdot c\\right )  \\left ( b\\cdot d\\right )  + \\left ( a\\cdot d\\right )  \\left ( b\\cdot c\\right ) "
      ]
     },
     "execution_count": 13,
     "metadata": {},
     "output_type": "execute_result"
    }
   ],
   "source": [
    "(a ^ b) | (c ^ d)"
   ]
  },
  {
   "cell_type": "code",
   "execution_count": 14,
   "metadata": {},
   "outputs": [
    {
     "data": {
      "text/latex": [
       "\\begin{equation*} - \\left ( a\\cdot c\\right )  \\left ( b\\cdot d\\right )  + \\left ( a\\cdot d\\right )  \\left ( b\\cdot c\\right )  \\end{equation*}"
      ],
      "text/plain": [
       "- \\left ( a\\cdot c\\right )  \\left ( b\\cdot d\\right )  + \\left ( a\\cdot d\\right )  \\left ( b\\cdot c\\right ) "
      ]
     },
     "execution_count": 14,
     "metadata": {},
     "output_type": "execute_result"
    }
   ],
   "source": [
    "((a ^ b) | c) | d"
   ]
  },
  {
   "cell_type": "code",
   "execution_count": 15,
   "metadata": {},
   "outputs": [
    {
     "data": {
      "text/latex": [
       "\\begin{equation*} - \\left ( b\\cdot d\\right )  \\boldsymbol{a}\\wedge \\boldsymbol{c} + \\left ( b\\cdot c\\right )  \\boldsymbol{a}\\wedge \\boldsymbol{d} + \\left ( a\\cdot d\\right )  \\boldsymbol{b}\\wedge \\boldsymbol{c} - \\left ( a\\cdot c\\right )  \\boldsymbol{b}\\wedge \\boldsymbol{d} \\end{equation*}"
      ],
      "text/plain": [
       "- \\left ( b\\cdot d\\right )  \\boldsymbol{a}\\wedge \\boldsymbol{c} + \\left ( b\\cdot c\\right )  \\boldsymbol{a}\\wedge \\boldsymbol{d} + \\left ( a\\cdot d\\right )  \\boldsymbol{b}\\wedge \\boldsymbol{c} - \\left ( a\\cdot c\\right )  \\boldsymbol{b}\\wedge \\boldsymbol{d}"
      ]
     },
     "execution_count": 15,
     "metadata": {},
     "output_type": "execute_result"
    }
   ],
   "source": [
    "Ga.com(a ^ b, c ^ d)"
   ]
  },
  {
   "cell_type": "markdown",
   "metadata": {},
   "source": [
    "# Dirac.py"
   ]
  },
  {
   "cell_type": "code",
   "execution_count": 16,
   "metadata": {},
   "outputs": [],
   "source": [
    "from __future__ import absolute_import, division\n",
    "from __future__ import print_function\n",
    "import sys\n",
    "from sympy import symbols, sin, cos\n",
    "from galgebra.printer import Format, xpdf, Get_Program, Print_Function\n",
    "from galgebra.ga import Ga"
   ]
  },
  {
   "cell_type": "code",
   "execution_count": 17,
   "metadata": {},
   "outputs": [
    {
     "data": {
      "text/latex": [
       "$$\\left ( t, \\quad x, \\quad y, \\quad z\\right )$$"
      ],
      "text/plain": [
       "(t, x, y, z)"
      ]
     },
     "execution_count": 17,
     "metadata": {},
     "output_type": "execute_result"
    }
   ],
   "source": [
    "Format()\n",
    "coords = symbols('t x y z', real=True)\n",
    "coords"
   ]
  },
  {
   "cell_type": "code",
   "execution_count": 18,
   "metadata": {},
   "outputs": [],
   "source": [
    "(st4d, g0, g1, g2, g3) = Ga.build(\n",
    "    'gamma*t|x|y|z', g=[1, -1, -1, -1], coords=coords)"
   ]
  },
  {
   "cell_type": "code",
   "execution_count": 19,
   "metadata": {},
   "outputs": [
    {
     "data": {
      "text/latex": [
       "\\begin{equation*}  \\boldsymbol{\\gamma }_{t} \\end{equation*}"
      ],
      "text/plain": [
       " \\boldsymbol{\\gamma }_{t}"
      ]
     },
     "execution_count": 19,
     "metadata": {},
     "output_type": "execute_result"
    }
   ],
   "source": [
    "g0"
   ]
  },
  {
   "cell_type": "code",
   "execution_count": 20,
   "metadata": {},
   "outputs": [
    {
     "data": {
      "text/latex": [
       "\\begin{equation*}  \\boldsymbol{\\gamma }_{x} \\end{equation*}"
      ],
      "text/plain": [
       " \\boldsymbol{\\gamma }_{x}"
      ]
     },
     "execution_count": 20,
     "metadata": {},
     "output_type": "execute_result"
    }
   ],
   "source": [
    "g1"
   ]
  },
  {
   "cell_type": "code",
   "execution_count": 21,
   "metadata": {},
   "outputs": [
    {
     "data": {
      "text/latex": [
       "\\begin{equation*}  \\boldsymbol{\\gamma }_{y} \\end{equation*}"
      ],
      "text/plain": [
       " \\boldsymbol{\\gamma }_{y}"
      ]
     },
     "execution_count": 21,
     "metadata": {},
     "output_type": "execute_result"
    }
   ],
   "source": [
    "g2"
   ]
  },
  {
   "cell_type": "code",
   "execution_count": 22,
   "metadata": {},
   "outputs": [
    {
     "data": {
      "text/latex": [
       "\\begin{equation*}  \\boldsymbol{\\gamma }_{z} \\end{equation*}"
      ],
      "text/plain": [
       " \\boldsymbol{\\gamma }_{z}"
      ]
     },
     "execution_count": 22,
     "metadata": {},
     "output_type": "execute_result"
    }
   ],
   "source": [
    "g3"
   ]
  },
  {
   "cell_type": "code",
   "execution_count": 23,
   "metadata": {},
   "outputs": [
    {
     "data": {
      "text/latex": [
       "\\begin{equation*}  \\boldsymbol{\\gamma }_{t}\\wedge \\boldsymbol{\\gamma }_{x}\\wedge \\boldsymbol{\\gamma }_{y}\\wedge \\boldsymbol{\\gamma }_{z} \\end{equation*}"
      ],
      "text/plain": [
       " \\boldsymbol{\\gamma }_{t}\\wedge \\boldsymbol{\\gamma }_{x}\\wedge \\boldsymbol{\\gamma }_{y}\\wedge \\boldsymbol{\\gamma }_{z}"
      ]
     },
     "execution_count": 23,
     "metadata": {},
     "output_type": "execute_result"
    }
   ],
   "source": [
    "I = st4d.i\n",
    "I"
   ]
  },
  {
   "cell_type": "code",
   "execution_count": 24,
   "metadata": {},
   "outputs": [],
   "source": [
    "(m, e) = symbols('m e')"
   ]
  },
  {
   "cell_type": "code",
   "execution_count": 25,
   "metadata": {},
   "outputs": [
    {
     "data": {
      "text/latex": [
       "$$m$$"
      ],
      "text/plain": [
       "m"
      ]
     },
     "execution_count": 25,
     "metadata": {},
     "output_type": "execute_result"
    }
   ],
   "source": [
    "m"
   ]
  },
  {
   "cell_type": "code",
   "execution_count": 26,
   "metadata": {},
   "outputs": [
    {
     "data": {
      "text/latex": [
       "$$e$$"
      ],
      "text/plain": [
       "e"
      ]
     },
     "execution_count": 26,
     "metadata": {},
     "output_type": "execute_result"
    }
   ],
   "source": [
    "e"
   ]
  },
  {
   "cell_type": "code",
   "execution_count": 27,
   "metadata": {},
   "outputs": [
    {
     "data": {
      "text/latex": [
       "\\begin{equation*} A = A^{t}  \\boldsymbol{\\gamma }_{t} + A^{x}  \\boldsymbol{\\gamma }_{x} + A^{y}  \\boldsymbol{\\gamma }_{y} + A^{z}  \\boldsymbol{\\gamma }_{z} \\end{equation*}"
      ],
      "text/plain": [
       "A^{t}  \\boldsymbol{\\gamma }_{t} + A^{x}  \\boldsymbol{\\gamma }_{x} + A^{y}  \\boldsymbol{\\gamma }_{y} + A^{z}  \\boldsymbol{\\gamma }_{z}"
      ]
     },
     "execution_count": 27,
     "metadata": {},
     "output_type": "execute_result"
    }
   ],
   "source": [
    "# 4-Vector Potential\n",
    "A = st4d.mv('A', 'vector', f=True)\n",
    "A"
   ]
  },
  {
   "cell_type": "code",
   "execution_count": 28,
   "metadata": {},
   "outputs": [
    {
     "data": {
      "text/latex": [
       "\\begin{equation*} psi = \\psi    + \\psi ^{tx}  \\boldsymbol{\\gamma }_{t}\\wedge \\boldsymbol{\\gamma }_{x} + \\psi ^{ty}  \\boldsymbol{\\gamma }_{t}\\wedge \\boldsymbol{\\gamma }_{y} + \\psi ^{tz}  \\boldsymbol{\\gamma }_{t}\\wedge \\boldsymbol{\\gamma }_{z} + \\psi ^{xy}  \\boldsymbol{\\gamma }_{x}\\wedge \\boldsymbol{\\gamma }_{y} + \\psi ^{xz}  \\boldsymbol{\\gamma }_{x}\\wedge \\boldsymbol{\\gamma }_{z} + \\psi ^{yz}  \\boldsymbol{\\gamma }_{y}\\wedge \\boldsymbol{\\gamma }_{z} + \\psi ^{txyz}  \\boldsymbol{\\gamma }_{t}\\wedge \\boldsymbol{\\gamma }_{x}\\wedge \\boldsymbol{\\gamma }_{y}\\wedge \\boldsymbol{\\gamma }_{z} \\end{equation*}"
      ],
      "text/plain": [
       "\\psi    + \\psi ^{tx}  \\boldsymbol{\\gamma }_{t}\\wedge \\boldsymbol{\\gamma }_{x} + \\psi ^{ty}  \\boldsymbol{\\gamma }_{t}\\wedge \\boldsymbol{\\gamma }_{y} + \\psi ^{tz}  \\boldsymbol{\\gamma }_{t}\\wedge \\boldsymbol{\\gamma }_{z} + \\psi ^{xy}  \\boldsymbol{\\gamma }_{x}\\wedge \\boldsymbol{\\gamma }_{y} + \\psi ^{xz}  \\boldsymbol{\\gamma }_{x}\\wedge \\boldsymbol{\\gamma }_{z} + \\psi ^{yz}  \\boldsymbol{\\gamma }_{y}\\wedge \\boldsymbol{\\gamma }_{z} + \\psi ^{txyz}  \\boldsymbol{\\gamma }_{t}\\wedge \\boldsymbol{\\gamma }_{x}\\wedge \\boldsymbol{\\gamma }_{y}\\wedge \\boldsymbol{\\gamma }_{z}"
      ]
     },
     "execution_count": 28,
     "metadata": {},
     "output_type": "execute_result"
    }
   ],
   "source": [
    "# 8-componentrealspinor\n",
    "psi = st4d.mv('psi', 'spinor', f=True)\n",
    "psi"
   ]
  },
  {
   "cell_type": "code",
   "execution_count": 29,
   "metadata": {},
   "outputs": [
    {
     "data": {
      "text/latex": [
       "\\begin{equation*} - \\boldsymbol{\\gamma }_{t}\\wedge \\boldsymbol{\\gamma }_{z} \\end{equation*}"
      ],
      "text/plain": [
       "- \\boldsymbol{\\gamma }_{t}\\wedge \\boldsymbol{\\gamma }_{z}"
      ]
     },
     "execution_count": 29,
     "metadata": {},
     "output_type": "execute_result"
    }
   ],
   "source": [
    "sig_z = g3 * g0\n",
    "sig_z"
   ]
  },
  {
   "cell_type": "markdown",
   "metadata": {},
   "source": [
    "Dirac Equation $\\newcommand{bm}[1]{\\boldsymbol #1}\n",
    "\\nabla \\bm{\\psi} I \\sigma_{z}-e\\bm{A}\\bm{\\psi}-m\\bm{\\psi}\\gamma_{t} = 0$"
   ]
  },
  {
   "cell_type": "code",
   "execution_count": 30,
   "metadata": {},
   "outputs": [
    {
     "data": {
      "text/latex": [
       "\\begin{equation*} \\left ( - e A^{t}  \\psi   - e A^{x}  \\psi ^{tx}  - e A^{y}  \\psi ^{ty}  - e A^{z}  \\psi ^{tz}  - m \\psi   - \\partial_{y} \\psi ^{tx}  - \\partial_{z} \\psi ^{txyz}  + \\partial_{x} \\psi ^{ty}  + \\partial_{t} \\psi ^{xy} \\right ) \\boldsymbol{\\gamma }_{t} + \\left ( - e A^{t}  \\psi ^{tx}  - e A^{x}  \\psi   - e A^{y}  \\psi ^{xy}  - e A^{z}  \\psi ^{xz}  + m \\psi ^{tx}  + \\partial_{y} \\psi   - \\partial_{t} \\psi ^{ty}  - \\partial_{x} \\psi ^{xy}  + \\partial_{z} \\psi ^{yz} \\right ) \\boldsymbol{\\gamma }_{x} + \\left ( - e A^{t}  \\psi ^{ty}  + e A^{x}  \\psi ^{xy}  - e A^{y}  \\psi   - e A^{z}  \\psi ^{yz}  + m \\psi ^{ty}  - \\partial_{x} \\psi   + \\partial_{t} \\psi ^{tx}  - \\partial_{y} \\psi ^{xy}  - \\partial_{z} \\psi ^{xz} \\right ) \\boldsymbol{\\gamma }_{y} + \\left ( - e A^{t}  \\psi ^{tz}  + e A^{x}  \\psi ^{xz}  + e A^{y}  \\psi ^{yz}  - e A^{z}  \\psi   + m \\psi ^{tz}  + \\partial_{t} \\psi ^{txyz}  - \\partial_{z} \\psi ^{xy}  + \\partial_{y} \\psi ^{xz}  - \\partial_{x} \\psi ^{yz} \\right ) \\boldsymbol{\\gamma }_{z} + \\left ( - e A^{t}  \\psi ^{xy}  + e A^{x}  \\psi ^{ty}  - e A^{y}  \\psi ^{tx}  - e A^{z}  \\psi ^{txyz}  - m \\psi ^{xy}  - \\partial_{t} \\psi   + \\partial_{x} \\psi ^{tx}  + \\partial_{y} \\psi ^{ty}  + \\partial_{z} \\psi ^{tz} \\right ) \\boldsymbol{\\gamma }_{t}\\wedge \\boldsymbol{\\gamma }_{x}\\wedge \\boldsymbol{\\gamma }_{y} + \\left ( - e A^{t}  \\psi ^{xz}  + e A^{x}  \\psi ^{tz}  + e A^{y}  \\psi ^{txyz}  - e A^{z}  \\psi ^{tx}  - m \\psi ^{xz}  + \\partial_{x} \\psi ^{txyz}  + \\partial_{z} \\psi ^{ty}  - \\partial_{y} \\psi ^{tz}  - \\partial_{t} \\psi ^{yz} \\right ) \\boldsymbol{\\gamma }_{t}\\wedge \\boldsymbol{\\gamma }_{x}\\wedge \\boldsymbol{\\gamma }_{z} + \\left ( - e A^{t}  \\psi ^{yz}  - e A^{x}  \\psi ^{txyz}  + e A^{y}  \\psi ^{tz}  - e A^{z}  \\psi ^{ty}  - m \\psi ^{yz}  - \\partial_{z} \\psi ^{tx}  + \\partial_{y} \\psi ^{txyz}  + \\partial_{x} \\psi ^{tz}  + \\partial_{t} \\psi ^{xz} \\right ) \\boldsymbol{\\gamma }_{t}\\wedge \\boldsymbol{\\gamma }_{y}\\wedge \\boldsymbol{\\gamma }_{z} + \\left ( - e A^{t}  \\psi ^{txyz}  - e A^{x}  \\psi ^{yz}  + e A^{y}  \\psi ^{xz}  - e A^{z}  \\psi ^{xy}  + m \\psi ^{txyz}  + \\partial_{z} \\psi   - \\partial_{t} \\psi ^{tz}  - \\partial_{x} \\psi ^{xz}  - \\partial_{y} \\psi ^{yz} \\right ) \\boldsymbol{\\gamma }_{x}\\wedge \\boldsymbol{\\gamma }_{y}\\wedge \\boldsymbol{\\gamma }_{z} \\end{equation*}"
      ],
      "text/plain": [
       "\\left ( - e A^{t}  \\psi   - e A^{x}  \\psi ^{tx}  - e A^{y}  \\psi ^{ty}  - e A^{z}  \\psi ^{tz}  - m \\psi   - \\partial_{y} \\psi ^{tx}  - \\partial_{z} \\psi ^{txyz}  + \\partial_{x} \\psi ^{ty}  + \\partial_{t} \\psi ^{xy} \\right ) \\boldsymbol{\\gamma }_{t} + \\left ( - e A^{t}  \\psi ^{tx}  - e A^{x}  \\psi   - e A^{y}  \\psi ^{xy}  - e A^{z}  \\psi ^{xz}  + m \\psi ^{tx}  + \\partial_{y} \\psi   - \\partial_{t} \\psi ^{ty}  - \\partial_{x} \\psi ^{xy}  + \\partial_{z} \\psi ^{yz} \\right ) \\boldsymbol{\\gamma }_{x} + \\left ( - e A^{t}  \\psi ^{ty}  + e A^{x}  \\psi ^{xy}  - e A^{y}  \\psi   - e A^{z}  \\psi ^{yz}  + m \\psi ^{ty}  - \\partial_{x} \\psi   + \\partial_{t} \\psi ^{tx}  - \\partial_{y} \\psi ^{xy}  - \\partial_{z} \\psi ^{xz} \\right ) \\boldsymbol{\\gamma }_{y} + \\left ( - e A^{t}  \\psi ^{tz}  + e A^{x}  \\psi ^{xz}  + e A^{y}  \\psi ^{yz}  - e A^{z}  \\psi   + m \\psi ^{tz}  + \\partial_{t} \\psi ^{txyz}  - \\partial_{z} \\psi ^{xy}  + \\partial_{y} \\psi ^{xz}  - \\partial_{x} \\psi ^{yz} \\right ) \\boldsymbol{\\gamma }_{z} + \\left ( - e A^{t}  \\psi ^{xy}  + e A^{x}  \\psi ^{ty}  - e A^{y}  \\psi ^{tx}  - e A^{z}  \\psi ^{txyz}  - m \\psi ^{xy}  - \\partial_{t} \\psi   + \\partial_{x} \\psi ^{tx}  + \\partial_{y} \\psi ^{ty}  + \\partial_{z} \\psi ^{tz} \\right ) \\boldsymbol{\\gamma }_{t}\\wedge \\boldsymbol{\\gamma }_{x}\\wedge \\boldsymbol{\\gamma }_{y} + \\left ( - e A^{t}  \\psi ^{xz}  + e A^{x}  \\psi ^{tz}  + e A^{y}  \\psi ^{txyz}  - e A^{z}  \\psi ^{tx}  - m \\psi ^{xz}  + \\partial_{x} \\psi ^{txyz}  + \\partial_{z} \\psi ^{ty}  - \\partial_{y} \\psi ^{tz}  - \\partial_{t} \\psi ^{yz} \\right ) \\boldsymbol{\\gamma }_{t}\\wedge \\boldsymbol{\\gamma }_{x}\\wedge \\boldsymbol{\\gamma }_{z} + \\left ( - e A^{t}  \\psi ^{yz}  - e A^{x}  \\psi ^{txyz}  + e A^{y}  \\psi ^{tz}  - e A^{z}  \\psi ^{ty}  - m \\psi ^{yz}  - \\partial_{z} \\psi ^{tx}  + \\partial_{y} \\psi ^{txyz}  + \\partial_{x} \\psi ^{tz}  + \\partial_{t} \\psi ^{xz} \\right ) \\boldsymbol{\\gamma }_{t}\\wedge \\boldsymbol{\\gamma }_{y}\\wedge \\boldsymbol{\\gamma }_{z} + \\left ( - e A^{t}  \\psi ^{txyz}  - e A^{x}  \\psi ^{yz}  + e A^{y}  \\psi ^{xz}  - e A^{z}  \\psi ^{xy}  + m \\psi ^{txyz}  + \\partial_{z} \\psi   - \\partial_{t} \\psi ^{tz}  - \\partial_{x} \\psi ^{xz}  - \\partial_{y} \\psi ^{yz} \\right ) \\boldsymbol{\\gamma }_{x}\\wedge \\boldsymbol{\\gamma }_{y}\\wedge \\boldsymbol{\\gamma }_{z}"
      ]
     },
     "execution_count": 30,
     "metadata": {},
     "output_type": "execute_result"
    }
   ],
   "source": [
    "dirac_eq = (st4d.grad * psi) * I * sig_z - e * A * psi - m * psi * g0\n",
    "dirac_eq"
   ]
  },
  {
   "cell_type": "code",
   "execution_count": 31,
   "metadata": {},
   "outputs": [
    {
     "data": {
      "text/latex": [
       " \\begin{align*}  & \\left ( - e A^{t}  \\psi   - e A^{x}  \\psi ^{tx}  - e A^{y}  \\psi ^{ty}  - e A^{z}  \\psi ^{tz}  - m \\psi   - \\partial_{y} \\psi ^{tx}  - \\partial_{z} \\psi ^{txyz}  + \\partial_{x} \\psi ^{ty}  + \\partial_{t} \\psi ^{xy} \\right ) \\boldsymbol{\\gamma }_{t} + \\left ( - e A^{t}  \\psi ^{tx}  - e A^{x}  \\psi   - e A^{y}  \\psi ^{xy}  - e A^{z}  \\psi ^{xz}  + m \\psi ^{tx}  + \\partial_{y} \\psi   - \\partial_{t} \\psi ^{ty}  - \\partial_{x} \\psi ^{xy}  + \\partial_{z} \\psi ^{yz} \\right ) \\boldsymbol{\\gamma }_{x} + \\left ( - e A^{t}  \\psi ^{ty}  + e A^{x}  \\psi ^{xy}  - e A^{y}  \\psi   - e A^{z}  \\psi ^{yz}  + m \\psi ^{ty}  - \\partial_{x} \\psi   + \\partial_{t} \\psi ^{tx}  - \\partial_{y} \\psi ^{xy}  - \\partial_{z} \\psi ^{xz} \\right ) \\boldsymbol{\\gamma }_{y} + \\left ( - e A^{t}  \\psi ^{tz}  + e A^{x}  \\psi ^{xz}  + e A^{y}  \\psi ^{yz}  - e A^{z}  \\psi   + m \\psi ^{tz}  + \\partial_{t} \\psi ^{txyz}  - \\partial_{z} \\psi ^{xy}  + \\partial_{y} \\psi ^{xz}  - \\partial_{x} \\psi ^{yz} \\right ) \\boldsymbol{\\gamma }_{z} \\\\  &  + \\left ( - e A^{t}  \\psi ^{xy}  + e A^{x}  \\psi ^{ty}  - e A^{y}  \\psi ^{tx}  - e A^{z}  \\psi ^{txyz}  - m \\psi ^{xy}  - \\partial_{t} \\psi   + \\partial_{x} \\psi ^{tx}  + \\partial_{y} \\psi ^{ty}  + \\partial_{z} \\psi ^{tz} \\right ) \\boldsymbol{\\gamma }_{t}\\wedge \\boldsymbol{\\gamma }_{x}\\wedge \\boldsymbol{\\gamma }_{y} + \\left ( - e A^{t}  \\psi ^{xz}  + e A^{x}  \\psi ^{tz}  + e A^{y}  \\psi ^{txyz}  - e A^{z}  \\psi ^{tx}  - m \\psi ^{xz}  + \\partial_{x} \\psi ^{txyz}  + \\partial_{z} \\psi ^{ty}  - \\partial_{y} \\psi ^{tz}  - \\partial_{t} \\psi ^{yz} \\right ) \\boldsymbol{\\gamma }_{t}\\wedge \\boldsymbol{\\gamma }_{x}\\wedge \\boldsymbol{\\gamma }_{z} + \\left ( - e A^{t}  \\psi ^{yz}  - e A^{x}  \\psi ^{txyz}  + e A^{y}  \\psi ^{tz}  - e A^{z}  \\psi ^{ty}  - m \\psi ^{yz}  - \\partial_{z} \\psi ^{tx}  + \\partial_{y} \\psi ^{txyz}  + \\partial_{x} \\psi ^{tz}  + \\partial_{t} \\psi ^{xz} \\right ) \\boldsymbol{\\gamma }_{t}\\wedge \\boldsymbol{\\gamma }_{y}\\wedge \\boldsymbol{\\gamma }_{z} + \\left ( - e A^{t}  \\psi ^{txyz}  - e A^{x}  \\psi ^{yz}  + e A^{y}  \\psi ^{xz}  - e A^{z}  \\psi ^{xy}  + m \\psi ^{txyz}  + \\partial_{z} \\psi   - \\partial_{t} \\psi ^{tz}  - \\partial_{x} \\psi ^{xz}  - \\partial_{y} \\psi ^{yz} \\right ) \\boldsymbol{\\gamma }_{x}\\wedge \\boldsymbol{\\gamma }_{y}\\wedge \\boldsymbol{\\gamma }_{z}  \\end{align*} \n"
      ],
      "text/plain": [
       " \\begin{align*}  & \\left ( - e A^{t}  \\psi   - e A^{x}  \\psi ^{tx}  - e A^{y}  \\psi ^{ty}  - e A^{z}  \\psi ^{tz}  - m \\psi   - \\partial_{y} \\psi ^{tx}  - \\partial_{z} \\psi ^{txyz}  + \\partial_{x} \\psi ^{ty}  + \\partial_{t} \\psi ^{xy} \\right ) \\boldsymbol{\\gamma }_{t} + \\left ( - e A^{t}  \\psi ^{tx}  - e A^{x}  \\psi   - e A^{y}  \\psi ^{xy}  - e A^{z}  \\psi ^{xz}  + m \\psi ^{tx}  + \\partial_{y} \\psi   - \\partial_{t} \\psi ^{ty}  - \\partial_{x} \\psi ^{xy}  + \\partial_{z} \\psi ^{yz} \\right ) \\boldsymbol{\\gamma }_{x} + \\left ( - e A^{t}  \\psi ^{ty}  + e A^{x}  \\psi ^{xy}  - e A^{y}  \\psi   - e A^{z}  \\psi ^{yz}  + m \\psi ^{ty}  - \\partial_{x} \\psi   + \\partial_{t} \\psi ^{tx}  - \\partial_{y} \\psi ^{xy}  - \\partial_{z} \\psi ^{xz} \\right ) \\boldsymbol{\\gamma }_{y} + \\left ( - e A^{t}  \\psi ^{tz}  + e A^{x}  \\psi ^{xz}  + e A^{y}  \\psi ^{yz}  - e A^{z}  \\psi   + m \\psi ^{tz}  + \\partial_{t} \\psi ^{txyz}  - \\partial_{z} \\psi ^{xy}  + \\partial_{y} \\psi ^{xz}  - \\partial_{x} \\psi ^{yz} \\right ) \\boldsymbol{\\gamma }_{z} \\\\  &  + \\left ( - e A^{t}  \\psi ^{xy}  + e A^{x}  \\psi ^{ty}  - e A^{y}  \\psi ^{tx}  - e A^{z}  \\psi ^{txyz}  - m \\psi ^{xy}  - \\partial_{t} \\psi   + \\partial_{x} \\psi ^{tx}  + \\partial_{y} \\psi ^{ty}  + \\partial_{z} \\psi ^{tz} \\right ) \\boldsymbol{\\gamma }_{t}\\wedge \\boldsymbol{\\gamma }_{x}\\wedge \\boldsymbol{\\gamma }_{y} + \\left ( - e A^{t}  \\psi ^{xz}  + e A^{x}  \\psi ^{tz}  + e A^{y}  \\psi ^{txyz}  - e A^{z}  \\psi ^{tx}  - m \\psi ^{xz}  + \\partial_{x} \\psi ^{txyz}  + \\partial_{z} \\psi ^{ty}  - \\partial_{y} \\psi ^{tz}  - \\partial_{t} \\psi ^{yz} \\right ) \\boldsymbol{\\gamma }_{t}\\wedge \\boldsymbol{\\gamma }_{x}\\wedge \\boldsymbol{\\gamma }_{z} + \\left ( - e A^{t}  \\psi ^{yz}  - e A^{x}  \\psi ^{txyz}  + e A^{y}  \\psi ^{tz}  - e A^{z}  \\psi ^{ty}  - m \\psi ^{yz}  - \\partial_{z} \\psi ^{tx}  + \\partial_{y} \\psi ^{txyz}  + \\partial_{x} \\psi ^{tz}  + \\partial_{t} \\psi ^{xz} \\right ) \\boldsymbol{\\gamma }_{t}\\wedge \\boldsymbol{\\gamma }_{y}\\wedge \\boldsymbol{\\gamma }_{z} + \\left ( - e A^{t}  \\psi ^{txyz}  - e A^{x}  \\psi ^{yz}  + e A^{y}  \\psi ^{xz}  - e A^{z}  \\psi ^{xy}  + m \\psi ^{txyz}  + \\partial_{z} \\psi   - \\partial_{t} \\psi ^{tz}  - \\partial_{x} \\psi ^{xz}  - \\partial_{y} \\psi ^{yz} \\right ) \\boldsymbol{\\gamma }_{x}\\wedge \\boldsymbol{\\gamma }_{y}\\wedge \\boldsymbol{\\gamma }_{z}  \\end{align*} "
      ]
     },
     "execution_count": 31,
     "metadata": {},
     "output_type": "execute_result"
    }
   ],
   "source": [
    "dirac_eq.Fmt(2)"
   ]
  },
  {
   "cell_type": "code",
   "execution_count": 32,
   "metadata": {},
   "outputs": [
    {
     "data": {
      "text/latex": [
       " \\begin{align*}  & \\left ( - e A^{t}  \\psi   - e A^{x}  \\psi ^{tx}  - e A^{y}  \\psi ^{ty}  - e A^{z}  \\psi ^{tz}  - m \\psi   - \\partial_{y} \\psi ^{tx}  - \\partial_{z} \\psi ^{txyz}  + \\partial_{x} \\psi ^{ty}  + \\partial_{t} \\psi ^{xy} \\right ) \\boldsymbol{\\gamma }_{t} + \\left ( - e A^{t}  \\psi ^{tx}  - e A^{x}  \\psi   - e A^{y}  \\psi ^{xy}  - e A^{z}  \\psi ^{xz}  + m \\psi ^{tx}  + \\partial_{y} \\psi   - \\partial_{t} \\psi ^{ty}  - \\partial_{x} \\psi ^{xy}  + \\partial_{z} \\psi ^{yz} \\right ) \\boldsymbol{\\gamma }_{x} + \\left ( - e A^{t}  \\psi ^{ty}  + e A^{x}  \\psi ^{xy}  - e A^{y}  \\psi   - e A^{z}  \\psi ^{yz}  + m \\psi ^{ty}  - \\partial_{x} \\psi   + \\partial_{t} \\psi ^{tx}  - \\partial_{y} \\psi ^{xy}  - \\partial_{z} \\psi ^{xz} \\right ) \\boldsymbol{\\gamma }_{y} + \\left ( - e A^{t}  \\psi ^{tz}  + e A^{x}  \\psi ^{xz}  + e A^{y}  \\psi ^{yz}  - e A^{z}  \\psi   + m \\psi ^{tz}  + \\partial_{t} \\psi ^{txyz}  - \\partial_{z} \\psi ^{xy}  + \\partial_{y} \\psi ^{xz}  - \\partial_{x} \\psi ^{yz} \\right ) \\boldsymbol{\\gamma }_{z} \\\\  &  + \\left ( - e A^{t}  \\psi ^{xy}  + e A^{x}  \\psi ^{ty}  - e A^{y}  \\psi ^{tx}  - e A^{z}  \\psi ^{txyz}  - m \\psi ^{xy}  - \\partial_{t} \\psi   + \\partial_{x} \\psi ^{tx}  + \\partial_{y} \\psi ^{ty}  + \\partial_{z} \\psi ^{tz} \\right ) \\boldsymbol{\\gamma }_{t}\\wedge \\boldsymbol{\\gamma }_{x}\\wedge \\boldsymbol{\\gamma }_{y} + \\left ( - e A^{t}  \\psi ^{xz}  + e A^{x}  \\psi ^{tz}  + e A^{y}  \\psi ^{txyz}  - e A^{z}  \\psi ^{tx}  - m \\psi ^{xz}  + \\partial_{x} \\psi ^{txyz}  + \\partial_{z} \\psi ^{ty}  - \\partial_{y} \\psi ^{tz}  - \\partial_{t} \\psi ^{yz} \\right ) \\boldsymbol{\\gamma }_{t}\\wedge \\boldsymbol{\\gamma }_{x}\\wedge \\boldsymbol{\\gamma }_{z} + \\left ( - e A^{t}  \\psi ^{yz}  - e A^{x}  \\psi ^{txyz}  + e A^{y}  \\psi ^{tz}  - e A^{z}  \\psi ^{ty}  - m \\psi ^{yz}  - \\partial_{z} \\psi ^{tx}  + \\partial_{y} \\psi ^{txyz}  + \\partial_{x} \\psi ^{tz}  + \\partial_{t} \\psi ^{xz} \\right ) \\boldsymbol{\\gamma }_{t}\\wedge \\boldsymbol{\\gamma }_{y}\\wedge \\boldsymbol{\\gamma }_{z} + \\left ( - e A^{t}  \\psi ^{txyz}  - e A^{x}  \\psi ^{yz}  + e A^{y}  \\psi ^{xz}  - e A^{z}  \\psi ^{xy}  + m \\psi ^{txyz}  + \\partial_{z} \\psi   - \\partial_{t} \\psi ^{tz}  - \\partial_{x} \\psi ^{xz}  - \\partial_{y} \\psi ^{yz} \\right ) \\boldsymbol{\\gamma }_{x}\\wedge \\boldsymbol{\\gamma }_{y}\\wedge \\boldsymbol{\\gamma }_{z}  \\end{align*} \n"
      ],
      "text/plain": [
       " \\begin{align*}  & \\left ( - e A^{t}  \\psi   - e A^{x}  \\psi ^{tx}  - e A^{y}  \\psi ^{ty}  - e A^{z}  \\psi ^{tz}  - m \\psi   - \\partial_{y} \\psi ^{tx}  - \\partial_{z} \\psi ^{txyz}  + \\partial_{x} \\psi ^{ty}  + \\partial_{t} \\psi ^{xy} \\right ) \\boldsymbol{\\gamma }_{t} + \\left ( - e A^{t}  \\psi ^{tx}  - e A^{x}  \\psi   - e A^{y}  \\psi ^{xy}  - e A^{z}  \\psi ^{xz}  + m \\psi ^{tx}  + \\partial_{y} \\psi   - \\partial_{t} \\psi ^{ty}  - \\partial_{x} \\psi ^{xy}  + \\partial_{z} \\psi ^{yz} \\right ) \\boldsymbol{\\gamma }_{x} + \\left ( - e A^{t}  \\psi ^{ty}  + e A^{x}  \\psi ^{xy}  - e A^{y}  \\psi   - e A^{z}  \\psi ^{yz}  + m \\psi ^{ty}  - \\partial_{x} \\psi   + \\partial_{t} \\psi ^{tx}  - \\partial_{y} \\psi ^{xy}  - \\partial_{z} \\psi ^{xz} \\right ) \\boldsymbol{\\gamma }_{y} + \\left ( - e A^{t}  \\psi ^{tz}  + e A^{x}  \\psi ^{xz}  + e A^{y}  \\psi ^{yz}  - e A^{z}  \\psi   + m \\psi ^{tz}  + \\partial_{t} \\psi ^{txyz}  - \\partial_{z} \\psi ^{xy}  + \\partial_{y} \\psi ^{xz}  - \\partial_{x} \\psi ^{yz} \\right ) \\boldsymbol{\\gamma }_{z} \\\\  &  + \\left ( - e A^{t}  \\psi ^{xy}  + e A^{x}  \\psi ^{ty}  - e A^{y}  \\psi ^{tx}  - e A^{z}  \\psi ^{txyz}  - m \\psi ^{xy}  - \\partial_{t} \\psi   + \\partial_{x} \\psi ^{tx}  + \\partial_{y} \\psi ^{ty}  + \\partial_{z} \\psi ^{tz} \\right ) \\boldsymbol{\\gamma }_{t}\\wedge \\boldsymbol{\\gamma }_{x}\\wedge \\boldsymbol{\\gamma }_{y} + \\left ( - e A^{t}  \\psi ^{xz}  + e A^{x}  \\psi ^{tz}  + e A^{y}  \\psi ^{txyz}  - e A^{z}  \\psi ^{tx}  - m \\psi ^{xz}  + \\partial_{x} \\psi ^{txyz}  + \\partial_{z} \\psi ^{ty}  - \\partial_{y} \\psi ^{tz}  - \\partial_{t} \\psi ^{yz} \\right ) \\boldsymbol{\\gamma }_{t}\\wedge \\boldsymbol{\\gamma }_{x}\\wedge \\boldsymbol{\\gamma }_{z} + \\left ( - e A^{t}  \\psi ^{yz}  - e A^{x}  \\psi ^{txyz}  + e A^{y}  \\psi ^{tz}  - e A^{z}  \\psi ^{ty}  - m \\psi ^{yz}  - \\partial_{z} \\psi ^{tx}  + \\partial_{y} \\psi ^{txyz}  + \\partial_{x} \\psi ^{tz}  + \\partial_{t} \\psi ^{xz} \\right ) \\boldsymbol{\\gamma }_{t}\\wedge \\boldsymbol{\\gamma }_{y}\\wedge \\boldsymbol{\\gamma }_{z} + \\left ( - e A^{t}  \\psi ^{txyz}  - e A^{x}  \\psi ^{yz}  + e A^{y}  \\psi ^{xz}  - e A^{z}  \\psi ^{xy}  + m \\psi ^{txyz}  + \\partial_{z} \\psi   - \\partial_{t} \\psi ^{tz}  - \\partial_{x} \\psi ^{xz}  - \\partial_{y} \\psi ^{yz} \\right ) \\boldsymbol{\\gamma }_{x}\\wedge \\boldsymbol{\\gamma }_{y}\\wedge \\boldsymbol{\\gamma }_{z}  \\end{align*} "
      ]
     },
     "execution_count": 32,
     "metadata": {},
     "output_type": "execute_result"
    }
   ],
   "source": [
    "dirac_eq = dirac_eq.simplify()\n",
    "dirac_eq"
   ]
  },
  {
   "cell_type": "code",
   "execution_count": 33,
   "metadata": {},
   "outputs": [
    {
     "data": {
      "text/latex": [
       " \\begin{align*}  & \\left ( - e A^{t}  \\psi   - e A^{x}  \\psi ^{tx}  - e A^{y}  \\psi ^{ty}  - e A^{z}  \\psi ^{tz}  - m \\psi   - \\partial_{y} \\psi ^{tx}  - \\partial_{z} \\psi ^{txyz}  + \\partial_{x} \\psi ^{ty}  + \\partial_{t} \\psi ^{xy} \\right ) \\boldsymbol{\\gamma }_{t} + \\left ( - e A^{t}  \\psi ^{tx}  - e A^{x}  \\psi   - e A^{y}  \\psi ^{xy}  - e A^{z}  \\psi ^{xz}  + m \\psi ^{tx}  + \\partial_{y} \\psi   - \\partial_{t} \\psi ^{ty}  - \\partial_{x} \\psi ^{xy}  + \\partial_{z} \\psi ^{yz} \\right ) \\boldsymbol{\\gamma }_{x} + \\left ( - e A^{t}  \\psi ^{ty}  + e A^{x}  \\psi ^{xy}  - e A^{y}  \\psi   - e A^{z}  \\psi ^{yz}  + m \\psi ^{ty}  - \\partial_{x} \\psi   + \\partial_{t} \\psi ^{tx}  - \\partial_{y} \\psi ^{xy}  - \\partial_{z} \\psi ^{xz} \\right ) \\boldsymbol{\\gamma }_{y} + \\left ( - e A^{t}  \\psi ^{tz}  + e A^{x}  \\psi ^{xz}  + e A^{y}  \\psi ^{yz}  - e A^{z}  \\psi   + m \\psi ^{tz}  + \\partial_{t} \\psi ^{txyz}  - \\partial_{z} \\psi ^{xy}  + \\partial_{y} \\psi ^{xz}  - \\partial_{x} \\psi ^{yz} \\right ) \\boldsymbol{\\gamma }_{z} \\\\  &  + \\left ( - e A^{t}  \\psi ^{xy}  + e A^{x}  \\psi ^{ty}  - e A^{y}  \\psi ^{tx}  - e A^{z}  \\psi ^{txyz}  - m \\psi ^{xy}  - \\partial_{t} \\psi   + \\partial_{x} \\psi ^{tx}  + \\partial_{y} \\psi ^{ty}  + \\partial_{z} \\psi ^{tz} \\right ) \\boldsymbol{\\gamma }_{t}\\wedge \\boldsymbol{\\gamma }_{x}\\wedge \\boldsymbol{\\gamma }_{y} + \\left ( - e A^{t}  \\psi ^{xz}  + e A^{x}  \\psi ^{tz}  + e A^{y}  \\psi ^{txyz}  - e A^{z}  \\psi ^{tx}  - m \\psi ^{xz}  + \\partial_{x} \\psi ^{txyz}  + \\partial_{z} \\psi ^{ty}  - \\partial_{y} \\psi ^{tz}  - \\partial_{t} \\psi ^{yz} \\right ) \\boldsymbol{\\gamma }_{t}\\wedge \\boldsymbol{\\gamma }_{x}\\wedge \\boldsymbol{\\gamma }_{z} + \\left ( - e A^{t}  \\psi ^{yz}  - e A^{x}  \\psi ^{txyz}  + e A^{y}  \\psi ^{tz}  - e A^{z}  \\psi ^{ty}  - m \\psi ^{yz}  - \\partial_{z} \\psi ^{tx}  + \\partial_{y} \\psi ^{txyz}  + \\partial_{x} \\psi ^{tz}  + \\partial_{t} \\psi ^{xz} \\right ) \\boldsymbol{\\gamma }_{t}\\wedge \\boldsymbol{\\gamma }_{y}\\wedge \\boldsymbol{\\gamma }_{z} + \\left ( - e A^{t}  \\psi ^{txyz}  - e A^{x}  \\psi ^{yz}  + e A^{y}  \\psi ^{xz}  - e A^{z}  \\psi ^{xy}  + m \\psi ^{txyz}  + \\partial_{z} \\psi   - \\partial_{t} \\psi ^{tz}  - \\partial_{x} \\psi ^{xz}  - \\partial_{y} \\psi ^{yz} \\right ) \\boldsymbol{\\gamma }_{x}\\wedge \\boldsymbol{\\gamma }_{y}\\wedge \\boldsymbol{\\gamma }_{z}  \\end{align*} \n"
      ],
      "text/plain": [
       " \\begin{align*}  & \\left ( - e A^{t}  \\psi   - e A^{x}  \\psi ^{tx}  - e A^{y}  \\psi ^{ty}  - e A^{z}  \\psi ^{tz}  - m \\psi   - \\partial_{y} \\psi ^{tx}  - \\partial_{z} \\psi ^{txyz}  + \\partial_{x} \\psi ^{ty}  + \\partial_{t} \\psi ^{xy} \\right ) \\boldsymbol{\\gamma }_{t} + \\left ( - e A^{t}  \\psi ^{tx}  - e A^{x}  \\psi   - e A^{y}  \\psi ^{xy}  - e A^{z}  \\psi ^{xz}  + m \\psi ^{tx}  + \\partial_{y} \\psi   - \\partial_{t} \\psi ^{ty}  - \\partial_{x} \\psi ^{xy}  + \\partial_{z} \\psi ^{yz} \\right ) \\boldsymbol{\\gamma }_{x} + \\left ( - e A^{t}  \\psi ^{ty}  + e A^{x}  \\psi ^{xy}  - e A^{y}  \\psi   - e A^{z}  \\psi ^{yz}  + m \\psi ^{ty}  - \\partial_{x} \\psi   + \\partial_{t} \\psi ^{tx}  - \\partial_{y} \\psi ^{xy}  - \\partial_{z} \\psi ^{xz} \\right ) \\boldsymbol{\\gamma }_{y} + \\left ( - e A^{t}  \\psi ^{tz}  + e A^{x}  \\psi ^{xz}  + e A^{y}  \\psi ^{yz}  - e A^{z}  \\psi   + m \\psi ^{tz}  + \\partial_{t} \\psi ^{txyz}  - \\partial_{z} \\psi ^{xy}  + \\partial_{y} \\psi ^{xz}  - \\partial_{x} \\psi ^{yz} \\right ) \\boldsymbol{\\gamma }_{z} \\\\  &  + \\left ( - e A^{t}  \\psi ^{xy}  + e A^{x}  \\psi ^{ty}  - e A^{y}  \\psi ^{tx}  - e A^{z}  \\psi ^{txyz}  - m \\psi ^{xy}  - \\partial_{t} \\psi   + \\partial_{x} \\psi ^{tx}  + \\partial_{y} \\psi ^{ty}  + \\partial_{z} \\psi ^{tz} \\right ) \\boldsymbol{\\gamma }_{t}\\wedge \\boldsymbol{\\gamma }_{x}\\wedge \\boldsymbol{\\gamma }_{y} + \\left ( - e A^{t}  \\psi ^{xz}  + e A^{x}  \\psi ^{tz}  + e A^{y}  \\psi ^{txyz}  - e A^{z}  \\psi ^{tx}  - m \\psi ^{xz}  + \\partial_{x} \\psi ^{txyz}  + \\partial_{z} \\psi ^{ty}  - \\partial_{y} \\psi ^{tz}  - \\partial_{t} \\psi ^{yz} \\right ) \\boldsymbol{\\gamma }_{t}\\wedge \\boldsymbol{\\gamma }_{x}\\wedge \\boldsymbol{\\gamma }_{z} + \\left ( - e A^{t}  \\psi ^{yz}  - e A^{x}  \\psi ^{txyz}  + e A^{y}  \\psi ^{tz}  - e A^{z}  \\psi ^{ty}  - m \\psi ^{yz}  - \\partial_{z} \\psi ^{tx}  + \\partial_{y} \\psi ^{txyz}  + \\partial_{x} \\psi ^{tz}  + \\partial_{t} \\psi ^{xz} \\right ) \\boldsymbol{\\gamma }_{t}\\wedge \\boldsymbol{\\gamma }_{y}\\wedge \\boldsymbol{\\gamma }_{z} + \\left ( - e A^{t}  \\psi ^{txyz}  - e A^{x}  \\psi ^{yz}  + e A^{y}  \\psi ^{xz}  - e A^{z}  \\psi ^{xy}  + m \\psi ^{txyz}  + \\partial_{z} \\psi   - \\partial_{t} \\psi ^{tz}  - \\partial_{x} \\psi ^{xz}  - \\partial_{y} \\psi ^{yz} \\right ) \\boldsymbol{\\gamma }_{x}\\wedge \\boldsymbol{\\gamma }_{y}\\wedge \\boldsymbol{\\gamma }_{z}  \\end{align*} "
      ]
     },
     "execution_count": 33,
     "metadata": {},
     "output_type": "execute_result"
    }
   ],
   "source": [
    "dirac_eq.Fmt(2)"
   ]
  },
  {
   "cell_type": "code",
   "execution_count": null,
   "metadata": {},
   "outputs": [],
   "source": []
  }
 ],
 "metadata": {
  "kernelspec": {
   "display_name": "Python 3",
   "language": "python",
   "name": "python3"
  },
  "language_info": {
   "codemirror_mode": {
    "name": "ipython",
    "version": 3
   },
   "file_extension": ".py",
   "mimetype": "text/x-python",
   "name": "python",
   "nbconvert_exporter": "python",
   "pygments_lexer": "ipython3",
   "version": "3.7.1"
  }
 },
 "nbformat": 4,
 "nbformat_minor": 2
}
