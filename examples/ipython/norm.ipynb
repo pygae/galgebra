{
 "cells": [
  {
   "cell_type": "code",
   "execution_count": 1,
   "id": "b86c4cdf-e245-4077-ab9d-165c93206a07",
   "metadata": {},
   "outputs": [],
   "source": [
    "import sympy\n",
    "from galgebra.ga import Ga\n",
    "from sympy import simplify"
   ]
  },
  {
   "cell_type": "code",
   "execution_count": 2,
   "id": "89bc7050-685d-4ab9-a3f9-2014ac3031f2",
   "metadata": {},
   "outputs": [],
   "source": [
    "from galgebra.metric import square_root_of_expr"
   ]
  },
  {
   "cell_type": "code",
   "execution_count": 3,
   "id": "e5501b5d-df05-465e-99db-314a920404b8",
   "metadata": {},
   "outputs": [],
   "source": [
    "ga, e_1, e_2, e_3 = Ga.build('e*1|2|3', g=[1, 1, 1])\n",
    "B = ga.mv('B', 'bivector')"
   ]
  },
  {
   "cell_type": "code",
   "execution_count": 4,
   "id": "c8108fa9-2cdd-4956-9fe2-4dc01d9a907f",
   "metadata": {},
   "outputs": [
    {
     "data": {
      "text/plain": [
       "False"
      ]
     },
     "execution_count": 4,
     "metadata": {},
     "output_type": "execute_result"
    }
   ],
   "source": [
    "abs(B*B) == -(B*B).scalar()"
   ]
  },
  {
   "cell_type": "code",
   "execution_count": 5,
   "id": "5dcdbd34-3248-4d3e-8793-008443b2ed11",
   "metadata": {},
   "outputs": [
    {
     "data": {
      "text/latex": [
       "$\\displaystyle \\sqrt{\\left(B^{12}\\right)^{4} + 2 \\left(B^{12}\\right)^{2} \\left(B^{13}\\right)^{2} + 2 \\left(B^{12}\\right)^{2} \\left(B^{23}\\right)^{2} + \\left(B^{13}\\right)^{4} + 2 \\left(B^{13}\\right)^{2} \\left(B^{23}\\right)^{2} + \\left(B^{23}\\right)^{4}}$"
      ],
      "text/plain": [
       "sqrt(B__12**4 + 2*B__12**2*B__13**2 + 2*B__12**2*B__23**2 + B__13**4 + 2*B__13**2*B__23**2 + B__23**4)"
      ]
     },
     "execution_count": 5,
     "metadata": {},
     "output_type": "execute_result"
    }
   ],
   "source": [
    "abs(B*B)"
   ]
  },
  {
   "cell_type": "code",
   "execution_count": 6,
   "id": "15e53fae-a7bf-40bc-950a-e6412128b069",
   "metadata": {},
   "outputs": [
    {
     "data": {
      "text/latex": [
       "$\\displaystyle \\left(B^{12}\\right)^{2} + \\left(B^{13}\\right)^{2} + \\left(B^{23}\\right)^{2}$"
      ],
      "text/plain": [
       "B__12**2 + B__13**2 + B__23**2"
      ]
     },
     "execution_count": 6,
     "metadata": {},
     "output_type": "execute_result"
    }
   ],
   "source": [
    "-(B*B).scalar()"
   ]
  },
  {
   "cell_type": "code",
   "execution_count": 10,
   "id": "d19adf94-3b0f-46f7-8669-c688fbdb94fd",
   "metadata": {},
   "outputs": [
    {
     "data": {
      "text/latex": [
       "$\\displaystyle - \\left(B^{12}\\right)^{2} - \\left(B^{13}\\right)^{2} - \\left(B^{23}\\right)^{2} + \\sqrt{\\left(B^{12}\\right)^{4} + 2 \\left(B^{12}\\right)^{2} \\left(B^{13}\\right)^{2} + 2 \\left(B^{12}\\right)^{2} \\left(B^{23}\\right)^{2} + \\left(B^{13}\\right)^{4} + 2 \\left(B^{13}\\right)^{2} \\left(B^{23}\\right)^{2} + \\left(B^{23}\\right)^{4}}$"
      ],
      "text/plain": [
       "-B__12**2 - B__13**2 - B__23**2 + sqrt(B__12**4 + 2*B__12**2*B__13**2 + 2*B__12**2*B__23**2 + B__13**4 + 2*B__13**2*B__23**2 + B__23**4)"
      ]
     },
     "execution_count": 10,
     "metadata": {},
     "output_type": "execute_result"
    }
   ],
   "source": [
    "(abs(B*B) + (B*B).scalar()).simplify()"
   ]
  },
  {
   "cell_type": "code",
   "execution_count": 11,
   "id": "8bf5a1ed-901e-47be-a05d-1fa183cbc3f2",
   "metadata": {},
   "outputs": [
    {
     "data": {
      "text/latex": [
       "$\\displaystyle \\sqrt{\\left(B^{12}\\right)^{2} + \\left(B^{13}\\right)^{2} + \\left(B^{23}\\right)^{2}}$"
      ],
      "text/plain": [
       "sqrt(B__12**2 + B__13**2 + B__23**2)"
      ]
     },
     "execution_count": 11,
     "metadata": {},
     "output_type": "execute_result"
    }
   ],
   "source": [
    "square_root_of_expr(B.norm2())"
   ]
  },
  {
   "cell_type": "code",
   "execution_count": 12,
   "id": "8544082c-bc58-497e-9e8d-97f7a231db42",
   "metadata": {},
   "outputs": [],
   "source": [
    "def mynorm(mv, hint='0'):\n",
    "    return simplify(square_root_of_expr(mv.norm2(hint)))"
   ]
  },
  {
   "cell_type": "code",
   "execution_count": 13,
   "id": "c8825d1d-f5bc-47b2-a93f-f903c9fbf7cf",
   "metadata": {},
   "outputs": [
    {
     "data": {
      "text/plain": [
       "True"
      ]
     },
     "execution_count": 13,
     "metadata": {},
     "output_type": "execute_result"
    }
   ],
   "source": [
    "mynorm(B*B) == -(B*B).scalar()"
   ]
  },
  {
   "cell_type": "code",
   "execution_count": null,
   "id": "40d3da1e-a3d6-4a2a-8096-723b74a478b8",
   "metadata": {},
   "outputs": [],
   "source": []
  }
 ],
 "metadata": {
  "kernelspec": {
   "display_name": "Python 3 (ipykernel)",
   "language": "python",
   "name": "python3"
  },
  "language_info": {
   "codemirror_mode": {
    "name": "ipython",
    "version": 3
   },
   "file_extension": ".py",
   "mimetype": "text/x-python",
   "name": "python",
   "nbconvert_exporter": "python",
   "pygments_lexer": "ipython3",
   "version": "3.11.8"
  }
 },
 "nbformat": 4,
 "nbformat_minor": 5
}
