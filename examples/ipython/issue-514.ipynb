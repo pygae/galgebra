{
 "cells": [
  {
   "cell_type": "code",
   "execution_count": 1,
   "id": "c98f4750-3af1-4749-b2a6-8a17764511bd",
   "metadata": {},
   "outputs": [
    {
     "data": {
      "text/plain": [
       "(e_xyz, e_xyz, 'Iinv+')"
      ]
     },
     "execution_count": 1,
     "metadata": {},
     "output_type": "execute_result"
    }
   ],
   "source": [
    "from galgebra.ga import Ga\n",
    "import sympy as S\n",
    "\n",
    "Ga.dual_mode('Iinv+')\n",
    "\n",
    "ga = Ga('e', g=[1,1,1], coords=S.symbols('x y z', real=True), wedge=False)\n",
    "ex,ey,ez = ga.mv()\n",
    "I = ga.i\n",
    "(ex*I) * (ex*I).dual(), (ex*I).dual() * (ex*I), ga.dual_mode_value"
   ]
  },
  {
   "cell_type": "code",
   "execution_count": 2,
   "id": "95c6f201-9f55-4e5d-9996-6a19b0f915ff",
   "metadata": {},
   "outputs": [
    {
     "data": {
      "text/plain": [
       "True"
      ]
     },
     "execution_count": 2,
     "metadata": {},
     "output_type": "execute_result"
    }
   ],
   "source": [
    "(ex*I).dual().undual() == (ex*I)"
   ]
  },
  {
   "cell_type": "code",
   "execution_count": null,
   "id": "f8d2ce01-aae9-46ff-be2d-225138fa30cf",
   "metadata": {},
   "outputs": [],
   "source": []
  }
 ],
 "metadata": {
  "kernelspec": {
   "display_name": "Python 3 (ipykernel)",
   "language": "python",
   "name": "python3"
  },
  "language_info": {
   "codemirror_mode": {
    "name": "ipython",
    "version": 3
   },
   "file_extension": ".py",
   "mimetype": "text/x-python",
   "name": "python",
   "nbconvert_exporter": "python",
   "pygments_lexer": "ipython3",
   "version": "3.9.18"
  }
 },
 "nbformat": 4,
 "nbformat_minor": 5
}
