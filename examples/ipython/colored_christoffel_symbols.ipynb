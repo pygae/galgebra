{
 "cells": [
  {
   "cell_type": "markdown",
   "metadata": {},
   "source": [
    "This example is kindly contributed by [FreddyBaudine](https://github.com/FreddyBaudine) for reproducing [pygae/galgebra#26](https://github.com/pygae/galgebra/issues/26) and [pygae/galgebra#30](https://github.com/pygae/galgebra/issues/30) with modifications by [utensil](https://github.com/utensil).\n",
    "\n",
    "Please note before Python code, there's an invisible markdown cell with the following code to enable `color` and define some colors from http://latexcolor.com/:\n",
    "\n",
    "```markdown\n",
    "$$\n",
    "\\require{color}\n",
    "\\definecolor{airforceblue}{rgb}{0.36, 0.54, 0.66}\n",
    "\\definecolor{applegreen}{rgb}{0.55, 0.71, 0.0}\n",
    "\\definecolor{atomictangerine}{rgb}{1.0, 0.6, 0.4}\n",
    "$$\n",
    "```"
   ]
  },
  {
   "cell_type": "markdown",
   "metadata": {},
   "source": [
    "$$\n",
    "\\require{color}\n",
    "\\definecolor{airforceblue}{rgb}{0.36, 0.54, 0.66}\n",
    "\\definecolor{applegreen}{rgb}{0.55, 0.71, 0.0}\n",
    "\\definecolor{atomictangerine}{rgb}{1.0, 0.6, 0.4}\n",
    "$$"
   ]
  },
  {
   "cell_type": "code",
   "execution_count": 1,
   "metadata": {},
   "outputs": [
    {
     "data": {
      "text/latex": [
       "$$ \n",
       "\\DeclareMathOperator{\\Tr}{Tr}\n",
       "\\DeclareMathOperator{\\Adj}{Adj}\n",
       "\\newcommand{\\bfrac}[2]{\\displaystyle\\frac{#1}{#2}}\n",
       "\\newcommand{\\lp}{\\left (}\n",
       "\\newcommand{\\rp}{\\right )}\n",
       "\\newcommand{\\paren}[1]{\\lp {#1} \\rp}\n",
       "\\newcommand{\\half}{\\frac{1}{2}}\n",
       "\\newcommand{\\llt}{\\left <}\n",
       "\\newcommand{\\rgt}{\\right >}\n",
       "\\newcommand{\\abs}[1]{\\left |{#1}\\right | }\n",
       "\\newcommand{\\pdiff}[2]{\\bfrac{\\partial {#1}}{\\partial {#2}}}\n",
       "\\newcommand{\\npdiff}[3]{\\bfrac{\\partial^{#3} {#1}}{\\partial {#2}^{#3}}}\n",
       "\\newcommand{\\lbrc}{\\left \\{}\n",
       "\\newcommand{\\rbrc}{\\right \\}}\n",
       "\\newcommand{\\W}{\\wedge}\n",
       "\\newcommand{\\prm}[1]{{#1}'}\n",
       "\\newcommand{\\ddt}[1]{\\bfrac{d{#1}}{dt}}\n",
       "\\newcommand{\\R}{\\dagger}\n",
       "\\newcommand{\\deriv}[3]{\\bfrac{d^{#3}#1}{d{#2}^{#3}}}\n",
       "\\newcommand{\\grd}[1]{\\left < {#1} \\right >}\n",
       "\\newcommand{\\f}[2]{{#1}\\lp {#2} \\rp}\n",
       "\\newcommand{\\eval}[2]{\\left . {#1} \\right |_{#2}}\n",
       "\\newcommand{\\bs}[1]{\\boldsymbol{#1}}\n",
       "\\newcommand{\\es}[1]{\\boldsymbol{e}_{#1}}\n",
       "\\newcommand{\\eS}[1]{\\boldsymbol{e}^{#1}}\n",
       "\\newcommand{\\grade}[2]{\\left < {#1} \\right >_{#2}}\n",
       "\\newcommand{\\lc}{\\rfloor}\n",
       "\\newcommand{\\rc}{\\lfloor}\n",
       "\\newcommand{\\T}[1]{\\text{#1}}\n",
       "\\newcommand{\\lop}[1]{\\overleftarrow{#1}}\n",
       "\\newcommand{\\rop}[1]{\\overrightarrow{#1}}\n",
       "\\newcommand{\\ldot}{\\lfloor}\n",
       "\\newcommand{\\rdot}{\\rfloor}\n",
       "\n",
       "%MacDonald LaTeX macros\n",
       "\n",
       "\\newcommand   {\\thalf}    {\\textstyle \\frac{1}{2}}\n",
       "\\newcommand   {\\tthird}   {\\textstyle \\frac{1}{3}}\n",
       "\\newcommand   {\\tquarter} {\\textstyle \\frac{1}{4}}\n",
       "\\newcommand   {\\tsixth}   {\\textstyle \\frac{1}{6}}\n",
       "\n",
       "\\newcommand   {\\RE}       {\\mathbb{R}}\n",
       "\\newcommand   {\\GA}       {\\mathbb{G}}\n",
       "\\newcommand   {\\inner}    {\\mathbin{\\pmb{\\cdot}}}\n",
       "\\renewcommand {\\outer}    {\\mathbin{\\wedge}}\n",
       "\\newcommand   {\\cross}    {\\mathbin{\\times}}\n",
       "\\newcommand   {\\meet}     {\\mathbin{{\\,\\vee\\;}}}\n",
       "\\renewcommand {\\iff}              {\\Leftrightarrow}\n",
       "\\renewcommand {\\impliedby}{\\Leftarrow}\n",
       "\\renewcommand {\\implies}  {\\Rightarrow}\n",
       "\\newcommand   {\\perpc}    {\\perp}  % Orthogonal complement\n",
       "\\newcommand   {\\perpm}    {*}  % Dual of multivector\n",
       "\\newcommand   {\\del}      {\\mathbf{\\nabla}}  %{\\boldsymbol\\nabla\\!}\n",
       "\\newcommand   {\\mpart}[2]{\\left\\langle\\, #1 \\,\\right\\rangle_{#2}} % AMS has a \\part\n",
       "\\newcommand   {\\spart}[1]{\\mpart{#1}{0}}\n",
       "\\newcommand   {\\ds}       {\\displaystyle}\n",
       "\\newcommand   {\\os}       {\\overset}\n",
       "\\newcommand   {\\galgebra} {\\mbox{$\\mathcal{G\\!A}$\\hspace{.01in}lgebra}}\n",
       "\\newcommand   {\\latex}    {\\LaTeX}\n",
       " $$"
      ],
      "text/plain": [
       "<IPython.core.display.Latex object>"
      ]
     },
     "metadata": {},
     "output_type": "display_data"
    }
   ],
   "source": [
    "from __future__ import print_function\n",
    "import sys\n",
    "from galgebra.printer import  Format, xpdf\n",
    "Format()\n",
    "from sympy import symbols, sin, pi, latex, Array, permutedims\n",
    "from galgebra.ga import Ga"
   ]
  },
  {
   "cell_type": "code",
   "execution_count": 2,
   "metadata": {},
   "outputs": [],
   "source": [
    "from IPython.display import Math"
   ]
  },
  {
   "cell_type": "markdown",
   "metadata": {},
   "source": [
    "# Base manifold (three dimensional)\n",
    "## Metric tensor (cartesian coordinates - norm = False)"
   ]
  },
  {
   "cell_type": "code",
   "execution_count": 3,
   "metadata": {},
   "outputs": [],
   "source": [
    "from sympy import cos, sin, symbols\n",
    "g3coords = (x,y,z) = symbols('x y z')\n",
    "g3 = Ga('ex ey ez', g = [1,1,1], coords = g3coords,norm=False) # Create g3\n",
    "(e_x,e_y,e_z) = g3.mv()"
   ]
  },
  {
   "cell_type": "code",
   "execution_count": 4,
   "metadata": {},
   "outputs": [
    {
     "data": {
      "text/latex": [
       "$$ g =  \\left [ \\begin{array}{ccc} 1 & 0 & 0  \\\\ 0 & 1 & 0  \\\\ 0 & 0 & 1  \\end{array}\\right ]   $$"
      ],
      "text/plain": [
       "<IPython.core.display.Latex object>"
      ]
     },
     "metadata": {},
     "output_type": "display_data"
    }
   ],
   "source": [
    "print(r'g =', g3.g)"
   ]
  },
  {
   "cell_type": "markdown",
   "metadata": {},
   "source": [
    "# Two dimensioanal submanifold - Unit sphere\n",
    "\n",
    "Basis not normalised"
   ]
  },
  {
   "cell_type": "code",
   "execution_count": 6,
   "metadata": {},
   "outputs": [],
   "source": [
    "sp2coords = (theta, phi) = symbols(r'{\\color{airforceblue}\\theta} {\\color{applegreen}\\phi}', real = True)\n",
    "sp2param = [sin(theta)*cos(phi), sin(theta)*sin(phi), cos(theta)]\n",
    "\n",
    "sp2 = g3.sm(sp2param, sp2coords, norm = False) # submanifold\n",
    "\n",
    "(etheta, ephi) = sp2.mv() # sp2 basis vectors\n",
    "(rtheta, rphi) = sp2.mvr() # sp2 reciprocal basis vectors\n",
    "\n",
    "sp2grad = sp2.grad\n",
    "\n",
    "sph_map = [1, theta, phi]  # Coordinate map for sphere of r = 1"
   ]
  },
  {
   "cell_type": "code",
   "execution_count": 7,
   "metadata": {},
   "outputs": [
    {
     "data": {
      "text/latex": [
       "$$ (\\theta,\\phi)\\rightarrow (r,\\theta,\\phi) = [1, {\\color{airforceblue}\\theta}, {\\color{applegreen}\\phi}]  $$"
      ],
      "text/plain": [
       "<IPython.core.display.Latex object>"
      ]
     },
     "metadata": {},
     "output_type": "display_data"
    }
   ],
   "source": [
    "print(r'(\\theta,\\phi)\\rightarrow (r,\\theta,\\phi) =',sph_map)"
   ]
  },
  {
   "cell_type": "code",
   "execution_count": 8,
   "metadata": {},
   "outputs": [
    {
     "data": {
      "text/latex": [
       "$$ e_\\theta \\cdot e_\\theta = 1  $$"
      ],
      "text/plain": [
       "<IPython.core.display.Latex object>"
      ]
     },
     "metadata": {},
     "output_type": "display_data"
    }
   ],
   "source": [
    "print(r'e_\\theta \\cdot e_\\theta =',etheta|etheta)"
   ]
  },
  {
   "cell_type": "code",
   "execution_count": 9,
   "metadata": {},
   "outputs": [
    {
     "data": {
      "text/latex": [
       "$$ e_\\phi \\cdot e_\\phi = {\\sin{\\left ({\\color{airforceblue}\\theta} \\right )}}^{2}  $$"
      ],
      "text/plain": [
       "<IPython.core.display.Latex object>"
      ]
     },
     "metadata": {},
     "output_type": "display_data"
    }
   ],
   "source": [
    "print(r'e_\\phi \\cdot e_\\phi =',ephi|ephi)"
   ]
  },
  {
   "cell_type": "code",
   "execution_count": 10,
   "metadata": {},
   "outputs": [
    {
     "data": {
      "text/latex": [
       "$$ g =   \\left [ \\begin{array}{cc} 1 & 0  \\\\ 0 & {\\sin{\\left ({\\color{airforceblue}\\theta} \\right )}}^{2}  \\end{array}\\right ]   $$"
      ],
      "text/plain": [
       "<IPython.core.display.Latex object>"
      ]
     },
     "metadata": {},
     "output_type": "display_data"
    }
   ],
   "source": [
    "print('g = ',sp2.g)"
   ]
  },
  {
   "cell_type": "code",
   "execution_count": 11,
   "metadata": {},
   "outputs": [
    {
     "data": {
      "text/latex": [
       "$$ g^{-1} = Matrix([[1, 0], [0, \\frac{1}{{\\sin{\\left ({\\color{airforceblue}\\theta} \\right )}}^{2}}]])  $$"
      ],
      "text/plain": [
       "<IPython.core.display.Latex object>"
      ]
     },
     "metadata": {},
     "output_type": "display_data"
    }
   ],
   "source": [
    "print(r'g^{-1} =',sp2.g_inv)"
   ]
  },
  {
   "cell_type": "markdown",
   "metadata": {},
   "source": [
    "Christoffel symbols of the first kind: "
   ]
  },
  {
   "cell_type": "code",
   "execution_count": 12,
   "metadata": {},
   "outputs": [],
   "source": [
    "Cf1 = sp2.Christoffel_symbols(mode=1)\n",
    "Cf1 = permutedims(Array(Cf1), (2, 0, 1))"
   ]
  },
  {
   "cell_type": "code",
   "execution_count": 13,
   "metadata": {},
   "outputs": [
    {
     "data": {
      "text/latex": [
       "$$ \\Gamma_{1, \\alpha, \\beta} = [[0, 0], [0, - \\frac{\\sin{\\left (2 {\\color{airforceblue}\\theta} \\right )}}{2}]]  \\quad \\Gamma_{2, \\alpha, \\beta} = [[0, \\frac{\\sin{\\left (2 {\\color{airforceblue}\\theta} \\right )}}{2}], [\\frac{\\sin{\\left (2 {\\color{airforceblue}\\theta} \\right )}}{2}, 0]]  $$"
      ],
      "text/plain": [
       "<IPython.core.display.Latex object>"
      ]
     },
     "metadata": {},
     "output_type": "display_data"
    }
   ],
   "source": [
    "print(r'\\Gamma_{1, \\alpha, \\beta} =',Cf1[0, :, :],r' \\quad \\Gamma_{2, \\alpha, \\beta} =', Cf1[1, :, :])"
   ]
  },
  {
   "cell_type": "code",
   "execution_count": 14,
   "metadata": {},
   "outputs": [],
   "source": [
    "Cf2 = sp2.Christoffel_symbols(mode=2)\n",
    "Cf2 = permutedims(Array(Cf2), (2, 0, 1))"
   ]
  },
  {
   "cell_type": "code",
   "execution_count": 15,
   "metadata": {},
   "outputs": [
    {
     "data": {
      "text/latex": [
       "$$ \\Gamma^{1}_{\\phantom{1,}\\alpha, \\beta} = [[0, 0], [0, - \\frac{\\sin{\\left (2 {\\color{airforceblue}\\theta} \\right )}}{2}]] \\quad \\Gamma^{2}_{\\phantom{2,}\\alpha, \\beta} = [[0, \\frac{1}{\\tan{\\left ({\\color{airforceblue}\\theta} \\right )}}], [\\frac{1}{\\tan{\\left ({\\color{airforceblue}\\theta} \\right )}}, 0]]  $$"
      ],
      "text/plain": [
       "<IPython.core.display.Latex object>"
      ]
     },
     "metadata": {},
     "output_type": "display_data"
    }
   ],
   "source": [
    "print(r'\\Gamma^{1}_{\\phantom{1,}\\alpha, \\beta} =',Cf2[0, :, :],r'\\quad \\Gamma^{2}_{\\phantom{2,}\\alpha, \\beta} =', Cf2[1, :, :])"
   ]
  },
  {
   "cell_type": "code",
   "execution_count": 16,
   "metadata": {},
   "outputs": [],
   "source": [
    "F = sp2.mv('F','vector',f=True) #scalar function\n",
    "f = sp2.mv('f','scalar',f=True) #vector function"
   ]
  },
  {
   "cell_type": "code",
   "execution_count": 17,
   "metadata": {},
   "outputs": [
    {
     "data": {
      "text/latex": [
       "$$ \\nabla = \\boldsymbol{e}_{{\\color{airforceblue}\\theta}} \\frac{\\partial}{\\partial {\\color{airforceblue}\\theta}} + \\boldsymbol{e}_{{\\color{applegreen}\\phi}} \\frac{1}{{\\sin{\\left ({\\color{airforceblue}\\theta} \\right )}}^{2}} \\frac{\\partial}{\\partial {\\color{applegreen}\\phi}}  $$"
      ],
      "text/plain": [
       "<IPython.core.display.Latex object>"
      ]
     },
     "metadata": {},
     "output_type": "display_data"
    }
   ],
   "source": [
    "print(r'\\nabla =', sp2grad)"
   ]
  },
  {
   "cell_type": "code",
   "execution_count": 18,
   "metadata": {},
   "outputs": [
    {
     "data": {
      "text/latex": [
       "$$ \\nabla f = \\partial_{{\\color{airforceblue}\\theta}} f  \\boldsymbol{e}_{{\\color{airforceblue}\\theta}} + \\frac{\\partial_{{\\color{applegreen}\\phi}} f }{{\\sin{\\left ({\\color{airforceblue}\\theta} \\right )}}^{2}} \\boldsymbol{e}_{{\\color{applegreen}\\phi}}  $$"
      ],
      "text/plain": [
       "<IPython.core.display.Latex object>"
      ]
     },
     "metadata": {},
     "output_type": "display_data"
    }
   ],
   "source": [
    "print(r'\\nabla f =', sp2.grad * f)"
   ]
  },
  {
   "cell_type": "code",
   "execution_count": 19,
   "metadata": {},
   "outputs": [
    {
     "data": {
      "text/latex": [
       "$$ F = F^{{\\color{airforceblue}\\theta}}  \\boldsymbol{e}_{{\\color{airforceblue}\\theta}} + F^{{\\color{applegreen}\\phi}}  \\boldsymbol{e}_{{\\color{applegreen}\\phi}}  $$"
      ],
      "text/plain": [
       "<IPython.core.display.Latex object>"
      ]
     },
     "metadata": {},
     "output_type": "display_data"
    }
   ],
   "source": [
    "print(r'F =', F)"
   ]
  },
  {
   "cell_type": "code",
   "execution_count": 20,
   "metadata": {},
   "outputs": [
    {
     "data": {
      "text/latex": [
       "$$ \\nabla F = \\left ( \\frac{F^{{\\color{airforceblue}\\theta}} }{\\tan{\\left ({\\color{airforceblue}\\theta} \\right )}} + \\partial_{{\\color{airforceblue}\\theta}} F^{{\\color{airforceblue}\\theta}}  + \\partial_{{\\color{applegreen}\\phi}} F^{{\\color{applegreen}\\phi}} \\right )  + \\left ( \\frac{2 F^{{\\color{applegreen}\\phi}} }{\\tan{\\left ({\\color{airforceblue}\\theta} \\right )}} + \\partial_{{\\color{airforceblue}\\theta}} F^{{\\color{applegreen}\\phi}}  - \\frac{\\partial_{{\\color{applegreen}\\phi}} F^{{\\color{airforceblue}\\theta}} }{{\\sin{\\left ({\\color{airforceblue}\\theta} \\right )}}^{2}}\\right ) \\boldsymbol{e}_{{\\color{airforceblue}\\theta}}\\wedge \\boldsymbol{e}_{{\\color{applegreen}\\phi}}  $$"
      ],
      "text/plain": [
       "<IPython.core.display.Latex object>"
      ]
     },
     "metadata": {},
     "output_type": "display_data"
    }
   ],
   "source": [
    "print(r'\\nabla F =', sp2.grad * F)"
   ]
  },
  {
   "cell_type": "markdown",
   "metadata": {},
   "source": [
    "# One dimensioanal submanifold\n",
    "\n",
    "Basis not normalised"
   ]
  },
  {
   "cell_type": "code",
   "execution_count": 21,
   "metadata": {},
   "outputs": [],
   "source": [
    "cir_th = phi = symbols(r'{\\color{atomictangerine}\\phi}',real = True)\n",
    "cir_map = [pi/8, phi]"
   ]
  },
  {
   "cell_type": "code",
   "execution_count": 22,
   "metadata": {},
   "outputs": [
    {
     "data": {
      "text/latex": [
       "$$ (\\phi)\\rightarrow (\\theta,\\phi) = [\\frac{\\pi}{8}, {\\color{atomictangerine}\\phi}]  $$"
      ],
      "text/plain": [
       "<IPython.core.display.Latex object>"
      ]
     },
     "metadata": {},
     "output_type": "display_data"
    }
   ],
   "source": [
    "print(r'(\\phi)\\rightarrow (\\theta,\\phi) =', cir_map)"
   ]
  },
  {
   "cell_type": "code",
   "execution_count": 23,
   "metadata": {},
   "outputs": [],
   "source": [
    "cir1d = sp2.sm( cir_map , (cir_th,), norm = False) # submanifold\n",
    "\n",
    "cir1dgrad = cir1d.grad\n",
    "\n",
    "(ephi) = cir1d.mv()"
   ]
  },
  {
   "cell_type": "code",
   "execution_count": 24,
   "metadata": {},
   "outputs": [
    {
     "data": {
      "text/latex": [
       "$$ e_\\phi \\cdot e_\\phi = \\frac{1}{2} - \\frac{\\sqrt{2}}{4}  $$"
      ],
      "text/plain": [
       "<IPython.core.display.Latex object>"
      ]
     },
     "metadata": {},
     "output_type": "display_data"
    }
   ],
   "source": [
    "print(r'e_\\phi \\cdot e_\\phi =', ephi[0]|ephi[0])"
   ]
  },
  {
   "cell_type": "code",
   "execution_count": 25,
   "metadata": {},
   "outputs": [
    {
     "data": {
      "text/latex": [
       "$$ g =  \\left [ \\begin{array}{c} \\frac{1}{2} - \\frac{\\sqrt{2}}{4}  \\end{array}\\right ]   $$"
      ],
      "text/plain": [
       "<IPython.core.display.Latex object>"
      ]
     },
     "metadata": {},
     "output_type": "display_data"
    }
   ],
   "source": [
    "print('g =', cir1d.g)"
   ]
  },
  {
   "cell_type": "code",
   "execution_count": 26,
   "metadata": {},
   "outputs": [],
   "source": [
    "h = cir1d.mv('h','scalar',f= True)\n",
    "\n",
    "H = cir1d.mv('H','vector',f= True)"
   ]
  },
  {
   "cell_type": "code",
   "execution_count": 27,
   "metadata": {},
   "outputs": [
    {
     "data": {
      "text/latex": [
       "$$ \\nabla = \\boldsymbol{e}_{{\\color{atomictangerine}\\phi}} \\left ( 2 \\sqrt{2} + 4\\right ) \\frac{\\partial}{\\partial {\\color{atomictangerine}\\phi}}  $$"
      ],
      "text/plain": [
       "<IPython.core.display.Latex object>"
      ]
     },
     "metadata": {},
     "output_type": "display_data"
    }
   ],
   "source": [
    "print(r'\\nabla =', cir1dgrad)\n",
    "\n",
    "\n",
    "\n"
   ]
  },
  {
   "cell_type": "code",
   "execution_count": 28,
   "metadata": {},
   "outputs": [
    {
     "data": {
      "text/latex": [
       "$$ \\nabla h = \\left(2 \\sqrt{2} + 4\\right) \\partial_{{\\color{atomictangerine}\\phi}} h  \\boldsymbol{e}_{{\\color{atomictangerine}\\phi}}  $$"
      ],
      "text/plain": [
       "<IPython.core.display.Latex object>"
      ]
     },
     "metadata": {},
     "output_type": "display_data"
    }
   ],
   "source": []
  },
  {
   "cell_type": "code",
   "execution_count": 29,
   "metadata": {},
   "outputs": [
    {
     "data": {
      "text/latex": [
       "$$ H = H^{{\\color{atomictangerine}\\phi}}  \\boldsymbol{e}_{{\\color{atomictangerine}\\phi}}  $$"
      ],
      "text/plain": [
       "<IPython.core.display.Latex object>"
      ]
     },
     "metadata": {},
     "output_type": "display_data"
    }
   ],
   "source": [
    "print('H =', H)"
   ]
  },
  {
   "cell_type": "code",
   "execution_count": 30,
   "metadata": {},
   "outputs": [
    {
     "data": {
      "text/latex": [
       "$$ \\nabla H = \\partial_{{\\color{atomictangerine}\\phi}} H^{{\\color{atomictangerine}\\phi}}   $$"
      ],
      "text/plain": [
       "<IPython.core.display.Latex object>"
      ]
     },
     "metadata": {},
     "output_type": "display_data"
    }
   ],
   "source": [
    "print(r'\\nabla H =', (cir1d.grad * H).simplify())"
   ]
  },
  {
   "cell_type": "code",
   "execution_count": null,
   "metadata": {},
   "outputs": [],
   "source": []
  }
 ],
 "metadata": {
  "kernelspec": {
   "display_name": "Python 3",
   "language": "python",
   "name": "python3"
  },
  "language_info": {
   "codemirror_mode": {
    "name": "ipython",
    "version": 3
   },
   "file_extension": ".py",
   "mimetype": "text/x-python",
   "name": "python",
   "nbconvert_exporter": "python",
   "pygments_lexer": "ipython3",
   "version": "3.6.8"
  }
 },
 "nbformat": 4,
 "nbformat_minor": 2
}
