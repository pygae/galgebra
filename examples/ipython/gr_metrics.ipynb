{
 "cells": [
  {
   "cell_type": "code",
   "execution_count": 1,
   "metadata": {},
   "outputs": [
    {
     "data": {
      "text/latex": [
       "$$ \n",
       "\\DeclareMathOperator{\\Tr}{Tr}\n",
       "\\DeclareMathOperator{\\Adj}{Adj}\n",
       "\\newcommand{\\bfrac}[2]{\\displaystyle\\frac{#1}{#2}}\n",
       "\\newcommand{\\lp}{\\left (}\n",
       "\\newcommand{\\rp}{\\right )}\n",
       "\\newcommand{\\paren}[1]{\\lp {#1} \\rp}\n",
       "\\newcommand{\\half}{\\frac{1}{2}}\n",
       "\\newcommand{\\llt}{\\left <}\n",
       "\\newcommand{\\rgt}{\\right >}\n",
       "\\newcommand{\\abs}[1]{\\left |{#1}\\right | }\n",
       "\\newcommand{\\pdiff}[2]{\\bfrac{\\partial {#1}}{\\partial {#2}}}\n",
       "\\newcommand{\\npdiff}[3]{\\bfrac{\\partial^{#3} {#1}}{\\partial {#2}^{#3}}}\n",
       "\\newcommand{\\lbrc}{\\left \\{}\n",
       "\\newcommand{\\rbrc}{\\right \\]}\n",
       "\\newcommand{\\lbrk}{\\left \\[}\n",
       "\\newcommand{\\rbrk}{\\right \\}}\n",
       "\\newcommand{\\W}{\\wedge}\n",
       "\\newcommand{\\prm}[1]{{#1}'}\n",
       "\\newcommand{\\ddt}[1]{\\bfrac{d{#1}}{dt}}\n",
       "\\newcommand{\\R}{\\dagger}\n",
       "\\newcommand{\\deriv}[3]{\\bfrac{d^{#3}#1}{d{#2}^{#3}}}\n",
       "\\newcommand{\\grd}[1]{\\left < {#1} \\right >}\n",
       "\\newcommand{\\f}[2]{{#1}\\lp {#2} \\rp}\n",
       "\\newcommand{\\eval}[2]{\\left . {#1} \\right |_{#2}}\n",
       "\\newcommand{\\bs}[1]{\\boldsymbol{#1}}\n",
       "\\newcommand{\\es}[1]{\\boldsymbol{e}_{#1}}\n",
       "\\newcommand{\\eS}[1]{\\boldsymbol{e}^{#1}}\n",
       "\\newcommand{\\grade}[2]{\\left < {#1} \\right >_{#2}}\n",
       "\\newcommand{\\lc}{\\rfloor}\n",
       "\\newcommand{\\rc}{\\lfloor}\n",
       "\\newcommand{\\T}[1]{\\text{#1}}\n",
       "\\newcommand{\\lop}[1]{\\overleftarrow{#1}}\n",
       "\\newcommand{\\rop}[1]{\\overrightarrow{#1}}\n",
       "\\newcommand{\\ldot}{\\lfloor}\n",
       "\\newcommand{\\rdot}{\\rfloor}\n",
       "\n",
       "%MacDonald LaTeX macros\n",
       "\n",
       "\\newcommand   {\\thalf}    {\\textstyle \\frac{1}{2}}\n",
       "\\newcommand   {\\tthird}   {\\textstyle \\frac{1}{3}}\n",
       "\\newcommand   {\\tquarter} {\\textstyle \\frac{1}{4}}\n",
       "\\newcommand   {\\tsixth}   {\\textstyle \\frac{1}{6}}\n",
       "\n",
       "\\newcommand   {\\RE}       {\\mathbb{R}}\n",
       "\\newcommand   {\\GA}       {\\mathbb{G}}\n",
       "\\newcommand   {\\inner}    {\\mathbin{\\pmb{\\cdot}}}\n",
       "\\renewcommand {\\outer}    {\\mathbin{\\wedge}}\n",
       "\\newcommand   {\\cross}    {\\mathbin{\\times}}\n",
       "\\newcommand   {\\meet}     {\\mathbin{{\\,\\vee\\;}}}\n",
       "\\renewcommand {\\iff}              {\\Leftrightarrow}\n",
       "\\renewcommand {\\impliedby}{\\Leftarrow}\n",
       "\\renewcommand {\\implies}  {\\Rightarrow}\n",
       "\\newcommand   {\\perpc}    {\\perp}  % Orthogonal complement\n",
       "\\newcommand   {\\perpm}    {*}  % Dual of multivector\n",
       "\\newcommand   {\\del}      {\\mathbf{\\nabla}}  %{\\boldsymbol\\nabla\\!}\n",
       "\\newcommand   {\\mpart}[2]{\\left\\langle\\, #1 \\,\\right\\rangle_{#2}} % AMS has a \\part\n",
       "\\newcommand   {\\spart}[1]{\\mpart{#1}{0}}\n",
       "\\newcommand   {\\ds}       {\\displaystyle}\n",
       "\\newcommand   {\\os}       {\\overset}\n",
       "\\newcommand   {\\galgebra} {\\mbox{$\\mathcal{G\\!A}$\\hspace{.01in}lgebra}}\n",
       "\\newcommand   {\\latex}    {\\LaTeX}\n",
       " $$"
      ],
      "text/plain": [
       "<IPython.core.display.Latex object>"
      ]
     },
     "metadata": {},
     "output_type": "display_data"
    }
   ],
   "source": [
    "from sympy import *\n",
    "from galgebra.printer import Format, latex, Fmt, GaLatexPrinter\n",
    "Format()\n",
    "from galgebra.ga import Ga\n",
    "from galgebra.mv import ONE, ZERO, HALF"
   ]
  },
  {
   "cell_type": "code",
   "execution_count": 2,
   "metadata": {},
   "outputs": [],
   "source": [
    "def dot_basis_r_basis(ga):\n",
    "    return [ga.dot(ga.basis[i], ga.r_basis[i]) for i in ga.n_range]"
   ]
  },
  {
   "cell_type": "code",
   "execution_count": 3,
   "metadata": {},
   "outputs": [],
   "source": [
    "def gg(ga):\n",
    "    return simplify(ga.g * ga.g_inv)"
   ]
  },
  {
   "cell_type": "code",
   "execution_count": 4,
   "metadata": {},
   "outputs": [],
   "source": [
    "def conv_christoffel_symbols(cf):\n",
    "    return permutedims(Array(cf), (2, 0, 1))"
   ]
  },
  {
   "cell_type": "code",
   "execution_count": 5,
   "metadata": {},
   "outputs": [],
   "source": [
    "def show_christoffel_symbols(ga):\n",
    "    if ga.connect_flg:\n",
    "        display(conv_christoffel_symbols(ga.Christoffel_symbols(mode=1)))\n",
    "        display(conv_christoffel_symbols(ga.Christoffel_symbols(mode=2)))"
   ]
  },
  {
   "cell_type": "markdown",
   "metadata": {},
   "source": [
    "## Minkowski Spacetime Metric"
   ]
  },
  {
   "cell_type": "code",
   "execution_count": 6,
   "metadata": {},
   "outputs": [],
   "source": [
    "coord = symbols('t x y z')\n",
    "metric = Matrix([\n",
    "                [ 1, 0, 0, 0 ], \n",
    "                [ 0, -1, 0, 0 ], \n",
    "                [ 0, 0, -1, 0 ], \n",
    "                [ 0, 0, 0, -1 ]\n",
    "            ])\n",
    "minkowski = Ga('e', g=metric, coords=coord, norm=False)"
   ]
  },
  {
   "cell_type": "code",
   "execution_count": 7,
   "metadata": {},
   "outputs": [
    {
     "data": {
      "text/latex": [
       "$$ \\T{Minkowsky Basis:} [\\boldsymbol{e}_{t}, \\boldsymbol{e}_{x}, \\boldsymbol{e}_{y}, \\boldsymbol{e}_{z}]  $$"
      ],
      "text/plain": [
       "<IPython.core.display.Latex object>"
      ]
     },
     "metadata": {},
     "output_type": "display_data"
    },
    {
     "data": {
      "text/latex": [
       "$$ \\T{Minkowsky Metric:}  \\left [ \\begin{array}{cccc} 1 & 0 & 0 & 0  \\\\ 0 & -1 & 0 & 0  \\\\ 0 & 0 & -1 & 0  \\\\ 0 & 0 & 0 & -1  \\end{array}\\right ]   $$"
      ],
      "text/plain": [
       "<IPython.core.display.Latex object>"
      ]
     },
     "metadata": {},
     "output_type": "display_data"
    },
    {
     "data": {
      "text/latex": [
       "$$ \\left [ \\bs{e}_t\\cdot\\bs{e}^t, \\bs{e}_x\\cdot\\bs{e}^x, \\bs{e}_y\\cdot\\bs{e}^y, \\bs{e}_z\\cdot\\bs{e}^z\\right ] = [1, 1, 1, 1]  $$"
      ],
      "text/plain": [
       "<IPython.core.display.Latex object>"
      ]
     },
     "metadata": {},
     "output_type": "display_data"
    },
    {
     "data": {
      "text/latex": [
       "$$ gg^{-1} = Matrix([[1, 0, 0, 0], [0, 1, 0, 0], [0, 0, 1, 0], [0, 0, 0, 1]])  $$"
      ],
      "text/plain": [
       "<IPython.core.display.Latex object>"
      ]
     },
     "metadata": {},
     "output_type": "display_data"
    }
   ],
   "source": [
    "# NBVAL_IGNORE_OUTPUT\n",
    "print(r'\\T{Minkowsky Basis:}',minkowski.basis)\n",
    "print(r'\\T{Minkowsky Metric:}',minkowski.g)\n",
    "print(r'\\left [ \\bs{e}_t\\cdot\\bs{e}^t, \\bs{e}_x\\cdot\\bs{e}^x, \\bs{e}_y\\cdot\\bs{e}^y, \\bs{e}_z\\cdot\\bs{e}^z\\right ] =', dot_basis_r_basis(minkowski))\n",
    "print(r'gg^{-1} =', gg(minkowski))"
   ]
  },
  {
   "cell_type": "markdown",
   "metadata": {},
   "source": [
    "## Kerr-Debney Metric"
   ]
  },
  {
   "cell_type": "code",
   "execution_count": 8,
   "metadata": {},
   "outputs": [],
   "source": [
    "g4coords = (u, x, y, z) = symbols(\"u x y z\",real=True)\n",
    "g = [[0, 0, -exp(-z), 0],\n",
    "    [0, HALF * u ** 2 * exp(4 * z), 0, 0],\n",
    "    [-exp(-z), 0, 12 * exp(-2 * z), u * exp(-z)],\n",
    "    [0, 0, u * exp(-z), HALF * u ** 2]]\n",
    "g4 = Ga('e', g=g, coords=g4coords, norm=False)"
   ]
  },
  {
   "cell_type": "code",
   "execution_count": 9,
   "metadata": {},
   "outputs": [
    {
     "data": {
      "text/latex": [
       "$$ \\T{Kerr-Debney Basis:} [\\boldsymbol{e}_{u}, \\boldsymbol{e}_{x}, \\boldsymbol{e}_{y}, \\boldsymbol{e}_{z}]  $$"
      ],
      "text/plain": [
       "<IPython.core.display.Latex object>"
      ]
     },
     "metadata": {},
     "output_type": "display_data"
    }
   ],
   "source": [
    "print(r'\\T{Kerr-Debney Basis:}', g4.basis)"
   ]
  },
  {
   "cell_type": "code",
   "execution_count": 10,
   "metadata": {},
   "outputs": [
    {
     "data": {
      "text/latex": [
       "$\\displaystyle \\left[\\begin{matrix}0 & 0 & - e^{- z} & 0\\\\0 & \\frac{u^{2} e^{4 z}}{2} & 0 & 0\\\\- e^{- z} & 0 & 12 e^{- 2 z} & u e^{- z}\\\\0 & 0 & u e^{- z} & \\frac{u^{2}}{2}\\end{matrix}\\right]$"
      ],
      "text/plain": [
       " \\left [ \\begin{array}{cccc} 0 & 0 & - e^{- z} & 0  \\\\ 0 & \\frac{u^{2} e^{4 z}}{2} & 0 & 0  \\\\ - e^{- z} & 0 & 12 e^{- 2 z} & u e^{- z}  \\\\ 0 & 0 & u e^{- z} & \\frac{u^{2}}{2}  \\end{array}\\right ] "
      ]
     },
     "execution_count": 10,
     "metadata": {},
     "output_type": "execute_result"
    }
   ],
   "source": [
    "g4.g"
   ]
  },
  {
   "cell_type": "code",
   "execution_count": 11,
   "metadata": {},
   "outputs": [
    {
     "data": {
      "text/latex": [
       "$\\displaystyle - \\frac{u^{4} e^{2 z}}{4}$"
      ],
      "text/plain": [
       "  4  2⋅z \n",
       "-u ⋅ℯ    \n",
       "─────────\n",
       "    4    "
      ]
     },
     "execution_count": 11,
     "metadata": {},
     "output_type": "execute_result"
    }
   ],
   "source": [
    "g4.e_sq"
   ]
  },
  {
   "cell_type": "code",
   "execution_count": 12,
   "metadata": {},
   "outputs": [
    {
     "data": {
      "text/latex": [
       "$\\displaystyle \\left[ - \\frac{u^{4} e^{2 z}}{4}, \\  - \\frac{u^{4} e^{2 z}}{4}, \\  - \\frac{u^{4} e^{2 z}}{4}, \\  - \\frac{u^{4} e^{2 z}}{4}\\right]$"
      ],
      "text/plain": [
       "⎡  4  2⋅z     4  2⋅z     4  2⋅z     4  2⋅z ⎤\n",
       "⎢-u ⋅ℯ      -u ⋅ℯ      -u ⋅ℯ      -u ⋅ℯ    ⎥\n",
       "⎢─────────, ─────────, ─────────, ─────────⎥\n",
       "⎣    4          4          4          4    ⎦"
      ]
     },
     "execution_count": 12,
     "metadata": {},
     "output_type": "execute_result"
    }
   ],
   "source": [
    "dot_basis_r_basis(g4)"
   ]
  },
  {
   "cell_type": "code",
   "execution_count": 13,
   "metadata": {},
   "outputs": [
    {
     "data": {
      "text/latex": [
       "$\\displaystyle \\left[\\begin{matrix}1 & 0 & 0 & 0\\\\0 & 1 & 0 & 0\\\\0 & 0 & 1 & 0\\\\0 & 0 & 0 & 1\\end{matrix}\\right]$"
      ],
      "text/plain": [
       "⎡1  0  0  0⎤\n",
       "⎢          ⎥\n",
       "⎢0  1  0  0⎥\n",
       "⎢          ⎥\n",
       "⎢0  0  1  0⎥\n",
       "⎢          ⎥\n",
       "⎣0  0  0  1⎦"
      ]
     },
     "execution_count": 13,
     "metadata": {},
     "output_type": "execute_result"
    }
   ],
   "source": [
    "gg(g4)"
   ]
  },
  {
   "cell_type": "code",
   "execution_count": 14,
   "metadata": {},
   "outputs": [
    {
     "data": {
      "text/latex": [
       "$\\displaystyle \\left[\\begin{matrix}\\left[\\begin{matrix}0 & 0 & 0 & 0\\\\0 & - \\frac{u e^{4 z}}{2} & 0 & 0\\\\0 & 0 & 0 & 0\\\\0 & 0 & 0 & - \\frac{u}{2}\\end{matrix}\\right] & \\left[\\begin{matrix}0 & \\frac{u e^{4 z}}{2} & 0 & 0\\\\\\frac{u e^{4 z}}{2} & 0 & 0 & u^{2} e^{4 z}\\\\0 & 0 & 0 & 0\\\\0 & u^{2} e^{4 z} & 0 & 0\\end{matrix}\\right] & \\left[\\begin{matrix}0 & 0 & 0 & e^{- z}\\\\0 & 0 & 0 & 0\\\\0 & 0 & 0 & - 12 e^{- 2 z}\\\\e^{- z} & 0 & - 12 e^{- 2 z} & - u e^{- z}\\end{matrix}\\right] & \\left[\\begin{matrix}0 & 0 & 0 & \\frac{u}{2}\\\\0 & - u^{2} e^{4 z} & 0 & 0\\\\0 & 0 & 12 e^{- 2 z} & 0\\\\\\frac{u}{2} & 0 & 0 & 0\\end{matrix}\\right]\\end{matrix}\\right]$"
      ],
      "text/plain": [
       "⎡                       ⎡           4⋅z             ⎤                         \n",
       "⎢⎡0     0      0   0 ⎤  ⎢        u⋅ℯ                ⎥                         \n",
       "⎢⎢                   ⎥  ⎢  0     ──────   0     0   ⎥  ⎡                      \n",
       "⎢⎢       4⋅z         ⎥  ⎢          2                ⎥  ⎢ 0   0      0         \n",
       "⎢⎢   -u⋅ℯ            ⎥  ⎢                           ⎥  ⎢                      \n",
       "⎢⎢0  ────────  0   0 ⎥  ⎢   4⋅z                     ⎥  ⎢ 0   0      0         \n",
       "⎢⎢      2            ⎥  ⎢u⋅ℯ                  2  4⋅z⎥  ⎢                      \n",
       "⎢⎢                   ⎥  ⎢──────     0     0  u ⋅ℯ   ⎥  ⎢                      \n",
       "⎢⎢0     0      0   0 ⎥  ⎢  2                        ⎥  ⎢ 0   0      0      -12\n",
       "⎢⎢                   ⎥  ⎢                           ⎥  ⎢                      \n",
       "⎢⎢                -u ⎥  ⎢  0        0     0     0   ⎥  ⎢ -z          -2⋅z     \n",
       "⎢⎢0     0      0  ───⎥  ⎢                           ⎥  ⎣ℯ    0  -12⋅ℯ       -u\n",
       "⎢⎣                 2 ⎦  ⎢         2  4⋅z            ⎥                         \n",
       "⎣                       ⎣  0     u ⋅ℯ     0     0   ⎦                         \n",
       "\n",
       "                                   ⎤\n",
       "         ⎡                       u⎤⎥\n",
       " -z   ⎤  ⎢0     0         0      ─⎥⎥\n",
       "ℯ     ⎥  ⎢                       2⎥⎥\n",
       "      ⎥  ⎢                        ⎥⎥\n",
       " 0    ⎥  ⎢     2  4⋅z             ⎥⎥\n",
       "      ⎥  ⎢0  -u ⋅ℯ        0      0⎥⎥\n",
       "  -2⋅z⎥  ⎢                        ⎥⎥\n",
       "⋅ℯ    ⎥  ⎢                 -2⋅z   ⎥⎥\n",
       "      ⎥  ⎢0     0      12⋅ℯ      0⎥⎥\n",
       "  -z  ⎥  ⎢                        ⎥⎥\n",
       "⋅ℯ    ⎦  ⎢u                       ⎥⎥\n",
       "         ⎢─     0         0      0⎥⎥\n",
       "         ⎣2                       ⎦⎦"
      ]
     },
     "metadata": {},
     "output_type": "display_data"
    },
    {
     "data": {
      "text/latex": [
       "$\\displaystyle \\left[\\begin{matrix}\\left[\\begin{matrix}0 & 0 & 0 & 0\\\\0 & 3 u e^{4 z} & 0 & 0\\\\0 & 0 & \\frac{24 e^{- 2 z}}{u} & 12 e^{- z}\\\\0 & 0 & 12 e^{- z} & 6 u\\end{matrix}\\right] & \\left[\\begin{matrix}0 & \\frac{1}{u} & 0 & 0\\\\\\frac{1}{u} & 0 & 0 & 2\\\\0 & 0 & 0 & 0\\\\0 & 2 & 0 & 0\\end{matrix}\\right] & \\left[\\begin{matrix}0 & 0 & 0 & 0\\\\0 & \\frac{u e^{5 z}}{2} & 0 & 0\\\\0 & 0 & 0 & 0\\\\0 & 0 & 0 & \\frac{u e^{z}}{2}\\end{matrix}\\right] & \\left[\\begin{matrix}0 & 0 & 0 & \\frac{1}{u}\\\\0 & - 3 e^{4 z} & 0 & 0\\\\0 & 0 & \\frac{24 e^{- 2 z}}{u^{2}} & 0\\\\\\frac{1}{u} & 0 & 0 & -1\\end{matrix}\\right]\\end{matrix}\\right]$"
      ],
      "text/plain": [
       "⎡                                                                     ⎡       \n",
       "⎢                                                                     ⎢0     0\n",
       "⎢⎡0     0         0        0   ⎤                ⎡0    0     0   0  ⎤  ⎢       \n",
       "⎢⎢                             ⎥  ⎡   1      ⎤  ⎢                  ⎥  ⎢       \n",
       "⎢⎢        4⋅z                  ⎥  ⎢0  ─  0  0⎥  ⎢      5⋅z         ⎥  ⎢       \n",
       "⎢⎢0  3⋅u⋅ℯ        0        0   ⎥  ⎢   u      ⎥  ⎢   u⋅ℯ            ⎥  ⎢0  -3⋅ℯ\n",
       "⎢⎢                             ⎥  ⎢          ⎥  ⎢0  ──────  0   0  ⎥  ⎢       \n",
       "⎢⎢                 -2⋅z        ⎥  ⎢1         ⎥  ⎢     2            ⎥  ⎢       \n",
       "⎢⎢             24⋅ℯ          -z⎥  ⎢─  0  0  2⎥  ⎢                  ⎥  ⎢       \n",
       "⎢⎢0     0      ────────  12⋅ℯ  ⎥  ⎢u         ⎥  ⎢0    0     0   0  ⎥  ⎢0     0\n",
       "⎢⎢                u            ⎥  ⎢          ⎥  ⎢                  ⎥  ⎢       \n",
       "⎢⎢                             ⎥  ⎢0  0  0  0⎥  ⎢                 z⎥  ⎢       \n",
       "⎢⎢                  -z         ⎥  ⎢          ⎥  ⎢              u⋅ℯ ⎥  ⎢       \n",
       "⎢⎣0     0       12⋅ℯ      6⋅u  ⎦  ⎣0  2  0  0⎦  ⎢0    0     0  ────⎥  ⎢1      \n",
       "⎢                                               ⎣               2  ⎦  ⎢─     0\n",
       "⎣                                                                     ⎣u      \n",
       "\n",
       "               1 ⎤⎤\n",
       "        0      ─ ⎥⎥\n",
       "               u ⎥⎥\n",
       "                 ⎥⎥\n",
       "4⋅z              ⎥⎥\n",
       "        0      0 ⎥⎥\n",
       "                 ⎥⎥\n",
       "         -2⋅z    ⎥⎥\n",
       "     24⋅ℯ        ⎥⎥\n",
       "     ────────  0 ⎥⎥\n",
       "         2       ⎥⎥\n",
       "        u        ⎥⎥\n",
       "                 ⎥⎥\n",
       "                 ⎥⎥\n",
       "        0      -1⎥⎥\n",
       "                 ⎦⎦"
      ]
     },
     "metadata": {},
     "output_type": "display_data"
    }
   ],
   "source": [
    "show_christoffel_symbols(g4)"
   ]
  },
  {
   "cell_type": "markdown",
   "metadata": {},
   "source": [
    "## Schwarzschild Metric"
   ]
  },
  {
   "cell_type": "code",
   "execution_count": 15,
   "metadata": {},
   "outputs": [],
   "source": [
    "G, M, c = symbols('G M c')\n",
    "coords = (x0, x1, x2, x3) = symbols(\"t r theta phi\")\n",
    "g = Matrix([    \n",
    "        [ (1-(2*G*M)/(x1*c**2)), 0, 0, 0 ], \n",
    "        [ 0, - (1-(2*G*M)/(x1*c**2))**(-1), 0, 0 ], \n",
    "        [ 0, 0, - x1**2, 0 ], \n",
    "        [ 0, 0, 0, - x1**2*sin(x2)**2 ]\n",
    "    ])\n",
    "schwarzschild = Ga('e', g=g, coords=coords, norm=False)"
   ]
  },
  {
   "cell_type": "code",
   "execution_count": 16,
   "metadata": {},
   "outputs": [
    {
     "data": {
      "text/latex": [
       "$$ \\T{Schwarzschild Basis:} [\\boldsymbol{e}_{t}, \\boldsymbol{e}_{r}, \\boldsymbol{e}_{\\theta }, \\boldsymbol{e}_{\\phi }]  $$"
      ],
      "text/plain": [
       "<IPython.core.display.Latex object>"
      ]
     },
     "metadata": {},
     "output_type": "display_data"
    },
    {
     "data": {
      "text/latex": [
       "$$ \\T{Schwarzschild Metric:} g =  \\left [ \\begin{array}{cccc} - \\frac{2 G M}{c^{2} r} + 1 & 0 & 0 & 0  \\\\ 0 & - \\frac{1}{- \\frac{2 G M}{c^{2} r} + 1} & 0 & 0  \\\\ 0 & 0 & - r^{2} & 0  \\\\ 0 & 0 & 0 & - r^{2} {\\sin{\\left (\\theta  \\right )}}^{2}  \\end{array}\\right ]   $$"
      ],
      "text/plain": [
       "<IPython.core.display.Latex object>"
      ]
     },
     "metadata": {},
     "output_type": "display_data"
    },
    {
     "data": {
      "text/latex": [
       "$$ det(g) = - r^{4} {\\sin{\\left (\\theta  \\right )}}^{2}  $$"
      ],
      "text/plain": [
       "<IPython.core.display.Latex object>"
      ]
     },
     "metadata": {},
     "output_type": "display_data"
    },
    {
     "data": {
      "text/latex": [
       "$$ gg^{-1} = Matrix([[1, 0, 0, 0], [0, 1, 0, 0], [0, 0, 1, 0], [0, 0, 0, 1]])  $$"
      ],
      "text/plain": [
       "<IPython.core.display.Latex object>"
      ]
     },
     "metadata": {},
     "output_type": "display_data"
    },
    {
     "data": {
      "text/latex": [
       "$$ \\T{Christ Awful Symbols:}  $$"
      ],
      "text/plain": [
       "<IPython.core.display.Latex object>"
      ]
     },
     "metadata": {},
     "output_type": "display_data"
    },
    {
     "data": {
      "text/latex": [
       "$\\displaystyle \\left[\\begin{matrix}\\left[\\begin{matrix}0 & \\frac{G M}{c^{2} r^{2}} & 0 & 0\\\\\\frac{G M}{c^{2} r^{2}} & 0 & 0 & 0\\\\0 & 0 & 0 & 0\\\\0 & 0 & 0 & 0\\end{matrix}\\right] & \\left[\\begin{matrix}- \\frac{G M}{c^{2} r^{2}} & 0 & 0 & 0\\\\0 & \\frac{G M c^{2}}{4 G^{2} M^{2} + c^{2} r \\left(- 4 G M + c^{2} r\\right)} & 0 & 0\\\\0 & 0 & r & 0\\\\0 & 0 & 0 & r \\sin^{2}{\\left(\\theta \\right)}\\end{matrix}\\right] & \\left[\\begin{matrix}0 & 0 & 0 & 0\\\\0 & 0 & - r & 0\\\\0 & - r & 0 & 0\\\\0 & 0 & 0 & \\frac{r^{2} \\sin{\\left(2 \\theta \\right)}}{2}\\end{matrix}\\right] & \\left[\\begin{matrix}0 & 0 & 0 & 0\\\\0 & 0 & 0 & - r \\sin^{2}{\\left(\\theta \\right)}\\\\0 & 0 & 0 & - \\frac{r^{2} \\sin{\\left(2 \\theta \\right)}}{2}\\\\0 & - r \\sin^{2}{\\left(\\theta \\right)} & - \\frac{r^{2} \\sin{\\left(2 \\theta \\right)}}{2} & 0\\end{matrix}\\right]\\end{matrix}\\right]$"
      ],
      "text/plain": [
       "⎡                      ⎡-G⋅M                                               ⎤  \n",
       "⎢⎡        G⋅M       ⎤  ⎢─────                0                 0      0    ⎥  \n",
       "⎢⎢  0    ─────  0  0⎥  ⎢ 2  2                                              ⎥  \n",
       "⎢⎢        2  2      ⎥  ⎢c ⋅r                                               ⎥  \n",
       "⎢⎢       c ⋅r       ⎥  ⎢                                                   ⎥  \n",
       "⎢⎢                  ⎥  ⎢                        2                          ⎥  \n",
       "⎢⎢ G⋅M              ⎥  ⎢                   G⋅M⋅c                           ⎥  \n",
       "⎢⎢─────    0    0  0⎥  ⎢  0    ──────────────────────────────  0      0    ⎥  \n",
       "⎢⎢ 2  2             ⎥  ⎢          2  2    2   ⎛          2  ⎞              ⎥  \n",
       "⎢⎢c ⋅r              ⎥  ⎢       4⋅G ⋅M  + c ⋅r⋅⎝-4⋅G⋅M + c ⋅r⎠              ⎥  \n",
       "⎢⎢                  ⎥  ⎢                                                   ⎥  \n",
       "⎢⎢  0      0    0  0⎥  ⎢  0                  0                 r      0    ⎥  \n",
       "⎢⎢                  ⎥  ⎢                                                   ⎥  \n",
       "⎢⎣  0      0    0  0⎦  ⎢                                               2   ⎥  \n",
       "⎣                      ⎣  0                  0                 0  r⋅sin (θ)⎦  \n",
       "\n",
       "                          ⎡0      0             0              0      ⎤⎤\n",
       "                          ⎢                                           ⎥⎥\n",
       "⎡0  0   0        0     ⎤  ⎢                                     2     ⎥⎥\n",
       "⎢                      ⎥  ⎢0      0             0         -r⋅sin (θ)  ⎥⎥\n",
       "⎢0  0   -r       0     ⎥  ⎢                                           ⎥⎥\n",
       "⎢                      ⎥  ⎢                                2          ⎥⎥\n",
       "⎢0  -r  0        0     ⎥  ⎢                              -r ⋅sin(2⋅θ) ⎥⎥\n",
       "⎢                      ⎥  ⎢0      0             0        ─────────────⎥⎥\n",
       "⎢            2         ⎥  ⎢                                    2      ⎥⎥\n",
       "⎢           r ⋅sin(2⋅θ)⎥  ⎢                                           ⎥⎥\n",
       "⎢0  0   0   ───────────⎥  ⎢                 2                         ⎥⎥\n",
       "⎣                2     ⎦  ⎢         2     -r ⋅sin(2⋅θ)                ⎥⎥\n",
       "                          ⎢0  -r⋅sin (θ)  ─────────────        0      ⎥⎥\n",
       "                          ⎣                     2                     ⎦⎥\n",
       "                                                                       ⎦"
      ]
     },
     "metadata": {},
     "output_type": "display_data"
    },
    {
     "data": {
      "text/latex": [
       "$\\displaystyle \\left[\\begin{matrix}\\left[\\begin{matrix}0 & \\frac{G M}{r \\left(- 2 G M + c^{2} r\\right)} & 0 & 0\\\\\\frac{G M}{r \\left(- 2 G M + c^{2} r\\right)} & 0 & 0 & 0\\\\0 & 0 & 0 & 0\\\\0 & 0 & 0 & 0\\end{matrix}\\right] & \\left[\\begin{matrix}\\frac{G M \\left(- 2 G M + c^{2} r\\right)}{c^{4} r^{3}} & 0 & 0 & 0\\\\0 & \\frac{G M}{r \\left(2 G M - c^{2} r\\right)} & 0 & 0\\\\0 & 0 & \\frac{2 G M}{c^{2}} - r & 0\\\\0 & 0 & 0 & \\frac{\\left(2 G M - c^{2} r\\right) \\sin^{2}{\\left(\\theta \\right)}}{c^{2}}\\end{matrix}\\right] & \\left[\\begin{matrix}0 & 0 & 0 & 0\\\\0 & 0 & \\frac{1}{r} & 0\\\\0 & \\frac{1}{r} & 0 & 0\\\\0 & 0 & 0 & - \\frac{\\sin{\\left(2 \\theta \\right)}}{2}\\end{matrix}\\right] & \\left[\\begin{matrix}0 & 0 & 0 & 0\\\\0 & 0 & 0 & \\frac{1}{r}\\\\0 & 0 & 0 & \\frac{1}{\\tan{\\left(\\theta \\right)}}\\\\0 & \\frac{1}{r} & \\frac{1}{\\tan{\\left(\\theta \\right)}} & 0\\end{matrix}\\right]\\end{matrix}\\right]$"
      ],
      "text/plain": [
       "⎡                                              ⎡    ⎛          2  ⎞           \n",
       "⎢                                              ⎢G⋅M⋅⎝-2⋅G⋅M + c ⋅r⎠           \n",
       "⎢                                              ⎢───────────────────         0 \n",
       "⎢                                              ⎢        4  3                  \n",
       "⎢⎡                          G⋅M             ⎤  ⎢       c ⋅r                   \n",
       "⎢⎢        0          ─────────────────  0  0⎥  ⎢                              \n",
       "⎢⎢                     ⎛          2  ⎞      ⎥  ⎢                           G⋅M\n",
       "⎢⎢                   r⋅⎝-2⋅G⋅M + c ⋅r⎠      ⎥  ⎢         0           ─────────\n",
       "⎢⎢                                          ⎥  ⎢                       ⎛      \n",
       "⎢⎢       G⋅M                                ⎥  ⎢                     r⋅⎝2⋅G⋅M \n",
       "⎢⎢─────────────────          0          0  0⎥  ⎢                              \n",
       "⎢⎢  ⎛          2  ⎞                         ⎥  ⎢                              \n",
       "⎢⎢r⋅⎝-2⋅G⋅M + c ⋅r⎠                         ⎥  ⎢         0                  0 \n",
       "⎢⎢                                          ⎥  ⎢                              \n",
       "⎢⎢        0                  0          0  0⎥  ⎢                              \n",
       "⎢⎢                                          ⎥  ⎢                              \n",
       "⎢⎣        0                  0          0  0⎦  ⎢                              \n",
       "⎢                                              ⎢                              \n",
       "⎢                                              ⎢         0                  0 \n",
       "⎢                                              ⎢                              \n",
       "⎣                                              ⎣                              \n",
       "\n",
       "                                          ⎤                                   \n",
       "                                          ⎥                                   \n",
       "             0                0           ⎥                                   \n",
       "                                          ⎥                                   \n",
       "                                          ⎥  ⎡0  0  0      0     ⎤  ⎡0  0    0\n",
       "                                          ⎥  ⎢                   ⎥  ⎢         \n",
       "                                          ⎥  ⎢      1            ⎥  ⎢         \n",
       "───────      0                0           ⎥  ⎢0  0  ─      0     ⎥  ⎢0  0    0\n",
       "   2  ⎞                                   ⎥  ⎢      r            ⎥  ⎢         \n",
       "- c ⋅r⎠                                   ⎥  ⎢                   ⎥  ⎢         \n",
       "                                          ⎥  ⎢   1               ⎥  ⎢         \n",
       "         2⋅G⋅M                            ⎥  ⎢0  ─  0      0     ⎥  ⎢0  0    0\n",
       "         ───── - r            0           ⎥  ⎢   r               ⎥  ⎢         \n",
       "            2                             ⎥  ⎢                   ⎥  ⎢         \n",
       "           c                              ⎥  ⎢         -sin(2⋅θ) ⎥  ⎢   1    1\n",
       "                                          ⎥  ⎢0  0  0  ──────────⎥  ⎢0  ─  ───\n",
       "                    ⎛         2  ⎞    2   ⎥  ⎣             2     ⎦  ⎣   r  tan\n",
       "                    ⎝2⋅G⋅M - c ⋅r⎠⋅sin (θ)⎥                                   \n",
       "             0      ──────────────────────⎥                                   \n",
       "                               2          ⎥                                   \n",
       "                              c           ⎦                                   \n",
       "\n",
       "            ⎤\n",
       "            ⎥\n",
       "            ⎥\n",
       "            ⎥\n",
       "       0   ⎤⎥\n",
       "           ⎥⎥\n",
       "       1   ⎥⎥\n",
       "       ─   ⎥⎥\n",
       "       r   ⎥⎥\n",
       "           ⎥⎥\n",
       "       1   ⎥⎥\n",
       "     ──────⎥⎥\n",
       "     tan(θ)⎥⎥\n",
       "           ⎥⎥\n",
       "           ⎥⎥\n",
       "───    0   ⎥⎥\n",
       "(θ)        ⎦⎥\n",
       "            ⎥\n",
       "            ⎥\n",
       "            ⎥\n",
       "            ⎦"
      ]
     },
     "metadata": {},
     "output_type": "display_data"
    }
   ],
   "source": [
    "# NBVAL_IGNORE_OUTPUT\n",
    "print(r'\\T{Schwarzschild Basis:}', schwarzschild.basis)\n",
    "print(r'\\T{Schwarzschild Metric:} g =', schwarzschild.g)\n",
    "print(r'det(g) =',schwarzschild.e_sq)\n",
    "print(r'gg^{-1} =', gg(schwarzschild))\n",
    "print(r'\\T{Christ Awful Symbols:}')\n",
    "show_christoffel_symbols(schwarzschild)"
   ]
  }
 ],
 "metadata": {
  "kernelspec": {
   "display_name": "Python 3",
   "language": "python",
   "name": "python3"
  },
  "language_info": {
   "codemirror_mode": {
    "name": "ipython",
    "version": 3
   },
   "file_extension": ".py",
   "mimetype": "text/x-python",
   "name": "python",
   "nbconvert_exporter": "python",
   "pygments_lexer": "ipython3",
   "version": "3.6.8"
  }
 },
 "nbformat": 4,
 "nbformat_minor": 2
}
