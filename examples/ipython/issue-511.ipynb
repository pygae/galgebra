{
 "cells": [
  {
   "cell_type": "code",
   "execution_count": 1,
   "id": "c037437a-5863-4af2-82fb-3f715a984ad0",
   "metadata": {},
   "outputs": [
    {
     "data": {
      "text/plain": [
       "(e_0, e_0)"
      ]
     },
     "execution_count": 1,
     "metadata": {},
     "output_type": "execute_result"
    }
   ],
   "source": [
    "from galgebra.ga import Ga\n",
    "import sympy as S\n",
    "\n",
    "ga = Ga('e', g=[1,1,1], coords=S.symbols(f\"0:{3}\", real=True), wedge=False)\n",
    "ex,ey,ez = ga.mv()\n",
    "ex**-1, ga.mv(1)/ex"
   ]
  },
  {
   "cell_type": "code",
   "execution_count": 2,
   "id": "ea2d702a-dd04-4f5c-8794-1efefc8e7ee9",
   "metadata": {},
   "outputs": [
    {
     "data": {
      "text/latex": [
       "$\\displaystyle \\frac{1}{8} \\mathbf{e}_{0}$"
      ],
      "text/plain": [
       "e_0/8"
      ]
     },
     "execution_count": 2,
     "metadata": {},
     "output_type": "execute_result"
    }
   ],
   "source": [
    "(2*ex)**-3"
   ]
  },
  {
   "cell_type": "code",
   "execution_count": 3,
   "id": "09faf76e-f43c-4023-be91-3f2460de0456",
   "metadata": {},
   "outputs": [
    {
     "data": {
      "text/latex": [
       "$\\displaystyle \\frac{1}{65536}$"
      ],
      "text/plain": [
       "1/65536"
      ]
     },
     "execution_count": 3,
     "metadata": {},
     "output_type": "execute_result"
    }
   ],
   "source": [
    "(2*ex)**-16"
   ]
  },
  {
   "cell_type": "code",
   "execution_count": 4,
   "id": "91e20a05-ba7d-48cd-8916-d7460fb99e87",
   "metadata": {},
   "outputs": [
    {
     "data": {
      "text/plain": [
       "(2*e_0/29 + 3*e_1/29 + 4*e_2/29, 2*e_0/841 + 3*e_1/841 + 4*e_2/841)"
      ]
     },
     "execution_count": 4,
     "metadata": {},
     "output_type": "execute_result"
    }
   ],
   "source": [
    "((2*ex + 3*ey + 4*ez).inv(), (2*ex + 3*ey + 4*ez)**-3)"
   ]
  },
  {
   "cell_type": "code",
   "execution_count": 5,
   "id": "bdf6ce81-ab58-4e3b-aa72-6cd320e6062d",
   "metadata": {},
   "outputs": [
    {
     "data": {
      "text/latex": [
       "$\\displaystyle \\frac{1}{841}$"
      ],
      "text/plain": [
       "1/841"
      ]
     },
     "execution_count": 5,
     "metadata": {},
     "output_type": "execute_result"
    }
   ],
   "source": [
    "(2*ex + 3*ey + 4*ez).inv() * (2*ex + 3*ey + 4*ez)**-3"
   ]
  },
  {
   "cell_type": "code",
   "execution_count": 6,
   "id": "2a557448-ac80-4b1c-87a0-0d25d731953c",
   "metadata": {},
   "outputs": [
    {
     "data": {
      "text/latex": [
       "$\\displaystyle 1$"
      ],
      "text/plain": [
       "1"
      ]
     },
     "execution_count": 6,
     "metadata": {},
     "output_type": "execute_result"
    }
   ],
   "source": [
    "((2*ex + 3*ey + 4*ez)**3) * (2*ex + 3*ey + 4*ez)**-3"
   ]
  },
  {
   "cell_type": "code",
   "execution_count": 7,
   "id": "fd88f171-7f74-4112-9123-e986d8d92d76",
   "metadata": {},
   "outputs": [
    {
     "data": {
      "text/latex": [
       "$\\displaystyle 1$"
      ],
      "text/plain": [
       "1"
      ]
     },
     "execution_count": 7,
     "metadata": {},
     "output_type": "execute_result"
    }
   ],
   "source": [
    "(2*ex + 3*ey + 4*ez)**-3 * ((2*ex + 3*ey + 4*ez)**3)"
   ]
  },
  {
   "cell_type": "code",
   "execution_count": null,
   "id": "47ca185d-a790-4ba9-9c45-265572e6675d",
   "metadata": {},
   "outputs": [],
   "source": []
  }
 ],
 "metadata": {
  "kernelspec": {
   "display_name": "Python 3 (ipykernel)",
   "language": "python",
   "name": "python3"
  },
  "language_info": {
   "codemirror_mode": {
    "name": "ipython",
    "version": 3
   },
   "file_extension": ".py",
   "mimetype": "text/x-python",
   "name": "python",
   "nbconvert_exporter": "python",
   "pygments_lexer": "ipython3",
   "version": "3.9.18"
  }
 },
 "nbformat": 4,
 "nbformat_minor": 5
}
