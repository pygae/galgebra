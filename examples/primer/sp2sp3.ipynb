{
 "cells": [
  {
   "cell_type": "code",
   "execution_count": null,
   "metadata": {},
   "outputs": [],
   "source": [
    "# A geometric algebra for the unit sphere in R^3 \n",
    "# as a submanifold of R^3 with spherical coordintes.\n",
    "\n",
    "# Make SymPy available to this program:\n",
    "import sympy \n",
    "from sympy import *\n",
    "\n",
    "# Make GAlgebra available to this program:\n",
    "from galgebra.ga import *  \n",
    "from galgebra.mv import *\n",
    "from galgebra.printer import Fmt, GaPrinter, Format\n",
    "    # Fmt:       sets the way that a multivector's basis expansion is output.\n",
    "    # GaPrinter: makes GA output a little more readable.\n",
    "    # Format:    turns on latex printer.\n",
    "from galgebra.gprinter import gFormat, gprint\n",
    "gFormat()"
   ]
  },
  {
   "cell_type": "code",
   "execution_count": null,
   "metadata": {},
   "outputs": [],
   "source": [
    "# A geometric algebra for the unit sphere in R^3 \n",
    "# as a submanifold of R^3 with spherical coordintes.\n",
    "\n",
    "# sp3: Base manifold\n",
    "sp3coords = (r, phi, theta) = symbols('r phi theta', real=True) \n",
    "sp3 = Ga('e', g=None, coords=sp3coords, \\\n",
    "    X=[r*sin(phi)*cos(theta), r*sin(phi)*sin(theta), r*cos(phi)], norm=True)\n",
    "(er, ephi, etheta) = sp3.mv()\n",
    "\n",
    "# sp2: Submanifold\n",
    "sp2coords = (p,t) = symbols('phi theta', real=True) # they output as Greek phi and theta\n",
    "  # Parameterize the unit sphere using the spherical coordinates of sp3:\n",
    "sp2param = [1, p, t] \n",
    "  # Map the sp3 coordinates of the sphere to its sp2 coordinates:\n",
    "sp2 = sp3.sm(sp2param, sp2coords, norm=True)\n",
    "\n",
    "(ep, et) = sp2.mv()\n",
    "(rp, rt) = sp2.mvr()\n",
    "\n",
    "# Derivatives\n",
    "grad  = sp2.grad\n",
    "from galgebra.dop import *\n",
    "pdph = Pdop(p)\n",
    "pdth = Pdop(t)"
   ]
  },
  {
   "cell_type": "code",
   "execution_count": null,
   "metadata": {},
   "outputs": [],
   "source": [
    "gprint(grad) "
   ]
  },
  {
   "cell_type": "code",
   "execution_count": null,
   "metadata": {},
   "outputs": [],
   "source": []
  }
 ],
 "metadata": {
  "kernelspec": {
   "display_name": "Python 3",
   "language": "python",
   "name": "python3"
  },
  "language_info": {
   "codemirror_mode": {
    "name": "ipython",
    "version": 3
   },
   "file_extension": ".py",
   "mimetype": "text/x-python",
   "name": "python",
   "nbconvert_exporter": "python",
   "pygments_lexer": "ipython3",
   "version": "3.8.5"
  }
 },
 "nbformat": 4,
 "nbformat_minor": 4
}
