{
 "cells": [
  {
   "cell_type": "code",
   "execution_count": 1,
   "metadata": {},
   "outputs": [
    {
     "data": {
      "text/latex": [
       "$\\displaystyle \\DeclareMathOperator{\\Tr}{Tr}$$\n",
       "$$\\DeclareMathOperator{\\Adj}{Adj}$$\n",
       "$$\\newcommand{\\bfrac}[2]{\\displaystyle\\frac{#1}{#2}}$$\n",
       "$$\\newcommand{\\lp}{\\left (}$$\n",
       "$$\\newcommand{\\rp}{\\right )}$$\n",
       "$$\\newcommand{\\paren}[1]{\\lp {#1} \\rp}$$\n",
       "$$\\newcommand{\\half}{\\frac{1}{2}}$$\n",
       "$$\\newcommand{\\llt}{\\left <}$$\n",
       "$$\\newcommand{\\rgt}{\\right >}$$\n",
       "$$\\newcommand{\\abs}[1]{\\left |{#1}\\right | }$$\n",
       "$$\\newcommand{\\pdiff}[2]{\\bfrac{\\partial {#1}}{\\partial {#2}}}$$\n",
       "$$\\newcommand{\\npdiff}[3]{\\bfrac{\\partial^{#3} {#1}}{\\partial {#2}^{#3}}}$$\n",
       "$$\\newcommand{\\lbrc}{\\left \\{}$$\n",
       "$$\\newcommand{\\rbrc}{\\right \\}}$$\n",
       "$$\\newcommand{\\W}{\\wedge}$$\n",
       "$$\\newcommand{\\prm}[1]{{#1}^{\\prime}}$$\n",
       "$$\\newcommand{\\ddt}[1]{\\bfrac{d{#1}}{dt}}$$\n",
       "$$\\newcommand{\\R}{\\dagger}$$\n",
       "$$\\newcommand{\\deriv}[3]{\\bfrac{d^{#3}#1}{d{#2}^{#3}}}$$\n",
       "$$\\newcommand{\\grade}[2]{\\left < {#1} \\right >_{#2}}$$\n",
       "$$\\newcommand{\\f}[2]{{#1}\\lp {#2} \\rp}$$\n",
       "$$\\newcommand{\\eval}[2]{\\left . {#1} \\right |_{#2}}$$\n",
       "$$\\newcommand{\\bs}[1]{\\boldsymbol{#1}}$$\n",
       "$$\\newcommand{\\grad}{\\bs{\\nabla}}$"
      ],
      "text/plain": [
       "<IPython.core.display.Math object>"
      ]
     },
     "metadata": {},
     "output_type": "display_data"
    }
   ],
   "source": [
    "# A geometric algebra for the unit sphere in R^3 \n",
    "# as a submanifold of R^3 with spherical coordintes.\n",
    "\n",
    "# Make SymPy available to this program:\n",
    "import sympy \n",
    "from sympy import *\n",
    "\n",
    "# Make GAlgebra available to this program:\n",
    "from galgebra.ga import *  \n",
    "from galgebra.mv import *\n",
    "from galgebra.printer import Fmt, GaPrinter, Format\n",
    "    # Fmt:       sets the way that a multivector's basis expansion is output.\n",
    "    # GaPrinter: makes GA output a little more readable.\n",
    "    # Format:    turns on latex printer.\n",
    "from galgebra.gprinter import gFormat, gprint\n",
    "gFormat()"
   ]
  },
  {
   "cell_type": "code",
   "execution_count": 2,
   "metadata": {},
   "outputs": [],
   "source": [
    "# A geometric algebra for the unit sphere in R^3 \n",
    "# as a submanifold of R^3 with spherical coordintes.\n",
    "\n",
    "# sp3: Base manifold\n",
    "sp3coords = (r, phi, theta) = symbols('r phi theta', real=True) \n",
    "sp3 = Ga('e', g=None, coords=sp3coords, \\\n",
    "    X=[r*sin(phi)*cos(theta), r*sin(phi)*sin(theta), r*cos(phi)], norm=True)\n",
    "(er, ephi, etheta) = sp3.mv()\n",
    "\n",
    "# sp2: Submanifold\n",
    "sp2coords = (p,t) = symbols('phi theta', real=True) # they output as Greek phi and theta\n",
    "  # Parameterize the unit sphere using the spherical coordinates of sp3:\n",
    "sp2param = [1, p, t] \n",
    "  # Map the sp3 coordinates of the sphere to its sp2 coordinates:\n",
    "sp2 = sp3.sm(sp2param, sp2coords, norm=True)\n",
    "\n",
    "(ep, et) = sp2.mv()\n",
    "(rp, rt) = sp2.mvr()\n",
    "\n",
    "# Derivatives\n",
    "grad  = sp2.grad\n",
    "from galgebra.dop import *\n",
    "pdph = Pdop(p)\n",
    "pdth = Pdop(t)"
   ]
  },
  {
   "cell_type": "code",
   "execution_count": 3,
   "metadata": {},
   "outputs": [
    {
     "data": {
      "text/latex": [
       "$\\displaystyle  \\boldsymbol{e}_{\\phi } \\frac{\\partial}{\\partial \\phi } + \\boldsymbol{e}_{\\theta } \\frac{1}{\\sin{\\left (\\phi  \\right )}} \\frac{\\partial}{\\partial \\theta } $"
      ],
      "text/plain": [
       "<IPython.core.display.Math object>"
      ]
     },
     "metadata": {},
     "output_type": "display_data"
    }
   ],
   "source": [
    "gprint(grad) "
   ]
  },
  {
   "cell_type": "code",
   "execution_count": null,
   "metadata": {},
   "outputs": [],
   "source": []
  }
 ],
 "metadata": {
  "kernelspec": {
   "display_name": "Python 3 (ipykernel)",
   "language": "python",
   "name": "python3"
  },
  "language_info": {
   "codemirror_mode": {
    "name": "ipython",
    "version": 3
   },
   "file_extension": ".py",
   "mimetype": "text/x-python",
   "name": "python",
   "nbconvert_exporter": "python",
   "pygments_lexer": "ipython3",
   "version": "3.11.8"
  }
 },
 "nbformat": 4,
 "nbformat_minor": 4
}
