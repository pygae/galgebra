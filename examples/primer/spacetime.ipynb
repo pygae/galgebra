{
 "cells": [
  {
   "cell_type": "code",
   "execution_count": 1,
   "metadata": {},
   "outputs": [
    {
     "data": {
      "text/latex": [
       "$\\displaystyle \\DeclareMathOperator{\\Tr}{Tr}$$\n",
       "$$\\DeclareMathOperator{\\Adj}{Adj}$$\n",
       "$$\\newcommand{\\bfrac}[2]{\\displaystyle\\frac{#1}{#2}}$$\n",
       "$$\\newcommand{\\lp}{\\left (}$$\n",
       "$$\\newcommand{\\rp}{\\right )}$$\n",
       "$$\\newcommand{\\paren}[1]{\\lp {#1} \\rp}$$\n",
       "$$\\newcommand{\\half}{\\frac{1}{2}}$$\n",
       "$$\\newcommand{\\llt}{\\left <}$$\n",
       "$$\\newcommand{\\rgt}{\\right >}$$\n",
       "$$\\newcommand{\\abs}[1]{\\left |{#1}\\right | }$$\n",
       "$$\\newcommand{\\pdiff}[2]{\\bfrac{\\partial {#1}}{\\partial {#2}}}$$\n",
       "$$\\newcommand{\\npdiff}[3]{\\bfrac{\\partial^{#3} {#1}}{\\partial {#2}^{#3}}}$$\n",
       "$$\\newcommand{\\lbrc}{\\left \\{}$$\n",
       "$$\\newcommand{\\rbrc}{\\right \\}}$$\n",
       "$$\\newcommand{\\W}{\\wedge}$$\n",
       "$$\\newcommand{\\prm}[1]{{#1}^{\\prime}}$$\n",
       "$$\\newcommand{\\ddt}[1]{\\bfrac{d{#1}}{dt}}$$\n",
       "$$\\newcommand{\\R}{\\dagger}$$\n",
       "$$\\newcommand{\\deriv}[3]{\\bfrac{d^{#3}#1}{d{#2}^{#3}}}$$\n",
       "$$\\newcommand{\\grade}[2]{\\left < {#1} \\right >_{#2}}$$\n",
       "$$\\newcommand{\\f}[2]{{#1}\\lp {#2} \\rp}$$\n",
       "$$\\newcommand{\\eval}[2]{\\left . {#1} \\right |_{#2}}$$\n",
       "$$\\newcommand{\\bs}[1]{\\boldsymbol{#1}}$$\n",
       "$$\\newcommand{\\grad}{\\bs{\\nabla}}$"
      ],
      "text/plain": [
       "<IPython.core.display.Math object>"
      ]
     },
     "metadata": {},
     "output_type": "display_data"
    }
   ],
   "source": [
    "# Spacetime algebra. [1, -1, -1, -1] signature\n",
    "\n",
    "# Make SymPy available to this program:\n",
    "import sympy \n",
    "from sympy import *\n",
    "\n",
    "# Make GAlgebra available to this program:\n",
    "from galgebra.ga import *  \n",
    "from galgebra.mv import *\n",
    "from galgebra.printer import Fmt, GaPrinter, Format\n",
    "    # Fmt:       sets the way that a multivector's basis expansion is output.\n",
    "    # GaPrinter: makes GA output a little more readable.\n",
    "    # Format:    turns on latex printer.\n",
    "from galgebra.gprinter import gFormat, gprint\n",
    "gFormat()"
   ]
  },
  {
   "cell_type": "code",
   "execution_count": 2,
   "metadata": {},
   "outputs": [],
   "source": [
    "txyz = (t, x, y, z) = symbols('t x y z', real=True)\n",
    "stcoords = (t,x,y,z) = symbols('t x y z')\n",
    "st = Ga('\\mathbf{e}', g=[1, -1, -1, -1], coords=stcoords)\n",
    "(et, ex, ey, ez) = st.mv()"
   ]
  },
  {
   "cell_type": "code",
   "execution_count": 3,
   "metadata": {},
   "outputs": [
    {
     "data": {
      "text/latex": [
       "$\\displaystyle X = X^{t} \\mathbf{\\mathbf{e}_t} + X^{x} \\mathbf{\\mathbf{e}_x} + X^{y} \\mathbf{\\mathbf{e}_y} + X^{z} \\mathbf{\\mathbf{e}_z}$"
      ],
      "text/plain": [
       "X__t*\\mathbf{e}_t + X__x*\\mathbf{e}_x + X__y*\\mathbf{e}_y + X__z*\\mathbf{e}_z"
      ]
     },
     "execution_count": 3,
     "metadata": {},
     "output_type": "execute_result"
    }
   ],
   "source": [
    "st.mv('X', 'vector')"
   ]
  },
  {
   "cell_type": "code",
   "execution_count": null,
   "metadata": {},
   "outputs": [],
   "source": []
  }
 ],
 "metadata": {
  "kernelspec": {
   "display_name": "Python 3 (ipykernel)",
   "language": "python",
   "name": "python3"
  },
  "language_info": {
   "codemirror_mode": {
    "name": "ipython",
    "version": 3
   },
   "file_extension": ".py",
   "mimetype": "text/x-python",
   "name": "python",
   "nbconvert_exporter": "python",
   "pygments_lexer": "ipython3",
   "version": "3.11.8"
  }
 },
 "nbformat": 4,
 "nbformat_minor": 4
}
