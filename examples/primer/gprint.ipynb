{
 "cells": [
  {
   "cell_type": "code",
   "execution_count": null,
   "metadata": {},
   "outputs": [],
   "source": [
    "# Make SymPy available to this program:\n",
    "import sympy \n",
    "from sympy import *\n",
    "\n",
    "# Make GAlgebra available to this program:\n",
    "from galgebra.ga import *  \n",
    "from galgebra.mv import *\n",
    "from galgebra.printer import Fmt, GaPrinter, Format\n",
    "    # Fmt:       sets the way that a multivector's basis expansion is output.\n",
    "    # GaPrinter: makes GA output a little more readable.\n",
    "    # Format:    turns on latex printer.\n",
    "from galgebra.gprinter import gFormat, gprint\n",
    "gFormat()"
   ]
  },
  {
   "cell_type": "code",
   "execution_count": null,
   "metadata": {},
   "outputs": [],
   "source": [
    "# Set up standard G^3 geometric algebra\n",
    "g3coords = (x,y,z) = symbols('x y z', real=True) # Without real=True, symbols are complex\n",
    "g3 = Ga('\\mathbf{e}', g=[1,1,1], coords=g3coords)\n",
    "(ex, ey, ez) = g3.mv()     # Program names of basis vectors.\n",
    "(exr, eyr, ezr) = g3.mvr() # Program names of reciprocal basis vectors."
   ]
  },
  {
   "cell_type": "code",
   "execution_count": null,
   "metadata": {},
   "outputs": [],
   "source": [
    "gprint(r'word word\\ word \\cdot ex<ey', r'\\\\ \\text{word word\\ word \\cdot ex<ey)}')\n",
    "    # \\\\ gives a new line. The second string encloses the first in \\text{}."
   ]
  },
  {
   "cell_type": "code",
   "execution_count": null,
   "metadata": {},
   "outputs": [],
   "source": [
    "B = g3.mv('B', 'bivector')\n",
    "Fmt(1)  # Set Fmt globally\n",
    "gprint(r'\\mathbf{B} =', B)         # B will be bold.\n",
    "gprint(r'\\mathbf{B} =', B.Fmt(3))  # Fmt(3) here only.\n",
    "gprint(r'\\mathbf{B} =', B)         # Global Fmt remembered."
   ]
  },
  {
   "cell_type": "code",
   "execution_count": null,
   "metadata": {},
   "outputs": [],
   "source": [
    "gprint(r'\\mathbf{B}^2 =', B*B)"
   ]
  },
  {
   "cell_type": "code",
   "execution_count": null,
   "metadata": {},
   "outputs": [],
   "source": [
    "M = g3.mv('M', 'mv')\n",
    "gprint(r'\\langle \\mathbf{M} \\rangle_2 =', M.grade(2)) \n",
    "   # grade(2) could be replaced by, e.g., odd(), or omitted altogether. "
   ]
  },
  {
   "cell_type": "code",
   "execution_count": null,
   "metadata": {},
   "outputs": [],
   "source": [
    "gprint(r'\\alpha_1\\mathbf{X}/\\gamma_r^3')"
   ]
  },
  {
   "cell_type": "code",
   "execution_count": null,
   "metadata": {},
   "outputs": [],
   "source": [
    "# Program name and output are different\n",
    "theta = symbols('theta', real = True) \n",
    "th = symbols('theta', real = True)  # This will save typing if theta is used a lot.\n",
    "gprint(theta, ', ', th)"
   ]
  },
  {
   "cell_type": "code",
   "execution_count": null,
   "metadata": {},
   "outputs": [],
   "source": [
    "grad = g3.grad"
   ]
  },
  {
   "cell_type": "code",
   "execution_count": null,
   "metadata": {},
   "outputs": [],
   "source": [
    "grad"
   ]
  },
  {
   "cell_type": "code",
   "execution_count": null,
   "metadata": {},
   "outputs": [],
   "source": [
    "gprint(r'{\\nabla}')"
   ]
  },
  {
   "cell_type": "code",
   "execution_count": null,
   "metadata": {},
   "outputs": [],
   "source": []
  }
 ],
 "metadata": {
  "kernelspec": {
   "display_name": "Python 3",
   "language": "python",
   "name": "python3"
  },
  "language_info": {
   "codemirror_mode": {
    "name": "ipython",
    "version": 3
   },
   "file_extension": ".py",
   "mimetype": "text/x-python",
   "name": "python",
   "nbconvert_exporter": "python",
   "pygments_lexer": "ipython3",
   "version": "3.8.5"
  }
 },
 "nbformat": 4,
 "nbformat_minor": 4
}
