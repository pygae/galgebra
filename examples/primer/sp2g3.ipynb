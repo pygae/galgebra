{
 "cells": [
  {
   "cell_type": "code",
   "execution_count": null,
   "metadata": {},
   "outputs": [],
   "source": [
    "# Unit sphere R^3 as a submanifold of g3 in cartesian coordinates\n",
    "\n",
    "# Make SymPy available to this program:\n",
    "import sympy \n",
    "from sympy import *\n",
    "\n",
    "# Make GAlgebra available to this program:\n",
    "from galgebra.ga import *  \n",
    "from galgebra.mv import *\n",
    "from galgebra.printer import Fmt, GaPrinter, Format\n",
    "    # Fmt:       sets the way that a multivector's basis expansion is output.\n",
    "    # GaPrinter: makes GA output a little more readable.\n",
    "    # Format:    turns on latex printer.\n",
    "from galgebra.gprinter import gFormat, gprint\n",
    "gFormat()"
   ]
  },
  {
   "cell_type": "code",
   "execution_count": null,
   "metadata": {},
   "outputs": [],
   "source": [
    "# Unit sphere R^3 as a submanifold of g3 in cartesian coordinates\n",
    "\n",
    "# g3: Base manifold.\n",
    "g3coords = (x,y,z) = symbols('x y z', real=True) \n",
    "g3 = Ga('\\mathbf{e}', g=[1,1,1], coords=g3coords)\n",
    "(ex, ey, ez) = g3.mv()\n",
    "\n",
    "# sp2: Submanifold\n",
    "sp2coords = (phi,th) = symbols('phi theta', real=True)\n",
    "  # Parameterize unit sphere using the coordinates of g3:\n",
    "sp2param = [sin(phi)*cos(th), sin(phi)*sin(th), cos(phi)] \n",
    "  # Map the g3 coordinates of the sphere to its sp2 coordinates:\n",
    "sp2 = g3.sm(sp2param, sp2coords, norm=True)  # \"sm\" is submanifold\n",
    "\n",
    "(ephi, eth) = sp2.mv()\n",
    "(rphi, rth) = sp2.mvr()\n",
    "\n",
    "# Derivatives\n",
    "grad  = sp2.grad\n",
    "from galgebra.dop import *\n",
    "pdphi = Pdop(phi)\n",
    "pdth  = Pdop(th)"
   ]
  },
  {
   "cell_type": "code",
   "execution_count": null,
   "metadata": {},
   "outputs": [],
   "source": [
    "grad = sp2.grad\n",
    "grad"
   ]
  },
  {
   "cell_type": "code",
   "execution_count": null,
   "metadata": {},
   "outputs": [],
   "source": []
  }
 ],
 "metadata": {
  "kernelspec": {
   "display_name": "Python 3",
   "language": "python",
   "name": "python3"
  },
  "language_info": {
   "codemirror_mode": {
    "name": "ipython",
    "version": 3
   },
   "file_extension": ".py",
   "mimetype": "text/x-python",
   "name": "python",
   "nbconvert_exporter": "python",
   "pygments_lexer": "ipython3",
   "version": "3.8.5"
  }
 },
 "nbformat": 4,
 "nbformat_minor": 4
}
