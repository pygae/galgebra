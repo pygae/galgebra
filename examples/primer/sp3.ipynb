{
 "cells": [
  {
   "cell_type": "code",
   "execution_count": null,
   "metadata": {},
   "outputs": [],
   "source": [
    "# sp3: Spherical Coordinates in R^3\n",
    "\n",
    "# Make SymPy available to this program:\n",
    "import sympy \n",
    "from sympy import *\n",
    "\n",
    "# Make GAlgebra available to this program:\n",
    "from galgebra.ga import *  \n",
    "from galgebra.mv import *\n",
    "from galgebra.printer import Fmt, GaPrinter, Format\n",
    "    # Fmt:       sets the way that a multivector's basis expansion is output.\n",
    "    # GaPrinter: makes GA output a little more readable.\n",
    "    # Format:    turns on latex printer.\n",
    "from galgebra.gprinter import gFormat, gprint\n",
    "gFormat()"
   ]
  },
  {
   "cell_type": "code",
   "execution_count": null,
   "metadata": {},
   "outputs": [],
   "source": [
    "# sp3: Geometric algebra for R^3 using spherical coordinates \n",
    "# Mathematics convention: r, phi (colatitude), theta (longitude), in right handed order. \n",
    "\n",
    "sp3coords = (r, phi, theta) = symbols('r phi theta') \n",
    "sp3 = Ga('e', g=None, coords=sp3coords, \\\n",
    "    X=[r*sin(phi)*cos(theta), r*sin(phi)*sin(theta),r*cos(phi)], norm=True)\n",
    "       # g = None. Instead, the spherical coordinate parameterization X is used.\n",
    "       # \"\\\" is Python's line continuation character\n",
    "(er, ephi, etheta) = sp3.mv()\n",
    "\n",
    "grad = sp3.grad\n",
    "from galgebra.dop import *\n",
    "pdr     = Pdop(r)\n",
    "pdphi   = Pdop(phi)\n",
    "pdtheta = Pdop(theta)"
   ]
  },
  {
   "cell_type": "code",
   "execution_count": null,
   "metadata": {},
   "outputs": [],
   "source": [
    "sp3.grad"
   ]
  },
  {
   "cell_type": "code",
   "execution_count": null,
   "metadata": {},
   "outputs": [],
   "source": []
  }
 ],
 "metadata": {
  "kernelspec": {
   "display_name": "Python 3",
   "language": "python",
   "name": "python3"
  },
  "language_info": {
   "codemirror_mode": {
    "name": "ipython",
    "version": 3
   },
   "file_extension": ".py",
   "mimetype": "text/x-python",
   "name": "python",
   "nbconvert_exporter": "python",
   "pygments_lexer": "ipython3",
   "version": "3.8.5"
  }
 },
 "nbformat": 4,
 "nbformat_minor": 4
}
