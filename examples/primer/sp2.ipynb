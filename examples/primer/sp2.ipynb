{
 "cells": [
  {
   "cell_type": "code",
   "execution_count": null,
   "metadata": {},
   "outputs": [],
   "source": [
    "# sp2: Geometric algebra for unit sphere in R^3 using spherical coordinates.\n",
    "# Mathematics coordinate order: (phi,theta)\n",
    "\n",
    "# Make SymPy available to this program:\n",
    "import sympy \n",
    "from sympy import *\n",
    "\n",
    "# Make GAlgebra available to this program:\n",
    "from galgebra.ga import *  \n",
    "from galgebra.mv import *\n",
    "from galgebra.printer import Fmt, GaPrinter, Format\n",
    "    # Fmt:       sets the way that a multivector's basis expansion is output.\n",
    "    # GaPrinter: makes GA output a little more readable.\n",
    "    # Format:    turns on latex printer.\n",
    "from galgebra.gprinter import gFormat, gprint\n",
    "gFormat()"
   ]
  },
  {
   "cell_type": "code",
   "execution_count": null,
   "metadata": {},
   "outputs": [],
   "source": [
    "# sp2: Geometric algebra for unit sphere in R^3 using spherical coordinates.\n",
    "# Mathematics coordinate order: (phi,theta)\n",
    "\n",
    "# Set up sp2\n",
    "basis = 'e_phi e_theta'\n",
    "coords = (phi,th) = symbols('phi theta', real=True)\n",
    "g = [sin(phi)*cos(th), sin(phi)*sin(th), cos(phi)]\n",
    "sp2 = Ga('\\mathbf{e}', g=None , coords=coords, \\\n",
    "        X=[sin(phi)*cos(th), sin(phi)*sin(th), cos(phi)], norm=True)\n",
    "\n",
    "(ephi, eth) = sp2.mv()\n",
    "(rphi, rth) = sp2.mvr()\n",
    "\n",
    "# Derivatives\n",
    "grad    = sp2.grad\n",
    "# from galgebra.dop import *\n",
    "# pdphi = Pdop(phi)\n",
    "# pdth  = Pdop(th)"
   ]
  },
  {
   "cell_type": "code",
   "execution_count": null,
   "metadata": {},
   "outputs": [],
   "source": [
    "grad"
   ]
  },
  {
   "cell_type": "code",
   "execution_count": null,
   "metadata": {},
   "outputs": [],
   "source": []
  }
 ],
 "metadata": {
  "kernelspec": {
   "display_name": "Python 3 (ipykernel)",
   "language": "python",
   "name": "python3"
  },
  "language_info": {
   "codemirror_mode": {
    "name": "ipython",
    "version": 3
   },
   "file_extension": ".py",
   "mimetype": "text/x-python",
   "name": "python",
   "nbconvert_exporter": "python",
   "pygments_lexer": "ipython3",
   "version": "3.11.8"
  }
 },
 "nbformat": 4,
 "nbformat_minor": 4
}
