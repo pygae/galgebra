{
 "cells": [
  {
   "cell_type": "code",
   "execution_count": 1,
   "metadata": {},
   "outputs": [
    {
     "data": {
      "text/latex": [
       "$\\displaystyle \\DeclareMathOperator{\\Tr}{Tr}$$\n",
       "$$\\DeclareMathOperator{\\Adj}{Adj}$$\n",
       "$$\\newcommand{\\bfrac}[2]{\\displaystyle\\frac{#1}{#2}}$$\n",
       "$$\\newcommand{\\lp}{\\left (}$$\n",
       "$$\\newcommand{\\rp}{\\right )}$$\n",
       "$$\\newcommand{\\paren}[1]{\\lp {#1} \\rp}$$\n",
       "$$\\newcommand{\\half}{\\frac{1}{2}}$$\n",
       "$$\\newcommand{\\llt}{\\left <}$$\n",
       "$$\\newcommand{\\rgt}{\\right >}$$\n",
       "$$\\newcommand{\\abs}[1]{\\left |{#1}\\right | }$$\n",
       "$$\\newcommand{\\pdiff}[2]{\\bfrac{\\partial {#1}}{\\partial {#2}}}$$\n",
       "$$\\newcommand{\\npdiff}[3]{\\bfrac{\\partial^{#3} {#1}}{\\partial {#2}^{#3}}}$$\n",
       "$$\\newcommand{\\lbrc}{\\left \\{}$$\n",
       "$$\\newcommand{\\rbrc}{\\right \\}}$$\n",
       "$$\\newcommand{\\W}{\\wedge}$$\n",
       "$$\\newcommand{\\prm}[1]{{#1}}$$\n",
       "$$\\newcommand{\\ddt}[1]{\\bfrac{d{#1}}{dt}}$$\n",
       "$$\\newcommand{\\R}{\\dagger}$$\n",
       "$$\\newcommand{\\deriv}[3]{\\bfrac{d^{#3}#1}{d{#2}^{#3}}}$$\n",
       "$$\\newcommand{\\grade}[2]{\\left < {#1} \\right >_{#2}}$$\n",
       "$$\\newcommand{\\f}[2]{{#1}\\lp {#2} \\rp}$$\n",
       "$$\\newcommand{\\eval}[2]{\\left . {#1} \\right |_{#2}}$$\n",
       "$$\\newcommand{\\bs}[1]{\\boldsymbol{#1}}$$\n",
       "$$\\newcommand{\\grad}{\\bs{\\nabla}}$"
      ],
      "text/plain": [
       "<IPython.core.display.Math object>"
      ]
     },
     "metadata": {},
     "output_type": "display_data"
    }
   ],
   "source": [
    "# G3: Standard 3D Model\n",
    "\n",
    "# Make SymPy available to this program:\n",
    "import sympy \n",
    "from sympy import *\n",
    "\n",
    "# Make GAlgebra available to this program:\n",
    "from galgebra.ga import *  \n",
    "# from galgebra.mv import *\n",
    "from galgebra.printer import Fmt, GaPrinter, Format\n",
    "    # Fmt:       sets the way that a multivector's basis expansion is output.\n",
    "    # GaPrinter: makes GA output a little more readable.\n",
    "    # Format:    turns on latex printer.\n",
    "from galgebra.gprinter import gFormat, gprint\n",
    "gFormat()"
   ]
  },
  {
   "cell_type": "code",
   "execution_count": 2,
   "metadata": {},
   "outputs": [],
   "source": [
    "# g3: The geometric algebra G^3.\n",
    "g3coords = (x,y,z) = symbols('x y z', real=True)\n",
    "g3 = Ga('e', g=[1,1,1], coords=g3coords)\n",
    "(ex, ey, ez) = g3.mv()\n",
    "\n",
    "grad = g3.grad\n",
    "# from galgebra.dop import *\n",
    "# pdx = Pdop(x)\n",
    "# pdy = Pdop(y)\n",
    "# pdz = Pdop(z)"
   ]
  },
  {
   "cell_type": "code",
   "execution_count": 3,
   "metadata": {},
   "outputs": [
    {
     "data": {
      "text/latex": [
       "$\\displaystyle   \\boldsymbol{e}_{x} \\cdot  \\boldsymbol{e}_{y} =  0  $"
      ],
      "text/plain": [
       "<IPython.core.display.Math object>"
      ]
     },
     "metadata": {},
     "output_type": "display_data"
    }
   ],
   "source": [
    "gprint(ex,r'\\cdot',ey,'=',ex < ey)"
   ]
  },
  {
   "cell_type": "code",
   "execution_count": 4,
   "metadata": {},
   "outputs": [
    {
     "data": {
      "text/latex": [
       "$\\displaystyle \\mathbf{B}^{\\dagger}= - B^{xy}  \\boldsymbol{e}_{x}\\wedge \\boldsymbol{e}_{y} - B^{xz}  \\boldsymbol{e}_{x}\\wedge \\boldsymbol{e}_{z} - B^{yz}  \\boldsymbol{e}_{y}\\wedge \\boldsymbol{e}_{z} $"
      ],
      "text/plain": [
       "<IPython.core.display.Math object>"
      ]
     },
     "metadata": {},
     "output_type": "display_data"
    },
    {
     "data": {
      "text/latex": [
       "$\\displaystyle \\text{I can do three lines output from one cell}$"
      ],
      "text/plain": [
       "<IPython.core.display.Math object>"
      ]
     },
     "metadata": {},
     "output_type": "display_data"
    },
    {
     "data": {
      "text/latex": [
       "$\\displaystyle \\begin{equation*} \\mathbf{B} = B^{xy}  \\boldsymbol{e}_{x}\\wedge \\boldsymbol{e}_{y} + B^{xz}  \\boldsymbol{e}_{x}\\wedge \\boldsymbol{e}_{z} + B^{yz}  \\boldsymbol{e}_{y}\\wedge \\boldsymbol{e}_{z} \\end{equation*}$"
      ],
      "text/plain": [
       "<IPython.core.display.Math object>"
      ]
     },
     "metadata": {},
     "output_type": "display_data"
    },
    {
     "data": {
      "text/latex": [
       "$\\displaystyle \\begin{equation*}  \\mathbf{B}^2 = - {B^{xy} }^{2} - {B^{xz} }^{2} - {B^{yz} }^{2} \\end{equation*}$"
      ],
      "text/plain": [
       "<IPython.core.display.Math object>"
      ]
     },
     "metadata": {},
     "output_type": "display_data"
    },
    {
     "data": {
      "text/latex": [
       "$\\displaystyle \\begin{equation*}  \\mathbf{B}^{\\dagger}= - B^{xy}  \\boldsymbol{e}_{x}\\wedge \\boldsymbol{e}_{y} - B^{xz}  \\boldsymbol{e}_{x}\\wedge \\boldsymbol{e}_{z} - B^{yz}  \\boldsymbol{e}_{y}\\wedge \\boldsymbol{e}_{z} \\end{equation*}$"
      ],
      "text/plain": [
       "<IPython.core.display.Math object>"
      ]
     },
     "metadata": {},
     "output_type": "display_data"
    },
    {
     "data": {
      "text/latex": [
       "$\\displaystyle \\begin{equation*}  \\mathbf{\\nabla B} = \\left ( - \\partial_{y} B^{xy}  - \\partial_{z} B^{xz} \\right ) \\boldsymbol{e}_{x} + \\left ( \\partial_{x} B^{xy}  - \\partial_{z} B^{yz} \\right ) \\boldsymbol{e}_{y} + \\left ( \\partial_{x} B^{xz}  + \\partial_{y} B^{yz} \\right ) \\boldsymbol{e}_{z} + \\left ( \\partial_{z} B^{xy}  - \\partial_{y} B^{xz}  + \\partial_{x} B^{yz} \\right ) \\boldsymbol{e}_{x}\\wedge \\boldsymbol{e}_{y}\\wedge \\boldsymbol{e}_{z} \\end{equation*}$"
      ],
      "text/plain": [
       "<IPython.core.display.Math object>"
      ]
     },
     "metadata": {},
     "output_type": "display_data"
    }
   ],
   "source": [
    "Fmt(3)\n",
    "B = g3.mv('B', 'bivector',f=True)\n",
    "gprint(r'\\mathbf{B}^{\\dagger}=',B.rev())\n",
    "gprint(r'\\text{I can do three lines output from one cell}')\n",
    "gprint(r'\\mathbf{B} =',B,r'\\\\ \\mathbf{B}^2 =',B*B,r'\\\\ \\mathbf{B}^{\\dagger}=',B.rev(),r'\\\\ \\mathbf{\\nabla B} =',grad*B)"
   ]
  },
  {
   "cell_type": "code",
   "execution_count": 5,
   "metadata": {},
   "outputs": [
    {
     "data": {
      "text/latex": [
       "$\\displaystyle  \\frac{\\partial^{3}}{\\partial x^{2}\\partial y} \\bs{B}= \\frac{\\partial^{3}}{\\partial^{2} x\\partial y}  B^{xy} {\\left (x,y,z \\right )} \\boldsymbol{e}_{x}\\wedge \\boldsymbol{e}_{y} + \\frac{\\partial^{3}}{\\partial^{2} x\\partial y}  B^{xz} {\\left (x,y,z \\right )} \\boldsymbol{e}_{x}\\wedge \\boldsymbol{e}_{z} + \\frac{\\partial^{3}}{\\partial^{2} x\\partial y}  B^{yz} {\\left (x,y,z \\right )} \\boldsymbol{e}_{y}\\wedge \\boldsymbol{e}_{z} $"
      ],
      "text/plain": [
       "<IPython.core.display.Math object>"
      ]
     },
     "metadata": {},
     "output_type": "display_data"
    }
   ],
   "source": [
    "from galgebra.dop import *\n",
    "gFormat(Fmode=False, Dmode=False)\n",
    "pdx2y = Pdop({x:2,y:1})\n",
    "gprint(pdx2y,r'\\bs{B}=',pdx2y*B)"
   ]
  },
  {
   "cell_type": "code",
   "execution_count": 6,
   "metadata": {},
   "outputs": [
    {
     "data": {
      "text/latex": [
       "$\\displaystyle  \\frac{\\partial^{3}}{\\partial x^{2}\\partial y} \\bs{B}= \\partial^{2}_{x}\\partial_{y} B^{xy}  \\boldsymbol{e}_{x}\\wedge \\boldsymbol{e}_{y} + \\partial^{2}_{x}\\partial_{y} B^{xz}  \\boldsymbol{e}_{x}\\wedge \\boldsymbol{e}_{z} + \\partial^{2}_{x}\\partial_{y} B^{yz}  \\boldsymbol{e}_{y}\\wedge \\boldsymbol{e}_{z} $"
      ],
      "text/plain": [
       "<IPython.core.display.Math object>"
      ]
     },
     "metadata": {},
     "output_type": "display_data"
    }
   ],
   "source": [
    "pdx2y = Pdop({x:2,y:1})\n",
    "gFormat(Fmode=True, Dmode=True)\n",
    "gprint(pdx2y,r'\\bs{B}=',pdx2y*B)"
   ]
  },
  {
   "cell_type": "code",
   "execution_count": 7,
   "metadata": {},
   "outputs": [
    {
     "data": {
      "text/latex": [
       "$\\displaystyle \\mathbf{B} = B^{xy}  \\boldsymbol{e}_{x}\\wedge \\boldsymbol{e}_{y} + B^{xz}  \\boldsymbol{e}_{x}\\wedge \\boldsymbol{e}_{z} + B^{yz}  \\boldsymbol{e}_{y}\\wedge \\boldsymbol{e}_{z} $"
      ],
      "text/plain": [
       "<IPython.core.display.Math object>"
      ]
     },
     "metadata": {},
     "output_type": "display_data"
    }
   ],
   "source": [
    "Fmt(1)\n",
    "gprint(r'\\mathbf{B} =',B)"
   ]
  },
  {
   "cell_type": "code",
   "execution_count": 8,
   "metadata": {},
   "outputs": [
    {
     "data": {
      "text/latex": [
       "$\\displaystyle \\grade{B}{2} = B^{xy}  \\boldsymbol{e}_{x}\\wedge \\boldsymbol{e}_{y} + B^{xz}  \\boldsymbol{e}_{x}\\wedge \\boldsymbol{e}_{z} + B^{yz}  \\boldsymbol{e}_{y}\\wedge \\boldsymbol{e}_{z} $"
      ],
      "text/plain": [
       "<IPython.core.display.Math object>"
      ]
     },
     "metadata": {},
     "output_type": "display_data"
    }
   ],
   "source": [
    "Fmt(3)\n",
    "gprint(r'\\grade{B}{2} =',B.grade(2))"
   ]
  },
  {
   "cell_type": "code",
   "execution_count": 9,
   "metadata": {},
   "outputs": [
    {
     "data": {
      "text/latex": [
       "$\\displaystyle type(\\bs{B}) =<class 'galgebra.mv.Mv'>$"
      ],
      "text/plain": [
       "<IPython.core.display.Math object>"
      ]
     },
     "metadata": {},
     "output_type": "display_data"
    }
   ],
   "source": [
    "gprint(r'type(\\bs{B}) =',str(type(B)))"
   ]
  },
  {
   "cell_type": "code",
   "execution_count": 10,
   "metadata": {},
   "outputs": [
    {
     "data": {
      "text/latex": [
       "$\\displaystyle \\grad\\ \\  \\boldsymbol{e}_{x} \\frac{\\partial}{\\partial x} + \\boldsymbol{e}_{y} \\frac{\\partial}{\\partial y} + \\boldsymbol{e}_{z} \\frac{\\partial}{\\partial z} $"
      ],
      "text/plain": [
       "<IPython.core.display.Math object>"
      ]
     },
     "metadata": {},
     "output_type": "display_data"
    }
   ],
   "source": [
    "gprint('\\grad\\ \\ ', grad)"
   ]
  },
  {
   "cell_type": "code",
   "execution_count": 11,
   "metadata": {},
   "outputs": [
    {
     "data": {
      "text/latex": [
       "$\\displaystyle *  \\boldsymbol{e}_{x}\\wedge \\boldsymbol{e}_{y} $"
      ],
      "text/plain": [
       "<IPython.core.display.Math object>"
      ]
     },
     "metadata": {},
     "output_type": "display_data"
    }
   ],
   "source": [
    "gprint(r'*', ex*ey)"
   ]
  },
  {
   "cell_type": "code",
   "execution_count": 12,
   "metadata": {},
   "outputs": [
    {
     "data": {
      "text/latex": [
       "\\begin{equation*} V = V^{x} \\boldsymbol{e}_{x} + V^{y} \\boldsymbol{e}_{y} + V^{z} \\boldsymbol{e}_{z} \\end{equation*}"
      ],
      "text/plain": [
       "V__x*e_x + V__y*e_y + V__z*e_z"
      ]
     },
     "execution_count": 12,
     "metadata": {},
     "output_type": "execute_result"
    }
   ],
   "source": [
    "V = g3.mv('V', 'vector')\n",
    "V"
   ]
  },
  {
   "cell_type": "code",
   "execution_count": 13,
   "metadata": {},
   "outputs": [],
   "source": [
    "# G2: Standard 3D Model\n",
    "\n",
    "g2coords = (x,y) = symbols('x y', real=True)\n",
    "g2 = Ga('e', g=[1,1], coords=g2coords)\n",
    "(ex, ey) = g2.mv()"
   ]
  },
  {
   "cell_type": "code",
   "execution_count": 14,
   "metadata": {},
   "outputs": [
    {
     "data": {
      "text/latex": [
       "$\\displaystyle  \\left ( L_{xx} L_{yy} - L_{xy} L_{yx}\\right ) \\boldsymbol{e}_{x}\\wedge \\boldsymbol{e}_{y} $"
      ],
      "text/plain": [
       "<IPython.core.display.Math object>"
      ]
     },
     "metadata": {},
     "output_type": "display_data"
    }
   ],
   "source": [
    "L = g2.lt('L')\n",
    "gprint(L(ex^ey))"
   ]
  },
  {
   "cell_type": "code",
   "execution_count": 15,
   "metadata": {},
   "outputs": [
    {
     "data": {
      "text/latex": [
       "$\\displaystyle  \\left \\{ \\begin{array}{ll} L \\left ( \\boldsymbol{e}_{x}\\right ) =& 2 \\boldsymbol{e}_{y} \\\\ L \\left ( \\boldsymbol{e}_{y}\\right ) =&  \\boldsymbol{e}_{x} + \\boldsymbol{e}_{y}  \\end{array} \\right \\} \n",
       " $"
      ],
      "text/plain": [
       "<IPython.core.display.Math object>"
      ]
     },
     "metadata": {},
     "output_type": "display_data"
    }
   ],
   "source": [
    "L = g2.lt([ [0,2], [1,1] ])\n",
    "gprint(L)"
   ]
  },
  {
   "cell_type": "code",
   "execution_count": 16,
   "metadata": {},
   "outputs": [
    {
     "data": {
      "text/latex": [
       "$\\displaystyle  -2 \\boldsymbol{e}_{x}\\wedge \\boldsymbol{e}_{y} $"
      ],
      "text/plain": [
       "<IPython.core.display.Math object>"
      ]
     },
     "metadata": {},
     "output_type": "display_data"
    }
   ],
   "source": [
    "gprint(L(ex^ey))"
   ]
  },
  {
   "cell_type": "code",
   "execution_count": 17,
   "metadata": {},
   "outputs": [
    {
     "data": {
      "text/latex": [
       "$\\displaystyle \\left[\\begin{matrix}0 & 1\\\\2 & 1\\end{matrix}\\right]$"
      ],
      "text/plain": [
       "⎡0  1⎤\n",
       "⎢    ⎥\n",
       "⎣2  1⎦"
      ]
     },
     "execution_count": 17,
     "metadata": {},
     "output_type": "execute_result"
    }
   ],
   "source": [
    "L.matrix()"
   ]
  },
  {
   "cell_type": "code",
   "execution_count": 18,
   "metadata": {},
   "outputs": [
    {
     "data": {
      "text/latex": [
       "$\\displaystyle \\left[\\begin{matrix}0 & 2\\\\1 & 1\\end{matrix}\\right]$"
      ],
      "text/plain": [
       "⎡0  2⎤\n",
       "⎢    ⎥\n",
       "⎣1  1⎦"
      ]
     },
     "execution_count": 18,
     "metadata": {},
     "output_type": "execute_result"
    }
   ],
   "source": [
    "L.adj().matrix()"
   ]
  },
  {
   "cell_type": "code",
   "execution_count": null,
   "metadata": {},
   "outputs": [],
   "source": []
  }
 ],
 "metadata": {
  "kernelspec": {
   "display_name": "Python 3",
   "language": "python",
   "name": "python3"
  },
  "language_info": {
   "codemirror_mode": {
    "name": "ipython",
    "version": 3
   },
   "file_extension": ".py",
   "mimetype": "text/x-python",
   "name": "python",
   "nbconvert_exporter": "python",
   "pygments_lexer": "ipython3",
   "version": "3.7.3"
  }
 },
 "nbformat": 4,
 "nbformat_minor": 4
}
